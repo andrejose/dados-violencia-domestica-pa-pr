{
 "cells": [
  {
   "cell_type": "markdown",
   "metadata": {},
   "source": [
    "# Tratamento de dados - Secretaria de segurança do estado do Paraná\n",
    "\n",
    "## Descrição do notebook\n",
    "\n",
    "O objetivo desse notebook é realizar o tratamento dos dados fornecidos pela Secretaria de Segurança Pública do Estado do Paraná para que possa ser analisado juntamente com os dados do estado paraens.\n",
    "\n",
    "Nessa versão, são utilizados quatro arquivos do tipo CSV e para manipulação de dados é utilizado o pacote pandas.\n",
    "\n",
    "**Observação:** O código contido nesse notebook foi baseado na solução desenvolvida por Mariana Kniss (https://www.linkedin.com/in/mariana-kniss-471ba0196/), para validar o conteúdo de seu trabalho de conclusão de curso, intitulado \"ANÁLISE DE DADOS CRIMINAIS SOBRE VIOLÊNCIA CONTRA A MULHER NOS ESTADOS PARÁ E PARANÁ\".\n",
    "\n",
    "## Sumário\n",
    "\n",
    "1. [Importação dos módulos e pacotes necessários](#importacao-dos-modulos-e-pacotes-necessarios)\n",
    "2. [Carregamento dos dados](#carregamento-dos-dados)\n",
    "4. [Agrupamento dos dados](#agrupamento-dos-dados)\n",
    "5. [Visão geral do conjunto de dados](#visao-geral-do-conjunto-de-dados)\n",
    "6. [Filtros, tratamentos e padronização de valores](#filtros-tratamentos-e-padronizacao-de-valores)\n",
    "7. [Ordenação das colunas](#ordernacao-das-colunas)\n",
    "8. [Exportação dos dados formatados](#exportacao-dos-dados-formatados)\n",
    "\n",
    "----\n",
    "\n",
    "\n",
    "## Importação dos módulos e pacotes necessários <a id=\"importacao-dos-modulos-e-pacotes-necessarios\"></a>"
   ]
  },
  {
   "cell_type": "code",
   "execution_count": null,
   "metadata": {},
   "outputs": [],
   "source": [
    "# Pandas (https://pandas.pydata.org/)\n",
    "import pandas as pd\n",
    "\n",
    "# Datetime (https://docs.python.org/3/library/datetime.html)\n",
    "import datetime as dt\n",
    "\n",
    "# Funções de internacionalização para formatar datas, número etc. (https://docs.python.org/3/library/locale.html)\n",
    "import locale"
   ]
  },
  {
   "cell_type": "markdown",
   "metadata": {},
   "source": [
    "## Carregamento dos dados"
   ]
  },
  {
   "cell_type": "code",
   "execution_count": null,
   "metadata": {},
   "outputs": [],
   "source": [
    "# Dados sobre as ocorrências\n",
    "df_ocorrencias = pd.read_csv('./dados/PR/Ocorrencias de ViolDom ContraMulher (Jan2018-Ago2023) PR.csv', sep = ';')\n",
    "\n",
    "# Dados sobre as naturezas\n",
    "df_naturezas = pd.read_csv('./dados/PR/Naturezas das Ocorrencias de ViolDom ContraMulher (Jan2018-Ago2023) PR.csv', sep = ';')\n",
    "\n",
    "# Dados sobre as vítimas\n",
    "df_vitimas = pd.read_csv('./dados/PR/Vitimas das Ocorrencias de ViolDom ContraMulher (Jan2018-Ago2023) PR.csv', sep = ';')\n",
    "\n",
    "# Dados sobre os autores\n",
    "df_autores = pd.read_csv('./dados/PR/Autores das Ocorrencias de ViolDom ContraMulher (Jan2018-Ago2023) PR.csv', sep = ';')"
   ]
  },
  {
   "cell_type": "markdown",
   "metadata": {},
   "source": [
    "### Boletins de ocorrências"
   ]
  },
  {
   "cell_type": "code",
   "execution_count": null,
   "metadata": {},
   "outputs": [],
   "source": [
    "df_ocorrencias.head(10)"
   ]
  },
  {
   "cell_type": "code",
   "execution_count": null,
   "metadata": {},
   "outputs": [],
   "source": [
    "df_ocorrencias.columns"
   ]
  },
  {
   "cell_type": "code",
   "execution_count": null,
   "metadata": {},
   "outputs": [],
   "source": [
    "# Verificando o conteúdo da coluna 'identificacao_fato'\n",
    "df_ocorrencias.identificacao_fato.value_counts()"
   ]
  },
  {
   "cell_type": "code",
   "execution_count": null,
   "metadata": {},
   "outputs": [],
   "source": [
    "# Quantidade de registros encontrados no arquivo de ocorrências\n",
    "len(df_ocorrencias)"
   ]
  },
  {
   "cell_type": "code",
   "execution_count": null,
   "metadata": {},
   "outputs": [],
   "source": [
    "# Quantidade de valores únicos para identificação de boletins de ocorrências\n",
    "df_ocorrencias['id_boletim'].nunique()"
   ]
  },
  {
   "cell_type": "code",
   "execution_count": null,
   "metadata": {},
   "outputs": [],
   "source": [
    "df_ocorrencias_ate_2022 = df_ocorrencias[df_ocorrencias['ano_fato'] <= 2022]\n",
    "len(df_ocorrencias_ate_2022)"
   ]
  },
  {
   "cell_type": "code",
   "execution_count": null,
   "metadata": {},
   "outputs": [],
   "source": [
    "df_ocorrencias_ate_2022['identificacao_fato'].value_counts()"
   ]
  },
  {
   "cell_type": "markdown",
   "metadata": {},
   "source": [
    "Como pode ser verificado, cada linha do arquivo de ocorrências representa os dados de um BO.\n",
    "\n",
    "- **Número de registros no arquivo:** 340.478\n",
    "- **Número de boletins de ocorrências:** 340.478\n",
    "- **Número de ocorrências entre 2018 e 2022:** 290.033 => Todos identificados como 'Violencia_Domestica_Contra_Mulher'\n",
    "\n",
    "-----"
   ]
  },
  {
   "cell_type": "markdown",
   "metadata": {},
   "source": [
    "### Vítimas"
   ]
  },
  {
   "cell_type": "code",
   "execution_count": null,
   "metadata": {},
   "outputs": [],
   "source": [
    "df_vitimas.head(10)"
   ]
  },
  {
   "cell_type": "code",
   "execution_count": null,
   "metadata": {},
   "outputs": [],
   "source": [
    "len(df_vitimas)"
   ]
  },
  {
   "cell_type": "markdown",
   "metadata": {},
   "source": [
    "Enquanto há 340.478 ocorrências, há 350.240 vítimas, representando uma diferença de 9.762. Ou seja, há casos de registros de violências com mais de uma vítima. Verificar."
   ]
  },
  {
   "cell_type": "code",
   "execution_count": null,
   "metadata": {},
   "outputs": [],
   "source": [
    "df_vitimas_ate_2022 = df_vitimas[df_vitimas['ano_fato'] <= 2022]\n",
    "len(df_vitimas_ate_2022)"
   ]
  },
  {
   "cell_type": "markdown",
   "metadata": {},
   "source": [
    "#### Remoção das colunas já existentes no conjunto das ocorrências\n",
    "\n",
    "Esse procedimento foi adotado como precendente à fusão dos conjuntos de dados, visto que colunas de mesmo nome são renomeadas no método merge()."
   ]
  },
  {
   "cell_type": "code",
   "execution_count": null,
   "metadata": {},
   "outputs": [],
   "source": [
    "# Cria uma lista com as colunas das ocorrências\n",
    "colunas_ocorrencias = df_ocorrencias.columns\n",
    "# Cria uma lista com as colunas das vítimas\n",
    "colunas_vitimas = df_vitimas.columns\n",
    "# Cria uma lista com as colunas em comum das duas listas anteriores\n",
    "colunas_comuns = set(colunas_ocorrencias) & set(colunas_vitimas)\n",
    "# Remove dessa lista em comum a coluna 'id_boletim' que deverá ser mantida nos dois conjuntos de dados para servir como chave\n",
    "colunas_comuns.remove('id_boletim')\n",
    "# Cria um novo dataframe das vítimas, sem as colunas que se repetem no conjunto das ocorrências\n",
    "df_vitimas_sem_colunas_comuns = df_vitimas.drop(columns=colunas_comuns)\n",
    "df_vitimas_sem_colunas_comuns.columns"
   ]
  },
  {
   "cell_type": "markdown",
   "metadata": {},
   "source": [
    "#### Renomeando as colunas\n",
    "\n",
    "Algumas colunas possuem o mesmo nome para o conjunto de vítimas e de autores. Assim, foram adicionados prefixos para diferenciar esses dados. \n",
    "\n",
    "Além disso, algumas variáveis foram renomeadas para manter o mesmo padrão utilizado nos dados do estado do Pará, como 'raca_cor' alterada para '_cor_pele'."
   ]
  },
  {
   "cell_type": "code",
   "execution_count": null,
   "metadata": {},
   "outputs": [],
   "source": [
    "df_vitimas_sem_colunas_comuns.rename(columns={\n",
    "\t'faixa_etaria'\t\t: 'vit_faixa_etaria',\n",
    "\t'sexo'\t\t\t\t: 'vit_sexo',\n",
    "\t'raca_cor'\t\t\t: 'vit_cor_pele',\n",
    "\t'grau_instrucao'\t: 'vit_grau_inst',\n",
    "\t'profissao'\t\t\t: 'vit_profissao'}, inplace=True)\n",
    "\n",
    "df_vitimas_sem_colunas_comuns.columns"
   ]
  },
  {
   "cell_type": "markdown",
   "metadata": {},
   "source": [
    "----\n",
    "\n",
    "### Natureza"
   ]
  },
  {
   "cell_type": "code",
   "execution_count": null,
   "metadata": {},
   "outputs": [],
   "source": [
    "df_naturezas.head(10)"
   ]
  },
  {
   "cell_type": "markdown",
   "metadata": {},
   "source": [
    "#### Remoção das colunas já existentes no conjunto das ocorrências"
   ]
  },
  {
   "cell_type": "code",
   "execution_count": null,
   "metadata": {},
   "outputs": [],
   "source": [
    "colunas_naturezas = df_naturezas.columns\n",
    "colunas_comuns = set(colunas_ocorrencias) & set(colunas_naturezas)\n",
    "colunas_comuns.remove('id_boletim')\n",
    "df_naturezas_sem_colunas_comuns = df_naturezas.drop(columns=colunas_comuns)\n",
    "\n",
    "df_naturezas_sem_colunas_comuns.columns"
   ]
  },
  {
   "cell_type": "markdown",
   "metadata": {},
   "source": [
    "----\n",
    "\n",
    "### Autores"
   ]
  },
  {
   "cell_type": "code",
   "execution_count": null,
   "metadata": {},
   "outputs": [],
   "source": [
    "df_autores.head(10)"
   ]
  },
  {
   "cell_type": "markdown",
   "metadata": {},
   "source": [
    "#### Remoção das colunas já existentes no conjunto das ocorrências"
   ]
  },
  {
   "cell_type": "code",
   "execution_count": null,
   "metadata": {},
   "outputs": [],
   "source": [
    "colunas_autores = df_autores.columns\n",
    "colunas_comuns = set(colunas_ocorrencias) & set(colunas_autores)\n",
    "colunas_comuns.remove('id_boletim')\n",
    "df_autores_sem_colunas_comuns = df_autores.drop(columns=colunas_comuns)\n",
    "\n",
    "df_autores_sem_colunas_comuns.columns"
   ]
  },
  {
   "cell_type": "markdown",
   "metadata": {},
   "source": [
    "#### Renomeando as colunas"
   ]
  },
  {
   "cell_type": "code",
   "execution_count": null,
   "metadata": {},
   "outputs": [],
   "source": [
    "df_autores_sem_colunas_comuns.rename(columns={\n",
    "\t'faixa_etaria'\t\t: 'aut_faixa_etaria',\n",
    "\t'sexo'\t\t\t\t: 'aut_sexo',\n",
    "\t'raca_cor'\t\t\t: 'aut_cor_pele',\n",
    "\t'grau_instrucao'\t: 'aut_grau_inst',\n",
    "    'parentesco'\t\t: 'grau_de_relacionamento',\n",
    "\t'profissao'\t\t\t: 'aut_profissao'}, inplace=True)\n",
    "\n",
    "df_autores_sem_colunas_comuns.columns"
   ]
  },
  {
   "cell_type": "markdown",
   "metadata": {},
   "source": [
    "## Agrupamento dos dados\n",
    "\n",
    "Os procedimentos nesta seção se destinam a agrupamento os dados dos quatro arquivos distintos relacionados à violência contra a mulher.\n",
    "\n",
    "O campo utilizado como 'chave primária' é a identificação do boletim de ocorrência (*id_boletim*).\n",
    "\n",
    "Assim, é importante considerar esse procedimento para as análises estatísticas, visto que uma mesma ocorrência pode apresentar mais de um registros no conjunto de dados final."
   ]
  },
  {
   "cell_type": "code",
   "execution_count": null,
   "metadata": {},
   "outputs": [],
   "source": [
    "# Fusão dos dataframes carregados anteriormente\n",
    "df_ocorrencias_vitimas = pd.merge(df_ocorrencias, df_vitimas_sem_colunas_comuns, on='id_boletim', how='left')\n",
    "df_ocorrencias_vitimas_naturezas = pd.merge(df_ocorrencias_vitimas, df_naturezas_sem_colunas_comuns, on='id_boletim', how='left')\n",
    "df_completo = pd.merge(df_ocorrencias_vitimas_naturezas, df_autores_sem_colunas_comuns, on='id_boletim', how='left')"
   ]
  },
  {
   "cell_type": "code",
   "execution_count": null,
   "metadata": {},
   "outputs": [],
   "source": [
    "df_completo.columns"
   ]
  },
  {
   "cell_type": "code",
   "execution_count": null,
   "metadata": {},
   "outputs": [],
   "source": [
    "len(df_completo)"
   ]
  },
  {
   "cell_type": "markdown",
   "metadata": {},
   "source": [
    "## Visão geral do conjunto de dados <a id=\"visao-geral-do-conjunto-de-dados\"></a>"
   ]
  },
  {
   "cell_type": "code",
   "execution_count": null,
   "metadata": {},
   "outputs": [],
   "source": [
    "# Contagem do número de variáveis\n",
    "v = len(df_completo.columns)\n",
    "# Contagem do número de registros\n",
    "n = len(df_completo)\n",
    "\n",
    "print(f'O conjunto de dados possui {n} registros e {v} variáveis.')"
   ]
  },
  {
   "cell_type": "code",
   "execution_count": null,
   "metadata": {},
   "outputs": [],
   "source": [
    "df_completo.head()"
   ]
  },
  {
   "cell_type": "code",
   "execution_count": null,
   "metadata": {},
   "outputs": [],
   "source": [
    "# Descrição dos tipos dos dados\n",
    "df_completo.info()"
   ]
  },
  {
   "cell_type": "markdown",
   "metadata": {},
   "source": [
    "----\n",
    "\n",
    "## Filtros, tratamentos e padronização de valores <a id=\"filtros-tratamentos-e-padronizacao-de-valores\"></a>\n",
    "\n",
    "### Filtros\n",
    "\n",
    "#### Classe\n",
    "\n",
    "É estranho que a identificação de todos os registro consta como 'Violencia_Domestica_Contra_Mulher'. Mesmo assim, será mantido o filtro por palavras-chave?"
   ]
  },
  {
   "cell_type": "code",
   "execution_count": null,
   "metadata": {},
   "outputs": [],
   "source": [
    "df_completo['identificacao_fato'].value_counts()"
   ]
  },
  {
   "cell_type": "markdown",
   "metadata": {},
   "source": [
    "**Visualizando os valores para a variável 'classe_motivo'.**"
   ]
  },
  {
   "cell_type": "code",
   "execution_count": null,
   "metadata": {},
   "outputs": [],
   "source": [
    "# Cria um novo dataframe para guardar os dados dos registros por ano\n",
    "df_registros = df_completo['classe_motivo'].value_counts().reset_index().rename(columns={'index': 'Index', 'classe_motivo': 'Classe motivo', 'count': 'Total'}).sort_values(by='Total', ascending=False).reset_index(drop=True)\n",
    "# Criando uma coluna com a porcentagem dos valores anuais\n",
    "df_registros['Porcentagem'] = df_registros.Total / df_registros.Total.sum()\n",
    "# Exibe a tabela\n",
    "df_registros.style.format(formatter={'Porcentagem': lambda x: locale.format_string(\"%.2f\", x*100, True) + '%' }).hide(axis=\"index\")"
   ]
  },
  {
   "cell_type": "markdown",
   "metadata": {},
   "source": [
    "Definição de palavras-chave para filtrar apenas os casos que são específicos de violência contra a mulher."
   ]
  },
  {
   "cell_type": "code",
   "execution_count": null,
   "metadata": {},
   "outputs": [],
   "source": [
    "palavras_chave = [\"mulher\", \"sexual\", \"medidas protetivas\", \"13772\"]"
   ]
  },
  {
   "cell_type": "code",
   "execution_count": null,
   "metadata": {},
   "outputs": [],
   "source": [
    "df_VCM = df_completo[(df_completo['classe_motivo'].notnull()) & (df_completo['classe_motivo'].str.lower().str.contains('|'.join(palavras_chave)))]\n",
    "len(df_VCM)"
   ]
  },
  {
   "cell_type": "markdown",
   "metadata": {},
   "source": [
    "Filtrando apenas casos ocorridos até 2022."
   ]
  },
  {
   "cell_type": "code",
   "execution_count": null,
   "metadata": {},
   "outputs": [],
   "source": [
    "df_VCM = df_VCM[df_VCM['ano_fato'] <= 2022]\n",
    "len(df_VCM)"
   ]
  },
  {
   "cell_type": "markdown",
   "metadata": {},
   "source": [
    "### Investigando os registros em relação aos boletins de ocorrência\n",
    "\n",
    "Identificando a quantidade de boletins de ocorrência únicos."
   ]
  },
  {
   "cell_type": "code",
   "execution_count": null,
   "metadata": {},
   "outputs": [],
   "source": [
    "len(df_VCM.drop_duplicates(subset='id_boletim'))"
   ]
  },
  {
   "cell_type": "markdown",
   "metadata": {},
   "source": [
    "Verificando os boletins com mais de um envolvido."
   ]
  },
  {
   "cell_type": "code",
   "execution_count": null,
   "metadata": {},
   "outputs": [],
   "source": [
    "# Identifica os valores distintos de identificação de boletins de ocorrência\n",
    "valores_unicos_bo = df_VCM['id_boletim'].unique()\n",
    "# Contagem do número de ocorrências para cada valor único identificado\n",
    "contagem_valores_unicos_bo = df_VCM['id_boletim'].value_counts()\n",
    "# Identifica apenas os boletins que apresentam mais de um registro, isto é, ou possuem mais de uma vítima, mais de um autor e/ou mais de uma natureza (class_motivo)\n",
    "boletins_com_mais_de_um_registro = contagem_valores_unicos_bo[contagem_valores_unicos_bo > 1]\n",
    "print(boletins_com_mais_de_um_registro)"
   ]
  },
  {
   "cell_type": "code",
   "execution_count": null,
   "metadata": {},
   "outputs": [],
   "source": [
    "# Exibe os dados do boletim '20221093794', com seis registros\n",
    "df_boletim = df_VCM[df_VCM['id_boletim'] == 2022646186]\n",
    "df_boletim.to_csv('./dados-tratados/boletim-unico.csv')"
   ]
  },
  {
   "cell_type": "markdown",
   "metadata": {},
   "source": [
    "Verificando as vítimas que aparecem mais de uma vez nos registros."
   ]
  },
  {
   "cell_type": "code",
   "execution_count": null,
   "metadata": {},
   "outputs": [],
   "source": [
    "# Identifica os valores distintos de identificação de boletins de ocorrência\n",
    "valores_unicos_vitima = df_VCM['vitima'].unique()\n",
    "# Contagem do número de ocorrências para cada valor único identificado\n",
    "contagem_valores_unicos_vitima = df_VCM['vitima'].value_counts()\n",
    "# Identifica apenas os boletins que apresentam mais de um registro, isto é, ou possuem mais de uma vítima, mais de um autor e/ou mais de uma natureza (class_motivo)\n",
    "boletins_com_mais_de_uma_vitima = contagem_valores_unicos_vitima[contagem_valores_unicos_vitima > 1]\n",
    "print(boletins_com_mais_de_uma_vitima)"
   ]
  },
  {
   "cell_type": "code",
   "execution_count": null,
   "metadata": {},
   "outputs": [],
   "source": [
    "# Exibe os dados da vítima 'id_env_vitima20229092241', com quatro registros\n",
    "df_vitima = df_VCM[df_VCM['vitima'] == 'id_env_vitima20229092241']\n",
    "df_vitima.to_csv('./dados-tratados/vitima-unica.csv')"
   ]
  },
  {
   "cell_type": "markdown",
   "metadata": {},
   "source": [
    "### Tratamentos\n"
   ]
  },
  {
   "cell_type": "code",
   "execution_count": null,
   "metadata": {},
   "outputs": [],
   "source": [
    "print(df_VCM.columns)"
   ]
  },
  {
   "cell_type": "markdown",
   "metadata": {},
   "source": [
    "#### Removação de atributos não relevantes para as análises"
   ]
  },
  {
   "cell_type": "code",
   "execution_count": null,
   "metadata": {},
   "outputs": [],
   "source": [
    "# Remoção de colunas desnecessárias\n",
    "colunas_para_remover = ['fx_4_hr', # Padrão de faixa horária em quatro horas\n",
    "\t\t\t\t\t\t'fx_12_hr', # Padrão de faixa horária em doze horas\n",
    "\t\t\t\t\t\t'hora_registro', # Horário de registro\n",
    "\t\t\t\t\t\t'hora_fato', # Horário do fato\n",
    "\t\t\t\t\t\t'causa_presumivel', # Causa presumível\n",
    "\t\t\t\t\t\t'distrito', # Distrito\n",
    "\t\t\t\t\t\t'regional', # Regional\n",
    "\t\t\t\t\t\t#'id_boletim', # Identificação do BO --> Será mantido\n",
    "\t\t\t\t\t\t#'vitima', # Identificação da vítima --> Será mantido\n",
    "\t\t\t\t\t\t#'autor', # Identificação do autor --> Será mantido\n",
    "\t\t\t\t\t\t'identificacao_fato', # Identificação dos fatos (Todos estão com o valor 'Violencia_Domestica_Contra_Mulher')\n",
    "\t\t\t\t\t\t]\n",
    "\n",
    "df_VCM = df_VCM.drop(columns=colunas_para_remover)"
   ]
  },
  {
   "cell_type": "code",
   "execution_count": null,
   "metadata": {},
   "outputs": [],
   "source": [
    "print(df_VCM.columns)"
   ]
  },
  {
   "cell_type": "markdown",
   "metadata": {},
   "source": [
    "#### Dias da semana\n",
    "\n",
    "Converte os valores para letras maiúsculas."
   ]
  },
  {
   "cell_type": "code",
   "execution_count": null,
   "metadata": {},
   "outputs": [],
   "source": [
    "df_VCM['dia_semana'] = df_VCM['dia_semana'].str.upper()"
   ]
  },
  {
   "cell_type": "markdown",
   "metadata": {},
   "source": [
    "#### Faixa horária\n",
    "\n",
    "Separando as colunas referentes às datas e horários do fato e do registro em duas colunas distintas, uma para o horário e outra para a data."
   ]
  },
  {
   "cell_type": "code",
   "execution_count": null,
   "metadata": {},
   "outputs": [],
   "source": [
    "if not 'hora_registro' in df_VCM.columns:\n",
    "\tdf_VCM['hora_registro'] = pd.to_datetime(df_VCM['data_registro'].astype('str').str.slice(11, 19), format='%H:%M:%S').dt.time\n",
    "\n",
    "df_VCM['data_registro'] = pd.to_datetime(df_VCM['data_registro'].astype('str').str.slice(0, 10))\n",
    "\n",
    "if not 'hora_fato' in df_VCM.columns:\n",
    "\tdf_VCM['hora_fato'] = pd.to_datetime(df_VCM['data_fato'].astype('str').str.slice(11, 19), format='%H:%M:%S').dt.time\n",
    "\n",
    "df_VCM['data_fato'] = pd.to_datetime(df_VCM['data_fato'].astype('str').str.slice(0, 10))"
   ]
  },
  {
   "cell_type": "code",
   "execution_count": null,
   "metadata": {},
   "outputs": [],
   "source": [
    "for h in df_VCM['hora_fato']:\n",
    "\tprint(h)\n",
    "\tbreak"
   ]
  },
  {
   "cell_type": "code",
   "execution_count": null,
   "metadata": {},
   "outputs": [],
   "source": [
    "\n",
    "# Definindo os intervalos e os rótulos das faixas etárias\n",
    "intervals = [0, 6, 12, 18, 24]\n",
    "labels = ['Madrugada', 'Manhã', 'Tarde', 'Noite']\n",
    "categories = labels + ['Outro']\n",
    "\n",
    "# Cria uma nova coluna com a hora do fato no formato inteiro\n",
    "df_VCM['hora_fato_int'] = df_VCM['hora_fato'].apply(lambda x: x.hour)\n",
    "\n",
    "# Período que ocorreu o fato (Manhã, Tarde, Noite ou Madrugada)\n",
    "df_VCM['faixa_horaria'] = pd.cut(df_VCM['hora_fato_int'], bins=intervals, labels=labels, right=False)\n",
    "df_VCM['faixa_horaria'] = pd.Categorical(df_VCM['faixa_horaria'], categories=categories)\n",
    "df_VCM['faixa_horaria'] = df_VCM['faixa_horaria'].fillna('Outro')\n",
    "\n",
    "# Período que ocorreu o fato (['00h - 06h', '06h - 12h', '12h - 18h' ou '18h - 00h')\n",
    "labels = ['00h - 06h', '06h - 12h', '12h - 18h', '18h - 00h']\n",
    "categories = labels + ['Outro']\n",
    "\n",
    "df_VCM['faixa_horaria_6h'] = pd.cut(df_VCM['hora_fato_int'], bins=intervals, labels=labels, right=False)\n",
    "df_VCM['faixa_horaria_6h'] = pd.Categorical(df_VCM['faixa_horaria_6h'], categories=categories)\n",
    "df_VCM['faixa_horaria_6h'] = df_VCM['faixa_horaria_6h'].fillna('Outro')\n",
    "\n",
    "intervals = [0, 2, 4, 6, 8, 10, 12, 14, 16, 18, 20, 22, 24]\n",
    "labels = ['00h - 02h', '02h - 04h', '04h - 06h', '06h - 08h', '08h - 10h', '10h - 12h', '12h - 14h', '14h - 16h', '16h - 18h', '18h - 20h', '20h - 22h', '22h - 00h']\n",
    "categories = labels + ['Outro']\n",
    "\n",
    "df_VCM['faixa_horaria_2h'] = pd.cut(df_VCM['hora_fato_int'], bins=intervals, labels=labels, right=False)\n",
    "df_VCM['faixa_horaria_2h'] = pd.Categorical(df_VCM['faixa_horaria_2h'], categories=categories)\n",
    "df_VCM['faixa_horaria_2h'] = df_VCM['faixa_horaria_2h'].fillna('Outro')\n",
    "\n",
    "# Exibindo a coluna com o horário e as demais colunas criadas\n",
    "df_VCM[['hora_fato', 'hora_fato_int', 'faixa_horaria', 'faixa_horaria_6h', 'faixa_horaria_2h']].head(10)"
   ]
  },
  {
   "cell_type": "code",
   "execution_count": null,
   "metadata": {},
   "outputs": [],
   "source": [
    "df_VCM['vit_dt_nasc']"
   ]
  },
  {
   "cell_type": "markdown",
   "metadata": {},
   "source": [
    "Removendo o horário das datas de nascimento das vítimas e dos autores."
   ]
  },
  {
   "cell_type": "code",
   "execution_count": null,
   "metadata": {},
   "outputs": [],
   "source": [
    "df_VCM['vit_dt_nasc'] = pd.to_datetime(df_VCM['vit_dt_nasc'].astype('str').str.slice(0, 10), errors='coerce')\n",
    "df_VCM['aut_dt_nasc'] = pd.to_datetime(df_VCM['aut_dt_nasc'].astype('str').str.slice(0, 10), errors='coerce')"
   ]
  },
  {
   "cell_type": "markdown",
   "metadata": {},
   "source": [
    "## Ordenação das colunas <a id=\"ordernacao-das-colunas\"></a>\n",
    "\n",
    "### Definindo a nova ordem das colunas"
   ]
  },
  {
   "cell_type": "markdown",
   "metadata": {},
   "source": [
    "Cria uma nova coluna para especificar o estado do Paraná."
   ]
  },
  {
   "cell_type": "code",
   "execution_count": null,
   "metadata": {},
   "outputs": [],
   "source": [
    "df_VCM['estado'] = 'PR'"
   ]
  },
  {
   "cell_type": "markdown",
   "metadata": {},
   "source": [
    "### Definindo a nova ordem das colunas"
   ]
  },
  {
   "cell_type": "code",
   "execution_count": null,
   "metadata": {},
   "outputs": [],
   "source": [
    "df_VCM = df_VCM[['data_registro', 'hora_registro', 'data_fato', 'hora_fato', 'dia_semana', 'faixa_horaria_2h', 'faixa_horaria_6h', 'classe_motivo', 'mes_fato', 'ano_registro', 'ano_fato', 'registros', 'municipio', 'bairro', 'local_ocorrencia', 'meio_empregado', 'mes_registro', 'vit_dt_nasc', 'vit_idade', 'vit_faixa_etaria', 'vit_cor_pele', 'vit_grau_inst', 'vit_profissao', 'aut_dt_nasc', 'aut_idade', 'aut_faixa_etaria', 'aut_cor_pele', 'aut_grau_inst', 'aut_profissao', 'grau_de_relacionamento', 'faixa_horaria', 'estado', 'id_boletim', 'vitima', 'autor']]"
   ]
  },
  {
   "cell_type": "markdown",
   "metadata": {},
   "source": [
    "## Exportação dos dados formatados <a id=\"exportacao-dos-dados-formatados\"></a>"
   ]
  },
  {
   "cell_type": "code",
   "execution_count": null,
   "metadata": {},
   "outputs": [],
   "source": [
    "df_VCM.to_csv('./dados-tratados/' + dt.datetime.now().strftime('%Y%m%d%H%M%S') + '-dados_VCM_PR-pandas.csv', index=False, sep='|', encoding='utf-8')"
   ]
  }
 ],
 "metadata": {
  "kernelspec": {
   "display_name": "base",
   "language": "python",
   "name": "python3"
  },
  "language_info": {
   "codemirror_mode": {
    "name": "ipython",
    "version": 3
   },
   "file_extension": ".py",
   "mimetype": "text/x-python",
   "name": "python",
   "nbconvert_exporter": "python",
   "pygments_lexer": "ipython3",
   "version": "3.1.0"
  }
 },
 "nbformat": 4,
 "nbformat_minor": 2
}
