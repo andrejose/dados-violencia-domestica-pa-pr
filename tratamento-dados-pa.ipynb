{
 "cells": [
  {
   "cell_type": "markdown",
   "metadata": {},
   "source": [
    "# Tratamento de dados - Secretaria de segurança do estado do Pará\n",
    "\n",
    "## Descrição do notebook\n",
    "\n",
    "O objetivo desse notebook é realizar o tratamento dos dados fornecidos pela Secretaria de Segurança Pública e Defesa Social do Estado do Pará para que possa ser analisado juntamente com os dados do estado paranaense.\n",
    "\n",
    "Nessa versão, o arquivo utilizado é um CSV e para manipulação de dados é utilizado o pacote pyspark. \n",
    "\n",
    "**Observação:** O código contido nesse notebook foi baseado na solução desenvolvida por Mariana Kniss (https://www.linkedin.com/in/mariana-kniss-471ba0196/), para validar o conteúdo de seu trabalho de conclusão de curso, intitulado \"ANÁLISE DE DADOS CRIMINAIS SOBRE VIOLÊNCIA CONTRA A MULHER NOS ESTADOS PARÁ E PARANÁ\".\n",
    "\n",
    "## Sumário\n",
    "\n",
    "1. [Importação dos módulos e pacotes necessários](#importacao-dos-modulos-e-pacotes-necessarios)\n",
    "2. [Carregamento dos dados](#carregamento-dos-dados)\n",
    "4. [Visão geral do conjunto de dados](#visao-geral-do-conjunto-de-dados)\n",
    "5. [Filtros, tratamentos e padronização de valores](#filtros-tratamentos-e-padronizacao-de-valores)\n",
    "6. [Ordenação das colunas](#ordernacao-das-colunas)\n",
    "7. [Exportação dos dados formatados](#exportacao-dos-dados-formatados)\n",
    "\n",
    "----\n",
    "\n",
    "\n",
    "## Importação dos módulos e pacotes necessários <a id=\"importacao-dos-modulos-e-pacotes-necessarios\"></a>"
   ]
  },
  {
   "cell_type": "code",
   "execution_count": 1,
   "metadata": {},
   "outputs": [],
   "source": [
    "# pySpark (https://spark.apache.org/docs/latest/api/python/index.html)\n",
    "from pyspark.sql import SparkSession\n",
    "from pyspark.sql import functions as f\n",
    "from pyspark.sql.functions import col, lower, when, substring, hour, to_timestamp, date_format, count, current_date, datediff, mean, median, variance, stddev, asc, expr, lit\n",
    "from pyspark.sql.types import StringType, StructType, StructField, DateType\n",
    "from pyspark.ml import stat\n",
    "from pyspark.sql.window import Window\n",
    "\n",
    "# Pandas (https://pandas.pydata.org/)\n",
    "import pandas as pd"
   ]
  },
  {
   "cell_type": "code",
   "execution_count": 2,
   "metadata": {},
   "outputs": [
    {
     "name": "stderr",
     "output_type": "stream",
     "text": [
      "Setting default log level to \"WARN\".\n",
      "To adjust logging level use sc.setLogLevel(newLevel). For SparkR, use setLogLevel(newLevel).\n",
      "24/02/08 09:29:25 WARN NativeCodeLoader: Unable to load native-hadoop library for your platform... using builtin-java classes where applicable\n",
      "24/02/08 09:29:37 WARN Utils: Service 'SparkUI' could not bind on port 4040. Attempting port 4041.\n"
     ]
    }
   ],
   "source": [
    "# Criando sessão spark\n",
    "spark = SparkSession.builder\\\n",
    "    .master('local[*]')\\\n",
    "    .appName(\"transformacao_VCM_PA\")\\\n",
    "    .getOrCreate()"
   ]
  },
  {
   "cell_type": "markdown",
   "metadata": {},
   "source": [
    "## Carregamento dos dados"
   ]
  },
  {
   "cell_type": "code",
   "execution_count": 3,
   "metadata": {},
   "outputs": [
    {
     "name": "stderr",
     "output_type": "stream",
     "text": [
      "                                                                                \r"
     ]
    }
   ],
   "source": [
    "# Carregamento dos dados utilizando o arquivo CSV e spark\n",
    "dados_csv = spark.read.csv(\"./dados/PA/raw_BD_VD_2010a2022_PA.csv\",\n",
    "                       sep = '@',\n",
    "                       inferSchema= True,\n",
    "                       header = True)"
   ]
  },
  {
   "cell_type": "code",
   "execution_count": 4,
   "metadata": {},
   "outputs": [
    {
     "name": "stderr",
     "output_type": "stream",
     "text": [
      "[Stage 2:>                                                          (0 + 4) / 4]\r"
     ]
    },
    {
     "name": "stderr",
     "output_type": "stream",
     "text": [
      "                                                                                \r"
     ]
    },
    {
     "data": {
      "text/plain": [
       "196256"
      ]
     },
     "execution_count": 4,
     "metadata": {},
     "output_type": "execute_result"
    }
   ],
   "source": [
    "# Exibe a quantidade de registros encontrados\n",
    "dados_csv.count()"
   ]
  },
  {
   "cell_type": "code",
   "execution_count": 5,
   "metadata": {},
   "outputs": [
    {
     "data": {
      "text/plain": [
       "pyspark.sql.dataframe.DataFrame"
      ]
     },
     "execution_count": 5,
     "metadata": {},
     "output_type": "execute_result"
    }
   ],
   "source": [
    "# Exibe o tipo de variável\n",
    "type(dados_csv)"
   ]
  },
  {
   "cell_type": "code",
   "execution_count": 6,
   "metadata": {},
   "outputs": [
    {
     "name": "stderr",
     "output_type": "stream",
     "text": [
      "                                                                                \r"
     ]
    },
    {
     "data": {
      "text/plain": [
       "196256"
      ]
     },
     "execution_count": 6,
     "metadata": {},
     "output_type": "execute_result"
    }
   ],
   "source": [
    "dados_csv.count()"
   ]
  },
  {
   "cell_type": "code",
   "execution_count": 7,
   "metadata": {},
   "outputs": [
    {
     "name": "stderr",
     "output_type": "stream",
     "text": [
      "24/02/08 09:30:50 WARN SparkStringUtils: Truncated the string representation of a plan since it was too large. This behavior can be adjusted by setting 'spark.sql.debug.maxToStringFields'.\n"
     ]
    },
    {
     "name": "stderr",
     "output_type": "stream",
     "text": [
      "                                                                                \r"
     ]
    },
    {
     "name": "stdout",
     "output_type": "stream",
     "text": [
      "+--------------------+--------------------+-------------------+----------+--------------------+---------+-----------+--------------------+---------------+-----------+--------------------+-------------------+--------+--------------------+--------+--------------------+--------------+--------------+-------------------+----------------+------------+-------------+----------------+-------------------+--------------------+---------+-------------------+-----------+-----------+-------------+--------------+----------------+--------+--------+--------------------+-------+-----+---------------+--------------------+--------------------+--------------------+-------+-------------------+---------+--------------------+--------+------------+--------------------+-------------+--------------------+----------------+-------------------+---------+--------------------+--------+----------------------+------------+--------------------+-------------+---------------+-------------+--------------+-----------+---------------+-------------------+---------+---------+-------------+\n",
      "|       data_registro|       hora_registro|          data_fato|dia_semana|           hora_fato| fx_4_hor|   fx_12_hr|      data_inst_proc|data_concl_proc|   sit_proc|       classe_motivo|       mes_registro|mes_fato|        ano_registro|ano_fato|           registros|   consolidado|     fato_real|especificacao_crime|   meio_emp_deac|    latitude|    longitude|causa_presumivel|especializacao_fato|    grupo_ocorrencia|sub_grupo|meio_empregado_sisp|   distrito| municipios|    regionais|       bairros|  reg_integracao|    risp|    aisp|            rua_fato|empresa|linha|tipo_transporte|         complemento|    local_ocorrencia|  identificacao_fato|atuacao|        vit_dt_nasc|vit_idade|       vit_fx_etaria|vit_sexo|vit_cor_pele|       vit_grau_inst|vit_profissao|vit_situacao_emprego|vit_estado_civil|      aut_data_nasc|aut_idade|       aut_fx_etaria|aut_sexo|grau_de_relacionamento|aut_cor_pele|       aut_grau_inst|aut_profissao|aut_sit_emprego|aut_est_civil|meio_locomocao|cor_veiculo|marca_veic_fuga|modelo_do_veic_fuga|qtd_autor|relatorio|ident_autoria|\n",
      "+--------------------+--------------------+-------------------+----------+--------------------+---------+-----------+--------------------+---------------+-----------+--------------------+-------------------+--------+--------------------+--------+--------------------+--------------+--------------+-------------------+----------------+------------+-------------+----------------+-------------------+--------------------+---------+-------------------+-----------+-----------+-------------+--------------+----------------+--------+--------+--------------------+-------+-----+---------------+--------------------+--------------------+--------------------+-------+-------------------+---------+--------------------+--------+------------+--------------------+-------------+--------------------+----------------+-------------------+---------+--------------------+--------+----------------------+------------+--------------------+-------------+---------------+-------------+--------------+-----------+---------------+-------------------+---------+---------+-------------+\n",
      "|CONTRA A VIDA > H...|              VITIMA|1988-01-03 00:00:00|      34.0|ADULTO III (30 A ...|        M|PREJUDICADO|ENSINO MEDIO INCO...|    PREJUDICADO|PREJUDICADO|         SOLTEIRO(A)|1995-03-29 00:00:00|    27.0|ADULTO II (25 A 2...|       M|   EX-COMPANHEIRO(A)|   PREJUDICADO|          NULL|               NULL|            NULL| SOLTEIRO(A)|  PREJUDICADO|            NULL|               NULL|                NULL|      1.0|               NULL|       NULL|       NULL|         NULL|          NULL|            NULL|    NULL|    NULL|                NULL|   NULL| NULL|           NULL|                NULL|                NULL|                NULL|   NULL|               NULL|     NULL|                NULL|    NULL|        NULL|                NULL|         NULL|                NULL|            NULL|               NULL|     NULL|                NULL|    NULL|                  NULL|        NULL|                NULL|         NULL|           NULL|         NULL|          NULL|       NULL|           NULL|               NULL|     NULL|     NULL|         NULL|\n",
      "|@SERVIDOR PUBLICO...|                NULL|               NULL|      NULL|                NULL|     NULL|       NULL|                NULL|           NULL|       NULL|                NULL|               NULL|    NULL|                NULL|    NULL|                NULL|          NULL|          NULL|               NULL|            NULL|        NULL|         NULL|            NULL|               NULL|                NULL|     NULL|               NULL|       NULL|       NULL|         NULL|          NULL|            NULL|    NULL|    NULL|                NULL|   NULL| NULL|           NULL|                NULL|                NULL|                NULL|   NULL|               NULL|     NULL|                NULL|    NULL|        NULL|                NULL|         NULL|                NULL|            NULL|               NULL|     NULL|                NULL|    NULL|                  NULL|        NULL|                NULL|         NULL|           NULL|         NULL|          NULL|       NULL|           NULL|               NULL|     NULL|     NULL|         NULL|\n",
      "|@NAO INFORMADO@NA...|                NULL|               NULL|      NULL|                NULL|     NULL|       NULL|                NULL|           NULL|       NULL|                NULL|               NULL|    NULL|                NULL|    NULL|                NULL|          NULL|          NULL|               NULL|            NULL|        NULL|         NULL|            NULL|               NULL|                NULL|     NULL|               NULL|       NULL|       NULL|         NULL|          NULL|            NULL|    NULL|    NULL|                NULL|   NULL| NULL|           NULL|                NULL|                NULL|                NULL|   NULL|               NULL|     NULL|                NULL|    NULL|        NULL|                NULL|         NULL|                NULL|            NULL|               NULL|     NULL|                NULL|    NULL|                  NULL|        NULL|                NULL|         NULL|           NULL|         NULL|          NULL|       NULL|           NULL|               NULL|     NULL|     NULL|         NULL|\n",
      "|@LAVRADOR@PREJUDI...|                NULL|               NULL|      NULL|                NULL|     NULL|       NULL|                NULL|           NULL|       NULL|                NULL|               NULL|    NULL|                NULL|    NULL|                NULL|          NULL|          NULL|               NULL|            NULL|        NULL|         NULL|            NULL|               NULL|                NULL|     NULL|               NULL|       NULL|       NULL|         NULL|          NULL|            NULL|    NULL|    NULL|                NULL|   NULL| NULL|           NULL|                NULL|                NULL|                NULL|   NULL|               NULL|     NULL|                NULL|    NULL|        NULL|                NULL|         NULL|                NULL|            NULL|               NULL|     NULL|                NULL|    NULL|                  NULL|        NULL|                NULL|         NULL|           NULL|         NULL|          NULL|       NULL|           NULL|               NULL|     NULL|     NULL|         NULL|\n",
      "|       @@@@@@@@1.0@@|                NULL|               NULL|      NULL|                NULL|     NULL|       NULL|                NULL|           NULL|       NULL|                NULL|               NULL|    NULL|                NULL|    NULL|                NULL|          NULL|          NULL|               NULL|            NULL|        NULL|         NULL|            NULL|               NULL|                NULL|     NULL|               NULL|       NULL|       NULL|         NULL|          NULL|            NULL|    NULL|    NULL|                NULL|   NULL| NULL|           NULL|                NULL|                NULL|                NULL|   NULL|               NULL|     NULL|                NULL|    NULL|        NULL|                NULL|         NULL|                NULL|            NULL|               NULL|     NULL|                NULL|    NULL|                  NULL|        NULL|                NULL|         NULL|           NULL|         NULL|          NULL|       NULL|           NULL|               NULL|     NULL|     NULL|         NULL|\n",
      "|> TÍTULO I - DOS ...|                NULL|               NULL|      NULL|                NULL|     NULL|       NULL|                NULL|           NULL|       NULL|                NULL|               NULL|    NULL|                NULL|    NULL|                NULL|          NULL|          NULL|               NULL|            NULL|        NULL|         NULL|            NULL|               NULL|                NULL|     NULL|               NULL|       NULL|       NULL|         NULL|          NULL|            NULL|    NULL|    NULL|                NULL|   NULL| NULL|           NULL|                NULL|                NULL|                NULL|   NULL|               NULL|     NULL|                NULL|    NULL|        NULL|                NULL|         NULL|                NULL|            NULL|               NULL|     NULL|                NULL|    NULL|                  NULL|        NULL|                NULL|         NULL|           NULL|         NULL|          NULL|       NULL|           NULL|               NULL|     NULL|     NULL|         NULL|\n",
      "|          2023-01-24|1970-01-01 18:13:...|2022-11-23 00:00:00|       QUA|1970-01-01 19:00:...|18 |-- 24|  18 |-- 20|          1900-06-06|     1900-06-06|   CONCLUSO|TITULO I - DOS CR...|            JANEIRO|NOVEMBRO|                2023|    2022|              AMEACA|        AMEACA|          NULL|               NULL|            NULL|   -1,299895|     -48,4783|          OUTRAS|               NULL|VIOLENCIA DOMESTI...|     NULL|    SEM INSTRUMENTO|   ICOARACI|      BELEM|      CAPITAL|PARQUE GUAJARA|  REGIAO GUAJARA|01ª RISP|13ª AISP|RUA ORLANDO CANUT...|   NULL| NULL|           NULL|                CASA|AMBIENTE VIRTUAL ...|TIPICA > AMEACA >...| VITIMA|2000-01-06 00:00:00|     22.0|ADULTO I (18 A 24...|       F| PREJUDICADO|ENSINO FUNDAMENTA...| DONA DE CASA|         PREJUDICADO|     SOLTEIRO(A)|               NULL|     NULL|         PREJUDICADO|       P|                  NULL|        NULL|                NULL|         NULL|           NULL|         NULL|          NULL|       NULL|           NULL|               NULL|      0.0|     NULL|         NULL|\n",
      "|          2023-01-24|1970-01-01 13:34:...|2022-12-17 00:00:00|       SAB|1970-01-01 00:30:...|00 |-- 06|  00 |-- 02|          1900-06-06|     1900-06-06|   CONCLUSO|TITULO II DA VIOL...|            JANEIRO|DEZEMBRO|                2023|    2022|VIOLENCIA FISICA,...|LESAO CORPORAL|LESAO CORPORAL|VIOLENCIA DOMESTICA|VIOLENCIA FISICA|  -1,2761345|  -47,9208119|ODIO OU VINGANCA|               NULL|VIOLENCIA DOMESTI...|     NULL|    SEM INSTRUMENTO|  CASTANHAL|  CASTANHAL|        GUAMA|       CAICARA|    REGIAO GUAMA|03ª RISP|    NULL| ALAMEDA PADRE ROLIM|   NULL| NULL|           NULL|    CASA DO AGRESSOR|          RESIDENCIA|TIPICA > LEI 11.3...| VITIMA|2001-10-18 00:00:00|     21.0|ADULTO I (18 A 24...|       F| PREJUDICADO|ENSINO MEDIO COMP...| CABELEIREIRO|         PREJUDICADO|     SOLTEIRO(A)|1996-01-08 00:00:00|     26.0|ADULTO II (25 A 2...|       M|        COMPANHEIRO(A)| PREJUDICADO|ENSINO SUPERIOR C...|     CONTADOR|    PREJUDICADO|  PREJUDICADO|          NULL|       NULL|           NULL|               NULL|      2.0|     NULL|         NULL|\n",
      "|          2023-01-24|1970-01-01 11:57:...|2022-11-10 00:00:00|       QUI|1970-01-01 22:00:...|18 |-- 24|  22 |-- 24|          1900-06-06|     1900-06-06|   CONCLUSO|TITULO I - DOS CR...|            JANEIRO|NOVEMBRO|                2023|    2022|              AMEACA|        AMEACA|        AMEACA|VIOLENCIA DOMESTICA|          AMEACA|  -1,3464973|  -48,4137421|          OUTRAS|               NULL|VIOLENCIA DOMESTI...|     NULL|       OUTROS MEIOS| ANANINDEUA| ANANINDEUA|METROPOLITANA|QUARENTA HORAS|  REGIAO GUAJARA|02ª RISP|18ª AISP|RUA MONTE ALEGRE ...|   NULL| NULL|           NULL|        MONTE ALEGRE|          RESIDENCIA|TIPICA > AMEACA >...| VITIMA|1976-02-11 00:00:00|     46.0|ADULTO IV (35 A 6...|       F| PREJUDICADO|ENSINO MEDIO COMP...|     MANICURE|         PREJUDICADO|     SOLTEIRO(A)|1900-06-06 00:00:00|  66666.0|         PREJUDICADO|       M|     EX-COMPANHEIRO(A)| PREJUDICADO|         PREJUDICADO|  PREJUDICADO|    PREJUDICADO|  PREJUDICADO|          NULL|       NULL|           NULL|               NULL|      1.0|     NULL|         NULL|\n",
      "|          2023-01-24|1970-01-01 11:39:...|2022-10-12 00:00:00|       QUA|1970-01-01 11:30:...|06 |-- 12|  10 |-- 12|          1900-06-06|     1900-06-06|   CONCLUSO|TITULO I DOS CRIM...|            JANEIRO| OUTUBRO|                2023|    2022|         PERSEGUICAO|   PERSEGUICAO|   PERSEGUICAO|VIOLENCIA DOMESTICA|            NULL|-2,982718229|-47,349826813|          OUTRAS|               NULL|VIOLENCIA DOMESTI...|     NULL|       OUTROS MEIOS|PARAGOMINAS|PARAGOMINAS|        CAPIM|  PROMISSAO II|REGIAO RIO CAPIM|07ª RISP|    NULL|        RUA CAPANEMA|   NULL| NULL|           NULL|CORRETO: TRAVESSA...|          RESIDENCIA|TIPICA > CRIMES C...| VITIMA|1976-07-11 00:00:00|     46.0|ADULTO IV (35 A 6...|       F| PREJUDICADO|ENSINO MEDIO COMP...|     SERVENTE|         PREJUDICADO|       CASADO(A)|1952-03-29 00:00:00|     70.0|IDOSO (65 ANOS OU...|       M|     EX-COMPANHEIRO(A)| PREJUDICADO|         PREJUDICADO|      ZELADOR|    PREJUDICADO|  PREJUDICADO|          NULL|       NULL|           NULL|               NULL|      1.0|     NULL|         NULL|\n",
      "+--------------------+--------------------+-------------------+----------+--------------------+---------+-----------+--------------------+---------------+-----------+--------------------+-------------------+--------+--------------------+--------+--------------------+--------------+--------------+-------------------+----------------+------------+-------------+----------------+-------------------+--------------------+---------+-------------------+-----------+-----------+-------------+--------------+----------------+--------+--------+--------------------+-------+-----+---------------+--------------------+--------------------+--------------------+-------+-------------------+---------+--------------------+--------+------------+--------------------+-------------+--------------------+----------------+-------------------+---------+--------------------+--------+----------------------+------------+--------------------+-------------+---------------+-------------+--------------+-----------+---------------+-------------------+---------+---------+-------------+\n",
      "\n"
     ]
    }
   ],
   "source": [
    "# Ordene o DataFrame pela coluna de índice em ordem descendente e selecione as primeiras linhas\n",
    "tail_rows = dados_csv.orderBy(dados_csv[\"data_registro\"].desc()).limit(10)\n",
    "\n",
    "# Exiba as últimas linhas\n",
    "tail_rows.show()"
   ]
  },
  {
   "cell_type": "markdown",
   "metadata": {},
   "source": [
    "**Observação:** nota-se que há uma diferença de seis registros entre os dois métodos e arquivos de dados utilizados. Para se manter fiel à metodologia do TCC, optou-se para utilizar o CSV e spark, com um total de 196.256 registros. Todavia, conforme visto na célula acima, que simula o método tail(), esses seis registros adicionais não são registros de fato, pois os dados não estão coerentes. De qualquer forma, eles serão desconsiderados nas etapas de filtro.\n",
    "\n",
    "----"
   ]
  },
  {
   "cell_type": "code",
   "execution_count": 8,
   "metadata": {},
   "outputs": [],
   "source": [
    "dados = dados_csv"
   ]
  },
  {
   "cell_type": "markdown",
   "metadata": {},
   "source": [
    "## Visão geral do conjunto de dados <a id=\"visao-geral-do-conjunto-de-dados\"></a>"
   ]
  },
  {
   "cell_type": "code",
   "execution_count": 9,
   "metadata": {},
   "outputs": [
    {
     "name": "stderr",
     "output_type": "stream",
     "text": [
      "[Stage 9:>                                                          (0 + 4) / 4]\r"
     ]
    },
    {
     "name": "stdout",
     "output_type": "stream",
     "text": [
      "O conjunto de dados possui 196256 registros e 68 variáveis.\n"
     ]
    },
    {
     "name": "stderr",
     "output_type": "stream",
     "text": [
      "                                                                                \r"
     ]
    }
   ],
   "source": [
    "# Contagem do número de variáveis\n",
    "v = len(dados.columns)\n",
    "# Contagem do número de registros\n",
    "n = dados.count()\n",
    "\n",
    "\n",
    "print(f'O conjunto de dados possui {n} registros e {v} variáveis.')"
   ]
  },
  {
   "cell_type": "code",
   "execution_count": 10,
   "metadata": {},
   "outputs": [
    {
     "name": "stdout",
     "output_type": "stream",
     "text": [
      "+-------------+--------------------+-------------------+----------+--------------------+---------+---------+--------------+---------------+--------------+--------------------+------------+---------+------------+--------+--------------------+--------------------+--------------------+-------------------+----------------+------------+-------------+----------------+--------------------+--------------------+---------+-------------------+-----------+-----------+---------------+--------------------+--------------------+--------+--------+--------------------+-------+-----+---------------+--------------------+--------------------+--------------------+-----------+-------------------+---------+--------------------+--------+------------+--------------------+--------------------+--------------------+----------------+-------------------+---------+--------------------+--------+----------------------+------------+-------------+-------------+---------------+-------------+--------------+-----------+---------------+-------------------+---------+---------+-------------+\n",
      "|data_registro|       hora_registro|          data_fato|dia_semana|           hora_fato| fx_4_hor| fx_12_hr|data_inst_proc|data_concl_proc|      sit_proc|       classe_motivo|mes_registro| mes_fato|ano_registro|ano_fato|           registros|         consolidado|           fato_real|especificacao_crime|   meio_emp_deac|    latitude|    longitude|causa_presumivel| especializacao_fato|    grupo_ocorrencia|sub_grupo|meio_empregado_sisp|   distrito| municipios|      regionais|             bairros|      reg_integracao|    risp|    aisp|            rua_fato|empresa|linha|tipo_transporte|         complemento|    local_ocorrencia|  identificacao_fato|    atuacao|        vit_dt_nasc|vit_idade|       vit_fx_etaria|vit_sexo|vit_cor_pele|       vit_grau_inst|       vit_profissao|vit_situacao_emprego|vit_estado_civil|      aut_data_nasc|aut_idade|       aut_fx_etaria|aut_sexo|grau_de_relacionamento|aut_cor_pele|aut_grau_inst|aut_profissao|aut_sit_emprego|aut_est_civil|meio_locomocao|cor_veiculo|marca_veic_fuga|modelo_do_veic_fuga|qtd_autor|relatorio|ident_autoria|\n",
      "+-------------+--------------------+-------------------+----------+--------------------+---------+---------+--------------+---------------+--------------+--------------------+------------+---------+------------+--------+--------------------+--------------------+--------------------+-------------------+----------------+------------+-------------+----------------+--------------------+--------------------+---------+-------------------+-----------+-----------+---------------+--------------------+--------------------+--------+--------+--------------------+-------+-----+---------------+--------------------+--------------------+--------------------+-----------+-------------------+---------+--------------------+--------+------------+--------------------+--------------------+--------------------+----------------+-------------------+---------+--------------------+--------+----------------------+------------+-------------+-------------+---------------+-------------+--------------+-----------+---------------+-------------------+---------+---------+-------------+\n",
      "|   2015-09-14|1970-01-01 20:25:...|2015-09-12 00:00:00|       SAB|1970-01-01 11:40:...|06 |-- 12|10 |-- 12|    1900-09-09|     1900-09-09|NAO INSTAURADO|CRIMES DE VIOLENC...|    SETEMBRO| SETEMBRO|        2015|    2015|              AMEACA|              AMEACA|                NULL|               NULL|            NULL|        NULL|         NULL|           CIUME|CRIMES CONTRA A P...|                NULL|     NULL|       OUTROS MEIOS| ANANINDEUA| ANANINDEUA|  METROPOLITANA|         CIDADE NOVA|      REGIAO GUAJARA|02ª RISP|18ª AISP|CONJ. CIDADE NOVA...|   NULL| NULL|           NULL|SUPERMERCADO FORMOSA|              OUTROS|VIOLENCIA DOMESTI...|VITIMA SIAC|1984-05-13 00:00:00|     31.0|ADULTO III (30 A ...|       F| PREJUDICADO|                NULL|                NULL|                NULL|            NULL|               NULL|     NULL|       NAO INFORMADO|       P|                  NULL|        NULL|         NULL|         NULL|           NULL|         NULL|          NULL|       NULL|           NULL|               NULL|     NULL|     NULL|         NULL|\n",
      "|   2022-11-25|1970-01-01 16:44:...|2022-11-25 00:00:00|       SEX|1970-01-01 13:00:...|12 |-- 18|12 |-- 14|    1900-06-06|     1900-06-06|      CONCLUSO|TITULO I - DOS CR...|    NOVEMBRO| NOVEMBRO|        2022|    2022|VIOLENCIA DOMESTI...|      LESAO CORPORAL|      LESAO CORPORAL|VIOLENCIA DOMESTICA|VIOLENCIA FISICA|  -1,3747476|  -48,4165881|ODIO OU VINGANCA|                NULL|VIOLENCIA DOMESTI...|     NULL|    SEM INSTRUMENTO| ANANINDEUA| ANANINDEUA|  METROPOLITANA| COQUEIRO ANANINDEUA|      REGIAO GUAJARA|02ª RISP|17ª AISP|RUA UM (CJ VAL PA...|   NULL| NULL|           NULL| CONJUNTO VALPARAISO|RESIDENCIA PARTIC...|TIPICA > LESAO CO...|     VITIMA|1980-05-14 00:00:00|     42.0|ADULTO IV (35 A 6...|       F| PREJUDICADO|ENSINO MEDIO COMP...|   OUTRAS PROFISSOES|         PREJUDICADO|     SOLTEIRO(A)|1976-02-12 00:00:00|     46.0|ADULTO IV (35 A 6...|       M|              IRMAO(A)| PREJUDICADO|  PREJUDICADO|  PREJUDICADO|    PREJUDICADO|  PREJUDICADO|          NULL|       NULL|           NULL|               NULL|      1.0|     NULL|         NULL|\n",
      "|   2022-11-25|1970-01-01 09:53:...|2022-05-28 00:00:00|       SAB|1970-01-01 16:40:...|12 |-- 18|16 |-- 18|    1900-06-06|     1900-06-06|      CONCLUSO|TITULO I - DOS CR...|    NOVEMBRO|     MAIO|        2022|    2022|LESAO CORPORAL DO...|      LESAO CORPORAL|      LESAO CORPORAL|VIOLENCIA DOMESTICA|VIOLENCIA FISICA|  -2,6527083|  -54,8298683|          OUTRAS|                NULL|VIOLENCIA EM COND...|     NULL|       OUTROS MEIOS|   BELTERRA|   BELTERRA| BAIXO AMAZONAS|  CENTRO DE BELTERRA|REGIAO BAIXO AMAZ...|12ª RISP|    NULL|   RUA SANTO ANTONIO|   NULL| NULL|           NULL|               PRACA|CONDOMINIO RESIDE...|TIPICA > LESAO CO...|     VITIMA|1960-06-02 00:00:00|     61.0|ADULTO IV (35 A 6...|       M| PREJUDICADO|ENSINO FUNDAMENTA...|AJUDANTE DE PEDREIRO|         PREJUDICADO|   UNIAO ESTAVEL|1900-06-06 00:00:00|  66666.0|         PREJUDICADO|       F|        COMPANHEIRO(A)| PREJUDICADO|  PREJUDICADO|  PREJUDICADO|    PREJUDICADO|  PREJUDICADO|          NULL|       NULL|           NULL|               NULL|      1.0|     NULL|         NULL|\n",
      "|   2022-11-25|1970-01-01 09:32:...|2022-11-25 00:00:00|       SEX|1970-01-01 08:00:...|06 |-- 12|08 |-- 10|    1900-06-06|     1900-06-06|      CONCLUSO|TITULO I - DOS CR...|    NOVEMBRO| NOVEMBRO|        2022|    2022|           DIFAMACAO|           DIFAMACAO|                NULL|               NULL|            NULL|-2,426921368|-54,741130829|ODIO OU VINGANCA|                NULL|VIOLENCIA DOMESTI...|     NULL|    SEM INSTRUMENTO|   SANTAREM|   SANTAREM| BAIXO AMAZONAS|           LIBERDADE|REGIAO BAIXO AMAZ...|12ª RISP|    NULL|CONJUNTO MAPIRI (...|   NULL| NULL|           NULL|         VIA PUBLICA|         VIA PUBLICA|TIPICA > DIFAMACA...|     VITIMA|1981-10-27 00:00:00|     41.0|ADULTO IV (35 A 6...|       F| PREJUDICADO|ENSINO MEDIO COMP...|           DOMESTICA|         PREJUDICADO|     SOLTEIRO(A)|               NULL|     NULL|         PREJUDICADO|       P|                  NULL|        NULL|         NULL|         NULL|           NULL|         NULL|          NULL|       NULL|           NULL|               NULL|      0.0|     NULL|         NULL|\n",
      "|   2022-11-25|1970-01-01 08:47:...|2022-11-24 00:00:00|       QUI|1970-01-01 21:00:...|18 |-- 24|20 |-- 22|    1900-06-06|     1900-06-06|      CONCLUSO|CONTRAVENCOES PEN...|    NOVEMBRO| NOVEMBRO|        2022|    2022|        VIAS DE FATO|        VIAS DE FATO|                NULL|               NULL|            NULL|  -2,4567062|   -54,722431|           CIUME|                NULL|VIOLENCIA DOMESTI...|     NULL|    SEM INSTRUMENTO|   SANTAREM|   SANTAREM| BAIXO AMAZONAS|            FLORESTA|REGIAO BAIXO AMAZ...|12ª RISP|    NULL|          RUA JAPAUA|   NULL| NULL|           NULL|ENTRE TACHI E MARIPA|RESIDENCIA PARTIC...|TIPICA > DECRETO ...|     VITIMA|1999-09-17 00:00:00|     23.0|ADULTO I (18 A 24...|       F| PREJUDICADO|ENSINO MEDIO COMP...|            MANICURE|         PREJUDICADO|     SOLTEIRO(A)|               NULL|     NULL|         PREJUDICADO|       P|                  NULL|        NULL|         NULL|         NULL|           NULL|         NULL|          NULL|       NULL|           NULL|               NULL|      0.0|     NULL|         NULL|\n",
      "|   2022-11-24|1970-01-01 11:00:...|2022-11-20 00:00:00|       DOM|1970-01-01 20:45:...|18 |-- 24|20 |-- 22|    1900-06-06|     1900-06-06|      CONCLUSO|TITULO I - DOS CR...|    NOVEMBRO| NOVEMBRO|        2022|    2022|VIOLENCIA DOMESTI...|      LESAO CORPORAL|      LESAO CORPORAL|VIOLENCIA DOMESTICA|VIOLENCIA FISICA|-2,982718229|-47,349826813|          OUTRAS|                NULL|VIOLENCIA DOMESTI...|     NULL|       OUTROS MEIOS|PARAGOMINAS|PARAGOMINAS|          CAPIM|        PROMISSAO II|    REGIAO RIO CAPIM|07ª RISP|    NULL|        RUA CAPANEMA|   NULL| NULL|           NULL|CORRETO: R PROJET...|          RESIDENCIA|TIPICA > LESAO CO...|     VITIMA|1900-06-06 00:00:00|     34.0|ADULTO III (30 A ...|       F| PREJUDICADO|         PREJUDICADO|         PREJUDICADO|         PREJUDICADO|     PREJUDICADO|1900-06-06 00:00:00|  66666.0|         PREJUDICADO|       M|        COMPANHEIRO(A)| PREJUDICADO|  PREJUDICADO|  PREJUDICADO|    PREJUDICADO|  PREJUDICADO|          NULL|       NULL|           NULL|               NULL|      1.0|     NULL|         NULL|\n",
      "|   2022-02-03|1970-01-01 11:08:...|2022-02-02 00:00:00|       QUA|1970-01-01 22:00:...|18 |-- 24|22 |-- 24|    1900-09-09|     1900-09-09|      CONCLUSO|CRIMES CONTRA A P...|   FEVEREIRO|FEVEREIRO|        2022|    2022|      LESAO CORPORAL|      LESAO CORPORAL|      LESAO CORPORAL|VIOLENCIA DOMESTICA|VIOLENCIA FISICA|        NULL|         NULL|ODIO OU VINGANCA|CRIMES CONTRA A P...|LESAO CORPORAL SI...|     NULL|       OUTROS MEIOS| SALVATERRA| SALVATERRA|MARAJO ORIENTAL|ZONA RURAL DE SAL...|       REGIAO MARAJO|05ª RISP|    NULL|       VILA DO JUBIM|   NULL| NULL|           NULL|PROXIMO AO COMERC...|RESIDENCIA PARTIC...|JESSICA BARBOSA T...|     VITIMA|1999-05-01 00:00:00|     22.0|ADULTO I (18 A 24...|       F| PREJUDICADO|                NULL|                NULL|                NULL|            NULL|1900-06-06 00:00:00|  66666.0|         PREJUDICADO|       M|  PARENTESCO POR AF...| PREJUDICADO|  PREJUDICADO|  PREJUDICADO|    PREJUDICADO|  PREJUDICADO|          NULL|       NULL|           NULL|               NULL|      1.0|     NULL|         NULL|\n",
      "|   2022-11-25|1970-01-01 19:46:...|2022-11-25 00:00:00|       SEX|1970-01-01 10:00:...|06 |-- 12|10 |-- 12|    1900-06-06|     1900-06-06|      CONCLUSO|TITULO II DA VIOL...|    NOVEMBRO| NOVEMBRO|        2022|    2022|MARIA DA PENHA - ...|DESCUMPRIMENTO DE...|DESCUMPRIMENTO DE...|VIOLENCIA DOMESTICA|            NULL|  -1,3373231|   -48,403951|          OUTRAS|                NULL|VIOLENCIA DOMESTI...|     NULL|    SEM INSTRUMENTO| ANANINDEUA| ANANINDEUA|  METROPOLITANA|        ICUI-GUAJARA|      REGIAO GUAJARA|02ª RISP|18ª AISP|  TRAVESSA CARLANDIA|   NULL| NULL|           NULL|ENTRADA PELA INDE...|RESIDENCIA PARTIC...|TIPICA > CRIME DE...|     VITIMA|1989-01-29 00:00:00|     33.0|ADULTO III (30 A ...|       F| PREJUDICADO|ENSINO MEDIO COMP...|        DONA DE CASA|         PREJUDICADO|       CASADO(A)|1986-08-20 00:00:00|     36.0|ADULTO IV (35 A 6...|       M|     EX-COMPANHEIRO(A)|        NULL|         NULL|     AUTONOMO|           NULL|    CASADO(A)|          A PE|       NULL|           NULL|               NULL|      1.0|     NULL|         NULL|\n",
      "|   2022-11-24|1970-01-01 09:04:...|2022-11-23 00:00:00|       QUA|1970-01-01 23:55:...|18 |-- 24|22 |-- 24|    1900-06-06|     1900-06-06|      CONCLUSO|TITULO I DOS CRIM...|    NOVEMBRO| NOVEMBRO|        2022|    2022|         PERSEGUICAO|         PERSEGUICAO|         PERSEGUICAO|VIOLENCIA DOMESTICA|            NULL| -,730673611|-48,501960754|          OUTRAS|                NULL|VIOLENCIA DOMESTI...|     NULL|       OUTROS MEIOS|      SOURE|      SOURE|MARAJO ORIENTAL|     CENTRO DE SOURE|       REGIAO MARAJO|05ª RISP|    NULL|LOCALIDADE RUA CE...|   NULL| NULL|           NULL|TV 7, ENTRE 5 E 6...|RESIDENCIA PARTIC...|TIPICA > CRIMES C...|     VITIMA|1977-12-13 00:00:00|     44.0|ADULTO IV (35 A 6...|       F| PREJUDICADO|ENSINO MEDIO COMP...|       RECEPCIONISTA|         PREJUDICADO|     SOLTEIRO(A)|1900-06-06 00:00:00|  66666.0|         PREJUDICADO|       M|     EX-COMPANHEIRO(A)| PREJUDICADO|  PREJUDICADO|  PREJUDICADO|    PREJUDICADO|  PREJUDICADO|          NULL|       NULL|           NULL|               NULL|      1.0|     NULL|         NULL|\n",
      "|   2022-11-24|1970-01-01 11:17:...|2022-11-22 00:00:00|       TER|1970-01-01 20:00:...|18 |-- 24|20 |-- 22|    1900-06-06|     1900-06-06|      CONCLUSO|TITULO I - DOS CR...|    NOVEMBRO| NOVEMBRO|        2022|    2022|VIOLENCIA DOMESTI...|      LESAO CORPORAL|      LESAO CORPORAL|VIOLENCIA DOMESTICA|VIOLENCIA FISICA|   -1,192442|   -47,175126|ODIO OU VINGANCA|                NULL|VIOLENCIA DOMESTI...|     NULL|       OUTROS MEIOS|   CAPANEMA|   CAPANEMA|          CAETE|         DOM JOAO VI|    REGIAO RIO CAETE|06ª RISP|    NULL|   RUA JOAO PAULO II|   NULL| NULL|           NULL|RETIFICACAO: RUA ...|          RESIDENCIA|TIPICA > LESAO CO...|     VITIMA|2003-02-02 00:00:00|     19.0|ADULTO I (18 A 24...|       F| PREJUDICADO|ENSINO MEDIO COMP...|   OUTRAS PROFISSOES|         PREJUDICADO|     SOLTEIRO(A)|1900-06-06 00:00:00|  66666.0|         PREJUDICADO|       M|        COMPANHEIRO(A)| PREJUDICADO|  PREJUDICADO|  PREJUDICADO|    PREJUDICADO|  PREJUDICADO|          NULL|       NULL|           NULL|               NULL|      1.0|     NULL|         NULL|\n",
      "|   2014-09-29|1970-01-01 10:55:...|2014-09-28 00:00:00|       DOM|1970-01-01 15:00:...|12 |-- 18|14 |-- 16|    1900-09-09|     1900-09-09|NAO INSTAURADO|CRIMES DE VIOLENC...|    SETEMBRO| SETEMBRO|        2014|    2014|              AMEACA|              AMEACA|                NULL|               NULL|            NULL|        NULL|         NULL|          OUTRAS|CRIMES CONTRA A M...|                NULL|     NULL|       OUTROS MEIOS|      OUREM|      OUREM|          CAETE|           FORQUILHA|    REGIAO RIO CAPIM|06ª RISP|    NULL|      FORQUILHA, RUA|   NULL| NULL|           NULL|                NULL|RESIDENCIA PARTIC...|             AMEACA |VITIMA SIAC|1995-02-10 00:00:00|     19.0|ADULTO I (18 A 24...|       M| PREJUDICADO|                NULL|                NULL|                NULL|            NULL|               NULL|     NULL|       NAO INFORMADO|       P|                  NULL|        NULL|         NULL|         NULL|           NULL|         NULL|          NULL|       NULL|           NULL|               NULL|     NULL|     NULL|         NULL|\n",
      "|   2022-11-24|1970-01-01 13:15:...|2022-11-24 00:00:00|       QUI|1970-01-01 11:20:...|06 |-- 12|10 |-- 12|    1900-06-06|     1900-06-06|      CONCLUSO|TITULO I - DOS CR...|    NOVEMBRO| NOVEMBRO|        2022|    2022|     AUMENTO DE PENA|      LESAO CORPORAL|      LESAO CORPORAL|VIOLENCIA DOMESTICA|VIOLENCIA FISICA|  -2,4435471|  -54,7408714|          OUTRAS|                NULL|        CASOS COMUNS|     NULL|       OUTROS MEIOS|   SANTAREM|   SANTAREM| BAIXO AMAZONAS|       SANTARENZINHO|REGIAO BAIXO AMAZ...|12ª RISP|    NULL|AVENIDA ENGENHEIR...|   NULL| NULL|           NULL|ENDERECO RUA CURR...|          RESIDENCIA|DECRETO LEI 2848/...|     VITIMA|1980-08-03 00:00:00|     42.0|ADULTO IV (35 A 6...|       F| PREJUDICADO|ENSINO MEDIO COMP...|   OUTRAS PROFISSOES|         PREJUDICADO|     SOLTEIRO(A)|1900-06-06 00:00:00|  66666.0|         PREJUDICADO|       F|              IRMAO(A)| PREJUDICADO|  PREJUDICADO|  PREJUDICADO|    PREJUDICADO|  PREJUDICADO|          NULL|       NULL|           NULL|               NULL|      1.0|     NULL|         NULL|\n",
      "|   2022-11-24|1970-01-01 01:37:...|2022-11-23 00:00:00|       QUA|1970-01-01 23:35:...|18 |-- 24|22 |-- 24|    1900-06-06|     1900-06-06|      CONCLUSO|TITULO I - DOS CR...|    NOVEMBRO| NOVEMBRO|        2022|    2022|VIOLENCIA DOMESTI...|      LESAO CORPORAL|      LESAO CORPORAL|VIOLENCIA DOMESTICA|VIOLENCIA FISICA|   -1,295757|   -47,926643|          OUTRAS|                NULL|VIOLENCIA DOMESTI...|     NULL|       OUTROS MEIOS|  CASTANHAL|  CASTANHAL|          GUAMA|         JADERLANDIA|        REGIAO GUAMA|03ª RISP|    NULL|TRAVESSA Z-12 CON...|   NULL| NULL|           NULL|             RUA PAZ|         VIA PUBLICA|TIPICA > LESAO CO...|     VITIMA|1994-04-06 00:00:00|     28.0|ADULTO II (25 A 2...|       F| PREJUDICADO|ENSINO MEDIO COMP...|   OUTRAS PROFISSOES|         PREJUDICADO|     SOLTEIRO(A)|1993-01-14 00:00:00|     29.0|ADULTO II (25 A 2...|       M|        COMPANHEIRO(A)| PREJUDICADO|  PREJUDICADO|  PREJUDICADO|    PREJUDICADO|  PREJUDICADO|          NULL|       NULL|           NULL|               NULL|      1.0|     NULL|         NULL|\n",
      "|   2022-03-31|1970-01-01 10:43:...|2022-03-31 00:00:00|       QUI|1970-01-01 10:43:...|06 |-- 12|10 |-- 12|    1900-09-09|     1900-09-09|      CONCLUSO|CRIMES CONTRA A P...|       MARCO|    MARCO|        2022|    2022|              AMEACA|              AMEACA|              AMEACA|VIOLENCIA DOMESTICA|          AMEACA|        NULL|         NULL|ODIO OU VINGANCA|CRIMES CONTRA A P...|      AMEACA - CAPUT|     NULL|    SEM INSTRUMENTO| SALVATERRA| SALVATERRA|MARAJO ORIENTAL|ZONA RURAL DE SAL...|       REGIAO MARAJO|05ª RISP|    NULL|VILA PASSAGEM GRANDE|   NULL| NULL|           NULL|       QUADRA DO PEU|RESIDENCIA PARTIC...|              AMEACA|     VITIMA|1947-11-26 00:00:00|     74.0|IDOSO (65 ANOS OU...|       M| PREJUDICADO|         PREJUDICADO|         PREJUDICADO|         PREJUDICADO|     PREJUDICADO|1900-06-06 00:00:00|  66666.0|         PREJUDICADO|       F|        EX-NAMORADO(A)| PREJUDICADO|  PREJUDICADO|  PREJUDICADO|    PREJUDICADO|  PREJUDICADO|          NULL|       NULL|           NULL|               NULL|      1.0|     NULL|         NULL|\n",
      "|   2022-11-24|1970-01-01 10:35:...|2022-11-23 00:00:00|       QUA|1970-01-01 22:00:...|18 |-- 24|22 |-- 24|    1900-06-06|     1900-06-06|      CONCLUSO|TITULO II DA VIOL...|    NOVEMBRO| NOVEMBRO|        2022|    2022|VIOLENCIA FISICA,...|      LESAO CORPORAL|      LESAO CORPORAL|VIOLENCIA DOMESTICA|VIOLENCIA FISICA|   -1,362309|   -48,346423|          OUTRAS|                NULL|VIOLENCIA DOMESTI...|     NULL|    SEM INSTRUMENTO|   MARITUBA|   MARITUBA|  METROPOLITANA|  CENTRO DE MARITUBA|      REGIAO GUAJARA|02ª RISP|22ª AISP|          RUA DO FIO|   NULL| NULL|           NULL|AO LADO DA EXTRAF...|RESIDENCIA PARTIC...|TIPICA > LEI 11.3...|     VITIMA|1969-06-12 00:00:00|     53.0|ADULTO IV (35 A 6...|       F| PREJUDICADO|ENSINO FUNDAMENTA...|           DOMESTICA|         PREJUDICADO|   UNIAO ESTAVEL|1900-06-06 00:00:00|  66666.0|         PREJUDICADO|       M|        COMPANHEIRO(A)| PREJUDICADO|  PREJUDICADO|  PREJUDICADO|    PREJUDICADO|  PREJUDICADO|          NULL|       NULL|           NULL|               NULL|      1.0|     NULL|         NULL|\n",
      "|   2022-11-25|1970-01-01 09:24:...|2022-11-25 00:00:00|       SEX|1970-01-01 02:00:...|00 |-- 06|02 |-- 04|    1900-06-06|     1900-06-06|      CONCLUSO|TITULO I - DOS CR...|    NOVEMBRO| NOVEMBRO|        2022|    2022|VIOLENCIA DOMESTI...|      LESAO CORPORAL|      LESAO CORPORAL|VIOLENCIA DOMESTICA|VIOLENCIA FISICA| -5,36833697|-49,124394796|           CIUME|                NULL|VIOLENCIA DOMESTI...|     NULL|       OUTROS MEIOS|     MARABA|     MARABA|        CARAJAS|         NOVA MARABA|      REGIAO CARAJAS|10ª RISP|    NULL|QUADRA QUADRA NOV...|   NULL| NULL|           NULL|CORRETO: FOLHA 10...|          RESIDENCIA|TIPICA > LESAO CO...|     VITIMA|1983-11-19 00:00:00|     39.0|ADULTO IV (35 A 6...|       F| PREJUDICADO|ENSINO MEDIO COMP...|   AUXILIAR EM GERAL|         PREJUDICADO|   UNIAO ESTAVEL|1996-03-14 00:00:00|     26.0|ADULTO II (25 A 2...|       M|     EX-COMPANHEIRO(A)|        NULL|         NULL|         NULL|           NULL|         NULL|          A PE|       NULL|           NULL|               NULL|      1.0|     NULL|         NULL|\n",
      "|   2022-11-23|1970-01-01 11:53:...|2022-11-12 00:00:00|       SAB|1970-01-01 21:30:...|18 |-- 24|20 |-- 22|    1900-06-06|     1900-06-06|      CONCLUSO|TITULO I - DOS CR...|    NOVEMBRO| NOVEMBRO|        2022|    2022|       INJURIA CAPUT|             INJURIA|                NULL|               NULL|            NULL|  -2,4733006|  -54,7182384|ODIO OU VINGANCA|                NULL|VIOLENCIA DOMESTI...|     NULL|    SEM INSTRUMENTO|   SANTAREM|   SANTAREM| BAIXO AMAZONAS|      NOVA REPUBLICA|REGIAO BAIXO AMAZ...|12ª RISP|    NULL|   RUA SAO FRANCISCO|   NULL| NULL|           NULL|ENTRE MARUPA COM ...|RESIDENCIA PARTIC...|TIPICA > INJURIA ...|     VITIMA|1980-03-20 00:00:00|     42.0|ADULTO IV (35 A 6...|       F| PREJUDICADO|ENSINO MEDIO COMP...|   OUTRAS PROFISSOES|         PREJUDICADO|     SOLTEIRO(A)|               NULL|     NULL|         PREJUDICADO|       P|                  NULL|        NULL|         NULL|         NULL|           NULL|         NULL|          NULL|       NULL|           NULL|               NULL|      0.0|     NULL|         NULL|\n",
      "|   2022-11-25|1970-01-01 02:11:...|2022-11-25 00:00:00|       SEX|1970-01-01 01:00:...|00 |-- 06|00 |-- 02|    1900-06-06|     1900-06-06|      CONCLUSO|TITULO I - DOS CR...|    NOVEMBRO| NOVEMBRO|        2022|    2022|              AMEACA|              AMEACA|                NULL|               NULL|            NULL|  -1,3466723|  -48,4115737|ODIO OU VINGANCA|                NULL|VIOLENCIA DOMESTI...|     NULL|    SEM INSTRUMENTO| ANANINDEUA| ANANINDEUA|  METROPOLITANA|         CIDADE NOVA|      REGIAO GUAJARA|02ª RISP|18ª AISP|  PASSAGEM SAO LUCAS|   NULL| NULL|           NULL|  PROXIMO A ARTERIAL|RESIDENCIA PARTIC...|TIPICA > AMEACA >...|     VITIMA|1975-06-20 00:00:00|     47.0|ADULTO IV (35 A 6...|       F| PREJUDICADO|ENSINO MEDIO COMP...|            PEDICURE|         PREJUDICADO|     SOLTEIRO(A)|               NULL|     NULL|         PREJUDICADO|       P|                  NULL|        NULL|         NULL|         NULL|           NULL|         NULL|          NULL|       NULL|           NULL|               NULL|      0.0|     NULL|         NULL|\n",
      "|   2022-04-26|1970-01-01 12:53:...|2022-04-26 00:00:00|       TER|1970-01-01 10:00:...|06 |-- 12|10 |-- 12|    1900-09-09|     1900-09-09|      CONCLUSO|CRIMES CONTRA A P...|       ABRIL|    ABRIL|        2022|    2022|              AMEACA|VIOLENCIA PSICOLO...|VIOLENCIA PSICOLO...|VIOLENCIA DOMESTICA|          AMEACA|        NULL|         NULL|ODIO OU VINGANCA|CRIMES CONTRA A P...|      AMEACA - CAPUT|     NULL|    SEM INSTRUMENTO| SALVATERRA| SALVATERRA|MARAJO ORIENTAL|ZONA RURAL DE SAL...|       REGIAO MARAJO|05ª RISP|    NULL|        VILA CAMPINA|   NULL| NULL|           NULL|                NULL|AMBIENTE VIRTUAL ...|VIOLENCIA C MULHE...|     VITIMA|1998-05-08 00:00:00|     23.0|ADULTO I (18 A 24...|       F| PREJUDICADO|         PREJUDICADO|         PREJUDICADO|         PREJUDICADO|     PREJUDICADO|1900-06-06 00:00:00|  66666.0|         PREJUDICADO|       M|        COMPANHEIRO(A)| PREJUDICADO|  PREJUDICADO|  PREJUDICADO|    PREJUDICADO|  PREJUDICADO|          NULL|       NULL|           NULL|               NULL|      1.0|     NULL|         NULL|\n",
      "|   2022-11-25|1970-01-01 11:42:...|2022-08-22 00:00:00|       SEG|1970-01-01 20:00:...|18 |-- 24|20 |-- 22|    1900-06-06|     1900-06-06|      CONCLUSO|CONTRAVENCOES PEN...|    NOVEMBRO|   AGOSTO|        2022|    2022|        VIAS DE FATO|        VIAS DE FATO|                NULL|               NULL|            NULL|-2,526506186|-54,722660065|          OUTRAS|                NULL|VIOLENCIA DOMESTI...|     NULL|       OUTROS MEIOS|   SANTAREM|   SANTAREM| BAIXO AMAZONAS|              CIPOAL|REGIAO BAIXO AMAZ...|12ª RISP|    NULL|RODOVIA SANTAREM-...|   NULL| NULL|           NULL|KM 13 RAMAL SANTA...|          AREA RURAL|TIPICA > DECRETO ...|     VITIMA|1967-08-25 00:00:00|     54.0|ADULTO IV (35 A 6...|       F| PREJUDICADO|ENSINO FUNDAMENTA...|           DOMESTICA|         PREJUDICADO|     SOLTEIRO(A)|               NULL|     NULL|         PREJUDICADO|       P|                  NULL|       PRETA|         NULL|         NULL|           NULL|         NULL|          NULL|       NULL|           NULL|               NULL|      0.0|     NULL|         NULL|\n",
      "+-------------+--------------------+-------------------+----------+--------------------+---------+---------+--------------+---------------+--------------+--------------------+------------+---------+------------+--------+--------------------+--------------------+--------------------+-------------------+----------------+------------+-------------+----------------+--------------------+--------------------+---------+-------------------+-----------+-----------+---------------+--------------------+--------------------+--------+--------+--------------------+-------+-----+---------------+--------------------+--------------------+--------------------+-----------+-------------------+---------+--------------------+--------+------------+--------------------+--------------------+--------------------+----------------+-------------------+---------+--------------------+--------+----------------------+------------+-------------+-------------+---------------+-------------+--------------+-----------+---------------+-------------------+---------+---------+-------------+\n",
      "only showing top 20 rows\n",
      "\n"
     ]
    }
   ],
   "source": [
    "# Visualização do dataframe\n",
    "dados.show()"
   ]
  },
  {
   "cell_type": "code",
   "execution_count": 11,
   "metadata": {},
   "outputs": [
    {
     "name": "stdout",
     "output_type": "stream",
     "text": [
      "root\n",
      " |-- data_registro: string (nullable = true)\n",
      " |-- hora_registro: string (nullable = true)\n",
      " |-- data_fato: timestamp (nullable = true)\n",
      " |-- dia_semana: string (nullable = true)\n",
      " |-- hora_fato: string (nullable = true)\n",
      " |-- fx_4_hor: string (nullable = true)\n",
      " |-- fx_12_hr: string (nullable = true)\n",
      " |-- data_inst_proc: string (nullable = true)\n",
      " |-- data_concl_proc: string (nullable = true)\n",
      " |-- sit_proc: string (nullable = true)\n",
      " |-- classe_motivo: string (nullable = true)\n",
      " |-- mes_registro: string (nullable = true)\n",
      " |-- mes_fato: string (nullable = true)\n",
      " |-- ano_registro: string (nullable = true)\n",
      " |-- ano_fato: string (nullable = true)\n",
      " |-- registros: string (nullable = true)\n",
      " |-- consolidado: string (nullable = true)\n",
      " |-- fato_real: string (nullable = true)\n",
      " |-- especificacao_crime: string (nullable = true)\n",
      " |-- meio_emp_deac: string (nullable = true)\n",
      " |-- latitude: string (nullable = true)\n",
      " |-- longitude: string (nullable = true)\n",
      " |-- causa_presumivel: string (nullable = true)\n",
      " |-- especializacao_fato: string (nullable = true)\n",
      " |-- grupo_ocorrencia: string (nullable = true)\n",
      " |-- sub_grupo: string (nullable = true)\n",
      " |-- meio_empregado_sisp: string (nullable = true)\n",
      " |-- distrito: string (nullable = true)\n",
      " |-- municipios: string (nullable = true)\n",
      " |-- regionais: string (nullable = true)\n",
      " |-- bairros: string (nullable = true)\n",
      " |-- reg_integracao: string (nullable = true)\n",
      " |-- risp: string (nullable = true)\n",
      " |-- aisp: string (nullable = true)\n",
      " |-- rua_fato: string (nullable = true)\n",
      " |-- empresa: string (nullable = true)\n",
      " |-- linha: string (nullable = true)\n",
      " |-- tipo_transporte: string (nullable = true)\n",
      " |-- complemento: string (nullable = true)\n",
      " |-- local_ocorrencia: string (nullable = true)\n",
      " |-- identificacao_fato: string (nullable = true)\n",
      " |-- atuacao: string (nullable = true)\n",
      " |-- vit_dt_nasc: timestamp (nullable = true)\n",
      " |-- vit_idade: double (nullable = true)\n",
      " |-- vit_fx_etaria: string (nullable = true)\n",
      " |-- vit_sexo: string (nullable = true)\n",
      " |-- vit_cor_pele: string (nullable = true)\n",
      " |-- vit_grau_inst: string (nullable = true)\n",
      " |-- vit_profissao: string (nullable = true)\n",
      " |-- vit_situacao_emprego: string (nullable = true)\n",
      " |-- vit_estado_civil: string (nullable = true)\n",
      " |-- aut_data_nasc: timestamp (nullable = true)\n",
      " |-- aut_idade: double (nullable = true)\n",
      " |-- aut_fx_etaria: string (nullable = true)\n",
      " |-- aut_sexo: string (nullable = true)\n",
      " |-- grau_de_relacionamento: string (nullable = true)\n",
      " |-- aut_cor_pele: string (nullable = true)\n",
      " |-- aut_grau_inst: string (nullable = true)\n",
      " |-- aut_profissao: string (nullable = true)\n",
      " |-- aut_sit_emprego: string (nullable = true)\n",
      " |-- aut_est_civil: string (nullable = true)\n",
      " |-- meio_locomocao: string (nullable = true)\n",
      " |-- cor_veiculo: string (nullable = true)\n",
      " |-- marca_veic_fuga: string (nullable = true)\n",
      " |-- modelo_do_veic_fuga: string (nullable = true)\n",
      " |-- qtd_autor: double (nullable = true)\n",
      " |-- relatorio: string (nullable = true)\n",
      " |-- ident_autoria: string (nullable = true)\n",
      "\n"
     ]
    }
   ],
   "source": [
    "# Descrição dos tipos dos dados\n",
    "dados.printSchema()"
   ]
  },
  {
   "cell_type": "markdown",
   "metadata": {},
   "source": [
    "## Filtros, tratamentos e padronização de valores <a id=\"filtros-tratamentos-e-padronizacao-de-valores\"></a>\n",
    "\n",
    "### Filtros\n",
    "\n",
    "#### Sexo das vítimas"
   ]
  },
  {
   "cell_type": "code",
   "execution_count": 12,
   "metadata": {},
   "outputs": [
    {
     "name": "stderr",
     "output_type": "stream",
     "text": [
      "[Stage 13:=============================>                            (2 + 2) / 4]\r"
     ]
    },
    {
     "name": "stdout",
     "output_type": "stream",
     "text": [
      "+--------+------+\n",
      "|vit_sexo| count|\n",
      "+--------+------+\n",
      "|    NULL|     7|\n",
      "|       F|171066|\n",
      "|      JL|     1|\n",
      "|       M| 16445|\n",
      "|       P|  8241|\n",
      "|      PJ|   496|\n",
      "+--------+------+\n",
      "\n"
     ]
    },
    {
     "name": "stderr",
     "output_type": "stream",
     "text": [
      "                                                                                \r"
     ]
    }
   ],
   "source": [
    "# Contagem dos valores distintos na coluna 'vit_sexo'\n",
    "dados.groupBy(\"vit_sexo\").count().orderBy(\"vit_sexo\").show()"
   ]
  },
  {
   "cell_type": "markdown",
   "metadata": {},
   "source": [
    "Filtrando apenas registros nos quais as vítimas são do sexo feminino."
   ]
  },
  {
   "cell_type": "code",
   "execution_count": 13,
   "metadata": {},
   "outputs": [
    {
     "name": "stderr",
     "output_type": "stream",
     "text": [
      "[Stage 16:==============>                                           (1 + 3) / 4]\r"
     ]
    },
    {
     "name": "stdout",
     "output_type": "stream",
     "text": [
      "Foram retirados 25190, restando 171066 registros válidos.\n"
     ]
    },
    {
     "name": "stderr",
     "output_type": "stream",
     "text": [
      "                                                                                \r"
     ]
    }
   ],
   "source": [
    "# Filtrando a base para que \"vit_sexo\" = \"F\"\n",
    "dados_filtro_vit_F = dados.filter(dados.vit_sexo == \"F\")\n",
    "\n",
    "# Exibindo a quantidade de registros restantes\n",
    "n_feminino = dados_filtro_vit_F.count()\n",
    "\n",
    "print(f'Foram retirados {n - n_feminino}, restando {n_feminino} registros válidos.')"
   ]
  },
  {
   "cell_type": "markdown",
   "metadata": {},
   "source": [
    "#### Sexo dos autores"
   ]
  },
  {
   "cell_type": "code",
   "execution_count": 14,
   "metadata": {},
   "outputs": [
    {
     "name": "stderr",
     "output_type": "stream",
     "text": [
      "[Stage 19:>                                                         (0 + 4) / 4]\r"
     ]
    },
    {
     "name": "stderr",
     "output_type": "stream",
     "text": [
      "[Stage 19:==============>                                           (1 + 3) / 4]\r"
     ]
    },
    {
     "name": "stdout",
     "output_type": "stream",
     "text": [
      "+--------+------+\n",
      "|aut_sexo| count|\n",
      "+--------+------+\n",
      "|    NULL|  9222|\n",
      "|       F|  7299|\n",
      "|      JL|     1|\n",
      "|       M| 53063|\n",
      "|       P|126670|\n",
      "|      PJ|     1|\n",
      "+--------+------+\n",
      "\n"
     ]
    },
    {
     "name": "stderr",
     "output_type": "stream",
     "text": [
      "                                                                                \r"
     ]
    }
   ],
   "source": [
    "# Contagem dos valores distintos na coluna 'aut_sexo'\n",
    "dados.groupBy(\"aut_sexo\").count().orderBy(\"aut_sexo\").show()"
   ]
  },
  {
   "cell_type": "markdown",
   "metadata": {},
   "source": [
    "Selecionando apenas regitros onde o sexo dos autores é diferente de feminino."
   ]
  },
  {
   "cell_type": "code",
   "execution_count": 15,
   "metadata": {},
   "outputs": [
    {
     "name": "stderr",
     "output_type": "stream",
     "text": [
      "[Stage 22:=============================>                            (2 + 2) / 4]\r"
     ]
    },
    {
     "name": "stdout",
     "output_type": "stream",
     "text": [
      "Foram retirados 11808, restando 159258 registros válidos.\n"
     ]
    },
    {
     "name": "stderr",
     "output_type": "stream",
     "text": [
      "                                                                                \r"
     ]
    }
   ],
   "source": [
    "# Filtrando a base para que \"aut_sexo\" diferente \"F\"\n",
    "dados_filtro_aut_nF = dados_filtro_vit_F.filter(dados_filtro_vit_F.aut_sexo != \"F\")\n",
    "\n",
    "# Exibindo o dataset VCM\n",
    "n_autor_nf = dados_filtro_aut_nF.count()\n",
    "\n",
    "print(f'Foram retirados {n_feminino - n_autor_nf}, restando {n_autor_nf} registros válidos.')"
   ]
  },
  {
   "cell_type": "markdown",
   "metadata": {},
   "source": [
    "#### Ano do fato\n",
    "\n",
    "A base de dados contava com registros de 2010 a 2023, porém foram selecionados apenas os casos ocorridos entre 2018 e 2022."
   ]
  },
  {
   "cell_type": "code",
   "execution_count": 16,
   "metadata": {},
   "outputs": [
    {
     "name": "stderr",
     "output_type": "stream",
     "text": [
      "[Stage 25:>                                                         (0 + 4) / 4]\r"
     ]
    },
    {
     "name": "stderr",
     "output_type": "stream",
     "text": [
      "[Stage 25:==============>                                           (1 + 3) / 4]\r"
     ]
    },
    {
     "name": "stdout",
     "output_type": "stream",
     "text": [
      "Foram retirados 64837, restando 94421 registros válidos.\n"
     ]
    },
    {
     "name": "stderr",
     "output_type": "stream",
     "text": [
      "                                                                                \r"
     ]
    }
   ],
   "source": [
    "# Filtrando a base para que ano registro >= 2018\n",
    "dados_filtro_ano_registro = dados_filtro_aut_nF.filter(dados_filtro_aut_nF.ano_registro >= 2018)\n",
    "\n",
    "# Exibindo o dataset VCM\n",
    "n_registros_apos_2018 = dados_filtro_ano_registro.count()\n",
    "\n",
    "print(f'Foram retirados {n_autor_nf - n_registros_apos_2018}, restando {n_registros_apos_2018} registros válidos.')"
   ]
  },
  {
   "cell_type": "markdown",
   "metadata": {},
   "source": [
    "#### Especificação do fato\n",
    "\n",
    "Para selecionar apenas os registros de violência contra mulher (VCM), foram mantidas apenas as linhas que contivesse uma das expressões abaixo na coluna 'especificacao_fato':\n",
    "\n",
    "- \"mulher\"\n",
    "- \"penha\"\n",
    "- \"feminicídio\"\n",
    "- \"femicídio\"\n",
    "- \"feminicidio\"\n",
    "- \"femicidio\""
   ]
  },
  {
   "cell_type": "code",
   "execution_count": 17,
   "metadata": {},
   "outputs": [
    {
     "name": "stderr",
     "output_type": "stream",
     "text": [
      "[Stage 28:>                                                         (0 + 1) / 1]\r"
     ]
    },
    {
     "name": "stdout",
     "output_type": "stream",
     "text": [
      "+-------------+--------------------+-------------------+----------+--------------------+---------+---------+--------------+---------------+--------------+--------------------+------------+---------+------------+--------+--------------------+--------------------+--------------------+--------------------+----------------+--------+---------+--------------------+--------------------+--------------------+---------+--------------------+------------------+------------------+---------------+--------------------+--------------------+--------+----+--------------------+-------+-----+---------------+--------------------+--------------------+--------------------+-----------+-------------------+---------+--------------------+--------+------------+--------------------+-------------+--------------------+----------------+-------------------+---------+-------------+--------+----------------------+-------------+-------------+-------------+---------------+-------------+--------------+-----------+---------------+-------------------+---------+---------+-------------+\n",
      "|data_registro|       hora_registro|          data_fato|dia_semana|           hora_fato| fx_4_hor| fx_12_hr|data_inst_proc|data_concl_proc|      sit_proc|       classe_motivo|mes_registro| mes_fato|ano_registro|ano_fato|           registros|         consolidado|           fato_real| especificacao_crime|   meio_emp_deac|latitude|longitude|    causa_presumivel| especializacao_fato|    grupo_ocorrencia|sub_grupo| meio_empregado_sisp|          distrito|        municipios|      regionais|             bairros|      reg_integracao|    risp|aisp|            rua_fato|empresa|linha|tipo_transporte|         complemento|    local_ocorrencia|  identificacao_fato|    atuacao|        vit_dt_nasc|vit_idade|       vit_fx_etaria|vit_sexo|vit_cor_pele|       vit_grau_inst|vit_profissao|vit_situacao_emprego|vit_estado_civil|      aut_data_nasc|aut_idade|aut_fx_etaria|aut_sexo|grau_de_relacionamento| aut_cor_pele|aut_grau_inst|aut_profissao|aut_sit_emprego|aut_est_civil|meio_locomocao|cor_veiculo|marca_veic_fuga|modelo_do_veic_fuga|qtd_autor|relatorio|ident_autoria|\n",
      "+-------------+--------------------+-------------------+----------+--------------------+---------+---------+--------------+---------------+--------------+--------------------+------------+---------+------------+--------+--------------------+--------------------+--------------------+--------------------+----------------+--------+---------+--------------------+--------------------+--------------------+---------+--------------------+------------------+------------------+---------------+--------------------+--------------------+--------+----+--------------------+-------+-----+---------------+--------------------+--------------------+--------------------+-----------+-------------------+---------+--------------------+--------+------------+--------------------+-------------+--------------------+----------------+-------------------+---------+-------------+--------+----------------------+-------------+-------------+-------------+---------------+-------------+--------------+-----------+---------------+-------------------+---------+---------+-------------+\n",
      "|   2022-04-07|1970-01-01 16:47:...|2022-04-07 00:00:00|       QUI|1970-01-01 16:47:...|12 |-- 18|16 |-- 18|    1900-09-09|     1900-09-09|      CONCLUSO|CRIMES DE VIOLENC...|       ABRIL|    ABRIL|        2022|    2022|              AMEACA|              AMEACA|                NULL|                NULL|            NULL|    NULL|     NULL|               CIUME|CRIMES CONTRA A M...|                NULL|     NULL|     SEM INSTRUMENTO|CACHOEIRA DO ARARI|CACHOEIRA DO ARARI|MARAJO ORIENTAL|          PETROPOLIS|       REGIAO MARAJO|05ª RISP|NULL|QUINZE DE AGOSTO,...|   NULL| NULL|           NULL|                NULL|         VIA PUBLICA|              AMEACA|     VITIMA|1998-06-15 00:00:00|     23.0|ADULTO I (18 A 24...|       F| PREJUDICADO|                NULL|         NULL|                NULL|            NULL|               NULL|  66666.0|  PREJUDICADO|       P|                  NULL|  PREJUDICADO|         NULL|         NULL|           NULL|         NULL|          NULL|       NULL|           NULL|               NULL|      0.0|     NULL|         NULL|\n",
      "|   2022-03-16|1970-01-01 18:27:...|2022-03-16 00:00:00|       QUA|1970-01-01 18:27:...|18 |-- 24|18 |-- 20|    1900-09-09|     1900-09-09|      CONCLUSO|CRIMES DE VIOLENC...|       MARCO|    MARCO|        2022|    2022|              AMEACA|VIOLENCIA PSICOLO...|VIOLENCIA PSICOLO...| VIOLENCIA DOMESTICA|          AMEACA|    NULL|     NULL|               CIUME|CRIMES CONTRA A M...|                NULL|     NULL|     SEM INSTRUMENTO|CACHOEIRA DO ARARI|CACHOEIRA DO ARARI|MARAJO ORIENTAL|           AEROPORTO|       REGIAO MARAJO|05ª RISP|NULL|           NOVA, RUA|   NULL| NULL|           NULL|                NULL|RESIDENCIA PARTIC...|AMEACA VIOLENCIA ...|     VITIMA|1988-12-01 00:00:00|     33.0|ADULTO III (30 A ...|       F| PREJUDICADO|         PREJUDICADO|  PREJUDICADO|         PREJUDICADO|     PREJUDICADO|1900-06-06 00:00:00|  66666.0|  PREJUDICADO|       M|     EX-COMPANHEIRO(A)|  PREJUDICADO|  PREJUDICADO|  PREJUDICADO|    PREJUDICADO|  PREJUDICADO|          NULL|       NULL|           NULL|               NULL|      1.0|     NULL|         NULL|\n",
      "|   2021-02-15|1970-01-01 09:36:...|2021-02-14 00:00:00|       DOM|1970-01-01 22:00:...|18 |-- 24|22 |-- 24|    1900-09-09|     1900-09-09|          NULL|CRIMES DE VIOLENC...|   FEVEREIRO|FEVEREIRO|        2021|    2021|      LESAO CORPORAL|      LESAO CORPORAL|      LESAO CORPORAL| VIOLENCIA DOMESTICA|VIOLENCIA FISICA|    NULL|     NULL|ALCOOLISMO / EMBR...|CRIMES CONTRA A M...|                NULL|     NULL|        OUTROS MEIOS|        SALVATERRA|        SALVATERRA|MARAJO ORIENTAL|ZONA RURAL DE SAL...|       REGIAO MARAJO|05ª RISP|NULL|     VILA DO ROSARIO|   NULL| NULL|           NULL|                NULL|RESIDENCIA PARTIC...|     AGRESSAO FISICA|     VITIMA|1993-12-28 00:00:00|     27.0|ADULTO II (25 A 2...|       F| PREJUDICADO|       NAO INFORMADO|NAO INFORMADO|                NULL|   NAO INFORMADO|1900-09-09 00:00:00|  66666.0|  PREJUDICADO|       M|        COMPANHEIRO(A)|NAO INFORMADO|NAO INFORMADO|NAO INFORMADO|  NAO INFORMADO|NAO INFORMADO|          A PE|       NULL|           NULL|               NULL|      1.0|     NULL|         NULL|\n",
      "|   2019-06-18|1970-01-01 17:05:...|2019-06-16 00:00:00|       DOM|1970-01-01 15:05:...|12 |-- 18|14 |-- 16|    1900-09-09|     1900-09-09|NAO INSTAURADO|CRIMES DE VIOLENC...|       JUNHO|    JUNHO|        2019|    2019|              AMEACA|              AMEACA|                NULL|                NULL|            NULL|    NULL|     NULL|              OUTRAS|CRIMES CONTRA A M...|                NULL|     NULL|        OUTROS MEIOS|        SALVATERRA|        SALVATERRA|MARAJO ORIENTAL|ZONA RURAL DE SAL...|       REGIAO MARAJO|05ª RISP|NULL|    VILA BACURIZINHO|   NULL| NULL|           NULL|PROXIMO AO BAR MA...|RESIDENCIA PARTIC...|AMEACA - CLISLEY ...|     VITIMA|2006-05-24 00:00:00|     13.0|ADOLESCENTE (12 A...|       F| PREJUDICADO|                NULL|         NULL|                NULL|            NULL|1900-09-09 00:00:00|  99999.0|NAO INFORMADO|       P|                  NULL|         NULL|         NULL|         NULL|           NULL|         NULL|          NULL|       NULL|           NULL|               NULL|     NULL|     NULL|         NULL|\n",
      "|   2021-09-24|1970-01-01 14:46:...|2021-09-24 00:00:00|       SEX|1970-01-01 14:46:...|12 |-- 18|14 |-- 16|    1900-09-09|     1900-09-09|      CONCLUSO|CRIMES DE VIOLENC...|    SETEMBRO| SETEMBRO|        2021|    2021|              AMEACA|              AMEACA|                NULL|                NULL|     PREJUDICADO|    NULL|     NULL|              OUTRAS|CRIMES CONTRA A M...|                NULL|     NULL|        OUTROS MEIOS|        SALVATERRA|        SALVATERRA|MARAJO ORIENTAL|ZONA RURAL DE SAL...|       REGIAO MARAJO|05ª RISP|NULL|  VILA SANTO ANTONIO|   NULL| NULL|           NULL|                NULL|RESIDENCIA PARTIC...|SOLICITACAO DE ME...|     VITIMA|1990-08-23 00:00:00|     31.0|ADULTO III (30 A ...|       F| PREJUDICADO|                NULL|         NULL|                NULL|     SOLTEIRO(A)|               NULL|     NULL|  PREJUDICADO|       P|                  NULL|         NULL|         NULL|         NULL|           NULL|         NULL|          NULL|       NULL|           NULL|               NULL|      0.0|     NULL|         NULL|\n",
      "|   2019-06-14|1970-01-01 09:39:...|2019-06-05 00:00:00|       QUA|1970-01-01 11:00:...|06 |-- 12|10 |-- 12|    1900-09-09|     1900-09-09|NAO INSTAURADO|CRIMES DE VIOLENC...|       JUNHO|    JUNHO|        2019|    2019|              AMEACA|              AMEACA|                NULL|                NULL|            NULL|    NULL|     NULL|ALCOOLISMO / EMBR...|CRIMES CONTRA A M...|                NULL|     NULL|ARMA PERFURO CORT...|CACHOEIRA DO ARARI|CACHOEIRA DO ARARI|MARAJO ORIENTAL|ZONA RURAL DE CAC...|       REGIAO MARAJO|05ª RISP|NULL|      PRINCIPAL, RUA|   NULL| NULL|           NULL|        NA BEIRA RIO|RESIDENCIA PARTIC...|AMEACA MARIA DA P...|     VITIMA|1997-10-24 00:00:00|     21.0|ADULTO I (18 A 24...|       F| PREJUDICADO|                NULL|         NULL|                NULL|            NULL|1900-09-09 00:00:00|  99999.0|NAO INFORMADO|       P|                  NULL|         NULL|         NULL|         NULL|           NULL|         NULL|          NULL|       NULL|           NULL|               NULL|     NULL|     NULL|         NULL|\n",
      "|   2021-07-18|1970-01-01 13:57:...|2021-07-18 00:00:00|       DOM|1970-01-01 13:57:...|12 |-- 18|12 |-- 14|    1900-09-09|     1900-09-09|      CONCLUSO|CRIMES DE VIOLENC...|       JULHO|    JULHO|        2021|    2021|             INJURIA|             INJURIA|                NULL|                NULL|     PREJUDICADO|    NULL|     NULL|               CIUME|CRIMES CONTRA A M...|                NULL|     NULL|        OUTROS MEIOS|        SALVATERRA|        SALVATERRA|MARAJO ORIENTAL|ZONA RURAL DE SAL...|       REGIAO MARAJO|05ª RISP|NULL|       VILA DO JUBIM|   NULL| NULL|           NULL|                NULL|RESIDENCIA PARTIC...|INJURIA EM CONTEX...|     VITIMA|1983-05-27 00:00:00|     38.0|ADULTO IV (35 A 6...|       F| PREJUDICADO|                NULL|         NULL|                NULL|            NULL|               NULL|     NULL|  PREJUDICADO|       P|                  NULL|         NULL|         NULL|         NULL|           NULL|         NULL|          NULL|       NULL|           NULL|               NULL|      0.0|     NULL|         NULL|\n",
      "|   2021-02-25|1970-01-01 16:29:...|2021-02-25 00:00:00|       QUI|1970-01-01 13:00:...|12 |-- 18|12 |-- 14|    1900-09-09|     1900-09-09|          NULL|CRIMES DE VIOLENC...|   FEVEREIRO|FEVEREIRO|        2021|    2021|              AMEACA|              AMEACA|                NULL|                NULL|     PREJUDICADO|    NULL|     NULL|               CIUME|CRIMES CONTRA A M...|                NULL|     NULL|        OUTROS MEIOS|        SALVATERRA|        SALVATERRA|MARAJO ORIENTAL|ZONA RURAL DE SAL...|       REGIAO MARAJO|05ª RISP|NULL|          VILA CEARA|   NULL| NULL|           NULL|                NULL|         VIA PUBLICA|              AMEACA|     VITIMA|1979-11-08 00:00:00|     41.0|ADULTO IV (35 A 6...|       F| PREJUDICADO|                NULL|         NULL|                NULL|            NULL|               NULL|     NULL|  PREJUDICADO|       P|                  NULL|         NULL|         NULL|         NULL|           NULL|         NULL|          NULL|       NULL|           NULL|               NULL|      0.0|     NULL|         NULL|\n",
      "|   2020-12-15|1970-01-01 09:13:...|2020-12-14 00:00:00|       SEG|1970-01-01 02:00:...|00 |-- 06|02 |-- 04|    1900-09-09|     1900-09-09|          NULL|CRIMES DE VIOLENC...|    DEZEMBRO| DEZEMBRO|        2020|    2020|      LESAO CORPORAL|      LESAO CORPORAL|      LESAO CORPORAL| VIOLENCIA DOMESTICA|VIOLENCIA FISICA|    NULL|     NULL|    ODIO OU VINGANCA|CRIMES CONTRA A M...|                NULL|     NULL|        OUTROS MEIOS|        SALVATERRA|        SALVATERRA|MARAJO ORIENTAL|ZONA RURAL DE SAL...|       REGIAO MARAJO|05ª RISP|NULL|      VILA CALDEIRAO|   NULL| NULL|           NULL|                NULL|RESIDENCIA PARTIC...|            AGRESSAO|     VITIMA|1995-07-02 00:00:00|     25.0|ADULTO II (25 A 2...|       F|        NULL|                NULL|         NULL|                NULL|            NULL|               NULL|     NULL|         NULL|       M|     EX-COMPANHEIRO(A)|         NULL|         NULL|         NULL|           NULL|         NULL|          A PE|       NULL|           NULL|               NULL|      1.0|     NULL|         NULL|\n",
      "|   2019-11-10|1970-01-01 09:34:...|2019-11-10 00:00:00|       DOM|1970-01-01 08:00:...|06 |-- 12|08 |-- 10|    1900-09-09|     1900-09-09|NAO INSTAURADO|CRIMES DE VIOLENC...|    NOVEMBRO| NOVEMBRO|        2019|    2019|      LESAO CORPORAL|      LESAO CORPORAL|                NULL|                NULL|            NULL|    NULL|     NULL|    ODIO OU VINGANCA|CRIMES CONTRA A M...|                NULL|     NULL|        OUTROS MEIOS|        SALVATERRA|        SALVATERRA|MARAJO ORIENTAL|   ESTRADA DE JOANES|       REGIAO MARAJO|05ª RISP|NULL|            AGUA BOA|   NULL| NULL|           NULL|                NULL|RESIDENCIA PARTIC...|LESAO CORPORAL EM...|     VITIMA|1986-03-29 00:00:00|     33.0|ADULTO III (30 A ...|       F|        NULL|                NULL|         NULL|                NULL|            NULL|1900-09-09 00:00:00|  99999.0|NAO INFORMADO|       P|                  NULL|         NULL|         NULL|         NULL|           NULL|         NULL|          NULL|       NULL|           NULL|               NULL|     NULL|     NULL|         NULL|\n",
      "|   2019-08-06|1970-01-01 10:54:...|2019-08-05 00:00:00|       SEG|1970-01-01 20:00:...|18 |-- 24|20 |-- 22|    1900-09-09|     1900-09-09|NAO INSTAURADO|CRIMES DE VIOLENC...|      AGOSTO|   AGOSTO|        2019|    2019|      LESAO CORPORAL|      LESAO CORPORAL|                NULL|                NULL|            NULL|    NULL|     NULL|    ODIO OU VINGANCA|CRIMES CONTRA A M...|                NULL|     NULL|        OUTROS MEIOS|        SALVATERRA|        SALVATERRA|MARAJO ORIENTAL|   ESTRADA DE JOANES|       REGIAO MARAJO|05ª RISP|NULL|      VILA DE JOANES|   NULL| NULL|           NULL|                NULL|RESIDENCIA PARTIC...| VIOLENCIA DOMESTICA|     VITIMA|1986-11-05 00:00:00|     32.0|ADULTO III (30 A ...|       F|        NULL|ENSINO FUNDAMENTA...| DONA DE CASA|                NULL|     SOLTEIRO(A)|1900-09-09 00:00:00|  99999.0|NAO INFORMADO|       P|                  NULL|         NULL|         NULL|         NULL|           NULL|         NULL|          NULL|       NULL|           NULL|               NULL|     NULL|     NULL|         NULL|\n",
      "|   2019-12-17|1970-01-01 09:54:...|2019-12-14 00:00:00|       SAB|1970-01-01 11:30:...|06 |-- 12|10 |-- 12|    1900-09-09|     1900-09-09|NAO INSTAURADO|CRIMES DE VIOLENC...|    DEZEMBRO| DEZEMBRO|        2019|    2019|CONSTRANGIMENTO I...|CONSTRANGIMENTO I...|                NULL|                NULL|            NULL|    NULL|     NULL|    ODIO OU VINGANCA|CRIMES CONTRA A M...|                NULL|     NULL|        OUTROS MEIOS|        SALVATERRA|        SALVATERRA|MARAJO ORIENTAL|   ESTRADA DE JOANES|       REGIAO MARAJO|05ª RISP|NULL|      VILA DE JOANES|   NULL| NULL|           NULL|                NULL|RESIDENCIA PARTIC...| VIOLENCIA DOMESTICA|     VITIMA|1974-09-24 00:00:00|     45.0|ADULTO IV (35 A 6...|       F|        NULL|ENSINO MEDIO COMP...|ADMINISTRADOR|                NULL|       CASADO(A)|1900-09-09 00:00:00|  99999.0|NAO INFORMADO|       P|                  NULL|         NULL|         NULL|         NULL|           NULL|         NULL|          NULL|       NULL|           NULL|               NULL|     NULL|     NULL|         NULL|\n",
      "|   2019-12-23|1970-01-01 09:27:...|2019-12-22 00:00:00|       DOM|1970-01-01 18:30:...|18 |-- 24|18 |-- 20|    1900-09-09|     1900-09-09|NAO INSTAURADO|CRIMES DE VIOLENC...|    DEZEMBRO| DEZEMBRO|        2019|    2019|             INJURIA|             INJURIA|                NULL|                NULL|            NULL|    NULL|     NULL|              OUTRAS|CRIMES CONTRA A M...|                NULL|     NULL|        OUTROS MEIOS|        SALVATERRA|        SALVATERRA|MARAJO ORIENTAL|   ESTRADA DE JOANES|       REGIAO MARAJO|05ª RISP|NULL|      VILA DE JOANES|   NULL| NULL|           NULL|                NULL|RESIDENCIA PARTIC...|INJURIA EM CONTEX...|     VITIMA|1989-09-14 00:00:00|     30.0|ADULTO III (30 A ...|       F|        NULL|                NULL|         NULL|                NULL|            NULL|1900-09-09 00:00:00|  99999.0|NAO INFORMADO|       P|                  NULL|         NULL|         NULL|         NULL|           NULL|         NULL|          NULL|       NULL|           NULL|               NULL|     NULL|     NULL|         NULL|\n",
      "|   2019-08-05|1970-01-01 15:56:...|2019-08-05 00:00:00|       SEG|1970-01-01 13:30:...|12 |-- 18|12 |-- 14|    1900-09-09|     1900-09-09|NAO INSTAURADO|CRIMES DE VIOLENC...|      AGOSTO|   AGOSTO|        2019|    2019|              AMEACA|              AMEACA|                NULL|                NULL|            NULL|    NULL|     NULL|ALCOOLISMO / EMBR...|CRIMES CONTRA A M...|                NULL|     NULL|        OUTROS MEIOS|        SALVATERRA|        SALVATERRA|MARAJO ORIENTAL|   ESTRADA DE JOANES|       REGIAO MARAJO|05ª RISP|NULL|      VILA DE JOANES|   NULL| NULL|           NULL|                NULL|RESIDENCIA PARTIC...| VIOLENCIA DOMESTICA|     VITIMA|1986-11-05 00:00:00|     32.0|ADULTO III (30 A ...|       F| PREJUDICADO|ENSINO FUNDAMENTA...| DONA DE CASA|                NULL|     SOLTEIRO(A)|1900-09-09 00:00:00|  99999.0|NAO INFORMADO|       P|                  NULL|         NULL|         NULL|         NULL|           NULL|         NULL|          NULL|       NULL|           NULL|               NULL|     NULL|     NULL|         NULL|\n",
      "|   2019-10-14|1970-01-01 16:03:...|2019-10-14 00:00:00|       SEG|1970-01-01 06:30:...|06 |-- 12|06 |-- 08|    1900-09-09|     1900-09-09|NAO INSTAURADO|CRIMES DE VIOLENC...|     OUTUBRO|  OUTUBRO|        2019|    2019|      LESAO CORPORAL|      LESAO CORPORAL|                NULL|                NULL|            NULL|    NULL|     NULL|          DEVASSIDAO|CRIMES CONTRA A M...|                NULL|     NULL|     SEM INSTRUMENTO|        SALVATERRA|        SALVATERRA|MARAJO ORIENTAL|   ESTRADA DE JOANES|       REGIAO MARAJO|05ª RISP|NULL|          CHICO PACA|   NULL| NULL|           NULL|           984424369|RESIDENCIA PARTIC...|      LESAO CORPORAL|     VITIMA|1967-01-04 00:00:00|     52.0|ADULTO IV (35 A 6...|       F|        NULL|                NULL|         NULL|                NULL|            NULL|1900-09-09 00:00:00|  99999.0|NAO INFORMADO|       P|                  NULL|         NULL|         NULL|         NULL|           NULL|         NULL|          NULL|       NULL|           NULL|               NULL|     NULL|     NULL|         NULL|\n",
      "|   2020-11-15|1970-01-01 11:19:...|2020-11-14 00:00:00|       SAB|1970-01-01 15:55:...|12 |-- 18|14 |-- 16|    2020-11-15|     1900-09-09|          NULL|CRIMES CONTRA A P...|    NOVEMBRO| NOVEMBRO|        2020|    2020|      LESAO CORPORAL|      LESAO CORPORAL|      LESAO CORPORAL| VIOLENCIA DOMESTICA|     CONTUNDENTE|    NULL|     NULL|ALCOOLISMO / EMBR...|CRIMES CONTRA A I...|LESAO CORPORAL SI...|     NULL|        OUTROS MEIOS|      MONTE ALEGRE|      MONTE ALEGRE| BAIXO AMAZONAS|CENTRO DE MONTE A...|REGIAO BAIXO AMAZ...|12ª RISP|NULL|       RUA PRINCIPAL|   NULL| NULL|           NULL|                NULL|RESIDENCIA PARTIC...|VIOL DOMESTICA- L...|     VITIMA|1976-12-23 00:00:00|     43.0|ADULTO IV (35 A 6...|       F|        NULL|    NAO ALFABETIZADO|    DOMESTICA|                NULL|   UNIAO ESTAVEL|               NULL|     NULL|         NULL|       M|        COMPANHEIRO(A)|         NULL|         NULL|         NULL|           NULL|         NULL|          A PE|       NULL|           NULL|               NULL|      1.0|     NULL|          SIM|\n",
      "|   2021-07-26| 1970-01-01 18:23:00|2021-07-26 00:00:00|       SEG| 1970-01-01 18:23:00|18 |-- 24|18 |-- 20|    1900-09-09|     1900-09-09|      CONCLUSO|CRIMES DE VIOLENC...|       JULHO|    JULHO|        2021|    2021|              AMEACA|              AMEACA|                NULL|                NULL|     PREJUDICADO|    NULL|     NULL|               CIUME|CRIMES CONTRA A M...|                NULL|     NULL|     SEM INSTRUMENTO|CACHOEIRA DO ARARI|CACHOEIRA DO ARARI|MARAJO ORIENTAL|ZONA RURAL DE CAC...|       REGIAO MARAJO|05ª RISP|NULL|      PRINCIPAL, RUA|   NULL| NULL|           NULL|    VILA DO UMARIZAL|RESIDENCIA PARTIC...|              AMEACA|     VITIMA|1982-01-11 00:00:00|     39.0|ADULTO IV (35 A 6...|       F| PREJUDICADO|                NULL|         NULL|                NULL|            NULL|1900-09-09 00:00:00|     NULL|  PREJUDICADO|       P|                  NULL|         NULL|         NULL|         NULL|           NULL|         NULL|          NULL|       NULL|           NULL|               NULL|      0.0|     NULL|         NULL|\n",
      "|   2018-01-31| 1970-01-01 15:36:00|2018-01-30 00:00:00|       TER| 1970-01-01 07:30:00|06 |-- 12|06 |-- 08|    2018-02-01|     2018-04-12|      CONCLUSO|CRIMES DE VIOLENC...|     JANEIRO|  JANEIRO|        2018|    2018|        VIAS DE FATO|        VIAS DE FATO|                NULL|VIOLENCIA DOMESTI...|   NAO INFORMADO|    NULL|     NULL|              OUTRAS|CRIMES CONTRA A M...|                NULL|     NULL|     SEM INSTRUMENTO|         BARCARENA|         BARCARENA|      TOCANTINS|           BARCARENA|    REGIAO TOCANTINS|04ª RISP|NULL|       RUA PRINCIPAL|   NULL| NULL|           NULL|PROXIMO AO RAMAL ...|RESIDENCIA PARTIC...|VIAS DE FATO E I ...|VITIMA SIAC|1986-08-14 00:00:00|     31.0|ADULTO III (30 A ...|       F| PREJUDICADO|       NAO INFORMADO|NAO INFORMADO|       NAO INFORMADO|   NAO INFORMADO|1900-09-09 00:00:00|  99999.0|NAO INFORMADO|       P|                  NULL|NAO INFORMADO|         NULL|         NULL|           NULL|         NULL|          NULL|       NULL|           NULL|               NULL|  99999.0|     NULL|         NULL|\n",
      "|   2018-08-31| 1970-01-01 08:48:00|2018-08-30 00:00:00|       QUI| 1970-01-01 21:29:00|18 |-- 24|20 |-- 22|    2018-09-13|     2018-10-10|      CONCLUSO|CRIMES DE VIOLENC...|      AGOSTO|   AGOSTO|        2018|    2018|      LESAO CORPORAL|      LESAO CORPORAL|                NULL|VIOLENCIA DOMESTI...|   NAO INFORMADO|    NULL|     NULL|    ODIO OU VINGANCA|CRIMES CONTRA A M...|                NULL|     NULL|     SEM INSTRUMENTO|         BARCARENA|         BARCARENA|      TOCANTINS|           BARCARENA|    REGIAO TOCANTINS|04ª RISP|NULL|       RUA PRINCIPAL|   NULL| NULL|           NULL|PROXIMO AO CAMPO ...|RESIDENCIA PARTIC...|LESAO CORPORAL E ...|VITIMA SIAC|1981-01-21 00:00:00|     37.0|ADULTO IV (35 A 6...|       F| PREJUDICADO|       NAO INFORMADO|NAO INFORMADO|       NAO INFORMADO|   NAO INFORMADO|1900-09-09 00:00:00|  99999.0|NAO INFORMADO|       P|                  NULL|NAO INFORMADO|         NULL|         NULL|           NULL|         NULL|          NULL|       NULL|           NULL|               NULL|  99999.0|     NULL|         NULL|\n",
      "|   2019-07-10| 1970-01-01 15:27:00|2019-07-03 00:00:00|       QUA| 1970-01-01 18:30:00|18 |-- 24|18 |-- 20|    1900-09-09|     1900-09-09|NAO INSTAURADO|CRIMES DE VIOLENC...|       JULHO|    JULHO|        2019|    2019|             INJURIA|             INJURIA|                NULL|                NULL|            NULL|    NULL|     NULL|IMPERICIA / IMPRU...|CRIMES CONTRA A M...|                NULL|     NULL|     SEM INSTRUMENTO|          ALENQUER|          ALENQUER| BAIXO AMAZONAS|       INDEPENDENCIA|REGIAO BAIXO AMAZ...|12ª RISP|NULL|      PRAIA, ESTRADA|   NULL| NULL|           NULL|                NULL|RESIDENCIA PARTIC...|     INJURIA - (ALQ)|     VITIMA|2001-01-30 00:00:00|     18.0|ADULTO I (18 A 24...|       F|        NULL|                NULL|         NULL|                NULL|            NULL|1900-09-09 00:00:00|  99999.0|NAO INFORMADO|       P|                  NULL|         NULL|         NULL|         NULL|           NULL|         NULL|          NULL|       NULL|           NULL|               NULL|     NULL|     NULL|         NULL|\n",
      "+-------------+--------------------+-------------------+----------+--------------------+---------+---------+--------------+---------------+--------------+--------------------+------------+---------+------------+--------+--------------------+--------------------+--------------------+--------------------+----------------+--------+---------+--------------------+--------------------+--------------------+---------+--------------------+------------------+------------------+---------------+--------------------+--------------------+--------+----+--------------------+-------+-----+---------------+--------------------+--------------------+--------------------+-----------+-------------------+---------+--------------------+--------+------------+--------------------+-------------+--------------------+----------------+-------------------+---------+-------------+--------+----------------------+-------------+-------------+-------------+---------------+-------------+--------------+-----------+---------------+-------------------+---------+---------+-------------+\n",
      "only showing top 20 rows\n",
      "\n"
     ]
    },
    {
     "name": "stderr",
     "output_type": "stream",
     "text": [
      "                                                                                \r"
     ]
    }
   ],
   "source": [
    "# Selecionando a base de VCM com base na variavel 'especializacao_fato', utilizando como filtro as palavras chave\n",
    "palavras_chave = [\"mulher\", \"feminicídio\", \"penha\", \"femicidio\", \"feminicidio\", \"femicídio\"]\n",
    "\n",
    "raw_VCM = dados_filtro_ano_registro.filter(lower(col(\"especializacao_fato\")).like(\"%\" + palavras_chave[0] + \"%\")\n",
    "                                   | lower(col(\"especializacao_fato\")).like(\"%\" + palavras_chave[1] + \"%\")\n",
    "                                   | lower(col(\"especializacao_fato\")).like(\"%\" + palavras_chave[2] + \"%\")\n",
    "                                   | lower(col(\"especializacao_fato\")).like(\"%\" + palavras_chave[3] + \"%\"))\n",
    "\n",
    "# Exibindo o dataset VCM\n",
    "raw_VCM.show()"
   ]
  },
  {
   "cell_type": "code",
   "execution_count": 18,
   "metadata": {},
   "outputs": [
    {
     "name": "stderr",
     "output_type": "stream",
     "text": [
      "[Stage 29:>                                                         (0 + 4) / 4]\r"
     ]
    },
    {
     "name": "stderr",
     "output_type": "stream",
     "text": [
      "[Stage 29:==============>                                           (1 + 3) / 4]\r"
     ]
    },
    {
     "name": "stdout",
     "output_type": "stream",
     "text": [
      "Ao final, foram mantidos 6896 registros. Ou seja, foram removidos 87525 registros que não se encaixaram nos critérios definidos.\n"
     ]
    },
    {
     "name": "stderr",
     "output_type": "stream",
     "text": [
      "                                                                                \r"
     ]
    }
   ],
   "source": [
    "n_vcm = raw_VCM.count()\n",
    "print(f'Ao final, foram mantidos {n_vcm} registros. Ou seja, foram removidos {n_registros_apos_2018 - n_vcm} registros que não se encaixaram nos critérios definidos.')"
   ]
  },
  {
   "cell_type": "code",
   "execution_count": 19,
   "metadata": {},
   "outputs": [
    {
     "name": "stderr",
     "output_type": "stream",
     "text": [
      "[Stage 32:===========================================>              (3 + 1) / 4]\r"
     ]
    },
    {
     "name": "stdout",
     "output_type": "stream",
     "text": [
      "+--------------------+-----+\n",
      "| especializacao_fato|count|\n",
      "+--------------------+-----+\n",
      "|CRIMES CONTRA A I...| 2544|\n",
      "|CRIMES CONTRA A M...| 4347|\n",
      "|VIOLENCIA DOMESTI...|    5|\n",
      "+--------------------+-----+\n",
      "\n"
     ]
    },
    {
     "name": "stderr",
     "output_type": "stream",
     "text": [
      "                                                                                \r"
     ]
    }
   ],
   "source": [
    "# Contagem dos valores distintos na coluna 'especializacao_fato'\n",
    "raw_VCM.groupBy(\"especializacao_fato\").count().orderBy(\"especializacao_fato\").show()"
   ]
  },
  {
   "cell_type": "markdown",
   "metadata": {},
   "source": [
    "### Tratamentos\n",
    "\n",
    "#### Removação de atributos não relevantes para as análises"
   ]
  },
  {
   "cell_type": "code",
   "execution_count": 20,
   "metadata": {},
   "outputs": [],
   "source": [
    "# Remoção de colunas desnecessárias\n",
    "colunas_para_remover = [\"data_inst_proc\", # Data de instauração do processo investigativo\n",
    "\t\t\t\t\t\t\"data_concl_proc\", # Data de conclusão do processo investigativo\n",
    "\t\t\t\t\t\t\"sit_proc\", # Situação do processo investigativo\n",
    "\t\t\t\t\t\t\"grupo_ocorrencia\", # Agrupamento (categorização) das ocorrências\n",
    "\t\t\t\t\t\t\"sub_grupo\", # Sub-agrupamento (categorização) das ocorrências\n",
    "\t\t\t\t\t\t\"reg_integracao\", # Regional de integração\n",
    "\t\t\t\t\t\t\"risp\", # RISP\n",
    "\t\t\t\t\t\t\"aisp\", # AISP\n",
    "\t\t\t\t\t\t\"rua_fato\", # Logradouro no qual aconteceu o fato\n",
    "\t\t\t\t\t\t\"empresa\", # Empresa de transporte relacionada ao fato\n",
    "\t\t\t\t\t\t\"linha\", # Linha de transporte relacionada ao fato\n",
    "\t\t\t\t\t\t\"tipo_transporte\", # Tipo de transporte relacionada ao fato\n",
    "\t\t\t\t\t\t\"complemento\", # Complemento do endereço\n",
    "\t\t\t\t\t\t\"atuacao\", # Atuação - Todos os valores constam como 'VITIMA'\n",
    "\t\t\t\t\t\t\"meio_locomocao\", # Meio de locomoção do autor\n",
    "\t\t\t\t\t\t\"cor_veiculo\", # Cor do veículo do autor\n",
    "\t\t\t\t\t\t\"marca_veic_fuga\", # Marca do veículo do autor\n",
    "\t\t\t\t\t\t\"modelo_do_veic_fuga\", # Modelo do veículo do autor\n",
    "\t\t\t\t\t\t\"relatorio\", # Relatório\n",
    "\t\t\t\t\t\t\"qtd_autor\", # Quantidade de autores relacionados à ocorrência\n",
    "\t\t\t\t\t\t\"ident_autoria\" # Se a identidade do autor é conhecida\n",
    "\t\t\t\t\t\t]\n",
    "\n",
    "raw_VCM = raw_VCM.drop(*colunas_para_remover)"
   ]
  },
  {
   "cell_type": "code",
   "execution_count": 21,
   "metadata": {},
   "outputs": [
    {
     "name": "stderr",
     "output_type": "stream",
     "text": [
      "[Stage 35:===========================================>              (3 + 1) / 4]\r"
     ]
    },
    {
     "name": "stdout",
     "output_type": "stream",
     "text": [
      "O conjunto de dados possui 6896 registros e 47 variáveis.\n"
     ]
    },
    {
     "name": "stderr",
     "output_type": "stream",
     "text": [
      "                                                                                \r"
     ]
    }
   ],
   "source": [
    "# Contagem do número de variáveis\n",
    "v_raw_vcm = len(raw_VCM.columns)\n",
    "# Contagem do número de registros\n",
    "n_raw_vcm = raw_VCM.count()\n",
    "\n",
    "print(f'O conjunto de dados possui {n_raw_vcm} registros e {v_raw_vcm} variáveis.')"
   ]
  },
  {
   "cell_type": "code",
   "execution_count": 22,
   "metadata": {},
   "outputs": [
    {
     "name": "stdout",
     "output_type": "stream",
     "text": [
      "root\n",
      " |-- data_registro: string (nullable = true)\n",
      " |-- hora_registro: string (nullable = true)\n",
      " |-- data_fato: timestamp (nullable = true)\n",
      " |-- dia_semana: string (nullable = true)\n",
      " |-- hora_fato: string (nullable = true)\n",
      " |-- fx_4_hor: string (nullable = true)\n",
      " |-- fx_12_hr: string (nullable = true)\n",
      " |-- classe_motivo: string (nullable = true)\n",
      " |-- mes_registro: string (nullable = true)\n",
      " |-- mes_fato: string (nullable = true)\n",
      " |-- ano_registro: string (nullable = true)\n",
      " |-- ano_fato: string (nullable = true)\n",
      " |-- registros: string (nullable = true)\n",
      " |-- consolidado: string (nullable = true)\n",
      " |-- fato_real: string (nullable = true)\n",
      " |-- especificacao_crime: string (nullable = true)\n",
      " |-- meio_emp_deac: string (nullable = true)\n",
      " |-- latitude: string (nullable = true)\n",
      " |-- longitude: string (nullable = true)\n",
      " |-- causa_presumivel: string (nullable = true)\n",
      " |-- especializacao_fato: string (nullable = true)\n",
      " |-- meio_empregado_sisp: string (nullable = true)\n",
      " |-- distrito: string (nullable = true)\n",
      " |-- municipios: string (nullable = true)\n",
      " |-- regionais: string (nullable = true)\n",
      " |-- bairros: string (nullable = true)\n",
      " |-- local_ocorrencia: string (nullable = true)\n",
      " |-- identificacao_fato: string (nullable = true)\n",
      " |-- vit_dt_nasc: timestamp (nullable = true)\n",
      " |-- vit_idade: double (nullable = true)\n",
      " |-- vit_fx_etaria: string (nullable = true)\n",
      " |-- vit_sexo: string (nullable = true)\n",
      " |-- vit_cor_pele: string (nullable = true)\n",
      " |-- vit_grau_inst: string (nullable = true)\n",
      " |-- vit_profissao: string (nullable = true)\n",
      " |-- vit_situacao_emprego: string (nullable = true)\n",
      " |-- vit_estado_civil: string (nullable = true)\n",
      " |-- aut_data_nasc: timestamp (nullable = true)\n",
      " |-- aut_idade: double (nullable = true)\n",
      " |-- aut_fx_etaria: string (nullable = true)\n",
      " |-- aut_sexo: string (nullable = true)\n",
      " |-- grau_de_relacionamento: string (nullable = true)\n",
      " |-- aut_cor_pele: string (nullable = true)\n",
      " |-- aut_grau_inst: string (nullable = true)\n",
      " |-- aut_profissao: string (nullable = true)\n",
      " |-- aut_sit_emprego: string (nullable = true)\n",
      " |-- aut_est_civil: string (nullable = true)\n",
      "\n"
     ]
    }
   ],
   "source": [
    "# Descrição do tipo dos dados\n",
    "raw_VCM.printSchema()"
   ]
  },
  {
   "cell_type": "code",
   "execution_count": 23,
   "metadata": {},
   "outputs": [
    {
     "name": "stderr",
     "output_type": "stream",
     "text": [
      "[Stage 38:>                                                         (0 + 1) / 1]\r"
     ]
    },
    {
     "name": "stdout",
     "output_type": "stream",
     "text": [
      "+-------------+--------------------+-------------------+----------+--------------------+---------+---------+--------------------+------------+---------+------------+--------+--------------------+--------------------+--------------------+--------------------+----------------+--------+---------+--------------------+--------------------+--------------------+------------------+------------------+---------------+--------------------+--------------------+--------------------+-------------------+---------+--------------------+--------+------------+--------------------+-------------+--------------------+----------------+-------------------+---------+-------------+--------+----------------------+-------------+-------------+-------------+---------------+-------------+\n",
      "|data_registro|       hora_registro|          data_fato|dia_semana|           hora_fato| fx_4_hor| fx_12_hr|       classe_motivo|mes_registro| mes_fato|ano_registro|ano_fato|           registros|         consolidado|           fato_real| especificacao_crime|   meio_emp_deac|latitude|longitude|    causa_presumivel| especializacao_fato| meio_empregado_sisp|          distrito|        municipios|      regionais|             bairros|    local_ocorrencia|  identificacao_fato|        vit_dt_nasc|vit_idade|       vit_fx_etaria|vit_sexo|vit_cor_pele|       vit_grau_inst|vit_profissao|vit_situacao_emprego|vit_estado_civil|      aut_data_nasc|aut_idade|aut_fx_etaria|aut_sexo|grau_de_relacionamento| aut_cor_pele|aut_grau_inst|aut_profissao|aut_sit_emprego|aut_est_civil|\n",
      "+-------------+--------------------+-------------------+----------+--------------------+---------+---------+--------------------+------------+---------+------------+--------+--------------------+--------------------+--------------------+--------------------+----------------+--------+---------+--------------------+--------------------+--------------------+------------------+------------------+---------------+--------------------+--------------------+--------------------+-------------------+---------+--------------------+--------+------------+--------------------+-------------+--------------------+----------------+-------------------+---------+-------------+--------+----------------------+-------------+-------------+-------------+---------------+-------------+\n",
      "|   2022-04-07|1970-01-01 16:47:...|2022-04-07 00:00:00|       QUI|1970-01-01 16:47:...|12 |-- 18|16 |-- 18|CRIMES DE VIOLENC...|       ABRIL|    ABRIL|        2022|    2022|              AMEACA|              AMEACA|                NULL|                NULL|            NULL|    NULL|     NULL|               CIUME|CRIMES CONTRA A M...|     SEM INSTRUMENTO|CACHOEIRA DO ARARI|CACHOEIRA DO ARARI|MARAJO ORIENTAL|          PETROPOLIS|         VIA PUBLICA|              AMEACA|1998-06-15 00:00:00|     23.0|ADULTO I (18 A 24...|       F| PREJUDICADO|                NULL|         NULL|                NULL|            NULL|               NULL|  66666.0|  PREJUDICADO|       P|                  NULL|  PREJUDICADO|         NULL|         NULL|           NULL|         NULL|\n",
      "|   2022-03-16|1970-01-01 18:27:...|2022-03-16 00:00:00|       QUA|1970-01-01 18:27:...|18 |-- 24|18 |-- 20|CRIMES DE VIOLENC...|       MARCO|    MARCO|        2022|    2022|              AMEACA|VIOLENCIA PSICOLO...|VIOLENCIA PSICOLO...| VIOLENCIA DOMESTICA|          AMEACA|    NULL|     NULL|               CIUME|CRIMES CONTRA A M...|     SEM INSTRUMENTO|CACHOEIRA DO ARARI|CACHOEIRA DO ARARI|MARAJO ORIENTAL|           AEROPORTO|RESIDENCIA PARTIC...|AMEACA VIOLENCIA ...|1988-12-01 00:00:00|     33.0|ADULTO III (30 A ...|       F| PREJUDICADO|         PREJUDICADO|  PREJUDICADO|         PREJUDICADO|     PREJUDICADO|1900-06-06 00:00:00|  66666.0|  PREJUDICADO|       M|     EX-COMPANHEIRO(A)|  PREJUDICADO|  PREJUDICADO|  PREJUDICADO|    PREJUDICADO|  PREJUDICADO|\n",
      "|   2021-02-15|1970-01-01 09:36:...|2021-02-14 00:00:00|       DOM|1970-01-01 22:00:...|18 |-- 24|22 |-- 24|CRIMES DE VIOLENC...|   FEVEREIRO|FEVEREIRO|        2021|    2021|      LESAO CORPORAL|      LESAO CORPORAL|      LESAO CORPORAL| VIOLENCIA DOMESTICA|VIOLENCIA FISICA|    NULL|     NULL|ALCOOLISMO / EMBR...|CRIMES CONTRA A M...|        OUTROS MEIOS|        SALVATERRA|        SALVATERRA|MARAJO ORIENTAL|ZONA RURAL DE SAL...|RESIDENCIA PARTIC...|     AGRESSAO FISICA|1993-12-28 00:00:00|     27.0|ADULTO II (25 A 2...|       F| PREJUDICADO|       NAO INFORMADO|NAO INFORMADO|                NULL|   NAO INFORMADO|1900-09-09 00:00:00|  66666.0|  PREJUDICADO|       M|        COMPANHEIRO(A)|NAO INFORMADO|NAO INFORMADO|NAO INFORMADO|  NAO INFORMADO|NAO INFORMADO|\n",
      "|   2019-06-18|1970-01-01 17:05:...|2019-06-16 00:00:00|       DOM|1970-01-01 15:05:...|12 |-- 18|14 |-- 16|CRIMES DE VIOLENC...|       JUNHO|    JUNHO|        2019|    2019|              AMEACA|              AMEACA|                NULL|                NULL|            NULL|    NULL|     NULL|              OUTRAS|CRIMES CONTRA A M...|        OUTROS MEIOS|        SALVATERRA|        SALVATERRA|MARAJO ORIENTAL|ZONA RURAL DE SAL...|RESIDENCIA PARTIC...|AMEACA - CLISLEY ...|2006-05-24 00:00:00|     13.0|ADOLESCENTE (12 A...|       F| PREJUDICADO|                NULL|         NULL|                NULL|            NULL|1900-09-09 00:00:00|  99999.0|NAO INFORMADO|       P|                  NULL|         NULL|         NULL|         NULL|           NULL|         NULL|\n",
      "|   2021-09-24|1970-01-01 14:46:...|2021-09-24 00:00:00|       SEX|1970-01-01 14:46:...|12 |-- 18|14 |-- 16|CRIMES DE VIOLENC...|    SETEMBRO| SETEMBRO|        2021|    2021|              AMEACA|              AMEACA|                NULL|                NULL|     PREJUDICADO|    NULL|     NULL|              OUTRAS|CRIMES CONTRA A M...|        OUTROS MEIOS|        SALVATERRA|        SALVATERRA|MARAJO ORIENTAL|ZONA RURAL DE SAL...|RESIDENCIA PARTIC...|SOLICITACAO DE ME...|1990-08-23 00:00:00|     31.0|ADULTO III (30 A ...|       F| PREJUDICADO|                NULL|         NULL|                NULL|     SOLTEIRO(A)|               NULL|     NULL|  PREJUDICADO|       P|                  NULL|         NULL|         NULL|         NULL|           NULL|         NULL|\n",
      "|   2019-06-14|1970-01-01 09:39:...|2019-06-05 00:00:00|       QUA|1970-01-01 11:00:...|06 |-- 12|10 |-- 12|CRIMES DE VIOLENC...|       JUNHO|    JUNHO|        2019|    2019|              AMEACA|              AMEACA|                NULL|                NULL|            NULL|    NULL|     NULL|ALCOOLISMO / EMBR...|CRIMES CONTRA A M...|ARMA PERFURO CORT...|CACHOEIRA DO ARARI|CACHOEIRA DO ARARI|MARAJO ORIENTAL|ZONA RURAL DE CAC...|RESIDENCIA PARTIC...|AMEACA MARIA DA P...|1997-10-24 00:00:00|     21.0|ADULTO I (18 A 24...|       F| PREJUDICADO|                NULL|         NULL|                NULL|            NULL|1900-09-09 00:00:00|  99999.0|NAO INFORMADO|       P|                  NULL|         NULL|         NULL|         NULL|           NULL|         NULL|\n",
      "|   2021-07-18|1970-01-01 13:57:...|2021-07-18 00:00:00|       DOM|1970-01-01 13:57:...|12 |-- 18|12 |-- 14|CRIMES DE VIOLENC...|       JULHO|    JULHO|        2021|    2021|             INJURIA|             INJURIA|                NULL|                NULL|     PREJUDICADO|    NULL|     NULL|               CIUME|CRIMES CONTRA A M...|        OUTROS MEIOS|        SALVATERRA|        SALVATERRA|MARAJO ORIENTAL|ZONA RURAL DE SAL...|RESIDENCIA PARTIC...|INJURIA EM CONTEX...|1983-05-27 00:00:00|     38.0|ADULTO IV (35 A 6...|       F| PREJUDICADO|                NULL|         NULL|                NULL|            NULL|               NULL|     NULL|  PREJUDICADO|       P|                  NULL|         NULL|         NULL|         NULL|           NULL|         NULL|\n",
      "|   2021-02-25|1970-01-01 16:29:...|2021-02-25 00:00:00|       QUI|1970-01-01 13:00:...|12 |-- 18|12 |-- 14|CRIMES DE VIOLENC...|   FEVEREIRO|FEVEREIRO|        2021|    2021|              AMEACA|              AMEACA|                NULL|                NULL|     PREJUDICADO|    NULL|     NULL|               CIUME|CRIMES CONTRA A M...|        OUTROS MEIOS|        SALVATERRA|        SALVATERRA|MARAJO ORIENTAL|ZONA RURAL DE SAL...|         VIA PUBLICA|              AMEACA|1979-11-08 00:00:00|     41.0|ADULTO IV (35 A 6...|       F| PREJUDICADO|                NULL|         NULL|                NULL|            NULL|               NULL|     NULL|  PREJUDICADO|       P|                  NULL|         NULL|         NULL|         NULL|           NULL|         NULL|\n",
      "|   2020-12-15|1970-01-01 09:13:...|2020-12-14 00:00:00|       SEG|1970-01-01 02:00:...|00 |-- 06|02 |-- 04|CRIMES DE VIOLENC...|    DEZEMBRO| DEZEMBRO|        2020|    2020|      LESAO CORPORAL|      LESAO CORPORAL|      LESAO CORPORAL| VIOLENCIA DOMESTICA|VIOLENCIA FISICA|    NULL|     NULL|    ODIO OU VINGANCA|CRIMES CONTRA A M...|        OUTROS MEIOS|        SALVATERRA|        SALVATERRA|MARAJO ORIENTAL|ZONA RURAL DE SAL...|RESIDENCIA PARTIC...|            AGRESSAO|1995-07-02 00:00:00|     25.0|ADULTO II (25 A 2...|       F|        NULL|                NULL|         NULL|                NULL|            NULL|               NULL|     NULL|         NULL|       M|     EX-COMPANHEIRO(A)|         NULL|         NULL|         NULL|           NULL|         NULL|\n",
      "|   2019-11-10|1970-01-01 09:34:...|2019-11-10 00:00:00|       DOM|1970-01-01 08:00:...|06 |-- 12|08 |-- 10|CRIMES DE VIOLENC...|    NOVEMBRO| NOVEMBRO|        2019|    2019|      LESAO CORPORAL|      LESAO CORPORAL|                NULL|                NULL|            NULL|    NULL|     NULL|    ODIO OU VINGANCA|CRIMES CONTRA A M...|        OUTROS MEIOS|        SALVATERRA|        SALVATERRA|MARAJO ORIENTAL|   ESTRADA DE JOANES|RESIDENCIA PARTIC...|LESAO CORPORAL EM...|1986-03-29 00:00:00|     33.0|ADULTO III (30 A ...|       F|        NULL|                NULL|         NULL|                NULL|            NULL|1900-09-09 00:00:00|  99999.0|NAO INFORMADO|       P|                  NULL|         NULL|         NULL|         NULL|           NULL|         NULL|\n",
      "|   2019-08-06|1970-01-01 10:54:...|2019-08-05 00:00:00|       SEG|1970-01-01 20:00:...|18 |-- 24|20 |-- 22|CRIMES DE VIOLENC...|      AGOSTO|   AGOSTO|        2019|    2019|      LESAO CORPORAL|      LESAO CORPORAL|                NULL|                NULL|            NULL|    NULL|     NULL|    ODIO OU VINGANCA|CRIMES CONTRA A M...|        OUTROS MEIOS|        SALVATERRA|        SALVATERRA|MARAJO ORIENTAL|   ESTRADA DE JOANES|RESIDENCIA PARTIC...| VIOLENCIA DOMESTICA|1986-11-05 00:00:00|     32.0|ADULTO III (30 A ...|       F|        NULL|ENSINO FUNDAMENTA...| DONA DE CASA|                NULL|     SOLTEIRO(A)|1900-09-09 00:00:00|  99999.0|NAO INFORMADO|       P|                  NULL|         NULL|         NULL|         NULL|           NULL|         NULL|\n",
      "|   2019-12-17|1970-01-01 09:54:...|2019-12-14 00:00:00|       SAB|1970-01-01 11:30:...|06 |-- 12|10 |-- 12|CRIMES DE VIOLENC...|    DEZEMBRO| DEZEMBRO|        2019|    2019|CONSTRANGIMENTO I...|CONSTRANGIMENTO I...|                NULL|                NULL|            NULL|    NULL|     NULL|    ODIO OU VINGANCA|CRIMES CONTRA A M...|        OUTROS MEIOS|        SALVATERRA|        SALVATERRA|MARAJO ORIENTAL|   ESTRADA DE JOANES|RESIDENCIA PARTIC...| VIOLENCIA DOMESTICA|1974-09-24 00:00:00|     45.0|ADULTO IV (35 A 6...|       F|        NULL|ENSINO MEDIO COMP...|ADMINISTRADOR|                NULL|       CASADO(A)|1900-09-09 00:00:00|  99999.0|NAO INFORMADO|       P|                  NULL|         NULL|         NULL|         NULL|           NULL|         NULL|\n",
      "|   2019-12-23|1970-01-01 09:27:...|2019-12-22 00:00:00|       DOM|1970-01-01 18:30:...|18 |-- 24|18 |-- 20|CRIMES DE VIOLENC...|    DEZEMBRO| DEZEMBRO|        2019|    2019|             INJURIA|             INJURIA|                NULL|                NULL|            NULL|    NULL|     NULL|              OUTRAS|CRIMES CONTRA A M...|        OUTROS MEIOS|        SALVATERRA|        SALVATERRA|MARAJO ORIENTAL|   ESTRADA DE JOANES|RESIDENCIA PARTIC...|INJURIA EM CONTEX...|1989-09-14 00:00:00|     30.0|ADULTO III (30 A ...|       F|        NULL|                NULL|         NULL|                NULL|            NULL|1900-09-09 00:00:00|  99999.0|NAO INFORMADO|       P|                  NULL|         NULL|         NULL|         NULL|           NULL|         NULL|\n",
      "|   2019-08-05|1970-01-01 15:56:...|2019-08-05 00:00:00|       SEG|1970-01-01 13:30:...|12 |-- 18|12 |-- 14|CRIMES DE VIOLENC...|      AGOSTO|   AGOSTO|        2019|    2019|              AMEACA|              AMEACA|                NULL|                NULL|            NULL|    NULL|     NULL|ALCOOLISMO / EMBR...|CRIMES CONTRA A M...|        OUTROS MEIOS|        SALVATERRA|        SALVATERRA|MARAJO ORIENTAL|   ESTRADA DE JOANES|RESIDENCIA PARTIC...| VIOLENCIA DOMESTICA|1986-11-05 00:00:00|     32.0|ADULTO III (30 A ...|       F| PREJUDICADO|ENSINO FUNDAMENTA...| DONA DE CASA|                NULL|     SOLTEIRO(A)|1900-09-09 00:00:00|  99999.0|NAO INFORMADO|       P|                  NULL|         NULL|         NULL|         NULL|           NULL|         NULL|\n",
      "|   2019-10-14|1970-01-01 16:03:...|2019-10-14 00:00:00|       SEG|1970-01-01 06:30:...|06 |-- 12|06 |-- 08|CRIMES DE VIOLENC...|     OUTUBRO|  OUTUBRO|        2019|    2019|      LESAO CORPORAL|      LESAO CORPORAL|                NULL|                NULL|            NULL|    NULL|     NULL|          DEVASSIDAO|CRIMES CONTRA A M...|     SEM INSTRUMENTO|        SALVATERRA|        SALVATERRA|MARAJO ORIENTAL|   ESTRADA DE JOANES|RESIDENCIA PARTIC...|      LESAO CORPORAL|1967-01-04 00:00:00|     52.0|ADULTO IV (35 A 6...|       F|        NULL|                NULL|         NULL|                NULL|            NULL|1900-09-09 00:00:00|  99999.0|NAO INFORMADO|       P|                  NULL|         NULL|         NULL|         NULL|           NULL|         NULL|\n",
      "|   2020-11-15|1970-01-01 11:19:...|2020-11-14 00:00:00|       SAB|1970-01-01 15:55:...|12 |-- 18|14 |-- 16|CRIMES CONTRA A P...|    NOVEMBRO| NOVEMBRO|        2020|    2020|      LESAO CORPORAL|      LESAO CORPORAL|      LESAO CORPORAL| VIOLENCIA DOMESTICA|     CONTUNDENTE|    NULL|     NULL|ALCOOLISMO / EMBR...|CRIMES CONTRA A I...|        OUTROS MEIOS|      MONTE ALEGRE|      MONTE ALEGRE| BAIXO AMAZONAS|CENTRO DE MONTE A...|RESIDENCIA PARTIC...|VIOL DOMESTICA- L...|1976-12-23 00:00:00|     43.0|ADULTO IV (35 A 6...|       F|        NULL|    NAO ALFABETIZADO|    DOMESTICA|                NULL|   UNIAO ESTAVEL|               NULL|     NULL|         NULL|       M|        COMPANHEIRO(A)|         NULL|         NULL|         NULL|           NULL|         NULL|\n",
      "|   2021-07-26| 1970-01-01 18:23:00|2021-07-26 00:00:00|       SEG| 1970-01-01 18:23:00|18 |-- 24|18 |-- 20|CRIMES DE VIOLENC...|       JULHO|    JULHO|        2021|    2021|              AMEACA|              AMEACA|                NULL|                NULL|     PREJUDICADO|    NULL|     NULL|               CIUME|CRIMES CONTRA A M...|     SEM INSTRUMENTO|CACHOEIRA DO ARARI|CACHOEIRA DO ARARI|MARAJO ORIENTAL|ZONA RURAL DE CAC...|RESIDENCIA PARTIC...|              AMEACA|1982-01-11 00:00:00|     39.0|ADULTO IV (35 A 6...|       F| PREJUDICADO|                NULL|         NULL|                NULL|            NULL|1900-09-09 00:00:00|     NULL|  PREJUDICADO|       P|                  NULL|         NULL|         NULL|         NULL|           NULL|         NULL|\n",
      "|   2018-01-31| 1970-01-01 15:36:00|2018-01-30 00:00:00|       TER| 1970-01-01 07:30:00|06 |-- 12|06 |-- 08|CRIMES DE VIOLENC...|     JANEIRO|  JANEIRO|        2018|    2018|        VIAS DE FATO|        VIAS DE FATO|                NULL|VIOLENCIA DOMESTI...|   NAO INFORMADO|    NULL|     NULL|              OUTRAS|CRIMES CONTRA A M...|     SEM INSTRUMENTO|         BARCARENA|         BARCARENA|      TOCANTINS|           BARCARENA|RESIDENCIA PARTIC...|VIAS DE FATO E I ...|1986-08-14 00:00:00|     31.0|ADULTO III (30 A ...|       F| PREJUDICADO|       NAO INFORMADO|NAO INFORMADO|       NAO INFORMADO|   NAO INFORMADO|1900-09-09 00:00:00|  99999.0|NAO INFORMADO|       P|                  NULL|NAO INFORMADO|         NULL|         NULL|           NULL|         NULL|\n",
      "|   2018-08-31| 1970-01-01 08:48:00|2018-08-30 00:00:00|       QUI| 1970-01-01 21:29:00|18 |-- 24|20 |-- 22|CRIMES DE VIOLENC...|      AGOSTO|   AGOSTO|        2018|    2018|      LESAO CORPORAL|      LESAO CORPORAL|                NULL|VIOLENCIA DOMESTI...|   NAO INFORMADO|    NULL|     NULL|    ODIO OU VINGANCA|CRIMES CONTRA A M...|     SEM INSTRUMENTO|         BARCARENA|         BARCARENA|      TOCANTINS|           BARCARENA|RESIDENCIA PARTIC...|LESAO CORPORAL E ...|1981-01-21 00:00:00|     37.0|ADULTO IV (35 A 6...|       F| PREJUDICADO|       NAO INFORMADO|NAO INFORMADO|       NAO INFORMADO|   NAO INFORMADO|1900-09-09 00:00:00|  99999.0|NAO INFORMADO|       P|                  NULL|NAO INFORMADO|         NULL|         NULL|           NULL|         NULL|\n",
      "|   2019-07-10| 1970-01-01 15:27:00|2019-07-03 00:00:00|       QUA| 1970-01-01 18:30:00|18 |-- 24|18 |-- 20|CRIMES DE VIOLENC...|       JULHO|    JULHO|        2019|    2019|             INJURIA|             INJURIA|                NULL|                NULL|            NULL|    NULL|     NULL|IMPERICIA / IMPRU...|CRIMES CONTRA A M...|     SEM INSTRUMENTO|          ALENQUER|          ALENQUER| BAIXO AMAZONAS|       INDEPENDENCIA|RESIDENCIA PARTIC...|     INJURIA - (ALQ)|2001-01-30 00:00:00|     18.0|ADULTO I (18 A 24...|       F|        NULL|                NULL|         NULL|                NULL|            NULL|1900-09-09 00:00:00|  99999.0|NAO INFORMADO|       P|                  NULL|         NULL|         NULL|         NULL|           NULL|         NULL|\n",
      "+-------------+--------------------+-------------------+----------+--------------------+---------+---------+--------------------+------------+---------+------------+--------+--------------------+--------------------+--------------------+--------------------+----------------+--------+---------+--------------------+--------------------+--------------------+------------------+------------------+---------------+--------------------+--------------------+--------------------+-------------------+---------+--------------------+--------+------------+--------------------+-------------+--------------------+----------------+-------------------+---------+-------------+--------+----------------------+-------------+-------------+-------------+---------------+-------------+\n",
      "only showing top 20 rows\n",
      "\n"
     ]
    },
    {
     "name": "stderr",
     "output_type": "stream",
     "text": [
      "                                                                                \r"
     ]
    }
   ],
   "source": [
    "# Visualização do dataframe de VCM\n",
    "raw_VCM.show()"
   ]
  },
  {
   "cell_type": "markdown",
   "metadata": {},
   "source": [
    "#### Alteração dos tipos de variáveis"
   ]
  },
  {
   "cell_type": "code",
   "execution_count": 24,
   "metadata": {},
   "outputs": [],
   "source": [
    "# Alteração do tipo da coluna 'data_registro', de string para timestamp\n",
    "dados_VCM = raw_VCM.withColumn(\"data_registro\", to_timestamp(col(\"data_registro\")))\n",
    "\n",
    "# Seleção e alteração a data das variaveis\n",
    "dados_VCM = dados_VCM.withColumn(\"data_registro\", when(col(\"data_registro\").isNotNull(), col(\"data_registro\").cast(DateType())))\n",
    "dados_VCM = dados_VCM.withColumn(\"data_fato\", when(col(\"data_fato\").isNotNull(), col(\"data_fato\").cast(DateType())))\n",
    "dados_VCM = dados_VCM.withColumn(\"vit_dt_nasc\", when(col(\"vit_dt_nasc\").isNotNull(), col(\"vit_dt_nasc\").cast(DateType())))\n",
    "dados_VCM = dados_VCM.withColumn(\"aut_data_nasc\", when(col(\"aut_data_nasc\").isNotNull(), col(\"aut_data_nasc\").cast(DateType())))"
   ]
  },
  {
   "cell_type": "code",
   "execution_count": 25,
   "metadata": {},
   "outputs": [],
   "source": [
    "# Extraindo somente a parte da hora das variáveis, tipadas como string após a alteração\n",
    "dados_VCM = dados_VCM.withColumn(\"hora_registro\", col(\"hora_registro\").substr(12, 8))\n",
    "dados_VCM = dados_VCM.withColumn(\"hora_fato\", col(\"hora_fato\").substr(12, 8))"
   ]
  },
  {
   "cell_type": "markdown",
   "metadata": {},
   "source": [
    "#### Adição de uma nova coluna referente à idade da vítima"
   ]
  },
  {
   "cell_type": "code",
   "execution_count": 26,
   "metadata": {},
   "outputs": [],
   "source": [
    "# Use a função when para criar uma nova coluna 'vit_idade' com registros nulos\n",
    "dados_VCM = dados_VCM.withColumn(\n",
    "    'vit_idade',\n",
    "    when(col('vit_idade') > 105, None).otherwise(col('vit_idade'))\n",
    ")"
   ]
  },
  {
   "cell_type": "code",
   "execution_count": 27,
   "metadata": {},
   "outputs": [],
   "source": [
    "# Se a data for menor ou igual a '1900-09-09', substitua por null, caso contrário, mantenha a data\n",
    "dados_VCM = dados_VCM.withColumn(\"vit_dt_nasc\", when(dados_VCM[\"vit_dt_nasc\"] <= \"1900-09-09\", None).otherwise(dados_VCM[\"vit_dt_nasc\"]))"
   ]
  },
  {
   "cell_type": "code",
   "execution_count": 28,
   "metadata": {},
   "outputs": [],
   "source": [
    "# Calcule a idade em anos com tratamento para valores nulos\n",
    "dados_VCM = dados_VCM.withColumn(\"vit_idade_calculada\",\n",
    "                   when(\n",
    "                       (dados_VCM[\"data_fato\"].isNotNull()) & (dados_VCM[\"vit_dt_nasc\"].isNotNull()),\n",
    "                       (datediff(dados_VCM[\"data_fato\"], dados_VCM[\"vit_dt_nasc\"]) / 365).cast(\"int\")\n",
    "                   ).otherwise(None))"
   ]
  },
  {
   "cell_type": "markdown",
   "metadata": {},
   "source": [
    "#### Idade do autor"
   ]
  },
  {
   "cell_type": "code",
   "execution_count": 29,
   "metadata": {},
   "outputs": [],
   "source": [
    "# Se a data for menor ou igual a '1900-09-09', substitua por null, caso contrário, mantenha a data\n",
    "dados_VCM = dados_VCM.withColumn(\"aut_data_nasc\", when(dados_VCM[\"aut_data_nasc\"] <= \"1900-09-09\", None).otherwise(dados_VCM[\"aut_data_nasc\"]))"
   ]
  },
  {
   "cell_type": "code",
   "execution_count": 30,
   "metadata": {},
   "outputs": [],
   "source": [
    "# Calcule a idade em anos com tratamento para valores nulos\n",
    "dados_VCM = dados_VCM.withColumn(\"aut_idade_calculada\",\n",
    "                   when(\n",
    "                       (dados_VCM[\"data_fato\"].isNotNull()) & (dados_VCM[\"aut_data_nasc\"].isNotNull()),\n",
    "                       (datediff(dados_VCM[\"data_fato\"], dados_VCM[\"aut_data_nasc\"]) / 365).cast(\"int\")\n",
    "                   ).otherwise(None))"
   ]
  },
  {
   "cell_type": "code",
   "execution_count": 31,
   "metadata": {},
   "outputs": [],
   "source": [
    "# Use a função 'when' para criar uma nova coluna com as faixas etárias\n",
    "dados_VCM = dados_VCM.withColumn(\n",
    "    \"vit_faixa_etaria_calculada\",\n",
    "    when((dados_VCM.vit_idade_calculada >= 0) & (dados_VCM.vit_idade_calculada <= 11), \"CRIANCA (0 A 11 ANOS)\")\n",
    "    .when((dados_VCM.vit_idade_calculada >= 12) & (dados_VCM.vit_idade_calculada <= 17), \"ADOLESCENTE (12 A 17 ANOS)\")\n",
    "    .when((dados_VCM.vit_idade_calculada >= 18) & (dados_VCM.vit_idade_calculada <= 24), \"ADULTO I (18 A 24 ANOS)\")\n",
    "    .when((dados_VCM.vit_idade_calculada >= 25) & (dados_VCM.vit_idade_calculada <= 29), \"ADULTO II (25 A 29 ANOS)\")\n",
    "    .when((dados_VCM.vit_idade_calculada >= 30) & (dados_VCM.vit_idade_calculada <= 34), \"ADULTO III (30 A 34 ANOS)\")\n",
    "    .when((dados_VCM.vit_idade_calculada >= 35) & (dados_VCM.vit_idade_calculada <= 64), \"ADULTO IV (35 A 64 ANOS)\")\n",
    "    .when(dados_VCM.vit_idade_calculada >= 65, \"IDOSO\")\n",
    "    .otherwise(\"Desconhecida\")  # Lidando com vit_idade_calculadas fora das faixas\n",
    ")"
   ]
  },
  {
   "cell_type": "code",
   "execution_count": 32,
   "metadata": {},
   "outputs": [],
   "source": [
    "# Use a função 'when' para criar uma nova coluna com as faixas etárias\n",
    "dados_VCM = dados_VCM.withColumn(\n",
    "    \"aut_faixa_etaria_calculada\",\n",
    "    when((dados_VCM.aut_idade_calculada >= 0) & (dados_VCM.aut_idade_calculada <= 11), \"CRIANCA (0 A 11 ANOS)\")\n",
    "    .when((dados_VCM.aut_idade_calculada >= 12) & (dados_VCM.aut_idade_calculada <= 17), \"ADOLESCENTE (12 A 17 ANOS)\")\n",
    "    .when((dados_VCM.aut_idade_calculada >= 18) & (dados_VCM.aut_idade_calculada <= 24), \"ADULTO I (18 A 24 ANOS)\")\n",
    "    .when((dados_VCM.aut_idade_calculada >= 25) & (dados_VCM.aut_idade_calculada <= 29), \"ADULTO II (25 A 29 ANOS)\")\n",
    "    .when((dados_VCM.aut_idade_calculada >= 30) & (dados_VCM.aut_idade_calculada <= 34), \"ADULTO III (30 A 34 ANOS)\")\n",
    "    .when((dados_VCM.aut_idade_calculada >= 35) & (dados_VCM.aut_idade_calculada <= 64), \"ADULTO IV (35 A 64 ANOS)\")\n",
    "    .when(dados_VCM.aut_idade_calculada >= 65, \"IDOSO\")\n",
    "    .otherwise(\"Desconhecida\")  # Lidando com aut_idade_calculadas fora das faixas\n",
    ")"
   ]
  },
  {
   "cell_type": "code",
   "execution_count": 33,
   "metadata": {},
   "outputs": [
    {
     "name": "stderr",
     "output_type": "stream",
     "text": [
      "[Stage 39:>                                                         (0 + 1) / 1]\r"
     ]
    },
    {
     "name": "stdout",
     "output_type": "stream",
     "text": [
      "+-------------+-------------+----------+----------+---------+---------+---------+--------------------+------------+---------+------------+--------+--------------------+--------------------+--------------------+--------------------+----------------+--------+---------+--------------------+--------------------+--------------------+------------------+------------------+---------------+--------------------+--------------------+--------------------+-----------+---------+--------------------+--------+------------+--------------------+-------------+--------------------+----------------+-------------+---------+-------------+--------+----------------------+-------------+-------------+-------------+---------------+-------------+-------------------+-------------------+--------------------------+--------------------------+\n",
      "|data_registro|hora_registro| data_fato|dia_semana|hora_fato| fx_4_hor| fx_12_hr|       classe_motivo|mes_registro| mes_fato|ano_registro|ano_fato|           registros|         consolidado|           fato_real| especificacao_crime|   meio_emp_deac|latitude|longitude|    causa_presumivel| especializacao_fato| meio_empregado_sisp|          distrito|        municipios|      regionais|             bairros|    local_ocorrencia|  identificacao_fato|vit_dt_nasc|vit_idade|       vit_fx_etaria|vit_sexo|vit_cor_pele|       vit_grau_inst|vit_profissao|vit_situacao_emprego|vit_estado_civil|aut_data_nasc|aut_idade|aut_fx_etaria|aut_sexo|grau_de_relacionamento| aut_cor_pele|aut_grau_inst|aut_profissao|aut_sit_emprego|aut_est_civil|vit_idade_calculada|aut_idade_calculada|vit_faixa_etaria_calculada|aut_faixa_etaria_calculada|\n",
      "+-------------+-------------+----------+----------+---------+---------+---------+--------------------+------------+---------+------------+--------+--------------------+--------------------+--------------------+--------------------+----------------+--------+---------+--------------------+--------------------+--------------------+------------------+------------------+---------------+--------------------+--------------------+--------------------+-----------+---------+--------------------+--------+------------+--------------------+-------------+--------------------+----------------+-------------+---------+-------------+--------+----------------------+-------------+-------------+-------------+---------------+-------------+-------------------+-------------------+--------------------------+--------------------------+\n",
      "|   2022-04-07|     16:47:00|2022-04-07|       QUI| 16:47:00|12 |-- 18|16 |-- 18|CRIMES DE VIOLENC...|       ABRIL|    ABRIL|        2022|    2022|              AMEACA|              AMEACA|                NULL|                NULL|            NULL|    NULL|     NULL|               CIUME|CRIMES CONTRA A M...|     SEM INSTRUMENTO|CACHOEIRA DO ARARI|CACHOEIRA DO ARARI|MARAJO ORIENTAL|          PETROPOLIS|         VIA PUBLICA|              AMEACA| 1998-06-15|     23.0|ADULTO I (18 A 24...|       F| PREJUDICADO|                NULL|         NULL|                NULL|            NULL|         NULL|  66666.0|  PREJUDICADO|       P|                  NULL|  PREJUDICADO|         NULL|         NULL|           NULL|         NULL|                 23|               NULL|      ADULTO I (18 A 24...|              Desconhecida|\n",
      "|   2022-03-16|     18:27:00|2022-03-16|       QUA| 18:27:00|18 |-- 24|18 |-- 20|CRIMES DE VIOLENC...|       MARCO|    MARCO|        2022|    2022|              AMEACA|VIOLENCIA PSICOLO...|VIOLENCIA PSICOLO...| VIOLENCIA DOMESTICA|          AMEACA|    NULL|     NULL|               CIUME|CRIMES CONTRA A M...|     SEM INSTRUMENTO|CACHOEIRA DO ARARI|CACHOEIRA DO ARARI|MARAJO ORIENTAL|           AEROPORTO|RESIDENCIA PARTIC...|AMEACA VIOLENCIA ...| 1988-12-01|     33.0|ADULTO III (30 A ...|       F| PREJUDICADO|         PREJUDICADO|  PREJUDICADO|         PREJUDICADO|     PREJUDICADO|         NULL|  66666.0|  PREJUDICADO|       M|     EX-COMPANHEIRO(A)|  PREJUDICADO|  PREJUDICADO|  PREJUDICADO|    PREJUDICADO|  PREJUDICADO|                 33|               NULL|      ADULTO III (30 A ...|              Desconhecida|\n",
      "|   2021-02-15|     09:36:00|2021-02-14|       DOM| 22:00:00|18 |-- 24|22 |-- 24|CRIMES DE VIOLENC...|   FEVEREIRO|FEVEREIRO|        2021|    2021|      LESAO CORPORAL|      LESAO CORPORAL|      LESAO CORPORAL| VIOLENCIA DOMESTICA|VIOLENCIA FISICA|    NULL|     NULL|ALCOOLISMO / EMBR...|CRIMES CONTRA A M...|        OUTROS MEIOS|        SALVATERRA|        SALVATERRA|MARAJO ORIENTAL|ZONA RURAL DE SAL...|RESIDENCIA PARTIC...|     AGRESSAO FISICA| 1993-12-28|     27.0|ADULTO II (25 A 2...|       F| PREJUDICADO|       NAO INFORMADO|NAO INFORMADO|                NULL|   NAO INFORMADO|         NULL|  66666.0|  PREJUDICADO|       M|        COMPANHEIRO(A)|NAO INFORMADO|NAO INFORMADO|NAO INFORMADO|  NAO INFORMADO|NAO INFORMADO|                 27|               NULL|      ADULTO II (25 A 2...|              Desconhecida|\n",
      "|   2019-06-18|     17:05:00|2019-06-16|       DOM| 15:05:00|12 |-- 18|14 |-- 16|CRIMES DE VIOLENC...|       JUNHO|    JUNHO|        2019|    2019|              AMEACA|              AMEACA|                NULL|                NULL|            NULL|    NULL|     NULL|              OUTRAS|CRIMES CONTRA A M...|        OUTROS MEIOS|        SALVATERRA|        SALVATERRA|MARAJO ORIENTAL|ZONA RURAL DE SAL...|RESIDENCIA PARTIC...|AMEACA - CLISLEY ...| 2006-05-24|     13.0|ADOLESCENTE (12 A...|       F| PREJUDICADO|                NULL|         NULL|                NULL|            NULL|         NULL|  99999.0|NAO INFORMADO|       P|                  NULL|         NULL|         NULL|         NULL|           NULL|         NULL|                 13|               NULL|      ADOLESCENTE (12 A...|              Desconhecida|\n",
      "|   2021-09-24|     14:46:00|2021-09-24|       SEX| 14:46:00|12 |-- 18|14 |-- 16|CRIMES DE VIOLENC...|    SETEMBRO| SETEMBRO|        2021|    2021|              AMEACA|              AMEACA|                NULL|                NULL|     PREJUDICADO|    NULL|     NULL|              OUTRAS|CRIMES CONTRA A M...|        OUTROS MEIOS|        SALVATERRA|        SALVATERRA|MARAJO ORIENTAL|ZONA RURAL DE SAL...|RESIDENCIA PARTIC...|SOLICITACAO DE ME...| 1990-08-23|     31.0|ADULTO III (30 A ...|       F| PREJUDICADO|                NULL|         NULL|                NULL|     SOLTEIRO(A)|         NULL|     NULL|  PREJUDICADO|       P|                  NULL|         NULL|         NULL|         NULL|           NULL|         NULL|                 31|               NULL|      ADULTO III (30 A ...|              Desconhecida|\n",
      "|   2019-06-14|     09:39:00|2019-06-05|       QUA| 11:00:00|06 |-- 12|10 |-- 12|CRIMES DE VIOLENC...|       JUNHO|    JUNHO|        2019|    2019|              AMEACA|              AMEACA|                NULL|                NULL|            NULL|    NULL|     NULL|ALCOOLISMO / EMBR...|CRIMES CONTRA A M...|ARMA PERFURO CORT...|CACHOEIRA DO ARARI|CACHOEIRA DO ARARI|MARAJO ORIENTAL|ZONA RURAL DE CAC...|RESIDENCIA PARTIC...|AMEACA MARIA DA P...| 1997-10-24|     21.0|ADULTO I (18 A 24...|       F| PREJUDICADO|                NULL|         NULL|                NULL|            NULL|         NULL|  99999.0|NAO INFORMADO|       P|                  NULL|         NULL|         NULL|         NULL|           NULL|         NULL|                 21|               NULL|      ADULTO I (18 A 24...|              Desconhecida|\n",
      "|   2021-07-18|     13:57:00|2021-07-18|       DOM| 13:57:00|12 |-- 18|12 |-- 14|CRIMES DE VIOLENC...|       JULHO|    JULHO|        2021|    2021|             INJURIA|             INJURIA|                NULL|                NULL|     PREJUDICADO|    NULL|     NULL|               CIUME|CRIMES CONTRA A M...|        OUTROS MEIOS|        SALVATERRA|        SALVATERRA|MARAJO ORIENTAL|ZONA RURAL DE SAL...|RESIDENCIA PARTIC...|INJURIA EM CONTEX...| 1983-05-27|     38.0|ADULTO IV (35 A 6...|       F| PREJUDICADO|                NULL|         NULL|                NULL|            NULL|         NULL|     NULL|  PREJUDICADO|       P|                  NULL|         NULL|         NULL|         NULL|           NULL|         NULL|                 38|               NULL|      ADULTO IV (35 A 6...|              Desconhecida|\n",
      "|   2021-02-25|     16:29:00|2021-02-25|       QUI| 13:00:00|12 |-- 18|12 |-- 14|CRIMES DE VIOLENC...|   FEVEREIRO|FEVEREIRO|        2021|    2021|              AMEACA|              AMEACA|                NULL|                NULL|     PREJUDICADO|    NULL|     NULL|               CIUME|CRIMES CONTRA A M...|        OUTROS MEIOS|        SALVATERRA|        SALVATERRA|MARAJO ORIENTAL|ZONA RURAL DE SAL...|         VIA PUBLICA|              AMEACA| 1979-11-08|     41.0|ADULTO IV (35 A 6...|       F| PREJUDICADO|                NULL|         NULL|                NULL|            NULL|         NULL|     NULL|  PREJUDICADO|       P|                  NULL|         NULL|         NULL|         NULL|           NULL|         NULL|                 41|               NULL|      ADULTO IV (35 A 6...|              Desconhecida|\n",
      "|   2020-12-15|     09:13:00|2020-12-14|       SEG| 02:00:00|00 |-- 06|02 |-- 04|CRIMES DE VIOLENC...|    DEZEMBRO| DEZEMBRO|        2020|    2020|      LESAO CORPORAL|      LESAO CORPORAL|      LESAO CORPORAL| VIOLENCIA DOMESTICA|VIOLENCIA FISICA|    NULL|     NULL|    ODIO OU VINGANCA|CRIMES CONTRA A M...|        OUTROS MEIOS|        SALVATERRA|        SALVATERRA|MARAJO ORIENTAL|ZONA RURAL DE SAL...|RESIDENCIA PARTIC...|            AGRESSAO| 1995-07-02|     25.0|ADULTO II (25 A 2...|       F|        NULL|                NULL|         NULL|                NULL|            NULL|         NULL|     NULL|         NULL|       M|     EX-COMPANHEIRO(A)|         NULL|         NULL|         NULL|           NULL|         NULL|                 25|               NULL|      ADULTO II (25 A 2...|              Desconhecida|\n",
      "|   2019-11-10|     09:34:00|2019-11-10|       DOM| 08:00:00|06 |-- 12|08 |-- 10|CRIMES DE VIOLENC...|    NOVEMBRO| NOVEMBRO|        2019|    2019|      LESAO CORPORAL|      LESAO CORPORAL|                NULL|                NULL|            NULL|    NULL|     NULL|    ODIO OU VINGANCA|CRIMES CONTRA A M...|        OUTROS MEIOS|        SALVATERRA|        SALVATERRA|MARAJO ORIENTAL|   ESTRADA DE JOANES|RESIDENCIA PARTIC...|LESAO CORPORAL EM...| 1986-03-29|     33.0|ADULTO III (30 A ...|       F|        NULL|                NULL|         NULL|                NULL|            NULL|         NULL|  99999.0|NAO INFORMADO|       P|                  NULL|         NULL|         NULL|         NULL|           NULL|         NULL|                 33|               NULL|      ADULTO III (30 A ...|              Desconhecida|\n",
      "|   2019-08-06|     10:54:00|2019-08-05|       SEG| 20:00:00|18 |-- 24|20 |-- 22|CRIMES DE VIOLENC...|      AGOSTO|   AGOSTO|        2019|    2019|      LESAO CORPORAL|      LESAO CORPORAL|                NULL|                NULL|            NULL|    NULL|     NULL|    ODIO OU VINGANCA|CRIMES CONTRA A M...|        OUTROS MEIOS|        SALVATERRA|        SALVATERRA|MARAJO ORIENTAL|   ESTRADA DE JOANES|RESIDENCIA PARTIC...| VIOLENCIA DOMESTICA| 1986-11-05|     32.0|ADULTO III (30 A ...|       F|        NULL|ENSINO FUNDAMENTA...| DONA DE CASA|                NULL|     SOLTEIRO(A)|         NULL|  99999.0|NAO INFORMADO|       P|                  NULL|         NULL|         NULL|         NULL|           NULL|         NULL|                 32|               NULL|      ADULTO III (30 A ...|              Desconhecida|\n",
      "|   2019-12-17|     09:54:00|2019-12-14|       SAB| 11:30:00|06 |-- 12|10 |-- 12|CRIMES DE VIOLENC...|    DEZEMBRO| DEZEMBRO|        2019|    2019|CONSTRANGIMENTO I...|CONSTRANGIMENTO I...|                NULL|                NULL|            NULL|    NULL|     NULL|    ODIO OU VINGANCA|CRIMES CONTRA A M...|        OUTROS MEIOS|        SALVATERRA|        SALVATERRA|MARAJO ORIENTAL|   ESTRADA DE JOANES|RESIDENCIA PARTIC...| VIOLENCIA DOMESTICA| 1974-09-24|     45.0|ADULTO IV (35 A 6...|       F|        NULL|ENSINO MEDIO COMP...|ADMINISTRADOR|                NULL|       CASADO(A)|         NULL|  99999.0|NAO INFORMADO|       P|                  NULL|         NULL|         NULL|         NULL|           NULL|         NULL|                 45|               NULL|      ADULTO IV (35 A 6...|              Desconhecida|\n",
      "|   2019-12-23|     09:27:00|2019-12-22|       DOM| 18:30:00|18 |-- 24|18 |-- 20|CRIMES DE VIOLENC...|    DEZEMBRO| DEZEMBRO|        2019|    2019|             INJURIA|             INJURIA|                NULL|                NULL|            NULL|    NULL|     NULL|              OUTRAS|CRIMES CONTRA A M...|        OUTROS MEIOS|        SALVATERRA|        SALVATERRA|MARAJO ORIENTAL|   ESTRADA DE JOANES|RESIDENCIA PARTIC...|INJURIA EM CONTEX...| 1989-09-14|     30.0|ADULTO III (30 A ...|       F|        NULL|                NULL|         NULL|                NULL|            NULL|         NULL|  99999.0|NAO INFORMADO|       P|                  NULL|         NULL|         NULL|         NULL|           NULL|         NULL|                 30|               NULL|      ADULTO III (30 A ...|              Desconhecida|\n",
      "|   2019-08-05|     15:56:00|2019-08-05|       SEG| 13:30:00|12 |-- 18|12 |-- 14|CRIMES DE VIOLENC...|      AGOSTO|   AGOSTO|        2019|    2019|              AMEACA|              AMEACA|                NULL|                NULL|            NULL|    NULL|     NULL|ALCOOLISMO / EMBR...|CRIMES CONTRA A M...|        OUTROS MEIOS|        SALVATERRA|        SALVATERRA|MARAJO ORIENTAL|   ESTRADA DE JOANES|RESIDENCIA PARTIC...| VIOLENCIA DOMESTICA| 1986-11-05|     32.0|ADULTO III (30 A ...|       F| PREJUDICADO|ENSINO FUNDAMENTA...| DONA DE CASA|                NULL|     SOLTEIRO(A)|         NULL|  99999.0|NAO INFORMADO|       P|                  NULL|         NULL|         NULL|         NULL|           NULL|         NULL|                 32|               NULL|      ADULTO III (30 A ...|              Desconhecida|\n",
      "|   2019-10-14|     16:03:00|2019-10-14|       SEG| 06:30:00|06 |-- 12|06 |-- 08|CRIMES DE VIOLENC...|     OUTUBRO|  OUTUBRO|        2019|    2019|      LESAO CORPORAL|      LESAO CORPORAL|                NULL|                NULL|            NULL|    NULL|     NULL|          DEVASSIDAO|CRIMES CONTRA A M...|     SEM INSTRUMENTO|        SALVATERRA|        SALVATERRA|MARAJO ORIENTAL|   ESTRADA DE JOANES|RESIDENCIA PARTIC...|      LESAO CORPORAL| 1967-01-04|     52.0|ADULTO IV (35 A 6...|       F|        NULL|                NULL|         NULL|                NULL|            NULL|         NULL|  99999.0|NAO INFORMADO|       P|                  NULL|         NULL|         NULL|         NULL|           NULL|         NULL|                 52|               NULL|      ADULTO IV (35 A 6...|              Desconhecida|\n",
      "|   2020-11-15|     11:19:00|2020-11-14|       SAB| 15:55:00|12 |-- 18|14 |-- 16|CRIMES CONTRA A P...|    NOVEMBRO| NOVEMBRO|        2020|    2020|      LESAO CORPORAL|      LESAO CORPORAL|      LESAO CORPORAL| VIOLENCIA DOMESTICA|     CONTUNDENTE|    NULL|     NULL|ALCOOLISMO / EMBR...|CRIMES CONTRA A I...|        OUTROS MEIOS|      MONTE ALEGRE|      MONTE ALEGRE| BAIXO AMAZONAS|CENTRO DE MONTE A...|RESIDENCIA PARTIC...|VIOL DOMESTICA- L...| 1976-12-23|     43.0|ADULTO IV (35 A 6...|       F|        NULL|    NAO ALFABETIZADO|    DOMESTICA|                NULL|   UNIAO ESTAVEL|         NULL|     NULL|         NULL|       M|        COMPANHEIRO(A)|         NULL|         NULL|         NULL|           NULL|         NULL|                 43|               NULL|      ADULTO IV (35 A 6...|              Desconhecida|\n",
      "|   2021-07-26|     18:23:00|2021-07-26|       SEG| 18:23:00|18 |-- 24|18 |-- 20|CRIMES DE VIOLENC...|       JULHO|    JULHO|        2021|    2021|              AMEACA|              AMEACA|                NULL|                NULL|     PREJUDICADO|    NULL|     NULL|               CIUME|CRIMES CONTRA A M...|     SEM INSTRUMENTO|CACHOEIRA DO ARARI|CACHOEIRA DO ARARI|MARAJO ORIENTAL|ZONA RURAL DE CAC...|RESIDENCIA PARTIC...|              AMEACA| 1982-01-11|     39.0|ADULTO IV (35 A 6...|       F| PREJUDICADO|                NULL|         NULL|                NULL|            NULL|         NULL|     NULL|  PREJUDICADO|       P|                  NULL|         NULL|         NULL|         NULL|           NULL|         NULL|                 39|               NULL|      ADULTO IV (35 A 6...|              Desconhecida|\n",
      "|   2018-01-31|     15:36:00|2018-01-30|       TER| 07:30:00|06 |-- 12|06 |-- 08|CRIMES DE VIOLENC...|     JANEIRO|  JANEIRO|        2018|    2018|        VIAS DE FATO|        VIAS DE FATO|                NULL|VIOLENCIA DOMESTI...|   NAO INFORMADO|    NULL|     NULL|              OUTRAS|CRIMES CONTRA A M...|     SEM INSTRUMENTO|         BARCARENA|         BARCARENA|      TOCANTINS|           BARCARENA|RESIDENCIA PARTIC...|VIAS DE FATO E I ...| 1986-08-14|     31.0|ADULTO III (30 A ...|       F| PREJUDICADO|       NAO INFORMADO|NAO INFORMADO|       NAO INFORMADO|   NAO INFORMADO|         NULL|  99999.0|NAO INFORMADO|       P|                  NULL|NAO INFORMADO|         NULL|         NULL|           NULL|         NULL|                 31|               NULL|      ADULTO III (30 A ...|              Desconhecida|\n",
      "|   2018-08-31|     08:48:00|2018-08-30|       QUI| 21:29:00|18 |-- 24|20 |-- 22|CRIMES DE VIOLENC...|      AGOSTO|   AGOSTO|        2018|    2018|      LESAO CORPORAL|      LESAO CORPORAL|                NULL|VIOLENCIA DOMESTI...|   NAO INFORMADO|    NULL|     NULL|    ODIO OU VINGANCA|CRIMES CONTRA A M...|     SEM INSTRUMENTO|         BARCARENA|         BARCARENA|      TOCANTINS|           BARCARENA|RESIDENCIA PARTIC...|LESAO CORPORAL E ...| 1981-01-21|     37.0|ADULTO IV (35 A 6...|       F| PREJUDICADO|       NAO INFORMADO|NAO INFORMADO|       NAO INFORMADO|   NAO INFORMADO|         NULL|  99999.0|NAO INFORMADO|       P|                  NULL|NAO INFORMADO|         NULL|         NULL|           NULL|         NULL|                 37|               NULL|      ADULTO IV (35 A 6...|              Desconhecida|\n",
      "|   2019-07-10|     15:27:00|2019-07-03|       QUA| 18:30:00|18 |-- 24|18 |-- 20|CRIMES DE VIOLENC...|       JULHO|    JULHO|        2019|    2019|             INJURIA|             INJURIA|                NULL|                NULL|            NULL|    NULL|     NULL|IMPERICIA / IMPRU...|CRIMES CONTRA A M...|     SEM INSTRUMENTO|          ALENQUER|          ALENQUER| BAIXO AMAZONAS|       INDEPENDENCIA|RESIDENCIA PARTIC...|     INJURIA - (ALQ)| 2001-01-30|     18.0|ADULTO I (18 A 24...|       F|        NULL|                NULL|         NULL|                NULL|            NULL|         NULL|  99999.0|NAO INFORMADO|       P|                  NULL|         NULL|         NULL|         NULL|           NULL|         NULL|                 18|               NULL|      ADULTO I (18 A 24...|              Desconhecida|\n",
      "+-------------+-------------+----------+----------+---------+---------+---------+--------------------+------------+---------+------------+--------+--------------------+--------------------+--------------------+--------------------+----------------+--------+---------+--------------------+--------------------+--------------------+------------------+------------------+---------------+--------------------+--------------------+--------------------+-----------+---------+--------------------+--------+------------+--------------------+-------------+--------------------+----------------+-------------+---------+-------------+--------+----------------------+-------------+-------------+-------------+---------------+-------------+-------------------+-------------------+--------------------------+--------------------------+\n",
      "only showing top 20 rows\n",
      "\n"
     ]
    },
    {
     "name": "stderr",
     "output_type": "stream",
     "text": [
      "                                                                                \r"
     ]
    }
   ],
   "source": [
    "# Visualizando o dataframe atualizado\n",
    "dados_VCM.show()"
   ]
  },
  {
   "cell_type": "code",
   "execution_count": 34,
   "metadata": {},
   "outputs": [
    {
     "name": "stderr",
     "output_type": "stream",
     "text": [
      "                                                                                \r"
     ]
    },
    {
     "data": {
      "text/plain": [
       "6349"
      ]
     },
     "execution_count": 34,
     "metadata": {},
     "output_type": "execute_result"
    }
   ],
   "source": [
    "# Verifica a quantidade de casos nos quais as vítimas tinham mais de 18 anos\n",
    "dados_VCM_maiores_18_PA = dados_VCM.filter(dados_VCM['vit_idade_calculada'] >= 18)\n",
    "dados_VCM_maiores_18_PA.count()"
   ]
  },
  {
   "cell_type": "code",
   "execution_count": 35,
   "metadata": {},
   "outputs": [
    {
     "name": "stderr",
     "output_type": "stream",
     "text": [
      "                                                                                \r"
     ]
    },
    {
     "data": {
      "text/plain": [
       "6896"
      ]
     },
     "execution_count": 35,
     "metadata": {},
     "output_type": "execute_result"
    }
   ],
   "source": [
    "# Verifica a quantidade total de registros\n",
    "dados_VCM.count()"
   ]
  },
  {
   "cell_type": "code",
   "execution_count": 36,
   "metadata": {},
   "outputs": [
    {
     "name": "stdout",
     "output_type": "stream",
     "text": [
      "+-------------+-------------+----------+----------+---------+---------+---------+--------------------+------------+---------+------------+--------+--------------------+--------------------+--------------------+--------------------+----------------+--------+---------+--------------------+--------------------+--------------------+------------------+------------------+---------------+--------------------+--------------------+--------------------+-----------+---------+--------------------+--------+------------+--------------------+-------------+--------------------+----------------+-------------+---------+-------------+--------+----------------------+-------------+-------------+-------------+---------------+-------------+-------------------+-------------------+--------------------------+--------------------------+\n",
      "|data_registro|hora_registro| data_fato|dia_semana|hora_fato| fx_4_hor| fx_12_hr|       classe_motivo|mes_registro| mes_fato|ano_registro|ano_fato|           registros|         consolidado|           fato_real| especificacao_crime|   meio_emp_deac|latitude|longitude|    causa_presumivel| especializacao_fato| meio_empregado_sisp|          distrito|        municipios|      regionais|             bairros|    local_ocorrencia|  identificacao_fato|vit_dt_nasc|vit_idade|       vit_fx_etaria|vit_sexo|vit_cor_pele|       vit_grau_inst|vit_profissao|vit_situacao_emprego|vit_estado_civil|aut_data_nasc|aut_idade|aut_fx_etaria|aut_sexo|grau_de_relacionamento| aut_cor_pele|aut_grau_inst|aut_profissao|aut_sit_emprego|aut_est_civil|vit_idade_calculada|aut_idade_calculada|vit_faixa_etaria_calculada|aut_faixa_etaria_calculada|\n",
      "+-------------+-------------+----------+----------+---------+---------+---------+--------------------+------------+---------+------------+--------+--------------------+--------------------+--------------------+--------------------+----------------+--------+---------+--------------------+--------------------+--------------------+------------------+------------------+---------------+--------------------+--------------------+--------------------+-----------+---------+--------------------+--------+------------+--------------------+-------------+--------------------+----------------+-------------+---------+-------------+--------+----------------------+-------------+-------------+-------------+---------------+-------------+-------------------+-------------------+--------------------------+--------------------------+\n",
      "|   2022-04-07|     16:47:00|2022-04-07|       QUI| 16:47:00|12 |-- 18|16 |-- 18|CRIMES DE VIOLENC...|       ABRIL|    ABRIL|        2022|    2022|              AMEACA|              AMEACA|                NULL|                NULL|            NULL|    NULL|     NULL|               CIUME|CRIMES CONTRA A M...|     SEM INSTRUMENTO|CACHOEIRA DO ARARI|CACHOEIRA DO ARARI|MARAJO ORIENTAL|          PETROPOLIS|         VIA PUBLICA|              AMEACA| 1998-06-15|     23.0|ADULTO I (18 A 24...|       F| PREJUDICADO|                NULL|         NULL|                NULL|            NULL|         NULL|  66666.0|  PREJUDICADO|       P|                  NULL|  PREJUDICADO|         NULL|         NULL|           NULL|         NULL|                 23|               NULL|      ADULTO I (18 A 24...|              Desconhecida|\n",
      "|   2022-03-16|     18:27:00|2022-03-16|       QUA| 18:27:00|18 |-- 24|18 |-- 20|CRIMES DE VIOLENC...|       MARCO|    MARCO|        2022|    2022|              AMEACA|VIOLENCIA PSICOLO...|VIOLENCIA PSICOLO...| VIOLENCIA DOMESTICA|          AMEACA|    NULL|     NULL|               CIUME|CRIMES CONTRA A M...|     SEM INSTRUMENTO|CACHOEIRA DO ARARI|CACHOEIRA DO ARARI|MARAJO ORIENTAL|           AEROPORTO|RESIDENCIA PARTIC...|AMEACA VIOLENCIA ...| 1988-12-01|     33.0|ADULTO III (30 A ...|       F| PREJUDICADO|         PREJUDICADO|  PREJUDICADO|         PREJUDICADO|     PREJUDICADO|         NULL|  66666.0|  PREJUDICADO|       M|     EX-COMPANHEIRO(A)|  PREJUDICADO|  PREJUDICADO|  PREJUDICADO|    PREJUDICADO|  PREJUDICADO|                 33|               NULL|      ADULTO III (30 A ...|              Desconhecida|\n",
      "|   2021-02-15|     09:36:00|2021-02-14|       DOM| 22:00:00|18 |-- 24|22 |-- 24|CRIMES DE VIOLENC...|   FEVEREIRO|FEVEREIRO|        2021|    2021|      LESAO CORPORAL|      LESAO CORPORAL|      LESAO CORPORAL| VIOLENCIA DOMESTICA|VIOLENCIA FISICA|    NULL|     NULL|ALCOOLISMO / EMBR...|CRIMES CONTRA A M...|        OUTROS MEIOS|        SALVATERRA|        SALVATERRA|MARAJO ORIENTAL|ZONA RURAL DE SAL...|RESIDENCIA PARTIC...|     AGRESSAO FISICA| 1993-12-28|     27.0|ADULTO II (25 A 2...|       F| PREJUDICADO|       NAO INFORMADO|NAO INFORMADO|                NULL|   NAO INFORMADO|         NULL|  66666.0|  PREJUDICADO|       M|        COMPANHEIRO(A)|NAO INFORMADO|NAO INFORMADO|NAO INFORMADO|  NAO INFORMADO|NAO INFORMADO|                 27|               NULL|      ADULTO II (25 A 2...|              Desconhecida|\n",
      "|   2019-06-18|     17:05:00|2019-06-16|       DOM| 15:05:00|12 |-- 18|14 |-- 16|CRIMES DE VIOLENC...|       JUNHO|    JUNHO|        2019|    2019|              AMEACA|              AMEACA|                NULL|                NULL|            NULL|    NULL|     NULL|              OUTRAS|CRIMES CONTRA A M...|        OUTROS MEIOS|        SALVATERRA|        SALVATERRA|MARAJO ORIENTAL|ZONA RURAL DE SAL...|RESIDENCIA PARTIC...|AMEACA - CLISLEY ...| 2006-05-24|     13.0|ADOLESCENTE (12 A...|       F| PREJUDICADO|                NULL|         NULL|                NULL|            NULL|         NULL|  99999.0|NAO INFORMADO|       P|                  NULL|         NULL|         NULL|         NULL|           NULL|         NULL|                 13|               NULL|      ADOLESCENTE (12 A...|              Desconhecida|\n",
      "|   2021-09-24|     14:46:00|2021-09-24|       SEX| 14:46:00|12 |-- 18|14 |-- 16|CRIMES DE VIOLENC...|    SETEMBRO| SETEMBRO|        2021|    2021|              AMEACA|              AMEACA|                NULL|                NULL|     PREJUDICADO|    NULL|     NULL|              OUTRAS|CRIMES CONTRA A M...|        OUTROS MEIOS|        SALVATERRA|        SALVATERRA|MARAJO ORIENTAL|ZONA RURAL DE SAL...|RESIDENCIA PARTIC...|SOLICITACAO DE ME...| 1990-08-23|     31.0|ADULTO III (30 A ...|       F| PREJUDICADO|                NULL|         NULL|                NULL|     SOLTEIRO(A)|         NULL|     NULL|  PREJUDICADO|       P|                  NULL|         NULL|         NULL|         NULL|           NULL|         NULL|                 31|               NULL|      ADULTO III (30 A ...|              Desconhecida|\n",
      "|   2019-06-14|     09:39:00|2019-06-05|       QUA| 11:00:00|06 |-- 12|10 |-- 12|CRIMES DE VIOLENC...|       JUNHO|    JUNHO|        2019|    2019|              AMEACA|              AMEACA|                NULL|                NULL|            NULL|    NULL|     NULL|ALCOOLISMO / EMBR...|CRIMES CONTRA A M...|ARMA PERFURO CORT...|CACHOEIRA DO ARARI|CACHOEIRA DO ARARI|MARAJO ORIENTAL|ZONA RURAL DE CAC...|RESIDENCIA PARTIC...|AMEACA MARIA DA P...| 1997-10-24|     21.0|ADULTO I (18 A 24...|       F| PREJUDICADO|                NULL|         NULL|                NULL|            NULL|         NULL|  99999.0|NAO INFORMADO|       P|                  NULL|         NULL|         NULL|         NULL|           NULL|         NULL|                 21|               NULL|      ADULTO I (18 A 24...|              Desconhecida|\n",
      "|   2021-07-18|     13:57:00|2021-07-18|       DOM| 13:57:00|12 |-- 18|12 |-- 14|CRIMES DE VIOLENC...|       JULHO|    JULHO|        2021|    2021|             INJURIA|             INJURIA|                NULL|                NULL|     PREJUDICADO|    NULL|     NULL|               CIUME|CRIMES CONTRA A M...|        OUTROS MEIOS|        SALVATERRA|        SALVATERRA|MARAJO ORIENTAL|ZONA RURAL DE SAL...|RESIDENCIA PARTIC...|INJURIA EM CONTEX...| 1983-05-27|     38.0|ADULTO IV (35 A 6...|       F| PREJUDICADO|                NULL|         NULL|                NULL|            NULL|         NULL|     NULL|  PREJUDICADO|       P|                  NULL|         NULL|         NULL|         NULL|           NULL|         NULL|                 38|               NULL|      ADULTO IV (35 A 6...|              Desconhecida|\n",
      "|   2021-02-25|     16:29:00|2021-02-25|       QUI| 13:00:00|12 |-- 18|12 |-- 14|CRIMES DE VIOLENC...|   FEVEREIRO|FEVEREIRO|        2021|    2021|              AMEACA|              AMEACA|                NULL|                NULL|     PREJUDICADO|    NULL|     NULL|               CIUME|CRIMES CONTRA A M...|        OUTROS MEIOS|        SALVATERRA|        SALVATERRA|MARAJO ORIENTAL|ZONA RURAL DE SAL...|         VIA PUBLICA|              AMEACA| 1979-11-08|     41.0|ADULTO IV (35 A 6...|       F| PREJUDICADO|                NULL|         NULL|                NULL|            NULL|         NULL|     NULL|  PREJUDICADO|       P|                  NULL|         NULL|         NULL|         NULL|           NULL|         NULL|                 41|               NULL|      ADULTO IV (35 A 6...|              Desconhecida|\n",
      "|   2020-12-15|     09:13:00|2020-12-14|       SEG| 02:00:00|00 |-- 06|02 |-- 04|CRIMES DE VIOLENC...|    DEZEMBRO| DEZEMBRO|        2020|    2020|      LESAO CORPORAL|      LESAO CORPORAL|      LESAO CORPORAL| VIOLENCIA DOMESTICA|VIOLENCIA FISICA|    NULL|     NULL|    ODIO OU VINGANCA|CRIMES CONTRA A M...|        OUTROS MEIOS|        SALVATERRA|        SALVATERRA|MARAJO ORIENTAL|ZONA RURAL DE SAL...|RESIDENCIA PARTIC...|            AGRESSAO| 1995-07-02|     25.0|ADULTO II (25 A 2...|       F|        NULL|                NULL|         NULL|                NULL|            NULL|         NULL|     NULL|         NULL|       M|     EX-COMPANHEIRO(A)|         NULL|         NULL|         NULL|           NULL|         NULL|                 25|               NULL|      ADULTO II (25 A 2...|              Desconhecida|\n",
      "|   2019-11-10|     09:34:00|2019-11-10|       DOM| 08:00:00|06 |-- 12|08 |-- 10|CRIMES DE VIOLENC...|    NOVEMBRO| NOVEMBRO|        2019|    2019|      LESAO CORPORAL|      LESAO CORPORAL|                NULL|                NULL|            NULL|    NULL|     NULL|    ODIO OU VINGANCA|CRIMES CONTRA A M...|        OUTROS MEIOS|        SALVATERRA|        SALVATERRA|MARAJO ORIENTAL|   ESTRADA DE JOANES|RESIDENCIA PARTIC...|LESAO CORPORAL EM...| 1986-03-29|     33.0|ADULTO III (30 A ...|       F|        NULL|                NULL|         NULL|                NULL|            NULL|         NULL|  99999.0|NAO INFORMADO|       P|                  NULL|         NULL|         NULL|         NULL|           NULL|         NULL|                 33|               NULL|      ADULTO III (30 A ...|              Desconhecida|\n",
      "|   2019-08-06|     10:54:00|2019-08-05|       SEG| 20:00:00|18 |-- 24|20 |-- 22|CRIMES DE VIOLENC...|      AGOSTO|   AGOSTO|        2019|    2019|      LESAO CORPORAL|      LESAO CORPORAL|                NULL|                NULL|            NULL|    NULL|     NULL|    ODIO OU VINGANCA|CRIMES CONTRA A M...|        OUTROS MEIOS|        SALVATERRA|        SALVATERRA|MARAJO ORIENTAL|   ESTRADA DE JOANES|RESIDENCIA PARTIC...| VIOLENCIA DOMESTICA| 1986-11-05|     32.0|ADULTO III (30 A ...|       F|        NULL|ENSINO FUNDAMENTA...| DONA DE CASA|                NULL|     SOLTEIRO(A)|         NULL|  99999.0|NAO INFORMADO|       P|                  NULL|         NULL|         NULL|         NULL|           NULL|         NULL|                 32|               NULL|      ADULTO III (30 A ...|              Desconhecida|\n",
      "|   2019-12-17|     09:54:00|2019-12-14|       SAB| 11:30:00|06 |-- 12|10 |-- 12|CRIMES DE VIOLENC...|    DEZEMBRO| DEZEMBRO|        2019|    2019|CONSTRANGIMENTO I...|CONSTRANGIMENTO I...|                NULL|                NULL|            NULL|    NULL|     NULL|    ODIO OU VINGANCA|CRIMES CONTRA A M...|        OUTROS MEIOS|        SALVATERRA|        SALVATERRA|MARAJO ORIENTAL|   ESTRADA DE JOANES|RESIDENCIA PARTIC...| VIOLENCIA DOMESTICA| 1974-09-24|     45.0|ADULTO IV (35 A 6...|       F|        NULL|ENSINO MEDIO COMP...|ADMINISTRADOR|                NULL|       CASADO(A)|         NULL|  99999.0|NAO INFORMADO|       P|                  NULL|         NULL|         NULL|         NULL|           NULL|         NULL|                 45|               NULL|      ADULTO IV (35 A 6...|              Desconhecida|\n",
      "|   2019-12-23|     09:27:00|2019-12-22|       DOM| 18:30:00|18 |-- 24|18 |-- 20|CRIMES DE VIOLENC...|    DEZEMBRO| DEZEMBRO|        2019|    2019|             INJURIA|             INJURIA|                NULL|                NULL|            NULL|    NULL|     NULL|              OUTRAS|CRIMES CONTRA A M...|        OUTROS MEIOS|        SALVATERRA|        SALVATERRA|MARAJO ORIENTAL|   ESTRADA DE JOANES|RESIDENCIA PARTIC...|INJURIA EM CONTEX...| 1989-09-14|     30.0|ADULTO III (30 A ...|       F|        NULL|                NULL|         NULL|                NULL|            NULL|         NULL|  99999.0|NAO INFORMADO|       P|                  NULL|         NULL|         NULL|         NULL|           NULL|         NULL|                 30|               NULL|      ADULTO III (30 A ...|              Desconhecida|\n",
      "|   2019-08-05|     15:56:00|2019-08-05|       SEG| 13:30:00|12 |-- 18|12 |-- 14|CRIMES DE VIOLENC...|      AGOSTO|   AGOSTO|        2019|    2019|              AMEACA|              AMEACA|                NULL|                NULL|            NULL|    NULL|     NULL|ALCOOLISMO / EMBR...|CRIMES CONTRA A M...|        OUTROS MEIOS|        SALVATERRA|        SALVATERRA|MARAJO ORIENTAL|   ESTRADA DE JOANES|RESIDENCIA PARTIC...| VIOLENCIA DOMESTICA| 1986-11-05|     32.0|ADULTO III (30 A ...|       F| PREJUDICADO|ENSINO FUNDAMENTA...| DONA DE CASA|                NULL|     SOLTEIRO(A)|         NULL|  99999.0|NAO INFORMADO|       P|                  NULL|         NULL|         NULL|         NULL|           NULL|         NULL|                 32|               NULL|      ADULTO III (30 A ...|              Desconhecida|\n",
      "|   2019-10-14|     16:03:00|2019-10-14|       SEG| 06:30:00|06 |-- 12|06 |-- 08|CRIMES DE VIOLENC...|     OUTUBRO|  OUTUBRO|        2019|    2019|      LESAO CORPORAL|      LESAO CORPORAL|                NULL|                NULL|            NULL|    NULL|     NULL|          DEVASSIDAO|CRIMES CONTRA A M...|     SEM INSTRUMENTO|        SALVATERRA|        SALVATERRA|MARAJO ORIENTAL|   ESTRADA DE JOANES|RESIDENCIA PARTIC...|      LESAO CORPORAL| 1967-01-04|     52.0|ADULTO IV (35 A 6...|       F|        NULL|                NULL|         NULL|                NULL|            NULL|         NULL|  99999.0|NAO INFORMADO|       P|                  NULL|         NULL|         NULL|         NULL|           NULL|         NULL|                 52|               NULL|      ADULTO IV (35 A 6...|              Desconhecida|\n",
      "|   2020-11-15|     11:19:00|2020-11-14|       SAB| 15:55:00|12 |-- 18|14 |-- 16|CRIMES CONTRA A P...|    NOVEMBRO| NOVEMBRO|        2020|    2020|      LESAO CORPORAL|      LESAO CORPORAL|      LESAO CORPORAL| VIOLENCIA DOMESTICA|     CONTUNDENTE|    NULL|     NULL|ALCOOLISMO / EMBR...|CRIMES CONTRA A I...|        OUTROS MEIOS|      MONTE ALEGRE|      MONTE ALEGRE| BAIXO AMAZONAS|CENTRO DE MONTE A...|RESIDENCIA PARTIC...|VIOL DOMESTICA- L...| 1976-12-23|     43.0|ADULTO IV (35 A 6...|       F|        NULL|    NAO ALFABETIZADO|    DOMESTICA|                NULL|   UNIAO ESTAVEL|         NULL|     NULL|         NULL|       M|        COMPANHEIRO(A)|         NULL|         NULL|         NULL|           NULL|         NULL|                 43|               NULL|      ADULTO IV (35 A 6...|              Desconhecida|\n",
      "|   2021-07-26|     18:23:00|2021-07-26|       SEG| 18:23:00|18 |-- 24|18 |-- 20|CRIMES DE VIOLENC...|       JULHO|    JULHO|        2021|    2021|              AMEACA|              AMEACA|                NULL|                NULL|     PREJUDICADO|    NULL|     NULL|               CIUME|CRIMES CONTRA A M...|     SEM INSTRUMENTO|CACHOEIRA DO ARARI|CACHOEIRA DO ARARI|MARAJO ORIENTAL|ZONA RURAL DE CAC...|RESIDENCIA PARTIC...|              AMEACA| 1982-01-11|     39.0|ADULTO IV (35 A 6...|       F| PREJUDICADO|                NULL|         NULL|                NULL|            NULL|         NULL|     NULL|  PREJUDICADO|       P|                  NULL|         NULL|         NULL|         NULL|           NULL|         NULL|                 39|               NULL|      ADULTO IV (35 A 6...|              Desconhecida|\n",
      "|   2018-01-31|     15:36:00|2018-01-30|       TER| 07:30:00|06 |-- 12|06 |-- 08|CRIMES DE VIOLENC...|     JANEIRO|  JANEIRO|        2018|    2018|        VIAS DE FATO|        VIAS DE FATO|                NULL|VIOLENCIA DOMESTI...|   NAO INFORMADO|    NULL|     NULL|              OUTRAS|CRIMES CONTRA A M...|     SEM INSTRUMENTO|         BARCARENA|         BARCARENA|      TOCANTINS|           BARCARENA|RESIDENCIA PARTIC...|VIAS DE FATO E I ...| 1986-08-14|     31.0|ADULTO III (30 A ...|       F| PREJUDICADO|       NAO INFORMADO|NAO INFORMADO|       NAO INFORMADO|   NAO INFORMADO|         NULL|  99999.0|NAO INFORMADO|       P|                  NULL|NAO INFORMADO|         NULL|         NULL|           NULL|         NULL|                 31|               NULL|      ADULTO III (30 A ...|              Desconhecida|\n",
      "|   2018-08-31|     08:48:00|2018-08-30|       QUI| 21:29:00|18 |-- 24|20 |-- 22|CRIMES DE VIOLENC...|      AGOSTO|   AGOSTO|        2018|    2018|      LESAO CORPORAL|      LESAO CORPORAL|                NULL|VIOLENCIA DOMESTI...|   NAO INFORMADO|    NULL|     NULL|    ODIO OU VINGANCA|CRIMES CONTRA A M...|     SEM INSTRUMENTO|         BARCARENA|         BARCARENA|      TOCANTINS|           BARCARENA|RESIDENCIA PARTIC...|LESAO CORPORAL E ...| 1981-01-21|     37.0|ADULTO IV (35 A 6...|       F| PREJUDICADO|       NAO INFORMADO|NAO INFORMADO|       NAO INFORMADO|   NAO INFORMADO|         NULL|  99999.0|NAO INFORMADO|       P|                  NULL|NAO INFORMADO|         NULL|         NULL|           NULL|         NULL|                 37|               NULL|      ADULTO IV (35 A 6...|              Desconhecida|\n",
      "|   2019-07-10|     15:27:00|2019-07-03|       QUA| 18:30:00|18 |-- 24|18 |-- 20|CRIMES DE VIOLENC...|       JULHO|    JULHO|        2019|    2019|             INJURIA|             INJURIA|                NULL|                NULL|            NULL|    NULL|     NULL|IMPERICIA / IMPRU...|CRIMES CONTRA A M...|     SEM INSTRUMENTO|          ALENQUER|          ALENQUER| BAIXO AMAZONAS|       INDEPENDENCIA|RESIDENCIA PARTIC...|     INJURIA - (ALQ)| 2001-01-30|     18.0|ADULTO I (18 A 24...|       F|        NULL|                NULL|         NULL|                NULL|            NULL|         NULL|  99999.0|NAO INFORMADO|       P|                  NULL|         NULL|         NULL|         NULL|           NULL|         NULL|                 18|               NULL|      ADULTO I (18 A 24...|              Desconhecida|\n",
      "+-------------+-------------+----------+----------+---------+---------+---------+--------------------+------------+---------+------------+--------+--------------------+--------------------+--------------------+--------------------+----------------+--------+---------+--------------------+--------------------+--------------------+------------------+------------------+---------------+--------------------+--------------------+--------------------+-----------+---------+--------------------+--------+------------+--------------------+-------------+--------------------+----------------+-------------+---------+-------------+--------+----------------------+-------------+-------------+-------------+---------------+-------------+-------------------+-------------------+--------------------------+--------------------------+\n",
      "only showing top 20 rows\n",
      "\n"
     ]
    },
    {
     "name": "stderr",
     "output_type": "stream",
     "text": [
      "                                                                                \r"
     ]
    }
   ],
   "source": [
    "# Cria um novo dataframe para ser salvo referente aos dados do estado do Pará\n",
    "dados_VCM_PA = dados_VCM\n",
    "# Visualização do dataframe\n",
    "dados_VCM_PA.show()"
   ]
  },
  {
   "cell_type": "markdown",
   "metadata": {},
   "source": [
    "#### Tratamento dos meses"
   ]
  },
  {
   "cell_type": "code",
   "execution_count": 37,
   "metadata": {},
   "outputs": [],
   "source": [
    "# Dicionário de mapeamento de meses para números\n",
    "meses = {\n",
    "    \"JANEIRO\": 1,\n",
    "    \"FEVEREIRO\": 2,\n",
    "    \"MARCO\": 3,\n",
    "    \"ABRIL\": 4,\n",
    "    \"MAIO\": 5,\n",
    "    \"JUNHO\": 6,\n",
    "    \"JULHO\": 7,\n",
    "    \"AGOSTO\": 8,\n",
    "    \"SETEMBRO\": 9,\n",
    "    \"OUTUBRO\": 10,\n",
    "    \"NOVEMBRO\": 11,\n",
    "    \"DEZEMBRO\": 12\n",
    "}\n",
    "\n",
    "# Loop para criar a coluna \"mes_registro\" para cada mês\n",
    "for mes, numero in meses.items():\n",
    "    dados_VCM_PA = dados_VCM_PA.withColumn(\"mes_registro\", f.when(dados_VCM_PA.mes_registro == mes, numero).otherwise(dados_VCM_PA.mes_registro))\n",
    "\n",
    "# Loop para criar a coluna \"mes_registro\" para cada mês\n",
    "for mes, numero in meses.items():\n",
    "    dados_VCM_PA = dados_VCM_PA.withColumn(\"mes_fato\", f.when(dados_VCM_PA.mes_registro == mes, numero).otherwise(dados_VCM_PA.mes_registro))"
   ]
  },
  {
   "cell_type": "markdown",
   "metadata": {},
   "source": [
    "#### Faixa horária"
   ]
  },
  {
   "cell_type": "code",
   "execution_count": 38,
   "metadata": {},
   "outputs": [
    {
     "name": "stderr",
     "output_type": "stream",
     "text": [
      "[Stage 47:>                                                         (0 + 1) / 1]\r"
     ]
    },
    {
     "name": "stdout",
     "output_type": "stream",
     "text": [
      "+-------------+-------------+----------+----------+---------+---------+---------+--------------------+------------+--------+------------+--------+--------------------+--------------------+--------------------+--------------------+----------------+--------+---------+--------------------+--------------------+--------------------+------------------+------------------+---------------+--------------------+--------------------+--------------------+-----------+---------+--------------------+--------+------------+--------------------+-------------+--------------------+----------------+-------------+---------+-------------+--------+----------------------+-------------+-------------+-------------+---------------+-------------+-------------------+-------------------+--------------------------+--------------------------+-------------+----------------+----------------+\n",
      "|data_registro|hora_registro| data_fato|dia_semana|hora_fato| fx_4_hor| fx_12_hr|       classe_motivo|mes_registro|mes_fato|ano_registro|ano_fato|           registros|         consolidado|           fato_real| especificacao_crime|   meio_emp_deac|latitude|longitude|    causa_presumivel| especializacao_fato| meio_empregado_sisp|          distrito|        municipios|      regionais|             bairros|    local_ocorrencia|  identificacao_fato|vit_dt_nasc|vit_idade|       vit_fx_etaria|vit_sexo|vit_cor_pele|       vit_grau_inst|vit_profissao|vit_situacao_emprego|vit_estado_civil|aut_data_nasc|aut_idade|aut_fx_etaria|aut_sexo|grau_de_relacionamento| aut_cor_pele|aut_grau_inst|aut_profissao|aut_sit_emprego|aut_est_civil|vit_idade_calculada|aut_idade_calculada|vit_faixa_etaria_calculada|aut_faixa_etaria_calculada|faixa_horaria|faixa_horaria_6h|faixa_horaria_2h|\n",
      "+-------------+-------------+----------+----------+---------+---------+---------+--------------------+------------+--------+------------+--------+--------------------+--------------------+--------------------+--------------------+----------------+--------+---------+--------------------+--------------------+--------------------+------------------+------------------+---------------+--------------------+--------------------+--------------------+-----------+---------+--------------------+--------+------------+--------------------+-------------+--------------------+----------------+-------------+---------+-------------+--------+----------------------+-------------+-------------+-------------+---------------+-------------+-------------------+-------------------+--------------------------+--------------------------+-------------+----------------+----------------+\n",
      "|   2022-04-07|     16:47:00|2022-04-07|       QUI| 16:47:00|12 |-- 18|16 |-- 18|CRIMES DE VIOLENC...|           4|       4|        2022|    2022|              AMEACA|              AMEACA|                NULL|                NULL|            NULL|    NULL|     NULL|               CIUME|CRIMES CONTRA A M...|     SEM INSTRUMENTO|CACHOEIRA DO ARARI|CACHOEIRA DO ARARI|MARAJO ORIENTAL|          PETROPOLIS|         VIA PUBLICA|              AMEACA| 1998-06-15|     23.0|ADULTO I (18 A 24...|       F| PREJUDICADO|                NULL|         NULL|                NULL|            NULL|         NULL|  66666.0|  PREJUDICADO|       P|                  NULL|  PREJUDICADO|         NULL|         NULL|           NULL|         NULL|                 23|               NULL|      ADULTO I (18 A 24...|              Desconhecida|        Tarde|       12h - 18h|       16h - 18h|\n",
      "|   2022-03-16|     18:27:00|2022-03-16|       QUA| 18:27:00|18 |-- 24|18 |-- 20|CRIMES DE VIOLENC...|           3|       3|        2022|    2022|              AMEACA|VIOLENCIA PSICOLO...|VIOLENCIA PSICOLO...| VIOLENCIA DOMESTICA|          AMEACA|    NULL|     NULL|               CIUME|CRIMES CONTRA A M...|     SEM INSTRUMENTO|CACHOEIRA DO ARARI|CACHOEIRA DO ARARI|MARAJO ORIENTAL|           AEROPORTO|RESIDENCIA PARTIC...|AMEACA VIOLENCIA ...| 1988-12-01|     33.0|ADULTO III (30 A ...|       F| PREJUDICADO|         PREJUDICADO|  PREJUDICADO|         PREJUDICADO|     PREJUDICADO|         NULL|  66666.0|  PREJUDICADO|       M|     EX-COMPANHEIRO(A)|  PREJUDICADO|  PREJUDICADO|  PREJUDICADO|    PREJUDICADO|  PREJUDICADO|                 33|               NULL|      ADULTO III (30 A ...|              Desconhecida|        Noite|       18h - 00h|       18h - 20h|\n",
      "|   2021-02-15|     09:36:00|2021-02-14|       DOM| 22:00:00|18 |-- 24|22 |-- 24|CRIMES DE VIOLENC...|           2|       2|        2021|    2021|      LESAO CORPORAL|      LESAO CORPORAL|      LESAO CORPORAL| VIOLENCIA DOMESTICA|VIOLENCIA FISICA|    NULL|     NULL|ALCOOLISMO / EMBR...|CRIMES CONTRA A M...|        OUTROS MEIOS|        SALVATERRA|        SALVATERRA|MARAJO ORIENTAL|ZONA RURAL DE SAL...|RESIDENCIA PARTIC...|     AGRESSAO FISICA| 1993-12-28|     27.0|ADULTO II (25 A 2...|       F| PREJUDICADO|       NAO INFORMADO|NAO INFORMADO|                NULL|   NAO INFORMADO|         NULL|  66666.0|  PREJUDICADO|       M|        COMPANHEIRO(A)|NAO INFORMADO|NAO INFORMADO|NAO INFORMADO|  NAO INFORMADO|NAO INFORMADO|                 27|               NULL|      ADULTO II (25 A 2...|              Desconhecida|        Noite|       18h - 00h|       22h - 00h|\n",
      "|   2019-06-18|     17:05:00|2019-06-16|       DOM| 15:05:00|12 |-- 18|14 |-- 16|CRIMES DE VIOLENC...|           6|       6|        2019|    2019|              AMEACA|              AMEACA|                NULL|                NULL|            NULL|    NULL|     NULL|              OUTRAS|CRIMES CONTRA A M...|        OUTROS MEIOS|        SALVATERRA|        SALVATERRA|MARAJO ORIENTAL|ZONA RURAL DE SAL...|RESIDENCIA PARTIC...|AMEACA - CLISLEY ...| 2006-05-24|     13.0|ADOLESCENTE (12 A...|       F| PREJUDICADO|                NULL|         NULL|                NULL|            NULL|         NULL|  99999.0|NAO INFORMADO|       P|                  NULL|         NULL|         NULL|         NULL|           NULL|         NULL|                 13|               NULL|      ADOLESCENTE (12 A...|              Desconhecida|        Tarde|       12h - 18h|       14h - 16h|\n",
      "|   2021-09-24|     14:46:00|2021-09-24|       SEX| 14:46:00|12 |-- 18|14 |-- 16|CRIMES DE VIOLENC...|           9|       9|        2021|    2021|              AMEACA|              AMEACA|                NULL|                NULL|     PREJUDICADO|    NULL|     NULL|              OUTRAS|CRIMES CONTRA A M...|        OUTROS MEIOS|        SALVATERRA|        SALVATERRA|MARAJO ORIENTAL|ZONA RURAL DE SAL...|RESIDENCIA PARTIC...|SOLICITACAO DE ME...| 1990-08-23|     31.0|ADULTO III (30 A ...|       F| PREJUDICADO|                NULL|         NULL|                NULL|     SOLTEIRO(A)|         NULL|     NULL|  PREJUDICADO|       P|                  NULL|         NULL|         NULL|         NULL|           NULL|         NULL|                 31|               NULL|      ADULTO III (30 A ...|              Desconhecida|        Tarde|       12h - 18h|       14h - 16h|\n",
      "|   2019-06-14|     09:39:00|2019-06-05|       QUA| 11:00:00|06 |-- 12|10 |-- 12|CRIMES DE VIOLENC...|           6|       6|        2019|    2019|              AMEACA|              AMEACA|                NULL|                NULL|            NULL|    NULL|     NULL|ALCOOLISMO / EMBR...|CRIMES CONTRA A M...|ARMA PERFURO CORT...|CACHOEIRA DO ARARI|CACHOEIRA DO ARARI|MARAJO ORIENTAL|ZONA RURAL DE CAC...|RESIDENCIA PARTIC...|AMEACA MARIA DA P...| 1997-10-24|     21.0|ADULTO I (18 A 24...|       F| PREJUDICADO|                NULL|         NULL|                NULL|            NULL|         NULL|  99999.0|NAO INFORMADO|       P|                  NULL|         NULL|         NULL|         NULL|           NULL|         NULL|                 21|               NULL|      ADULTO I (18 A 24...|              Desconhecida|        Manhã|       06h - 12h|       10h - 12h|\n",
      "|   2021-07-18|     13:57:00|2021-07-18|       DOM| 13:57:00|12 |-- 18|12 |-- 14|CRIMES DE VIOLENC...|           7|       7|        2021|    2021|             INJURIA|             INJURIA|                NULL|                NULL|     PREJUDICADO|    NULL|     NULL|               CIUME|CRIMES CONTRA A M...|        OUTROS MEIOS|        SALVATERRA|        SALVATERRA|MARAJO ORIENTAL|ZONA RURAL DE SAL...|RESIDENCIA PARTIC...|INJURIA EM CONTEX...| 1983-05-27|     38.0|ADULTO IV (35 A 6...|       F| PREJUDICADO|                NULL|         NULL|                NULL|            NULL|         NULL|     NULL|  PREJUDICADO|       P|                  NULL|         NULL|         NULL|         NULL|           NULL|         NULL|                 38|               NULL|      ADULTO IV (35 A 6...|              Desconhecida|        Tarde|       12h - 18h|       12h - 14h|\n",
      "|   2021-02-25|     16:29:00|2021-02-25|       QUI| 13:00:00|12 |-- 18|12 |-- 14|CRIMES DE VIOLENC...|           2|       2|        2021|    2021|              AMEACA|              AMEACA|                NULL|                NULL|     PREJUDICADO|    NULL|     NULL|               CIUME|CRIMES CONTRA A M...|        OUTROS MEIOS|        SALVATERRA|        SALVATERRA|MARAJO ORIENTAL|ZONA RURAL DE SAL...|         VIA PUBLICA|              AMEACA| 1979-11-08|     41.0|ADULTO IV (35 A 6...|       F| PREJUDICADO|                NULL|         NULL|                NULL|            NULL|         NULL|     NULL|  PREJUDICADO|       P|                  NULL|         NULL|         NULL|         NULL|           NULL|         NULL|                 41|               NULL|      ADULTO IV (35 A 6...|              Desconhecida|        Tarde|       12h - 18h|       12h - 14h|\n",
      "|   2020-12-15|     09:13:00|2020-12-14|       SEG| 02:00:00|00 |-- 06|02 |-- 04|CRIMES DE VIOLENC...|          12|      12|        2020|    2020|      LESAO CORPORAL|      LESAO CORPORAL|      LESAO CORPORAL| VIOLENCIA DOMESTICA|VIOLENCIA FISICA|    NULL|     NULL|    ODIO OU VINGANCA|CRIMES CONTRA A M...|        OUTROS MEIOS|        SALVATERRA|        SALVATERRA|MARAJO ORIENTAL|ZONA RURAL DE SAL...|RESIDENCIA PARTIC...|            AGRESSAO| 1995-07-02|     25.0|ADULTO II (25 A 2...|       F|        NULL|                NULL|         NULL|                NULL|            NULL|         NULL|     NULL|         NULL|       M|     EX-COMPANHEIRO(A)|         NULL|         NULL|         NULL|           NULL|         NULL|                 25|               NULL|      ADULTO II (25 A 2...|              Desconhecida|    Madrugada|       00h - 06h|       02h - 04h|\n",
      "|   2019-11-10|     09:34:00|2019-11-10|       DOM| 08:00:00|06 |-- 12|08 |-- 10|CRIMES DE VIOLENC...|          11|      11|        2019|    2019|      LESAO CORPORAL|      LESAO CORPORAL|                NULL|                NULL|            NULL|    NULL|     NULL|    ODIO OU VINGANCA|CRIMES CONTRA A M...|        OUTROS MEIOS|        SALVATERRA|        SALVATERRA|MARAJO ORIENTAL|   ESTRADA DE JOANES|RESIDENCIA PARTIC...|LESAO CORPORAL EM...| 1986-03-29|     33.0|ADULTO III (30 A ...|       F|        NULL|                NULL|         NULL|                NULL|            NULL|         NULL|  99999.0|NAO INFORMADO|       P|                  NULL|         NULL|         NULL|         NULL|           NULL|         NULL|                 33|               NULL|      ADULTO III (30 A ...|              Desconhecida|        Manhã|       06h - 12h|       08h - 10h|\n",
      "|   2019-08-06|     10:54:00|2019-08-05|       SEG| 20:00:00|18 |-- 24|20 |-- 22|CRIMES DE VIOLENC...|           8|       8|        2019|    2019|      LESAO CORPORAL|      LESAO CORPORAL|                NULL|                NULL|            NULL|    NULL|     NULL|    ODIO OU VINGANCA|CRIMES CONTRA A M...|        OUTROS MEIOS|        SALVATERRA|        SALVATERRA|MARAJO ORIENTAL|   ESTRADA DE JOANES|RESIDENCIA PARTIC...| VIOLENCIA DOMESTICA| 1986-11-05|     32.0|ADULTO III (30 A ...|       F|        NULL|ENSINO FUNDAMENTA...| DONA DE CASA|                NULL|     SOLTEIRO(A)|         NULL|  99999.0|NAO INFORMADO|       P|                  NULL|         NULL|         NULL|         NULL|           NULL|         NULL|                 32|               NULL|      ADULTO III (30 A ...|              Desconhecida|        Noite|       18h - 00h|       20h - 22h|\n",
      "|   2019-12-17|     09:54:00|2019-12-14|       SAB| 11:30:00|06 |-- 12|10 |-- 12|CRIMES DE VIOLENC...|          12|      12|        2019|    2019|CONSTRANGIMENTO I...|CONSTRANGIMENTO I...|                NULL|                NULL|            NULL|    NULL|     NULL|    ODIO OU VINGANCA|CRIMES CONTRA A M...|        OUTROS MEIOS|        SALVATERRA|        SALVATERRA|MARAJO ORIENTAL|   ESTRADA DE JOANES|RESIDENCIA PARTIC...| VIOLENCIA DOMESTICA| 1974-09-24|     45.0|ADULTO IV (35 A 6...|       F|        NULL|ENSINO MEDIO COMP...|ADMINISTRADOR|                NULL|       CASADO(A)|         NULL|  99999.0|NAO INFORMADO|       P|                  NULL|         NULL|         NULL|         NULL|           NULL|         NULL|                 45|               NULL|      ADULTO IV (35 A 6...|              Desconhecida|        Manhã|       06h - 12h|       10h - 12h|\n",
      "|   2019-12-23|     09:27:00|2019-12-22|       DOM| 18:30:00|18 |-- 24|18 |-- 20|CRIMES DE VIOLENC...|          12|      12|        2019|    2019|             INJURIA|             INJURIA|                NULL|                NULL|            NULL|    NULL|     NULL|              OUTRAS|CRIMES CONTRA A M...|        OUTROS MEIOS|        SALVATERRA|        SALVATERRA|MARAJO ORIENTAL|   ESTRADA DE JOANES|RESIDENCIA PARTIC...|INJURIA EM CONTEX...| 1989-09-14|     30.0|ADULTO III (30 A ...|       F|        NULL|                NULL|         NULL|                NULL|            NULL|         NULL|  99999.0|NAO INFORMADO|       P|                  NULL|         NULL|         NULL|         NULL|           NULL|         NULL|                 30|               NULL|      ADULTO III (30 A ...|              Desconhecida|        Noite|       18h - 00h|       18h - 20h|\n",
      "|   2019-08-05|     15:56:00|2019-08-05|       SEG| 13:30:00|12 |-- 18|12 |-- 14|CRIMES DE VIOLENC...|           8|       8|        2019|    2019|              AMEACA|              AMEACA|                NULL|                NULL|            NULL|    NULL|     NULL|ALCOOLISMO / EMBR...|CRIMES CONTRA A M...|        OUTROS MEIOS|        SALVATERRA|        SALVATERRA|MARAJO ORIENTAL|   ESTRADA DE JOANES|RESIDENCIA PARTIC...| VIOLENCIA DOMESTICA| 1986-11-05|     32.0|ADULTO III (30 A ...|       F| PREJUDICADO|ENSINO FUNDAMENTA...| DONA DE CASA|                NULL|     SOLTEIRO(A)|         NULL|  99999.0|NAO INFORMADO|       P|                  NULL|         NULL|         NULL|         NULL|           NULL|         NULL|                 32|               NULL|      ADULTO III (30 A ...|              Desconhecida|        Tarde|       12h - 18h|       12h - 14h|\n",
      "|   2019-10-14|     16:03:00|2019-10-14|       SEG| 06:30:00|06 |-- 12|06 |-- 08|CRIMES DE VIOLENC...|          10|      10|        2019|    2019|      LESAO CORPORAL|      LESAO CORPORAL|                NULL|                NULL|            NULL|    NULL|     NULL|          DEVASSIDAO|CRIMES CONTRA A M...|     SEM INSTRUMENTO|        SALVATERRA|        SALVATERRA|MARAJO ORIENTAL|   ESTRADA DE JOANES|RESIDENCIA PARTIC...|      LESAO CORPORAL| 1967-01-04|     52.0|ADULTO IV (35 A 6...|       F|        NULL|                NULL|         NULL|                NULL|            NULL|         NULL|  99999.0|NAO INFORMADO|       P|                  NULL|         NULL|         NULL|         NULL|           NULL|         NULL|                 52|               NULL|      ADULTO IV (35 A 6...|              Desconhecida|        Manhã|       06h - 12h|       06h - 08h|\n",
      "|   2020-11-15|     11:19:00|2020-11-14|       SAB| 15:55:00|12 |-- 18|14 |-- 16|CRIMES CONTRA A P...|          11|      11|        2020|    2020|      LESAO CORPORAL|      LESAO CORPORAL|      LESAO CORPORAL| VIOLENCIA DOMESTICA|     CONTUNDENTE|    NULL|     NULL|ALCOOLISMO / EMBR...|CRIMES CONTRA A I...|        OUTROS MEIOS|      MONTE ALEGRE|      MONTE ALEGRE| BAIXO AMAZONAS|CENTRO DE MONTE A...|RESIDENCIA PARTIC...|VIOL DOMESTICA- L...| 1976-12-23|     43.0|ADULTO IV (35 A 6...|       F|        NULL|    NAO ALFABETIZADO|    DOMESTICA|                NULL|   UNIAO ESTAVEL|         NULL|     NULL|         NULL|       M|        COMPANHEIRO(A)|         NULL|         NULL|         NULL|           NULL|         NULL|                 43|               NULL|      ADULTO IV (35 A 6...|              Desconhecida|        Tarde|       12h - 18h|       14h - 16h|\n",
      "|   2021-07-26|     18:23:00|2021-07-26|       SEG| 18:23:00|18 |-- 24|18 |-- 20|CRIMES DE VIOLENC...|           7|       7|        2021|    2021|              AMEACA|              AMEACA|                NULL|                NULL|     PREJUDICADO|    NULL|     NULL|               CIUME|CRIMES CONTRA A M...|     SEM INSTRUMENTO|CACHOEIRA DO ARARI|CACHOEIRA DO ARARI|MARAJO ORIENTAL|ZONA RURAL DE CAC...|RESIDENCIA PARTIC...|              AMEACA| 1982-01-11|     39.0|ADULTO IV (35 A 6...|       F| PREJUDICADO|                NULL|         NULL|                NULL|            NULL|         NULL|     NULL|  PREJUDICADO|       P|                  NULL|         NULL|         NULL|         NULL|           NULL|         NULL|                 39|               NULL|      ADULTO IV (35 A 6...|              Desconhecida|        Noite|       18h - 00h|       18h - 20h|\n",
      "|   2018-01-31|     15:36:00|2018-01-30|       TER| 07:30:00|06 |-- 12|06 |-- 08|CRIMES DE VIOLENC...|           1|       1|        2018|    2018|        VIAS DE FATO|        VIAS DE FATO|                NULL|VIOLENCIA DOMESTI...|   NAO INFORMADO|    NULL|     NULL|              OUTRAS|CRIMES CONTRA A M...|     SEM INSTRUMENTO|         BARCARENA|         BARCARENA|      TOCANTINS|           BARCARENA|RESIDENCIA PARTIC...|VIAS DE FATO E I ...| 1986-08-14|     31.0|ADULTO III (30 A ...|       F| PREJUDICADO|       NAO INFORMADO|NAO INFORMADO|       NAO INFORMADO|   NAO INFORMADO|         NULL|  99999.0|NAO INFORMADO|       P|                  NULL|NAO INFORMADO|         NULL|         NULL|           NULL|         NULL|                 31|               NULL|      ADULTO III (30 A ...|              Desconhecida|        Manhã|       06h - 12h|       06h - 08h|\n",
      "|   2018-08-31|     08:48:00|2018-08-30|       QUI| 21:29:00|18 |-- 24|20 |-- 22|CRIMES DE VIOLENC...|           8|       8|        2018|    2018|      LESAO CORPORAL|      LESAO CORPORAL|                NULL|VIOLENCIA DOMESTI...|   NAO INFORMADO|    NULL|     NULL|    ODIO OU VINGANCA|CRIMES CONTRA A M...|     SEM INSTRUMENTO|         BARCARENA|         BARCARENA|      TOCANTINS|           BARCARENA|RESIDENCIA PARTIC...|LESAO CORPORAL E ...| 1981-01-21|     37.0|ADULTO IV (35 A 6...|       F| PREJUDICADO|       NAO INFORMADO|NAO INFORMADO|       NAO INFORMADO|   NAO INFORMADO|         NULL|  99999.0|NAO INFORMADO|       P|                  NULL|NAO INFORMADO|         NULL|         NULL|           NULL|         NULL|                 37|               NULL|      ADULTO IV (35 A 6...|              Desconhecida|        Noite|       18h - 00h|       20h - 22h|\n",
      "|   2019-07-10|     15:27:00|2019-07-03|       QUA| 18:30:00|18 |-- 24|18 |-- 20|CRIMES DE VIOLENC...|           7|       7|        2019|    2019|             INJURIA|             INJURIA|                NULL|                NULL|            NULL|    NULL|     NULL|IMPERICIA / IMPRU...|CRIMES CONTRA A M...|     SEM INSTRUMENTO|          ALENQUER|          ALENQUER| BAIXO AMAZONAS|       INDEPENDENCIA|RESIDENCIA PARTIC...|     INJURIA - (ALQ)| 2001-01-30|     18.0|ADULTO I (18 A 24...|       F|        NULL|                NULL|         NULL|                NULL|            NULL|         NULL|  99999.0|NAO INFORMADO|       P|                  NULL|         NULL|         NULL|         NULL|           NULL|         NULL|                 18|               NULL|      ADULTO I (18 A 24...|              Desconhecida|        Noite|       18h - 00h|       18h - 20h|\n",
      "+-------------+-------------+----------+----------+---------+---------+---------+--------------------+------------+--------+------------+--------+--------------------+--------------------+--------------------+--------------------+----------------+--------+---------+--------------------+--------------------+--------------------+------------------+------------------+---------------+--------------------+--------------------+--------------------+-----------+---------+--------------------+--------+------------+--------------------+-------------+--------------------+----------------+-------------+---------+-------------+--------+----------------------+-------------+-------------+-------------+---------------+-------------+-------------------+-------------------+--------------------------+--------------------------+-------------+----------------+----------------+\n",
      "only showing top 20 rows\n",
      "\n"
     ]
    },
    {
     "name": "stderr",
     "output_type": "stream",
     "text": [
      "                                                                                \r"
     ]
    }
   ],
   "source": [
    "# Função 'when' para criar a coluna 'faixa_horaria' com base na coluna 'hora_fato'\n",
    "dados_VCM_PA = dados_VCM_PA.withColumn(\"faixa_horaria\",\n",
    "                                       when((dados_VCM_PA['hora_fato'] >= '06:00:00') & (dados_VCM_PA['hora_fato'] < '12:00:00'), 'Manhã')\n",
    "                                      .when((dados_VCM_PA['hora_fato'] >= '12:00:00') & (dados_VCM_PA['hora_fato'] < '18:00:00'), 'Tarde')\n",
    "                                      .when((dados_VCM_PA['hora_fato'] >= '18:00:00') & (dados_VCM_PA['hora_fato'] < '23:59:59'), 'Noite')\n",
    "                                      .when((dados_VCM_PA['hora_fato'] >= '00:00:00') & (dados_VCM_PA['hora_fato'] < '06:00:00'), 'Madrugada')\n",
    "                                      .otherwise('Outro'))\n",
    "\n",
    "\n",
    "# Função 'when' para criar a coluna 'faixa_horaria_6h' com base na coluna 'hora_fato'\n",
    "dados_VCM_PA = dados_VCM_PA.withColumn(\"faixa_horaria_6h\",\n",
    "                                       when((dados_VCM_PA['hora_fato'] >= '06:00:00') & (dados_VCM_PA['hora_fato'] < '12:00:00'), '06h - 12h')\n",
    "                                      .when((dados_VCM_PA['hora_fato'] >= '12:00:00') & (dados_VCM_PA['hora_fato'] < '18:00:00'), '12h - 18h')\n",
    "                                      .when((dados_VCM_PA['hora_fato'] >= '18:00:00') & (dados_VCM_PA['hora_fato'] < '23:59:59'), '18h - 00h')\n",
    "                                      .when((dados_VCM_PA['hora_fato'] >= '00:00:00') & (dados_VCM_PA['hora_fato'] < '06:00:00'), '00h - 06h')\n",
    "                                      .otherwise('Outro'))\n",
    "\n",
    "# Função 'when' para criar a coluna 'faixa_horaria_2h' com base na coluna 'hora_fato'\n",
    "dados_VCM_PA = dados_VCM_PA.withColumn(\"faixa_horaria_2h\",\n",
    "                                       when((dados_VCM_PA['hora_fato'] >= '06:00:00') & (dados_VCM_PA['hora_fato'] < '08:00:00'), '06h - 08h')\n",
    "                                      .when((dados_VCM_PA['hora_fato'] >= '08:00:00') & (dados_VCM_PA['hora_fato'] < '10:00:00'), '08h - 10h')\n",
    "                                      .when((dados_VCM_PA['hora_fato'] >= '10:00:00') & (dados_VCM_PA['hora_fato'] < '12:00:00'), '10h - 12h')\n",
    "                                      .when((dados_VCM_PA['hora_fato'] >= '12:00:00') & (dados_VCM_PA['hora_fato'] < '14:00:00'), '12h - 14h')\n",
    "                                      .when((dados_VCM_PA['hora_fato'] >= '14:00:00') & (dados_VCM_PA['hora_fato'] < '16:00:00'), '14h - 16h')\n",
    "                                      .when((dados_VCM_PA['hora_fato'] >= '16:00:00') & (dados_VCM_PA['hora_fato'] < '18:00:00'), '16h - 18h')\n",
    "                                      .when((dados_VCM_PA['hora_fato'] >= '18:00:00') & (dados_VCM_PA['hora_fato'] < '20:00:00'), '18h - 20h')\n",
    "                                      .when((dados_VCM_PA['hora_fato'] >= '20:00:00') & (dados_VCM_PA['hora_fato'] < '22:00:00'), '20h - 22h')\n",
    "                                      .when((dados_VCM_PA['hora_fato'] >= '22:00:00') & (dados_VCM_PA['hora_fato'] < '23:59:59'), '22h - 00h')\n",
    "                                      .when((dados_VCM_PA['hora_fato'] >= '00:00:00') & (dados_VCM_PA['hora_fato'] < '02:00:00'), '00h - 02h')\n",
    "                                      .when((dados_VCM_PA['hora_fato'] >= '02:00:00') & (dados_VCM_PA['hora_fato'] < '04:00:00'), '02h - 04h')\n",
    "                                      .when((dados_VCM_PA['hora_fato'] >= '04:00:00') & (dados_VCM_PA['hora_fato'] < '06:00:00'), '04h - 06h')\n",
    "                                      .otherwise('Outro'))\n",
    "\n",
    "dados_VCM_PA.show()"
   ]
  },
  {
   "cell_type": "code",
   "execution_count": 39,
   "metadata": {},
   "outputs": [],
   "source": [
    "# Remoção de mais colunas\n",
    "colunas_remover = ['fx_4_hor',\n",
    "\t\t\t\t\t'fx_12_hr',\n",
    "\t\t\t\t\t'latitude',\n",
    "\t\t\t\t\t'longitude',\n",
    "\t\t\t\t\t'distrito',\n",
    "\t\t\t\t\t'regionais',\n",
    "\t\t\t\t\t'vit_idade',\n",
    "\t\t\t\t\t'vit_fx_etaria',\n",
    "\t\t\t\t\t'vit_sexo',\n",
    "\t\t\t\t\t'vit_situacao_emprego',\n",
    "\t\t\t\t\t'aut_idade',\n",
    "\t\t\t\t\t'aut_fx_etaria'\n",
    "\t\t\t\t]\n",
    "dados_VCM_PA = dados_VCM_PA.drop(*colunas_remover)"
   ]
  },
  {
   "cell_type": "code",
   "execution_count": 40,
   "metadata": {},
   "outputs": [
    {
     "name": "stderr",
     "output_type": "stream",
     "text": [
      "[Stage 48:>                                                         (0 + 4) / 4]\r"
     ]
    },
    {
     "name": "stderr",
     "output_type": "stream",
     "text": [
      "[Stage 48:==============>                                           (1 + 3) / 4]\r"
     ]
    },
    {
     "name": "stdout",
     "output_type": "stream",
     "text": [
      "O conjunto de dados possui 6896 registros e 42 variáveis.\n"
     ]
    },
    {
     "name": "stderr",
     "output_type": "stream",
     "text": [
      "                                                                                \r"
     ]
    }
   ],
   "source": [
    "# Contagem do número de variáveis\n",
    "v_vcm_pa = len(dados_VCM_PA.columns)\n",
    "# Contagem do número de registros\n",
    "n_vcm_pa = dados_VCM_PA.count()\n",
    "\n",
    "print(f'O conjunto de dados possui {n_vcm_pa} registros e {v_vcm_pa} variáveis.')"
   ]
  },
  {
   "cell_type": "markdown",
   "metadata": {},
   "source": [
    "## Ordenação das colunas <a id=\"ordernacao-das-colunas\"></a>"
   ]
  },
  {
   "cell_type": "code",
   "execution_count": 41,
   "metadata": {},
   "outputs": [
    {
     "name": "stderr",
     "output_type": "stream",
     "text": [
      "[Stage 51:>                                                         (0 + 1) / 1]\r"
     ]
    },
    {
     "name": "stdout",
     "output_type": "stream",
     "text": [
      "+-------------+-------------+----------+---------+----------+--------------------+------------+--------+------------+--------+--------------------+--------------------+--------------------+--------------------+----------------+--------------------+--------------------+--------------------+------------------+--------------------+--------------------+--------------------+-----------+------------+--------------------+-------------+----------------+-------------+--------+----------------------+-------------+-------------+-------------+---------------+-------------+-------------------+-------------------+--------------------------+--------------------------+-------------+----------------+----------------+\n",
      "|data_registro|hora_registro| data_fato|hora_fato|dia_semana|       classe_motivo|mes_registro|mes_fato|ano_registro|ano_fato|           registros|         consolidado|           fato_real| especificacao_crime|   meio_emp_deac|    causa_presumivel| especializacao_fato| meio_empregado_sisp|        municipios|             bairros|    local_ocorrencia|  identificacao_fato|vit_dt_nasc|vit_cor_pele|       vit_grau_inst|vit_profissao|vit_estado_civil|aut_data_nasc|aut_sexo|grau_de_relacionamento| aut_cor_pele|aut_grau_inst|aut_profissao|aut_sit_emprego|aut_est_civil|vit_idade_calculada|aut_idade_calculada|vit_faixa_etaria_calculada|aut_faixa_etaria_calculada|faixa_horaria|faixa_horaria_6h|faixa_horaria_2h|\n",
      "+-------------+-------------+----------+---------+----------+--------------------+------------+--------+------------+--------+--------------------+--------------------+--------------------+--------------------+----------------+--------------------+--------------------+--------------------+------------------+--------------------+--------------------+--------------------+-----------+------------+--------------------+-------------+----------------+-------------+--------+----------------------+-------------+-------------+-------------+---------------+-------------+-------------------+-------------------+--------------------------+--------------------------+-------------+----------------+----------------+\n",
      "|   2022-04-07|     16:47:00|2022-04-07| 16:47:00|       QUI|CRIMES DE VIOLENC...|           4|       4|        2022|    2022|              AMEACA|              AMEACA|                NULL|                NULL|            NULL|               CIUME|CRIMES CONTRA A M...|     SEM INSTRUMENTO|CACHOEIRA DO ARARI|          PETROPOLIS|         VIA PUBLICA|              AMEACA| 1998-06-15| PREJUDICADO|                NULL|         NULL|            NULL|         NULL|       P|                  NULL|  PREJUDICADO|         NULL|         NULL|           NULL|         NULL|                 23|               NULL|      ADULTO I (18 A 24...|              Desconhecida|        Tarde|       12h - 18h|       16h - 18h|\n",
      "|   2022-03-16|     18:27:00|2022-03-16| 18:27:00|       QUA|CRIMES DE VIOLENC...|           3|       3|        2022|    2022|              AMEACA|VIOLENCIA PSICOLO...|VIOLENCIA PSICOLO...| VIOLENCIA DOMESTICA|          AMEACA|               CIUME|CRIMES CONTRA A M...|     SEM INSTRUMENTO|CACHOEIRA DO ARARI|           AEROPORTO|RESIDENCIA PARTIC...|AMEACA VIOLENCIA ...| 1988-12-01| PREJUDICADO|         PREJUDICADO|  PREJUDICADO|     PREJUDICADO|         NULL|       M|     EX-COMPANHEIRO(A)|  PREJUDICADO|  PREJUDICADO|  PREJUDICADO|    PREJUDICADO|  PREJUDICADO|                 33|               NULL|      ADULTO III (30 A ...|              Desconhecida|        Noite|       18h - 00h|       18h - 20h|\n",
      "|   2021-02-15|     09:36:00|2021-02-14| 22:00:00|       DOM|CRIMES DE VIOLENC...|           2|       2|        2021|    2021|      LESAO CORPORAL|      LESAO CORPORAL|      LESAO CORPORAL| VIOLENCIA DOMESTICA|VIOLENCIA FISICA|ALCOOLISMO / EMBR...|CRIMES CONTRA A M...|        OUTROS MEIOS|        SALVATERRA|ZONA RURAL DE SAL...|RESIDENCIA PARTIC...|     AGRESSAO FISICA| 1993-12-28| PREJUDICADO|       NAO INFORMADO|NAO INFORMADO|   NAO INFORMADO|         NULL|       M|        COMPANHEIRO(A)|NAO INFORMADO|NAO INFORMADO|NAO INFORMADO|  NAO INFORMADO|NAO INFORMADO|                 27|               NULL|      ADULTO II (25 A 2...|              Desconhecida|        Noite|       18h - 00h|       22h - 00h|\n",
      "|   2019-06-18|     17:05:00|2019-06-16| 15:05:00|       DOM|CRIMES DE VIOLENC...|           6|       6|        2019|    2019|              AMEACA|              AMEACA|                NULL|                NULL|            NULL|              OUTRAS|CRIMES CONTRA A M...|        OUTROS MEIOS|        SALVATERRA|ZONA RURAL DE SAL...|RESIDENCIA PARTIC...|AMEACA - CLISLEY ...| 2006-05-24| PREJUDICADO|                NULL|         NULL|            NULL|         NULL|       P|                  NULL|         NULL|         NULL|         NULL|           NULL|         NULL|                 13|               NULL|      ADOLESCENTE (12 A...|              Desconhecida|        Tarde|       12h - 18h|       14h - 16h|\n",
      "|   2021-09-24|     14:46:00|2021-09-24| 14:46:00|       SEX|CRIMES DE VIOLENC...|           9|       9|        2021|    2021|              AMEACA|              AMEACA|                NULL|                NULL|     PREJUDICADO|              OUTRAS|CRIMES CONTRA A M...|        OUTROS MEIOS|        SALVATERRA|ZONA RURAL DE SAL...|RESIDENCIA PARTIC...|SOLICITACAO DE ME...| 1990-08-23| PREJUDICADO|                NULL|         NULL|     SOLTEIRO(A)|         NULL|       P|                  NULL|         NULL|         NULL|         NULL|           NULL|         NULL|                 31|               NULL|      ADULTO III (30 A ...|              Desconhecida|        Tarde|       12h - 18h|       14h - 16h|\n",
      "|   2019-06-14|     09:39:00|2019-06-05| 11:00:00|       QUA|CRIMES DE VIOLENC...|           6|       6|        2019|    2019|              AMEACA|              AMEACA|                NULL|                NULL|            NULL|ALCOOLISMO / EMBR...|CRIMES CONTRA A M...|ARMA PERFURO CORT...|CACHOEIRA DO ARARI|ZONA RURAL DE CAC...|RESIDENCIA PARTIC...|AMEACA MARIA DA P...| 1997-10-24| PREJUDICADO|                NULL|         NULL|            NULL|         NULL|       P|                  NULL|         NULL|         NULL|         NULL|           NULL|         NULL|                 21|               NULL|      ADULTO I (18 A 24...|              Desconhecida|        Manhã|       06h - 12h|       10h - 12h|\n",
      "|   2021-07-18|     13:57:00|2021-07-18| 13:57:00|       DOM|CRIMES DE VIOLENC...|           7|       7|        2021|    2021|             INJURIA|             INJURIA|                NULL|                NULL|     PREJUDICADO|               CIUME|CRIMES CONTRA A M...|        OUTROS MEIOS|        SALVATERRA|ZONA RURAL DE SAL...|RESIDENCIA PARTIC...|INJURIA EM CONTEX...| 1983-05-27| PREJUDICADO|                NULL|         NULL|            NULL|         NULL|       P|                  NULL|         NULL|         NULL|         NULL|           NULL|         NULL|                 38|               NULL|      ADULTO IV (35 A 6...|              Desconhecida|        Tarde|       12h - 18h|       12h - 14h|\n",
      "|   2021-02-25|     16:29:00|2021-02-25| 13:00:00|       QUI|CRIMES DE VIOLENC...|           2|       2|        2021|    2021|              AMEACA|              AMEACA|                NULL|                NULL|     PREJUDICADO|               CIUME|CRIMES CONTRA A M...|        OUTROS MEIOS|        SALVATERRA|ZONA RURAL DE SAL...|         VIA PUBLICA|              AMEACA| 1979-11-08| PREJUDICADO|                NULL|         NULL|            NULL|         NULL|       P|                  NULL|         NULL|         NULL|         NULL|           NULL|         NULL|                 41|               NULL|      ADULTO IV (35 A 6...|              Desconhecida|        Tarde|       12h - 18h|       12h - 14h|\n",
      "|   2020-12-15|     09:13:00|2020-12-14| 02:00:00|       SEG|CRIMES DE VIOLENC...|          12|      12|        2020|    2020|      LESAO CORPORAL|      LESAO CORPORAL|      LESAO CORPORAL| VIOLENCIA DOMESTICA|VIOLENCIA FISICA|    ODIO OU VINGANCA|CRIMES CONTRA A M...|        OUTROS MEIOS|        SALVATERRA|ZONA RURAL DE SAL...|RESIDENCIA PARTIC...|            AGRESSAO| 1995-07-02|        NULL|                NULL|         NULL|            NULL|         NULL|       M|     EX-COMPANHEIRO(A)|         NULL|         NULL|         NULL|           NULL|         NULL|                 25|               NULL|      ADULTO II (25 A 2...|              Desconhecida|    Madrugada|       00h - 06h|       02h - 04h|\n",
      "|   2019-11-10|     09:34:00|2019-11-10| 08:00:00|       DOM|CRIMES DE VIOLENC...|          11|      11|        2019|    2019|      LESAO CORPORAL|      LESAO CORPORAL|                NULL|                NULL|            NULL|    ODIO OU VINGANCA|CRIMES CONTRA A M...|        OUTROS MEIOS|        SALVATERRA|   ESTRADA DE JOANES|RESIDENCIA PARTIC...|LESAO CORPORAL EM...| 1986-03-29|        NULL|                NULL|         NULL|            NULL|         NULL|       P|                  NULL|         NULL|         NULL|         NULL|           NULL|         NULL|                 33|               NULL|      ADULTO III (30 A ...|              Desconhecida|        Manhã|       06h - 12h|       08h - 10h|\n",
      "|   2019-08-06|     10:54:00|2019-08-05| 20:00:00|       SEG|CRIMES DE VIOLENC...|           8|       8|        2019|    2019|      LESAO CORPORAL|      LESAO CORPORAL|                NULL|                NULL|            NULL|    ODIO OU VINGANCA|CRIMES CONTRA A M...|        OUTROS MEIOS|        SALVATERRA|   ESTRADA DE JOANES|RESIDENCIA PARTIC...| VIOLENCIA DOMESTICA| 1986-11-05|        NULL|ENSINO FUNDAMENTA...| DONA DE CASA|     SOLTEIRO(A)|         NULL|       P|                  NULL|         NULL|         NULL|         NULL|           NULL|         NULL|                 32|               NULL|      ADULTO III (30 A ...|              Desconhecida|        Noite|       18h - 00h|       20h - 22h|\n",
      "|   2019-12-17|     09:54:00|2019-12-14| 11:30:00|       SAB|CRIMES DE VIOLENC...|          12|      12|        2019|    2019|CONSTRANGIMENTO I...|CONSTRANGIMENTO I...|                NULL|                NULL|            NULL|    ODIO OU VINGANCA|CRIMES CONTRA A M...|        OUTROS MEIOS|        SALVATERRA|   ESTRADA DE JOANES|RESIDENCIA PARTIC...| VIOLENCIA DOMESTICA| 1974-09-24|        NULL|ENSINO MEDIO COMP...|ADMINISTRADOR|       CASADO(A)|         NULL|       P|                  NULL|         NULL|         NULL|         NULL|           NULL|         NULL|                 45|               NULL|      ADULTO IV (35 A 6...|              Desconhecida|        Manhã|       06h - 12h|       10h - 12h|\n",
      "|   2019-12-23|     09:27:00|2019-12-22| 18:30:00|       DOM|CRIMES DE VIOLENC...|          12|      12|        2019|    2019|             INJURIA|             INJURIA|                NULL|                NULL|            NULL|              OUTRAS|CRIMES CONTRA A M...|        OUTROS MEIOS|        SALVATERRA|   ESTRADA DE JOANES|RESIDENCIA PARTIC...|INJURIA EM CONTEX...| 1989-09-14|        NULL|                NULL|         NULL|            NULL|         NULL|       P|                  NULL|         NULL|         NULL|         NULL|           NULL|         NULL|                 30|               NULL|      ADULTO III (30 A ...|              Desconhecida|        Noite|       18h - 00h|       18h - 20h|\n",
      "|   2019-08-05|     15:56:00|2019-08-05| 13:30:00|       SEG|CRIMES DE VIOLENC...|           8|       8|        2019|    2019|              AMEACA|              AMEACA|                NULL|                NULL|            NULL|ALCOOLISMO / EMBR...|CRIMES CONTRA A M...|        OUTROS MEIOS|        SALVATERRA|   ESTRADA DE JOANES|RESIDENCIA PARTIC...| VIOLENCIA DOMESTICA| 1986-11-05| PREJUDICADO|ENSINO FUNDAMENTA...| DONA DE CASA|     SOLTEIRO(A)|         NULL|       P|                  NULL|         NULL|         NULL|         NULL|           NULL|         NULL|                 32|               NULL|      ADULTO III (30 A ...|              Desconhecida|        Tarde|       12h - 18h|       12h - 14h|\n",
      "|   2019-10-14|     16:03:00|2019-10-14| 06:30:00|       SEG|CRIMES DE VIOLENC...|          10|      10|        2019|    2019|      LESAO CORPORAL|      LESAO CORPORAL|                NULL|                NULL|            NULL|          DEVASSIDAO|CRIMES CONTRA A M...|     SEM INSTRUMENTO|        SALVATERRA|   ESTRADA DE JOANES|RESIDENCIA PARTIC...|      LESAO CORPORAL| 1967-01-04|        NULL|                NULL|         NULL|            NULL|         NULL|       P|                  NULL|         NULL|         NULL|         NULL|           NULL|         NULL|                 52|               NULL|      ADULTO IV (35 A 6...|              Desconhecida|        Manhã|       06h - 12h|       06h - 08h|\n",
      "|   2020-11-15|     11:19:00|2020-11-14| 15:55:00|       SAB|CRIMES CONTRA A P...|          11|      11|        2020|    2020|      LESAO CORPORAL|      LESAO CORPORAL|      LESAO CORPORAL| VIOLENCIA DOMESTICA|     CONTUNDENTE|ALCOOLISMO / EMBR...|CRIMES CONTRA A I...|        OUTROS MEIOS|      MONTE ALEGRE|CENTRO DE MONTE A...|RESIDENCIA PARTIC...|VIOL DOMESTICA- L...| 1976-12-23|        NULL|    NAO ALFABETIZADO|    DOMESTICA|   UNIAO ESTAVEL|         NULL|       M|        COMPANHEIRO(A)|         NULL|         NULL|         NULL|           NULL|         NULL|                 43|               NULL|      ADULTO IV (35 A 6...|              Desconhecida|        Tarde|       12h - 18h|       14h - 16h|\n",
      "|   2021-07-26|     18:23:00|2021-07-26| 18:23:00|       SEG|CRIMES DE VIOLENC...|           7|       7|        2021|    2021|              AMEACA|              AMEACA|                NULL|                NULL|     PREJUDICADO|               CIUME|CRIMES CONTRA A M...|     SEM INSTRUMENTO|CACHOEIRA DO ARARI|ZONA RURAL DE CAC...|RESIDENCIA PARTIC...|              AMEACA| 1982-01-11| PREJUDICADO|                NULL|         NULL|            NULL|         NULL|       P|                  NULL|         NULL|         NULL|         NULL|           NULL|         NULL|                 39|               NULL|      ADULTO IV (35 A 6...|              Desconhecida|        Noite|       18h - 00h|       18h - 20h|\n",
      "|   2018-01-31|     15:36:00|2018-01-30| 07:30:00|       TER|CRIMES DE VIOLENC...|           1|       1|        2018|    2018|        VIAS DE FATO|        VIAS DE FATO|                NULL|VIOLENCIA DOMESTI...|   NAO INFORMADO|              OUTRAS|CRIMES CONTRA A M...|     SEM INSTRUMENTO|         BARCARENA|           BARCARENA|RESIDENCIA PARTIC...|VIAS DE FATO E I ...| 1986-08-14| PREJUDICADO|       NAO INFORMADO|NAO INFORMADO|   NAO INFORMADO|         NULL|       P|                  NULL|NAO INFORMADO|         NULL|         NULL|           NULL|         NULL|                 31|               NULL|      ADULTO III (30 A ...|              Desconhecida|        Manhã|       06h - 12h|       06h - 08h|\n",
      "|   2018-08-31|     08:48:00|2018-08-30| 21:29:00|       QUI|CRIMES DE VIOLENC...|           8|       8|        2018|    2018|      LESAO CORPORAL|      LESAO CORPORAL|                NULL|VIOLENCIA DOMESTI...|   NAO INFORMADO|    ODIO OU VINGANCA|CRIMES CONTRA A M...|     SEM INSTRUMENTO|         BARCARENA|           BARCARENA|RESIDENCIA PARTIC...|LESAO CORPORAL E ...| 1981-01-21| PREJUDICADO|       NAO INFORMADO|NAO INFORMADO|   NAO INFORMADO|         NULL|       P|                  NULL|NAO INFORMADO|         NULL|         NULL|           NULL|         NULL|                 37|               NULL|      ADULTO IV (35 A 6...|              Desconhecida|        Noite|       18h - 00h|       20h - 22h|\n",
      "|   2019-07-10|     15:27:00|2019-07-03| 18:30:00|       QUA|CRIMES DE VIOLENC...|           7|       7|        2019|    2019|             INJURIA|             INJURIA|                NULL|                NULL|            NULL|IMPERICIA / IMPRU...|CRIMES CONTRA A M...|     SEM INSTRUMENTO|          ALENQUER|       INDEPENDENCIA|RESIDENCIA PARTIC...|     INJURIA - (ALQ)| 2001-01-30|        NULL|                NULL|         NULL|            NULL|         NULL|       P|                  NULL|         NULL|         NULL|         NULL|           NULL|         NULL|                 18|               NULL|      ADULTO I (18 A 24...|              Desconhecida|        Noite|       18h - 00h|       18h - 20h|\n",
      "+-------------+-------------+----------+---------+----------+--------------------+------------+--------+------------+--------+--------------------+--------------------+--------------------+--------------------+----------------+--------------------+--------------------+--------------------+------------------+--------------------+--------------------+--------------------+-----------+------------+--------------------+-------------+----------------+-------------+--------+----------------------+-------------+-------------+-------------+---------------+-------------+-------------------+-------------------+--------------------------+--------------------------+-------------+----------------+----------------+\n",
      "only showing top 20 rows\n",
      "\n"
     ]
    },
    {
     "name": "stderr",
     "output_type": "stream",
     "text": [
      "                                                                                \r"
     ]
    }
   ],
   "source": [
    "# Use a lista com as colunas reorganizadas\n",
    "colunas = dados_VCM_PA.columns\n",
    "colunas_reorganizadas = colunas[:3] + [colunas[4]] + [colunas[3]] + colunas[5:]\n",
    "\n",
    "# Selecione as colunas na ordem desejada\n",
    "dados_VCM_PA_ordenadas = dados_VCM_PA.select(colunas_reorganizadas)\n",
    "\n",
    "# Exiba o DataFrame resultante\n",
    "dados_VCM_PA_ordenadas.show()"
   ]
  },
  {
   "cell_type": "code",
   "execution_count": 42,
   "metadata": {},
   "outputs": [
    {
     "name": "stderr",
     "output_type": "stream",
     "text": [
      "[Stage 52:>                                                         (0 + 1) / 1]\r"
     ]
    },
    {
     "name": "stdout",
     "output_type": "stream",
     "text": [
      "+-------------+-------------+----------+---------+----------+----------------+----------------+--------------------+------------+--------+------------+--------+--------------------+--------------------+--------------------+--------------------+----------------+--------------------+--------------------+--------------------+------------------+--------------------+--------------------+--------------------+-----------+------------+--------------------+-------------+----------------+-------------+--------+----------------------+-------------+-------------+-------------+---------------+-------------+-------------------+-------------------+--------------------------+--------------------------+-------------+\n",
      "|data_registro|hora_registro| data_fato|hora_fato|dia_semana|faixa_horaria_2h|faixa_horaria_6h|       classe_motivo|mes_registro|mes_fato|ano_registro|ano_fato|           registros|         consolidado|           fato_real| especificacao_crime|   meio_emp_deac|    causa_presumivel| especializacao_fato| meio_empregado_sisp|        municipios|             bairros|    local_ocorrencia|  identificacao_fato|vit_dt_nasc|vit_cor_pele|       vit_grau_inst|vit_profissao|vit_estado_civil|aut_data_nasc|aut_sexo|grau_de_relacionamento| aut_cor_pele|aut_grau_inst|aut_profissao|aut_sit_emprego|aut_est_civil|vit_idade_calculada|aut_idade_calculada|vit_faixa_etaria_calculada|aut_faixa_etaria_calculada|faixa_horaria|\n",
      "+-------------+-------------+----------+---------+----------+----------------+----------------+--------------------+------------+--------+------------+--------+--------------------+--------------------+--------------------+--------------------+----------------+--------------------+--------------------+--------------------+------------------+--------------------+--------------------+--------------------+-----------+------------+--------------------+-------------+----------------+-------------+--------+----------------------+-------------+-------------+-------------+---------------+-------------+-------------------+-------------------+--------------------------+--------------------------+-------------+\n",
      "|   2022-04-07|     16:47:00|2022-04-07| 16:47:00|       QUI|       16h - 18h|       12h - 18h|CRIMES DE VIOLENC...|           4|       4|        2022|    2022|              AMEACA|              AMEACA|                NULL|                NULL|            NULL|               CIUME|CRIMES CONTRA A M...|     SEM INSTRUMENTO|CACHOEIRA DO ARARI|          PETROPOLIS|         VIA PUBLICA|              AMEACA| 1998-06-15| PREJUDICADO|                NULL|         NULL|            NULL|         NULL|       P|                  NULL|  PREJUDICADO|         NULL|         NULL|           NULL|         NULL|                 23|               NULL|      ADULTO I (18 A 24...|              Desconhecida|        Tarde|\n",
      "|   2022-03-16|     18:27:00|2022-03-16| 18:27:00|       QUA|       18h - 20h|       18h - 00h|CRIMES DE VIOLENC...|           3|       3|        2022|    2022|              AMEACA|VIOLENCIA PSICOLO...|VIOLENCIA PSICOLO...| VIOLENCIA DOMESTICA|          AMEACA|               CIUME|CRIMES CONTRA A M...|     SEM INSTRUMENTO|CACHOEIRA DO ARARI|           AEROPORTO|RESIDENCIA PARTIC...|AMEACA VIOLENCIA ...| 1988-12-01| PREJUDICADO|         PREJUDICADO|  PREJUDICADO|     PREJUDICADO|         NULL|       M|     EX-COMPANHEIRO(A)|  PREJUDICADO|  PREJUDICADO|  PREJUDICADO|    PREJUDICADO|  PREJUDICADO|                 33|               NULL|      ADULTO III (30 A ...|              Desconhecida|        Noite|\n",
      "|   2021-02-15|     09:36:00|2021-02-14| 22:00:00|       DOM|       22h - 00h|       18h - 00h|CRIMES DE VIOLENC...|           2|       2|        2021|    2021|      LESAO CORPORAL|      LESAO CORPORAL|      LESAO CORPORAL| VIOLENCIA DOMESTICA|VIOLENCIA FISICA|ALCOOLISMO / EMBR...|CRIMES CONTRA A M...|        OUTROS MEIOS|        SALVATERRA|ZONA RURAL DE SAL...|RESIDENCIA PARTIC...|     AGRESSAO FISICA| 1993-12-28| PREJUDICADO|       NAO INFORMADO|NAO INFORMADO|   NAO INFORMADO|         NULL|       M|        COMPANHEIRO(A)|NAO INFORMADO|NAO INFORMADO|NAO INFORMADO|  NAO INFORMADO|NAO INFORMADO|                 27|               NULL|      ADULTO II (25 A 2...|              Desconhecida|        Noite|\n",
      "|   2019-06-18|     17:05:00|2019-06-16| 15:05:00|       DOM|       14h - 16h|       12h - 18h|CRIMES DE VIOLENC...|           6|       6|        2019|    2019|              AMEACA|              AMEACA|                NULL|                NULL|            NULL|              OUTRAS|CRIMES CONTRA A M...|        OUTROS MEIOS|        SALVATERRA|ZONA RURAL DE SAL...|RESIDENCIA PARTIC...|AMEACA - CLISLEY ...| 2006-05-24| PREJUDICADO|                NULL|         NULL|            NULL|         NULL|       P|                  NULL|         NULL|         NULL|         NULL|           NULL|         NULL|                 13|               NULL|      ADOLESCENTE (12 A...|              Desconhecida|        Tarde|\n",
      "|   2021-09-24|     14:46:00|2021-09-24| 14:46:00|       SEX|       14h - 16h|       12h - 18h|CRIMES DE VIOLENC...|           9|       9|        2021|    2021|              AMEACA|              AMEACA|                NULL|                NULL|     PREJUDICADO|              OUTRAS|CRIMES CONTRA A M...|        OUTROS MEIOS|        SALVATERRA|ZONA RURAL DE SAL...|RESIDENCIA PARTIC...|SOLICITACAO DE ME...| 1990-08-23| PREJUDICADO|                NULL|         NULL|     SOLTEIRO(A)|         NULL|       P|                  NULL|         NULL|         NULL|         NULL|           NULL|         NULL|                 31|               NULL|      ADULTO III (30 A ...|              Desconhecida|        Tarde|\n",
      "|   2019-06-14|     09:39:00|2019-06-05| 11:00:00|       QUA|       10h - 12h|       06h - 12h|CRIMES DE VIOLENC...|           6|       6|        2019|    2019|              AMEACA|              AMEACA|                NULL|                NULL|            NULL|ALCOOLISMO / EMBR...|CRIMES CONTRA A M...|ARMA PERFURO CORT...|CACHOEIRA DO ARARI|ZONA RURAL DE CAC...|RESIDENCIA PARTIC...|AMEACA MARIA DA P...| 1997-10-24| PREJUDICADO|                NULL|         NULL|            NULL|         NULL|       P|                  NULL|         NULL|         NULL|         NULL|           NULL|         NULL|                 21|               NULL|      ADULTO I (18 A 24...|              Desconhecida|        Manhã|\n",
      "|   2021-07-18|     13:57:00|2021-07-18| 13:57:00|       DOM|       12h - 14h|       12h - 18h|CRIMES DE VIOLENC...|           7|       7|        2021|    2021|             INJURIA|             INJURIA|                NULL|                NULL|     PREJUDICADO|               CIUME|CRIMES CONTRA A M...|        OUTROS MEIOS|        SALVATERRA|ZONA RURAL DE SAL...|RESIDENCIA PARTIC...|INJURIA EM CONTEX...| 1983-05-27| PREJUDICADO|                NULL|         NULL|            NULL|         NULL|       P|                  NULL|         NULL|         NULL|         NULL|           NULL|         NULL|                 38|               NULL|      ADULTO IV (35 A 6...|              Desconhecida|        Tarde|\n",
      "|   2021-02-25|     16:29:00|2021-02-25| 13:00:00|       QUI|       12h - 14h|       12h - 18h|CRIMES DE VIOLENC...|           2|       2|        2021|    2021|              AMEACA|              AMEACA|                NULL|                NULL|     PREJUDICADO|               CIUME|CRIMES CONTRA A M...|        OUTROS MEIOS|        SALVATERRA|ZONA RURAL DE SAL...|         VIA PUBLICA|              AMEACA| 1979-11-08| PREJUDICADO|                NULL|         NULL|            NULL|         NULL|       P|                  NULL|         NULL|         NULL|         NULL|           NULL|         NULL|                 41|               NULL|      ADULTO IV (35 A 6...|              Desconhecida|        Tarde|\n",
      "|   2020-12-15|     09:13:00|2020-12-14| 02:00:00|       SEG|       02h - 04h|       00h - 06h|CRIMES DE VIOLENC...|          12|      12|        2020|    2020|      LESAO CORPORAL|      LESAO CORPORAL|      LESAO CORPORAL| VIOLENCIA DOMESTICA|VIOLENCIA FISICA|    ODIO OU VINGANCA|CRIMES CONTRA A M...|        OUTROS MEIOS|        SALVATERRA|ZONA RURAL DE SAL...|RESIDENCIA PARTIC...|            AGRESSAO| 1995-07-02|        NULL|                NULL|         NULL|            NULL|         NULL|       M|     EX-COMPANHEIRO(A)|         NULL|         NULL|         NULL|           NULL|         NULL|                 25|               NULL|      ADULTO II (25 A 2...|              Desconhecida|    Madrugada|\n",
      "|   2019-11-10|     09:34:00|2019-11-10| 08:00:00|       DOM|       08h - 10h|       06h - 12h|CRIMES DE VIOLENC...|          11|      11|        2019|    2019|      LESAO CORPORAL|      LESAO CORPORAL|                NULL|                NULL|            NULL|    ODIO OU VINGANCA|CRIMES CONTRA A M...|        OUTROS MEIOS|        SALVATERRA|   ESTRADA DE JOANES|RESIDENCIA PARTIC...|LESAO CORPORAL EM...| 1986-03-29|        NULL|                NULL|         NULL|            NULL|         NULL|       P|                  NULL|         NULL|         NULL|         NULL|           NULL|         NULL|                 33|               NULL|      ADULTO III (30 A ...|              Desconhecida|        Manhã|\n",
      "|   2019-08-06|     10:54:00|2019-08-05| 20:00:00|       SEG|       20h - 22h|       18h - 00h|CRIMES DE VIOLENC...|           8|       8|        2019|    2019|      LESAO CORPORAL|      LESAO CORPORAL|                NULL|                NULL|            NULL|    ODIO OU VINGANCA|CRIMES CONTRA A M...|        OUTROS MEIOS|        SALVATERRA|   ESTRADA DE JOANES|RESIDENCIA PARTIC...| VIOLENCIA DOMESTICA| 1986-11-05|        NULL|ENSINO FUNDAMENTA...| DONA DE CASA|     SOLTEIRO(A)|         NULL|       P|                  NULL|         NULL|         NULL|         NULL|           NULL|         NULL|                 32|               NULL|      ADULTO III (30 A ...|              Desconhecida|        Noite|\n",
      "|   2019-12-17|     09:54:00|2019-12-14| 11:30:00|       SAB|       10h - 12h|       06h - 12h|CRIMES DE VIOLENC...|          12|      12|        2019|    2019|CONSTRANGIMENTO I...|CONSTRANGIMENTO I...|                NULL|                NULL|            NULL|    ODIO OU VINGANCA|CRIMES CONTRA A M...|        OUTROS MEIOS|        SALVATERRA|   ESTRADA DE JOANES|RESIDENCIA PARTIC...| VIOLENCIA DOMESTICA| 1974-09-24|        NULL|ENSINO MEDIO COMP...|ADMINISTRADOR|       CASADO(A)|         NULL|       P|                  NULL|         NULL|         NULL|         NULL|           NULL|         NULL|                 45|               NULL|      ADULTO IV (35 A 6...|              Desconhecida|        Manhã|\n",
      "|   2019-12-23|     09:27:00|2019-12-22| 18:30:00|       DOM|       18h - 20h|       18h - 00h|CRIMES DE VIOLENC...|          12|      12|        2019|    2019|             INJURIA|             INJURIA|                NULL|                NULL|            NULL|              OUTRAS|CRIMES CONTRA A M...|        OUTROS MEIOS|        SALVATERRA|   ESTRADA DE JOANES|RESIDENCIA PARTIC...|INJURIA EM CONTEX...| 1989-09-14|        NULL|                NULL|         NULL|            NULL|         NULL|       P|                  NULL|         NULL|         NULL|         NULL|           NULL|         NULL|                 30|               NULL|      ADULTO III (30 A ...|              Desconhecida|        Noite|\n",
      "|   2019-08-05|     15:56:00|2019-08-05| 13:30:00|       SEG|       12h - 14h|       12h - 18h|CRIMES DE VIOLENC...|           8|       8|        2019|    2019|              AMEACA|              AMEACA|                NULL|                NULL|            NULL|ALCOOLISMO / EMBR...|CRIMES CONTRA A M...|        OUTROS MEIOS|        SALVATERRA|   ESTRADA DE JOANES|RESIDENCIA PARTIC...| VIOLENCIA DOMESTICA| 1986-11-05| PREJUDICADO|ENSINO FUNDAMENTA...| DONA DE CASA|     SOLTEIRO(A)|         NULL|       P|                  NULL|         NULL|         NULL|         NULL|           NULL|         NULL|                 32|               NULL|      ADULTO III (30 A ...|              Desconhecida|        Tarde|\n",
      "|   2019-10-14|     16:03:00|2019-10-14| 06:30:00|       SEG|       06h - 08h|       06h - 12h|CRIMES DE VIOLENC...|          10|      10|        2019|    2019|      LESAO CORPORAL|      LESAO CORPORAL|                NULL|                NULL|            NULL|          DEVASSIDAO|CRIMES CONTRA A M...|     SEM INSTRUMENTO|        SALVATERRA|   ESTRADA DE JOANES|RESIDENCIA PARTIC...|      LESAO CORPORAL| 1967-01-04|        NULL|                NULL|         NULL|            NULL|         NULL|       P|                  NULL|         NULL|         NULL|         NULL|           NULL|         NULL|                 52|               NULL|      ADULTO IV (35 A 6...|              Desconhecida|        Manhã|\n",
      "|   2020-11-15|     11:19:00|2020-11-14| 15:55:00|       SAB|       14h - 16h|       12h - 18h|CRIMES CONTRA A P...|          11|      11|        2020|    2020|      LESAO CORPORAL|      LESAO CORPORAL|      LESAO CORPORAL| VIOLENCIA DOMESTICA|     CONTUNDENTE|ALCOOLISMO / EMBR...|CRIMES CONTRA A I...|        OUTROS MEIOS|      MONTE ALEGRE|CENTRO DE MONTE A...|RESIDENCIA PARTIC...|VIOL DOMESTICA- L...| 1976-12-23|        NULL|    NAO ALFABETIZADO|    DOMESTICA|   UNIAO ESTAVEL|         NULL|       M|        COMPANHEIRO(A)|         NULL|         NULL|         NULL|           NULL|         NULL|                 43|               NULL|      ADULTO IV (35 A 6...|              Desconhecida|        Tarde|\n",
      "|   2021-07-26|     18:23:00|2021-07-26| 18:23:00|       SEG|       18h - 20h|       18h - 00h|CRIMES DE VIOLENC...|           7|       7|        2021|    2021|              AMEACA|              AMEACA|                NULL|                NULL|     PREJUDICADO|               CIUME|CRIMES CONTRA A M...|     SEM INSTRUMENTO|CACHOEIRA DO ARARI|ZONA RURAL DE CAC...|RESIDENCIA PARTIC...|              AMEACA| 1982-01-11| PREJUDICADO|                NULL|         NULL|            NULL|         NULL|       P|                  NULL|         NULL|         NULL|         NULL|           NULL|         NULL|                 39|               NULL|      ADULTO IV (35 A 6...|              Desconhecida|        Noite|\n",
      "|   2018-01-31|     15:36:00|2018-01-30| 07:30:00|       TER|       06h - 08h|       06h - 12h|CRIMES DE VIOLENC...|           1|       1|        2018|    2018|        VIAS DE FATO|        VIAS DE FATO|                NULL|VIOLENCIA DOMESTI...|   NAO INFORMADO|              OUTRAS|CRIMES CONTRA A M...|     SEM INSTRUMENTO|         BARCARENA|           BARCARENA|RESIDENCIA PARTIC...|VIAS DE FATO E I ...| 1986-08-14| PREJUDICADO|       NAO INFORMADO|NAO INFORMADO|   NAO INFORMADO|         NULL|       P|                  NULL|NAO INFORMADO|         NULL|         NULL|           NULL|         NULL|                 31|               NULL|      ADULTO III (30 A ...|              Desconhecida|        Manhã|\n",
      "|   2018-08-31|     08:48:00|2018-08-30| 21:29:00|       QUI|       20h - 22h|       18h - 00h|CRIMES DE VIOLENC...|           8|       8|        2018|    2018|      LESAO CORPORAL|      LESAO CORPORAL|                NULL|VIOLENCIA DOMESTI...|   NAO INFORMADO|    ODIO OU VINGANCA|CRIMES CONTRA A M...|     SEM INSTRUMENTO|         BARCARENA|           BARCARENA|RESIDENCIA PARTIC...|LESAO CORPORAL E ...| 1981-01-21| PREJUDICADO|       NAO INFORMADO|NAO INFORMADO|   NAO INFORMADO|         NULL|       P|                  NULL|NAO INFORMADO|         NULL|         NULL|           NULL|         NULL|                 37|               NULL|      ADULTO IV (35 A 6...|              Desconhecida|        Noite|\n",
      "|   2019-07-10|     15:27:00|2019-07-03| 18:30:00|       QUA|       18h - 20h|       18h - 00h|CRIMES DE VIOLENC...|           7|       7|        2019|    2019|             INJURIA|             INJURIA|                NULL|                NULL|            NULL|IMPERICIA / IMPRU...|CRIMES CONTRA A M...|     SEM INSTRUMENTO|          ALENQUER|       INDEPENDENCIA|RESIDENCIA PARTIC...|     INJURIA - (ALQ)| 2001-01-30|        NULL|                NULL|         NULL|            NULL|         NULL|       P|                  NULL|         NULL|         NULL|         NULL|           NULL|         NULL|                 18|               NULL|      ADULTO I (18 A 24...|              Desconhecida|        Noite|\n",
      "+-------------+-------------+----------+---------+----------+----------------+----------------+--------------------+------------+--------+------------+--------+--------------------+--------------------+--------------------+--------------------+----------------+--------------------+--------------------+--------------------+------------------+--------------------+--------------------+--------------------+-----------+------------+--------------------+-------------+----------------+-------------+--------+----------------------+-------------+-------------+-------------+---------------+-------------+-------------------+-------------------+--------------------------+--------------------------+-------------+\n",
      "only showing top 20 rows\n",
      "\n"
     ]
    },
    {
     "name": "stderr",
     "output_type": "stream",
     "text": [
      "                                                                                \r"
     ]
    }
   ],
   "source": [
    "# Use a lista com as colunas reorganizadas\n",
    "colunas = dados_VCM_PA_ordenadas.columns\n",
    "colunas_reorganizadas = colunas[:5] + [colunas[41]] + colunas[5:41]\n",
    "\n",
    "# Selecione as colunas na ordem desejada\n",
    "dados_VCM_PA_ordenadas = dados_VCM_PA_ordenadas.select(colunas_reorganizadas)\n",
    "\n",
    "# Use a lista com as colunas reorganizadas\n",
    "colunas = dados_VCM_PA_ordenadas.columns\n",
    "colunas_reorganizadas = colunas[:6] + [colunas[41]] + colunas[6:41]\n",
    "\n",
    "# Selecione as colunas na ordem desejada\n",
    "dados_VCM_PA_ordenadas = dados_VCM_PA_ordenadas.select(colunas_reorganizadas)\n",
    "\n",
    "dados_VCM_PA = dados_VCM_PA_ordenadas\n",
    "dados_VCM_PA.show()"
   ]
  },
  {
   "cell_type": "code",
   "execution_count": 43,
   "metadata": {},
   "outputs": [],
   "source": [
    "dados_VCM_PA = dados_VCM_PA \\\n",
    "    .withColumnRenamed(\"vit_idade_calculada\", \"vit_idade\") \\\n",
    "    .withColumnRenamed(\"aut_idade_calculada\", \"aut_idade\") \\\n",
    "    .withColumnRenamed(\"vit_faixa_etaria_calculada\", \"vit_faixa_etaria\") \\\n",
    "    .withColumnRenamed(\"aut_faixa_etaria_calculada\", \"aut_faixa_etaria\")"
   ]
  },
  {
   "cell_type": "code",
   "execution_count": 44,
   "metadata": {},
   "outputs": [
    {
     "name": "stderr",
     "output_type": "stream",
     "text": [
      "[Stage 53:>                                                         (0 + 1) / 1]\r"
     ]
    },
    {
     "name": "stdout",
     "output_type": "stream",
     "text": [
      "+-------------+-------------+----------+---------+----------+----------------+----------------+--------------------+------------+--------+------------+--------+--------------------+--------------------+--------------------+--------------------+----------------+--------------------+--------------------+--------------------+------------------+--------------------+--------------------+--------------------+-----------+------------+--------------------+-------------+----------------+-------------+--------+----------------------+-------------+-------------+-------------+---------------+-------------+---------+---------+--------------------+----------------+-------------+\n",
      "|data_registro|hora_registro| data_fato|hora_fato|dia_semana|faixa_horaria_2h|faixa_horaria_6h|       classe_motivo|mes_registro|mes_fato|ano_registro|ano_fato|           registros|         consolidado|           fato_real| especificacao_crime|   meio_emp_deac|    causa_presumivel| especializacao_fato| meio_empregado_sisp|        municipios|             bairros|    local_ocorrencia|  identificacao_fato|vit_dt_nasc|vit_cor_pele|       vit_grau_inst|vit_profissao|vit_estado_civil|aut_data_nasc|aut_sexo|grau_de_relacionamento| aut_cor_pele|aut_grau_inst|aut_profissao|aut_sit_emprego|aut_est_civil|vit_idade|aut_idade|    vit_faixa_etaria|aut_faixa_etaria|faixa_horaria|\n",
      "+-------------+-------------+----------+---------+----------+----------------+----------------+--------------------+------------+--------+------------+--------+--------------------+--------------------+--------------------+--------------------+----------------+--------------------+--------------------+--------------------+------------------+--------------------+--------------------+--------------------+-----------+------------+--------------------+-------------+----------------+-------------+--------+----------------------+-------------+-------------+-------------+---------------+-------------+---------+---------+--------------------+----------------+-------------+\n",
      "|   2022-04-07|     16:47:00|2022-04-07| 16:47:00|       QUI|       16h - 18h|       12h - 18h|CRIMES DE VIOLENC...|           4|       4|        2022|    2022|              AMEACA|              AMEACA|                NULL|                NULL|            NULL|               CIUME|CRIMES CONTRA A M...|     SEM INSTRUMENTO|CACHOEIRA DO ARARI|          PETROPOLIS|         VIA PUBLICA|              AMEACA| 1998-06-15| PREJUDICADO|                NULL|         NULL|            NULL|         NULL|       P|                  NULL|  PREJUDICADO|         NULL|         NULL|           NULL|         NULL|       23|     NULL|ADULTO I (18 A 24...|    Desconhecida|        Tarde|\n",
      "|   2022-03-16|     18:27:00|2022-03-16| 18:27:00|       QUA|       18h - 20h|       18h - 00h|CRIMES DE VIOLENC...|           3|       3|        2022|    2022|              AMEACA|VIOLENCIA PSICOLO...|VIOLENCIA PSICOLO...| VIOLENCIA DOMESTICA|          AMEACA|               CIUME|CRIMES CONTRA A M...|     SEM INSTRUMENTO|CACHOEIRA DO ARARI|           AEROPORTO|RESIDENCIA PARTIC...|AMEACA VIOLENCIA ...| 1988-12-01| PREJUDICADO|         PREJUDICADO|  PREJUDICADO|     PREJUDICADO|         NULL|       M|     EX-COMPANHEIRO(A)|  PREJUDICADO|  PREJUDICADO|  PREJUDICADO|    PREJUDICADO|  PREJUDICADO|       33|     NULL|ADULTO III (30 A ...|    Desconhecida|        Noite|\n",
      "|   2021-02-15|     09:36:00|2021-02-14| 22:00:00|       DOM|       22h - 00h|       18h - 00h|CRIMES DE VIOLENC...|           2|       2|        2021|    2021|      LESAO CORPORAL|      LESAO CORPORAL|      LESAO CORPORAL| VIOLENCIA DOMESTICA|VIOLENCIA FISICA|ALCOOLISMO / EMBR...|CRIMES CONTRA A M...|        OUTROS MEIOS|        SALVATERRA|ZONA RURAL DE SAL...|RESIDENCIA PARTIC...|     AGRESSAO FISICA| 1993-12-28| PREJUDICADO|       NAO INFORMADO|NAO INFORMADO|   NAO INFORMADO|         NULL|       M|        COMPANHEIRO(A)|NAO INFORMADO|NAO INFORMADO|NAO INFORMADO|  NAO INFORMADO|NAO INFORMADO|       27|     NULL|ADULTO II (25 A 2...|    Desconhecida|        Noite|\n",
      "|   2019-06-18|     17:05:00|2019-06-16| 15:05:00|       DOM|       14h - 16h|       12h - 18h|CRIMES DE VIOLENC...|           6|       6|        2019|    2019|              AMEACA|              AMEACA|                NULL|                NULL|            NULL|              OUTRAS|CRIMES CONTRA A M...|        OUTROS MEIOS|        SALVATERRA|ZONA RURAL DE SAL...|RESIDENCIA PARTIC...|AMEACA - CLISLEY ...| 2006-05-24| PREJUDICADO|                NULL|         NULL|            NULL|         NULL|       P|                  NULL|         NULL|         NULL|         NULL|           NULL|         NULL|       13|     NULL|ADOLESCENTE (12 A...|    Desconhecida|        Tarde|\n",
      "|   2021-09-24|     14:46:00|2021-09-24| 14:46:00|       SEX|       14h - 16h|       12h - 18h|CRIMES DE VIOLENC...|           9|       9|        2021|    2021|              AMEACA|              AMEACA|                NULL|                NULL|     PREJUDICADO|              OUTRAS|CRIMES CONTRA A M...|        OUTROS MEIOS|        SALVATERRA|ZONA RURAL DE SAL...|RESIDENCIA PARTIC...|SOLICITACAO DE ME...| 1990-08-23| PREJUDICADO|                NULL|         NULL|     SOLTEIRO(A)|         NULL|       P|                  NULL|         NULL|         NULL|         NULL|           NULL|         NULL|       31|     NULL|ADULTO III (30 A ...|    Desconhecida|        Tarde|\n",
      "|   2019-06-14|     09:39:00|2019-06-05| 11:00:00|       QUA|       10h - 12h|       06h - 12h|CRIMES DE VIOLENC...|           6|       6|        2019|    2019|              AMEACA|              AMEACA|                NULL|                NULL|            NULL|ALCOOLISMO / EMBR...|CRIMES CONTRA A M...|ARMA PERFURO CORT...|CACHOEIRA DO ARARI|ZONA RURAL DE CAC...|RESIDENCIA PARTIC...|AMEACA MARIA DA P...| 1997-10-24| PREJUDICADO|                NULL|         NULL|            NULL|         NULL|       P|                  NULL|         NULL|         NULL|         NULL|           NULL|         NULL|       21|     NULL|ADULTO I (18 A 24...|    Desconhecida|        Manhã|\n",
      "|   2021-07-18|     13:57:00|2021-07-18| 13:57:00|       DOM|       12h - 14h|       12h - 18h|CRIMES DE VIOLENC...|           7|       7|        2021|    2021|             INJURIA|             INJURIA|                NULL|                NULL|     PREJUDICADO|               CIUME|CRIMES CONTRA A M...|        OUTROS MEIOS|        SALVATERRA|ZONA RURAL DE SAL...|RESIDENCIA PARTIC...|INJURIA EM CONTEX...| 1983-05-27| PREJUDICADO|                NULL|         NULL|            NULL|         NULL|       P|                  NULL|         NULL|         NULL|         NULL|           NULL|         NULL|       38|     NULL|ADULTO IV (35 A 6...|    Desconhecida|        Tarde|\n",
      "|   2021-02-25|     16:29:00|2021-02-25| 13:00:00|       QUI|       12h - 14h|       12h - 18h|CRIMES DE VIOLENC...|           2|       2|        2021|    2021|              AMEACA|              AMEACA|                NULL|                NULL|     PREJUDICADO|               CIUME|CRIMES CONTRA A M...|        OUTROS MEIOS|        SALVATERRA|ZONA RURAL DE SAL...|         VIA PUBLICA|              AMEACA| 1979-11-08| PREJUDICADO|                NULL|         NULL|            NULL|         NULL|       P|                  NULL|         NULL|         NULL|         NULL|           NULL|         NULL|       41|     NULL|ADULTO IV (35 A 6...|    Desconhecida|        Tarde|\n",
      "|   2020-12-15|     09:13:00|2020-12-14| 02:00:00|       SEG|       02h - 04h|       00h - 06h|CRIMES DE VIOLENC...|          12|      12|        2020|    2020|      LESAO CORPORAL|      LESAO CORPORAL|      LESAO CORPORAL| VIOLENCIA DOMESTICA|VIOLENCIA FISICA|    ODIO OU VINGANCA|CRIMES CONTRA A M...|        OUTROS MEIOS|        SALVATERRA|ZONA RURAL DE SAL...|RESIDENCIA PARTIC...|            AGRESSAO| 1995-07-02|        NULL|                NULL|         NULL|            NULL|         NULL|       M|     EX-COMPANHEIRO(A)|         NULL|         NULL|         NULL|           NULL|         NULL|       25|     NULL|ADULTO II (25 A 2...|    Desconhecida|    Madrugada|\n",
      "|   2019-11-10|     09:34:00|2019-11-10| 08:00:00|       DOM|       08h - 10h|       06h - 12h|CRIMES DE VIOLENC...|          11|      11|        2019|    2019|      LESAO CORPORAL|      LESAO CORPORAL|                NULL|                NULL|            NULL|    ODIO OU VINGANCA|CRIMES CONTRA A M...|        OUTROS MEIOS|        SALVATERRA|   ESTRADA DE JOANES|RESIDENCIA PARTIC...|LESAO CORPORAL EM...| 1986-03-29|        NULL|                NULL|         NULL|            NULL|         NULL|       P|                  NULL|         NULL|         NULL|         NULL|           NULL|         NULL|       33|     NULL|ADULTO III (30 A ...|    Desconhecida|        Manhã|\n",
      "|   2019-08-06|     10:54:00|2019-08-05| 20:00:00|       SEG|       20h - 22h|       18h - 00h|CRIMES DE VIOLENC...|           8|       8|        2019|    2019|      LESAO CORPORAL|      LESAO CORPORAL|                NULL|                NULL|            NULL|    ODIO OU VINGANCA|CRIMES CONTRA A M...|        OUTROS MEIOS|        SALVATERRA|   ESTRADA DE JOANES|RESIDENCIA PARTIC...| VIOLENCIA DOMESTICA| 1986-11-05|        NULL|ENSINO FUNDAMENTA...| DONA DE CASA|     SOLTEIRO(A)|         NULL|       P|                  NULL|         NULL|         NULL|         NULL|           NULL|         NULL|       32|     NULL|ADULTO III (30 A ...|    Desconhecida|        Noite|\n",
      "|   2019-12-17|     09:54:00|2019-12-14| 11:30:00|       SAB|       10h - 12h|       06h - 12h|CRIMES DE VIOLENC...|          12|      12|        2019|    2019|CONSTRANGIMENTO I...|CONSTRANGIMENTO I...|                NULL|                NULL|            NULL|    ODIO OU VINGANCA|CRIMES CONTRA A M...|        OUTROS MEIOS|        SALVATERRA|   ESTRADA DE JOANES|RESIDENCIA PARTIC...| VIOLENCIA DOMESTICA| 1974-09-24|        NULL|ENSINO MEDIO COMP...|ADMINISTRADOR|       CASADO(A)|         NULL|       P|                  NULL|         NULL|         NULL|         NULL|           NULL|         NULL|       45|     NULL|ADULTO IV (35 A 6...|    Desconhecida|        Manhã|\n",
      "|   2019-12-23|     09:27:00|2019-12-22| 18:30:00|       DOM|       18h - 20h|       18h - 00h|CRIMES DE VIOLENC...|          12|      12|        2019|    2019|             INJURIA|             INJURIA|                NULL|                NULL|            NULL|              OUTRAS|CRIMES CONTRA A M...|        OUTROS MEIOS|        SALVATERRA|   ESTRADA DE JOANES|RESIDENCIA PARTIC...|INJURIA EM CONTEX...| 1989-09-14|        NULL|                NULL|         NULL|            NULL|         NULL|       P|                  NULL|         NULL|         NULL|         NULL|           NULL|         NULL|       30|     NULL|ADULTO III (30 A ...|    Desconhecida|        Noite|\n",
      "|   2019-08-05|     15:56:00|2019-08-05| 13:30:00|       SEG|       12h - 14h|       12h - 18h|CRIMES DE VIOLENC...|           8|       8|        2019|    2019|              AMEACA|              AMEACA|                NULL|                NULL|            NULL|ALCOOLISMO / EMBR...|CRIMES CONTRA A M...|        OUTROS MEIOS|        SALVATERRA|   ESTRADA DE JOANES|RESIDENCIA PARTIC...| VIOLENCIA DOMESTICA| 1986-11-05| PREJUDICADO|ENSINO FUNDAMENTA...| DONA DE CASA|     SOLTEIRO(A)|         NULL|       P|                  NULL|         NULL|         NULL|         NULL|           NULL|         NULL|       32|     NULL|ADULTO III (30 A ...|    Desconhecida|        Tarde|\n",
      "|   2019-10-14|     16:03:00|2019-10-14| 06:30:00|       SEG|       06h - 08h|       06h - 12h|CRIMES DE VIOLENC...|          10|      10|        2019|    2019|      LESAO CORPORAL|      LESAO CORPORAL|                NULL|                NULL|            NULL|          DEVASSIDAO|CRIMES CONTRA A M...|     SEM INSTRUMENTO|        SALVATERRA|   ESTRADA DE JOANES|RESIDENCIA PARTIC...|      LESAO CORPORAL| 1967-01-04|        NULL|                NULL|         NULL|            NULL|         NULL|       P|                  NULL|         NULL|         NULL|         NULL|           NULL|         NULL|       52|     NULL|ADULTO IV (35 A 6...|    Desconhecida|        Manhã|\n",
      "|   2020-11-15|     11:19:00|2020-11-14| 15:55:00|       SAB|       14h - 16h|       12h - 18h|CRIMES CONTRA A P...|          11|      11|        2020|    2020|      LESAO CORPORAL|      LESAO CORPORAL|      LESAO CORPORAL| VIOLENCIA DOMESTICA|     CONTUNDENTE|ALCOOLISMO / EMBR...|CRIMES CONTRA A I...|        OUTROS MEIOS|      MONTE ALEGRE|CENTRO DE MONTE A...|RESIDENCIA PARTIC...|VIOL DOMESTICA- L...| 1976-12-23|        NULL|    NAO ALFABETIZADO|    DOMESTICA|   UNIAO ESTAVEL|         NULL|       M|        COMPANHEIRO(A)|         NULL|         NULL|         NULL|           NULL|         NULL|       43|     NULL|ADULTO IV (35 A 6...|    Desconhecida|        Tarde|\n",
      "|   2021-07-26|     18:23:00|2021-07-26| 18:23:00|       SEG|       18h - 20h|       18h - 00h|CRIMES DE VIOLENC...|           7|       7|        2021|    2021|              AMEACA|              AMEACA|                NULL|                NULL|     PREJUDICADO|               CIUME|CRIMES CONTRA A M...|     SEM INSTRUMENTO|CACHOEIRA DO ARARI|ZONA RURAL DE CAC...|RESIDENCIA PARTIC...|              AMEACA| 1982-01-11| PREJUDICADO|                NULL|         NULL|            NULL|         NULL|       P|                  NULL|         NULL|         NULL|         NULL|           NULL|         NULL|       39|     NULL|ADULTO IV (35 A 6...|    Desconhecida|        Noite|\n",
      "|   2018-01-31|     15:36:00|2018-01-30| 07:30:00|       TER|       06h - 08h|       06h - 12h|CRIMES DE VIOLENC...|           1|       1|        2018|    2018|        VIAS DE FATO|        VIAS DE FATO|                NULL|VIOLENCIA DOMESTI...|   NAO INFORMADO|              OUTRAS|CRIMES CONTRA A M...|     SEM INSTRUMENTO|         BARCARENA|           BARCARENA|RESIDENCIA PARTIC...|VIAS DE FATO E I ...| 1986-08-14| PREJUDICADO|       NAO INFORMADO|NAO INFORMADO|   NAO INFORMADO|         NULL|       P|                  NULL|NAO INFORMADO|         NULL|         NULL|           NULL|         NULL|       31|     NULL|ADULTO III (30 A ...|    Desconhecida|        Manhã|\n",
      "|   2018-08-31|     08:48:00|2018-08-30| 21:29:00|       QUI|       20h - 22h|       18h - 00h|CRIMES DE VIOLENC...|           8|       8|        2018|    2018|      LESAO CORPORAL|      LESAO CORPORAL|                NULL|VIOLENCIA DOMESTI...|   NAO INFORMADO|    ODIO OU VINGANCA|CRIMES CONTRA A M...|     SEM INSTRUMENTO|         BARCARENA|           BARCARENA|RESIDENCIA PARTIC...|LESAO CORPORAL E ...| 1981-01-21| PREJUDICADO|       NAO INFORMADO|NAO INFORMADO|   NAO INFORMADO|         NULL|       P|                  NULL|NAO INFORMADO|         NULL|         NULL|           NULL|         NULL|       37|     NULL|ADULTO IV (35 A 6...|    Desconhecida|        Noite|\n",
      "|   2019-07-10|     15:27:00|2019-07-03| 18:30:00|       QUA|       18h - 20h|       18h - 00h|CRIMES DE VIOLENC...|           7|       7|        2019|    2019|             INJURIA|             INJURIA|                NULL|                NULL|            NULL|IMPERICIA / IMPRU...|CRIMES CONTRA A M...|     SEM INSTRUMENTO|          ALENQUER|       INDEPENDENCIA|RESIDENCIA PARTIC...|     INJURIA - (ALQ)| 2001-01-30|        NULL|                NULL|         NULL|            NULL|         NULL|       P|                  NULL|         NULL|         NULL|         NULL|           NULL|         NULL|       18|     NULL|ADULTO I (18 A 24...|    Desconhecida|        Noite|\n",
      "+-------------+-------------+----------+---------+----------+----------------+----------------+--------------------+------------+--------+------------+--------+--------------------+--------------------+--------------------+--------------------+----------------+--------------------+--------------------+--------------------+------------------+--------------------+--------------------+--------------------+-----------+------------+--------------------+-------------+----------------+-------------+--------+----------------------+-------------+-------------+-------------+---------------+-------------+---------+---------+--------------------+----------------+-------------+\n",
      "only showing top 20 rows\n",
      "\n"
     ]
    },
    {
     "name": "stderr",
     "output_type": "stream",
     "text": [
      "                                                                                \r"
     ]
    }
   ],
   "source": [
    "dados_VCM_PA.show()"
   ]
  },
  {
   "cell_type": "code",
   "execution_count": 45,
   "metadata": {},
   "outputs": [
    {
     "name": "stderr",
     "output_type": "stream",
     "text": [
      "[Stage 60:>                                                         (0 + 1) / 1]\r"
     ]
    },
    {
     "name": "stdout",
     "output_type": "stream",
     "text": [
      "+-------------+-------------+----------+---------+----------+----------------+----------------+--------------------+------------+--------+------------+--------+--------------------+--------------------+--------------------+--------------------+----------------+--------------------+--------------------+--------------------+------------------+--------------------+--------------------+--------------------+-----------+------------+--------------------+-------------+----------------+-------------+--------+----------------------+-------------+-------------+-------------+---------------+-------------+---------+---------+--------------------+----------------+-------------+------+\n",
      "|data_registro|hora_registro| data_fato|hora_fato|dia_semana|faixa_horaria_2h|faixa_horaria_6h|       classe_motivo|mes_registro|mes_fato|ano_registro|ano_fato|           registros|         consolidado|           fato_real| especificacao_crime|   meio_emp_deac|    causa_presumivel| especializacao_fato| meio_empregado_sisp|        municipios|             bairros|    local_ocorrencia|  identificacao_fato|vit_dt_nasc|vit_cor_pele|       vit_grau_inst|vit_profissao|vit_estado_civil|aut_data_nasc|aut_sexo|grau_de_relacionamento| aut_cor_pele|aut_grau_inst|aut_profissao|aut_sit_emprego|aut_est_civil|vit_idade|aut_idade|    vit_faixa_etaria|aut_faixa_etaria|faixa_horaria|estado|\n",
      "+-------------+-------------+----------+---------+----------+----------------+----------------+--------------------+------------+--------+------------+--------+--------------------+--------------------+--------------------+--------------------+----------------+--------------------+--------------------+--------------------+------------------+--------------------+--------------------+--------------------+-----------+------------+--------------------+-------------+----------------+-------------+--------+----------------------+-------------+-------------+-------------+---------------+-------------+---------+---------+--------------------+----------------+-------------+------+\n",
      "|   2022-04-07|     16:47:00|2022-04-07| 16:47:00|       QUI|       16h - 18h|       12h - 18h|CRIMES DE VIOLENC...|           4|       4|        2022|    2022|              AMEACA|              AMEACA|                NULL|                NULL|            NULL|               CIUME|CRIMES CONTRA A M...|     SEM INSTRUMENTO|CACHOEIRA DO ARARI|          PETROPOLIS|         VIA PUBLICA|              AMEACA| 1998-06-15| PREJUDICADO|                NULL|         NULL|            NULL|         NULL|       P|                  NULL|  PREJUDICADO|         NULL|         NULL|           NULL|         NULL|       23|     NULL|ADULTO I (18 A 24...|    Desconhecida|        Tarde|    PA|\n",
      "|   2022-03-16|     18:27:00|2022-03-16| 18:27:00|       QUA|       18h - 20h|       18h - 00h|CRIMES DE VIOLENC...|           3|       3|        2022|    2022|              AMEACA|VIOLENCIA PSICOLO...|VIOLENCIA PSICOLO...| VIOLENCIA DOMESTICA|          AMEACA|               CIUME|CRIMES CONTRA A M...|     SEM INSTRUMENTO|CACHOEIRA DO ARARI|           AEROPORTO|RESIDENCIA PARTIC...|AMEACA VIOLENCIA ...| 1988-12-01| PREJUDICADO|         PREJUDICADO|  PREJUDICADO|     PREJUDICADO|         NULL|       M|     EX-COMPANHEIRO(A)|  PREJUDICADO|  PREJUDICADO|  PREJUDICADO|    PREJUDICADO|  PREJUDICADO|       33|     NULL|ADULTO III (30 A ...|    Desconhecida|        Noite|    PA|\n",
      "|   2021-02-15|     09:36:00|2021-02-14| 22:00:00|       DOM|       22h - 00h|       18h - 00h|CRIMES DE VIOLENC...|           2|       2|        2021|    2021|      LESAO CORPORAL|      LESAO CORPORAL|      LESAO CORPORAL| VIOLENCIA DOMESTICA|VIOLENCIA FISICA|ALCOOLISMO / EMBR...|CRIMES CONTRA A M...|        OUTROS MEIOS|        SALVATERRA|ZONA RURAL DE SAL...|RESIDENCIA PARTIC...|     AGRESSAO FISICA| 1993-12-28| PREJUDICADO|       NAO INFORMADO|NAO INFORMADO|   NAO INFORMADO|         NULL|       M|        COMPANHEIRO(A)|NAO INFORMADO|NAO INFORMADO|NAO INFORMADO|  NAO INFORMADO|NAO INFORMADO|       27|     NULL|ADULTO II (25 A 2...|    Desconhecida|        Noite|    PA|\n",
      "|   2019-06-18|     17:05:00|2019-06-16| 15:05:00|       DOM|       14h - 16h|       12h - 18h|CRIMES DE VIOLENC...|           6|       6|        2019|    2019|              AMEACA|              AMEACA|                NULL|                NULL|            NULL|              OUTRAS|CRIMES CONTRA A M...|        OUTROS MEIOS|        SALVATERRA|ZONA RURAL DE SAL...|RESIDENCIA PARTIC...|AMEACA - CLISLEY ...| 2006-05-24| PREJUDICADO|                NULL|         NULL|            NULL|         NULL|       P|                  NULL|         NULL|         NULL|         NULL|           NULL|         NULL|       13|     NULL|ADOLESCENTE (12 A...|    Desconhecida|        Tarde|    PA|\n",
      "|   2021-09-24|     14:46:00|2021-09-24| 14:46:00|       SEX|       14h - 16h|       12h - 18h|CRIMES DE VIOLENC...|           9|       9|        2021|    2021|              AMEACA|              AMEACA|                NULL|                NULL|     PREJUDICADO|              OUTRAS|CRIMES CONTRA A M...|        OUTROS MEIOS|        SALVATERRA|ZONA RURAL DE SAL...|RESIDENCIA PARTIC...|SOLICITACAO DE ME...| 1990-08-23| PREJUDICADO|                NULL|         NULL|     SOLTEIRO(A)|         NULL|       P|                  NULL|         NULL|         NULL|         NULL|           NULL|         NULL|       31|     NULL|ADULTO III (30 A ...|    Desconhecida|        Tarde|    PA|\n",
      "|   2019-06-14|     09:39:00|2019-06-05| 11:00:00|       QUA|       10h - 12h|       06h - 12h|CRIMES DE VIOLENC...|           6|       6|        2019|    2019|              AMEACA|              AMEACA|                NULL|                NULL|            NULL|ALCOOLISMO / EMBR...|CRIMES CONTRA A M...|ARMA PERFURO CORT...|CACHOEIRA DO ARARI|ZONA RURAL DE CAC...|RESIDENCIA PARTIC...|AMEACA MARIA DA P...| 1997-10-24| PREJUDICADO|                NULL|         NULL|            NULL|         NULL|       P|                  NULL|         NULL|         NULL|         NULL|           NULL|         NULL|       21|     NULL|ADULTO I (18 A 24...|    Desconhecida|        Manhã|    PA|\n",
      "|   2021-07-18|     13:57:00|2021-07-18| 13:57:00|       DOM|       12h - 14h|       12h - 18h|CRIMES DE VIOLENC...|           7|       7|        2021|    2021|             INJURIA|             INJURIA|                NULL|                NULL|     PREJUDICADO|               CIUME|CRIMES CONTRA A M...|        OUTROS MEIOS|        SALVATERRA|ZONA RURAL DE SAL...|RESIDENCIA PARTIC...|INJURIA EM CONTEX...| 1983-05-27| PREJUDICADO|                NULL|         NULL|            NULL|         NULL|       P|                  NULL|         NULL|         NULL|         NULL|           NULL|         NULL|       38|     NULL|ADULTO IV (35 A 6...|    Desconhecida|        Tarde|    PA|\n",
      "|   2021-02-25|     16:29:00|2021-02-25| 13:00:00|       QUI|       12h - 14h|       12h - 18h|CRIMES DE VIOLENC...|           2|       2|        2021|    2021|              AMEACA|              AMEACA|                NULL|                NULL|     PREJUDICADO|               CIUME|CRIMES CONTRA A M...|        OUTROS MEIOS|        SALVATERRA|ZONA RURAL DE SAL...|         VIA PUBLICA|              AMEACA| 1979-11-08| PREJUDICADO|                NULL|         NULL|            NULL|         NULL|       P|                  NULL|         NULL|         NULL|         NULL|           NULL|         NULL|       41|     NULL|ADULTO IV (35 A 6...|    Desconhecida|        Tarde|    PA|\n",
      "|   2020-12-15|     09:13:00|2020-12-14| 02:00:00|       SEG|       02h - 04h|       00h - 06h|CRIMES DE VIOLENC...|          12|      12|        2020|    2020|      LESAO CORPORAL|      LESAO CORPORAL|      LESAO CORPORAL| VIOLENCIA DOMESTICA|VIOLENCIA FISICA|    ODIO OU VINGANCA|CRIMES CONTRA A M...|        OUTROS MEIOS|        SALVATERRA|ZONA RURAL DE SAL...|RESIDENCIA PARTIC...|            AGRESSAO| 1995-07-02|        NULL|                NULL|         NULL|            NULL|         NULL|       M|     EX-COMPANHEIRO(A)|         NULL|         NULL|         NULL|           NULL|         NULL|       25|     NULL|ADULTO II (25 A 2...|    Desconhecida|    Madrugada|    PA|\n",
      "|   2019-11-10|     09:34:00|2019-11-10| 08:00:00|       DOM|       08h - 10h|       06h - 12h|CRIMES DE VIOLENC...|          11|      11|        2019|    2019|      LESAO CORPORAL|      LESAO CORPORAL|                NULL|                NULL|            NULL|    ODIO OU VINGANCA|CRIMES CONTRA A M...|        OUTROS MEIOS|        SALVATERRA|   ESTRADA DE JOANES|RESIDENCIA PARTIC...|LESAO CORPORAL EM...| 1986-03-29|        NULL|                NULL|         NULL|            NULL|         NULL|       P|                  NULL|         NULL|         NULL|         NULL|           NULL|         NULL|       33|     NULL|ADULTO III (30 A ...|    Desconhecida|        Manhã|    PA|\n",
      "|   2019-08-06|     10:54:00|2019-08-05| 20:00:00|       SEG|       20h - 22h|       18h - 00h|CRIMES DE VIOLENC...|           8|       8|        2019|    2019|      LESAO CORPORAL|      LESAO CORPORAL|                NULL|                NULL|            NULL|    ODIO OU VINGANCA|CRIMES CONTRA A M...|        OUTROS MEIOS|        SALVATERRA|   ESTRADA DE JOANES|RESIDENCIA PARTIC...| VIOLENCIA DOMESTICA| 1986-11-05|        NULL|ENSINO FUNDAMENTA...| DONA DE CASA|     SOLTEIRO(A)|         NULL|       P|                  NULL|         NULL|         NULL|         NULL|           NULL|         NULL|       32|     NULL|ADULTO III (30 A ...|    Desconhecida|        Noite|    PA|\n",
      "|   2019-12-17|     09:54:00|2019-12-14| 11:30:00|       SAB|       10h - 12h|       06h - 12h|CRIMES DE VIOLENC...|          12|      12|        2019|    2019|CONSTRANGIMENTO I...|CONSTRANGIMENTO I...|                NULL|                NULL|            NULL|    ODIO OU VINGANCA|CRIMES CONTRA A M...|        OUTROS MEIOS|        SALVATERRA|   ESTRADA DE JOANES|RESIDENCIA PARTIC...| VIOLENCIA DOMESTICA| 1974-09-24|        NULL|ENSINO MEDIO COMP...|ADMINISTRADOR|       CASADO(A)|         NULL|       P|                  NULL|         NULL|         NULL|         NULL|           NULL|         NULL|       45|     NULL|ADULTO IV (35 A 6...|    Desconhecida|        Manhã|    PA|\n",
      "|   2019-12-23|     09:27:00|2019-12-22| 18:30:00|       DOM|       18h - 20h|       18h - 00h|CRIMES DE VIOLENC...|          12|      12|        2019|    2019|             INJURIA|             INJURIA|                NULL|                NULL|            NULL|              OUTRAS|CRIMES CONTRA A M...|        OUTROS MEIOS|        SALVATERRA|   ESTRADA DE JOANES|RESIDENCIA PARTIC...|INJURIA EM CONTEX...| 1989-09-14|        NULL|                NULL|         NULL|            NULL|         NULL|       P|                  NULL|         NULL|         NULL|         NULL|           NULL|         NULL|       30|     NULL|ADULTO III (30 A ...|    Desconhecida|        Noite|    PA|\n",
      "|   2019-08-05|     15:56:00|2019-08-05| 13:30:00|       SEG|       12h - 14h|       12h - 18h|CRIMES DE VIOLENC...|           8|       8|        2019|    2019|              AMEACA|              AMEACA|                NULL|                NULL|            NULL|ALCOOLISMO / EMBR...|CRIMES CONTRA A M...|        OUTROS MEIOS|        SALVATERRA|   ESTRADA DE JOANES|RESIDENCIA PARTIC...| VIOLENCIA DOMESTICA| 1986-11-05| PREJUDICADO|ENSINO FUNDAMENTA...| DONA DE CASA|     SOLTEIRO(A)|         NULL|       P|                  NULL|         NULL|         NULL|         NULL|           NULL|         NULL|       32|     NULL|ADULTO III (30 A ...|    Desconhecida|        Tarde|    PA|\n",
      "|   2019-10-14|     16:03:00|2019-10-14| 06:30:00|       SEG|       06h - 08h|       06h - 12h|CRIMES DE VIOLENC...|          10|      10|        2019|    2019|      LESAO CORPORAL|      LESAO CORPORAL|                NULL|                NULL|            NULL|          DEVASSIDAO|CRIMES CONTRA A M...|     SEM INSTRUMENTO|        SALVATERRA|   ESTRADA DE JOANES|RESIDENCIA PARTIC...|      LESAO CORPORAL| 1967-01-04|        NULL|                NULL|         NULL|            NULL|         NULL|       P|                  NULL|         NULL|         NULL|         NULL|           NULL|         NULL|       52|     NULL|ADULTO IV (35 A 6...|    Desconhecida|        Manhã|    PA|\n",
      "|   2020-11-15|     11:19:00|2020-11-14| 15:55:00|       SAB|       14h - 16h|       12h - 18h|CRIMES CONTRA A P...|          11|      11|        2020|    2020|      LESAO CORPORAL|      LESAO CORPORAL|      LESAO CORPORAL| VIOLENCIA DOMESTICA|     CONTUNDENTE|ALCOOLISMO / EMBR...|CRIMES CONTRA A I...|        OUTROS MEIOS|      MONTE ALEGRE|CENTRO DE MONTE A...|RESIDENCIA PARTIC...|VIOL DOMESTICA- L...| 1976-12-23|        NULL|    NAO ALFABETIZADO|    DOMESTICA|   UNIAO ESTAVEL|         NULL|       M|        COMPANHEIRO(A)|         NULL|         NULL|         NULL|           NULL|         NULL|       43|     NULL|ADULTO IV (35 A 6...|    Desconhecida|        Tarde|    PA|\n",
      "|   2021-07-26|     18:23:00|2021-07-26| 18:23:00|       SEG|       18h - 20h|       18h - 00h|CRIMES DE VIOLENC...|           7|       7|        2021|    2021|              AMEACA|              AMEACA|                NULL|                NULL|     PREJUDICADO|               CIUME|CRIMES CONTRA A M...|     SEM INSTRUMENTO|CACHOEIRA DO ARARI|ZONA RURAL DE CAC...|RESIDENCIA PARTIC...|              AMEACA| 1982-01-11| PREJUDICADO|                NULL|         NULL|            NULL|         NULL|       P|                  NULL|         NULL|         NULL|         NULL|           NULL|         NULL|       39|     NULL|ADULTO IV (35 A 6...|    Desconhecida|        Noite|    PA|\n",
      "|   2018-01-31|     15:36:00|2018-01-30| 07:30:00|       TER|       06h - 08h|       06h - 12h|CRIMES DE VIOLENC...|           1|       1|        2018|    2018|        VIAS DE FATO|        VIAS DE FATO|                NULL|VIOLENCIA DOMESTI...|   NAO INFORMADO|              OUTRAS|CRIMES CONTRA A M...|     SEM INSTRUMENTO|         BARCARENA|           BARCARENA|RESIDENCIA PARTIC...|VIAS DE FATO E I ...| 1986-08-14| PREJUDICADO|       NAO INFORMADO|NAO INFORMADO|   NAO INFORMADO|         NULL|       P|                  NULL|NAO INFORMADO|         NULL|         NULL|           NULL|         NULL|       31|     NULL|ADULTO III (30 A ...|    Desconhecida|        Manhã|    PA|\n",
      "|   2018-08-31|     08:48:00|2018-08-30| 21:29:00|       QUI|       20h - 22h|       18h - 00h|CRIMES DE VIOLENC...|           8|       8|        2018|    2018|      LESAO CORPORAL|      LESAO CORPORAL|                NULL|VIOLENCIA DOMESTI...|   NAO INFORMADO|    ODIO OU VINGANCA|CRIMES CONTRA A M...|     SEM INSTRUMENTO|         BARCARENA|           BARCARENA|RESIDENCIA PARTIC...|LESAO CORPORAL E ...| 1981-01-21| PREJUDICADO|       NAO INFORMADO|NAO INFORMADO|   NAO INFORMADO|         NULL|       P|                  NULL|NAO INFORMADO|         NULL|         NULL|           NULL|         NULL|       37|     NULL|ADULTO IV (35 A 6...|    Desconhecida|        Noite|    PA|\n",
      "|   2019-07-10|     15:27:00|2019-07-03| 18:30:00|       QUA|       18h - 20h|       18h - 00h|CRIMES DE VIOLENC...|           7|       7|        2019|    2019|             INJURIA|             INJURIA|                NULL|                NULL|            NULL|IMPERICIA / IMPRU...|CRIMES CONTRA A M...|     SEM INSTRUMENTO|          ALENQUER|       INDEPENDENCIA|RESIDENCIA PARTIC...|     INJURIA - (ALQ)| 2001-01-30|        NULL|                NULL|         NULL|            NULL|         NULL|       P|                  NULL|         NULL|         NULL|         NULL|           NULL|         NULL|       18|     NULL|ADULTO I (18 A 24...|    Desconhecida|        Noite|    PA|\n",
      "+-------------+-------------+----------+---------+----------+----------------+----------------+--------------------+------------+--------+------------+--------+--------------------+--------------------+--------------------+--------------------+----------------+--------------------+--------------------+--------------------+------------------+--------------------+--------------------+--------------------+-----------+------------+--------------------+-------------+----------------+-------------+--------+----------------------+-------------+-------------+-------------+---------------+-------------+---------+---------+--------------------+----------------+-------------+------+\n",
      "only showing top 20 rows\n",
      "\n"
     ]
    },
    {
     "name": "stderr",
     "output_type": "stream",
     "text": [
      "                                                                                \r"
     ]
    }
   ],
   "source": [
    "dados_VCM_PA.select('identificacao_fato').distinct().count()\n",
    "dados_VCM_PA = dados_VCM_PA.withColumn(\"estado\", lit(\"PA\"))\n",
    "dados_VCM_PA.show()"
   ]
  },
  {
   "cell_type": "code",
   "execution_count": 46,
   "metadata": {},
   "outputs": [
    {
     "data": {
      "text/plain": [
       "33"
      ]
     },
     "execution_count": 46,
     "metadata": {},
     "output_type": "execute_result"
    }
   ],
   "source": [
    "colunas_remover = ['consolidado', 'fato_real', 'meio_emp_deac', 'causa_presumivel', 'especializacao_fato', 'identificacao_fato', 'vit_estado_civil', 'aut_sexo', 'aut_sit_emprego', 'aut_est_civil']\n",
    "dados_VCM_PA = dados_VCM_PA.drop(*colunas_remover)\n",
    "\n",
    "len(dados_VCM_PA.columns)"
   ]
  },
  {
   "cell_type": "code",
   "execution_count": 47,
   "metadata": {},
   "outputs": [],
   "source": [
    "dados_VCM_PA = dados_VCM_PA \\\n",
    "    .withColumnRenamed(\"meio_empregado_sisp\", \"meio_empregado\") \\\n",
    "    .withColumnRenamed(\"municipios\", \"municipio\") \\\n",
    "    .withColumnRenamed(\"bairros\", \"bairro\") \\\n",
    "    .withColumnRenamed(\"aut_data_nasc\", \"aut_dt_nasc\")"
   ]
  },
  {
   "cell_type": "code",
   "execution_count": 48,
   "metadata": {},
   "outputs": [
    {
     "name": "stderr",
     "output_type": "stream",
     "text": [
      "[Stage 61:>                                                         (0 + 1) / 1]\r"
     ]
    },
    {
     "name": "stdout",
     "output_type": "stream",
     "text": [
      "+-------------+-------------+----------+---------+----------+----------------+----------------+--------------------+--------+------------+--------+--------------------+------------------+--------------------+--------------------+--------------------+------------+--------------------+-----------+---------+--------------------+------------+--------------------+-------------+-----------+---------+----------------+-------------+-------------+-------------+----------------------+-------------+------+\n",
      "|data_registro|hora_registro| data_fato|hora_fato|dia_semana|faixa_horaria_2h|faixa_horaria_6h|       classe_motivo|mes_fato|ano_registro|ano_fato|           registros|         municipio|              bairro|    local_ocorrencia|      meio_empregado|mes_registro| especificacao_crime|vit_dt_nasc|vit_idade|    vit_faixa_etaria|vit_cor_pele|       vit_grau_inst|vit_profissao|aut_dt_nasc|aut_idade|aut_faixa_etaria| aut_cor_pele|aut_grau_inst|aut_profissao|grau_de_relacionamento|faixa_horaria|estado|\n",
      "+-------------+-------------+----------+---------+----------+----------------+----------------+--------------------+--------+------------+--------+--------------------+------------------+--------------------+--------------------+--------------------+------------+--------------------+-----------+---------+--------------------+------------+--------------------+-------------+-----------+---------+----------------+-------------+-------------+-------------+----------------------+-------------+------+\n",
      "|   2022-04-07|     16:47:00|2022-04-07| 16:47:00|       QUI|       16h - 18h|       12h - 18h|CRIMES DE VIOLENC...|       4|        2022|    2022|              AMEACA|CACHOEIRA DO ARARI|          PETROPOLIS|         VIA PUBLICA|     SEM INSTRUMENTO|           4|                NULL| 1998-06-15|       23|ADULTO I (18 A 24...| PREJUDICADO|                NULL|         NULL|       NULL|     NULL|    Desconhecida|  PREJUDICADO|         NULL|         NULL|                  NULL|        Tarde|    PA|\n",
      "|   2022-03-16|     18:27:00|2022-03-16| 18:27:00|       QUA|       18h - 20h|       18h - 00h|CRIMES DE VIOLENC...|       3|        2022|    2022|              AMEACA|CACHOEIRA DO ARARI|           AEROPORTO|RESIDENCIA PARTIC...|     SEM INSTRUMENTO|           3| VIOLENCIA DOMESTICA| 1988-12-01|       33|ADULTO III (30 A ...| PREJUDICADO|         PREJUDICADO|  PREJUDICADO|       NULL|     NULL|    Desconhecida|  PREJUDICADO|  PREJUDICADO|  PREJUDICADO|     EX-COMPANHEIRO(A)|        Noite|    PA|\n",
      "|   2021-02-15|     09:36:00|2021-02-14| 22:00:00|       DOM|       22h - 00h|       18h - 00h|CRIMES DE VIOLENC...|       2|        2021|    2021|      LESAO CORPORAL|        SALVATERRA|ZONA RURAL DE SAL...|RESIDENCIA PARTIC...|        OUTROS MEIOS|           2| VIOLENCIA DOMESTICA| 1993-12-28|       27|ADULTO II (25 A 2...| PREJUDICADO|       NAO INFORMADO|NAO INFORMADO|       NULL|     NULL|    Desconhecida|NAO INFORMADO|NAO INFORMADO|NAO INFORMADO|        COMPANHEIRO(A)|        Noite|    PA|\n",
      "|   2019-06-18|     17:05:00|2019-06-16| 15:05:00|       DOM|       14h - 16h|       12h - 18h|CRIMES DE VIOLENC...|       6|        2019|    2019|              AMEACA|        SALVATERRA|ZONA RURAL DE SAL...|RESIDENCIA PARTIC...|        OUTROS MEIOS|           6|                NULL| 2006-05-24|       13|ADOLESCENTE (12 A...| PREJUDICADO|                NULL|         NULL|       NULL|     NULL|    Desconhecida|         NULL|         NULL|         NULL|                  NULL|        Tarde|    PA|\n",
      "|   2021-09-24|     14:46:00|2021-09-24| 14:46:00|       SEX|       14h - 16h|       12h - 18h|CRIMES DE VIOLENC...|       9|        2021|    2021|              AMEACA|        SALVATERRA|ZONA RURAL DE SAL...|RESIDENCIA PARTIC...|        OUTROS MEIOS|           9|                NULL| 1990-08-23|       31|ADULTO III (30 A ...| PREJUDICADO|                NULL|         NULL|       NULL|     NULL|    Desconhecida|         NULL|         NULL|         NULL|                  NULL|        Tarde|    PA|\n",
      "|   2019-06-14|     09:39:00|2019-06-05| 11:00:00|       QUA|       10h - 12h|       06h - 12h|CRIMES DE VIOLENC...|       6|        2019|    2019|              AMEACA|CACHOEIRA DO ARARI|ZONA RURAL DE CAC...|RESIDENCIA PARTIC...|ARMA PERFURO CORT...|           6|                NULL| 1997-10-24|       21|ADULTO I (18 A 24...| PREJUDICADO|                NULL|         NULL|       NULL|     NULL|    Desconhecida|         NULL|         NULL|         NULL|                  NULL|        Manhã|    PA|\n",
      "|   2021-07-18|     13:57:00|2021-07-18| 13:57:00|       DOM|       12h - 14h|       12h - 18h|CRIMES DE VIOLENC...|       7|        2021|    2021|             INJURIA|        SALVATERRA|ZONA RURAL DE SAL...|RESIDENCIA PARTIC...|        OUTROS MEIOS|           7|                NULL| 1983-05-27|       38|ADULTO IV (35 A 6...| PREJUDICADO|                NULL|         NULL|       NULL|     NULL|    Desconhecida|         NULL|         NULL|         NULL|                  NULL|        Tarde|    PA|\n",
      "|   2021-02-25|     16:29:00|2021-02-25| 13:00:00|       QUI|       12h - 14h|       12h - 18h|CRIMES DE VIOLENC...|       2|        2021|    2021|              AMEACA|        SALVATERRA|ZONA RURAL DE SAL...|         VIA PUBLICA|        OUTROS MEIOS|           2|                NULL| 1979-11-08|       41|ADULTO IV (35 A 6...| PREJUDICADO|                NULL|         NULL|       NULL|     NULL|    Desconhecida|         NULL|         NULL|         NULL|                  NULL|        Tarde|    PA|\n",
      "|   2020-12-15|     09:13:00|2020-12-14| 02:00:00|       SEG|       02h - 04h|       00h - 06h|CRIMES DE VIOLENC...|      12|        2020|    2020|      LESAO CORPORAL|        SALVATERRA|ZONA RURAL DE SAL...|RESIDENCIA PARTIC...|        OUTROS MEIOS|          12| VIOLENCIA DOMESTICA| 1995-07-02|       25|ADULTO II (25 A 2...|        NULL|                NULL|         NULL|       NULL|     NULL|    Desconhecida|         NULL|         NULL|         NULL|     EX-COMPANHEIRO(A)|    Madrugada|    PA|\n",
      "|   2019-11-10|     09:34:00|2019-11-10| 08:00:00|       DOM|       08h - 10h|       06h - 12h|CRIMES DE VIOLENC...|      11|        2019|    2019|      LESAO CORPORAL|        SALVATERRA|   ESTRADA DE JOANES|RESIDENCIA PARTIC...|        OUTROS MEIOS|          11|                NULL| 1986-03-29|       33|ADULTO III (30 A ...|        NULL|                NULL|         NULL|       NULL|     NULL|    Desconhecida|         NULL|         NULL|         NULL|                  NULL|        Manhã|    PA|\n",
      "|   2019-08-06|     10:54:00|2019-08-05| 20:00:00|       SEG|       20h - 22h|       18h - 00h|CRIMES DE VIOLENC...|       8|        2019|    2019|      LESAO CORPORAL|        SALVATERRA|   ESTRADA DE JOANES|RESIDENCIA PARTIC...|        OUTROS MEIOS|           8|                NULL| 1986-11-05|       32|ADULTO III (30 A ...|        NULL|ENSINO FUNDAMENTA...| DONA DE CASA|       NULL|     NULL|    Desconhecida|         NULL|         NULL|         NULL|                  NULL|        Noite|    PA|\n",
      "|   2019-12-17|     09:54:00|2019-12-14| 11:30:00|       SAB|       10h - 12h|       06h - 12h|CRIMES DE VIOLENC...|      12|        2019|    2019|CONSTRANGIMENTO I...|        SALVATERRA|   ESTRADA DE JOANES|RESIDENCIA PARTIC...|        OUTROS MEIOS|          12|                NULL| 1974-09-24|       45|ADULTO IV (35 A 6...|        NULL|ENSINO MEDIO COMP...|ADMINISTRADOR|       NULL|     NULL|    Desconhecida|         NULL|         NULL|         NULL|                  NULL|        Manhã|    PA|\n",
      "|   2019-12-23|     09:27:00|2019-12-22| 18:30:00|       DOM|       18h - 20h|       18h - 00h|CRIMES DE VIOLENC...|      12|        2019|    2019|             INJURIA|        SALVATERRA|   ESTRADA DE JOANES|RESIDENCIA PARTIC...|        OUTROS MEIOS|          12|                NULL| 1989-09-14|       30|ADULTO III (30 A ...|        NULL|                NULL|         NULL|       NULL|     NULL|    Desconhecida|         NULL|         NULL|         NULL|                  NULL|        Noite|    PA|\n",
      "|   2019-08-05|     15:56:00|2019-08-05| 13:30:00|       SEG|       12h - 14h|       12h - 18h|CRIMES DE VIOLENC...|       8|        2019|    2019|              AMEACA|        SALVATERRA|   ESTRADA DE JOANES|RESIDENCIA PARTIC...|        OUTROS MEIOS|           8|                NULL| 1986-11-05|       32|ADULTO III (30 A ...| PREJUDICADO|ENSINO FUNDAMENTA...| DONA DE CASA|       NULL|     NULL|    Desconhecida|         NULL|         NULL|         NULL|                  NULL|        Tarde|    PA|\n",
      "|   2019-10-14|     16:03:00|2019-10-14| 06:30:00|       SEG|       06h - 08h|       06h - 12h|CRIMES DE VIOLENC...|      10|        2019|    2019|      LESAO CORPORAL|        SALVATERRA|   ESTRADA DE JOANES|RESIDENCIA PARTIC...|     SEM INSTRUMENTO|          10|                NULL| 1967-01-04|       52|ADULTO IV (35 A 6...|        NULL|                NULL|         NULL|       NULL|     NULL|    Desconhecida|         NULL|         NULL|         NULL|                  NULL|        Manhã|    PA|\n",
      "|   2020-11-15|     11:19:00|2020-11-14| 15:55:00|       SAB|       14h - 16h|       12h - 18h|CRIMES CONTRA A P...|      11|        2020|    2020|      LESAO CORPORAL|      MONTE ALEGRE|CENTRO DE MONTE A...|RESIDENCIA PARTIC...|        OUTROS MEIOS|          11| VIOLENCIA DOMESTICA| 1976-12-23|       43|ADULTO IV (35 A 6...|        NULL|    NAO ALFABETIZADO|    DOMESTICA|       NULL|     NULL|    Desconhecida|         NULL|         NULL|         NULL|        COMPANHEIRO(A)|        Tarde|    PA|\n",
      "|   2021-07-26|     18:23:00|2021-07-26| 18:23:00|       SEG|       18h - 20h|       18h - 00h|CRIMES DE VIOLENC...|       7|        2021|    2021|              AMEACA|CACHOEIRA DO ARARI|ZONA RURAL DE CAC...|RESIDENCIA PARTIC...|     SEM INSTRUMENTO|           7|                NULL| 1982-01-11|       39|ADULTO IV (35 A 6...| PREJUDICADO|                NULL|         NULL|       NULL|     NULL|    Desconhecida|         NULL|         NULL|         NULL|                  NULL|        Noite|    PA|\n",
      "|   2018-01-31|     15:36:00|2018-01-30| 07:30:00|       TER|       06h - 08h|       06h - 12h|CRIMES DE VIOLENC...|       1|        2018|    2018|        VIAS DE FATO|         BARCARENA|           BARCARENA|RESIDENCIA PARTIC...|     SEM INSTRUMENTO|           1|VIOLENCIA DOMESTI...| 1986-08-14|       31|ADULTO III (30 A ...| PREJUDICADO|       NAO INFORMADO|NAO INFORMADO|       NULL|     NULL|    Desconhecida|NAO INFORMADO|         NULL|         NULL|                  NULL|        Manhã|    PA|\n",
      "|   2018-08-31|     08:48:00|2018-08-30| 21:29:00|       QUI|       20h - 22h|       18h - 00h|CRIMES DE VIOLENC...|       8|        2018|    2018|      LESAO CORPORAL|         BARCARENA|           BARCARENA|RESIDENCIA PARTIC...|     SEM INSTRUMENTO|           8|VIOLENCIA DOMESTI...| 1981-01-21|       37|ADULTO IV (35 A 6...| PREJUDICADO|       NAO INFORMADO|NAO INFORMADO|       NULL|     NULL|    Desconhecida|NAO INFORMADO|         NULL|         NULL|                  NULL|        Noite|    PA|\n",
      "|   2019-07-10|     15:27:00|2019-07-03| 18:30:00|       QUA|       18h - 20h|       18h - 00h|CRIMES DE VIOLENC...|       7|        2019|    2019|             INJURIA|          ALENQUER|       INDEPENDENCIA|RESIDENCIA PARTIC...|     SEM INSTRUMENTO|           7|                NULL| 2001-01-30|       18|ADULTO I (18 A 24...|        NULL|                NULL|         NULL|       NULL|     NULL|    Desconhecida|         NULL|         NULL|         NULL|                  NULL|        Noite|    PA|\n",
      "+-------------+-------------+----------+---------+----------+----------------+----------------+--------------------+--------+------------+--------+--------------------+------------------+--------------------+--------------------+--------------------+------------+--------------------+-----------+---------+--------------------+------------+--------------------+-------------+-----------+---------+----------------+-------------+-------------+-------------+----------------------+-------------+------+\n",
      "only showing top 20 rows\n",
      "\n"
     ]
    },
    {
     "name": "stderr",
     "output_type": "stream",
     "text": [
      "                                                                                \r"
     ]
    }
   ],
   "source": [
    "# Use a lista com as colunas reorganizadas\n",
    "colunas = dados_VCM_PA.columns\n",
    "colunas_reorganizadas = colunas[:8] + [colunas[9]] + [colunas[10]]+ [colunas[11]]+ [colunas[12]]+ [colunas[8]] + colunas[13:]\n",
    "\n",
    "# Selecione as colunas na ordem desejada\n",
    "dados_VCM_PA_ordenadas = dados_VCM_PA.select(colunas_reorganizadas)\n",
    "\n",
    "# Use a lista com as colunas reorganizadas\n",
    "colunas = dados_VCM_PA_ordenadas.columns\n",
    "colunas_reorganizadas = colunas[:12] + [colunas[15]] + [colunas[16]]+ [colunas[17]]+ [colunas[14]]+ [colunas[12]]+ [colunas[13]]+ colunas[18:]\n",
    "\n",
    "# Selecione as colunas na ordem desejada\n",
    "dados_VCM_PA_ordenadas = dados_VCM_PA.select(colunas_reorganizadas)\n",
    "\n",
    "# Use a lista com as colunas reorganizadas\n",
    "colunas = dados_VCM_PA_ordenadas.columns\n",
    "colunas_reorganizadas = colunas[:19] + [colunas[27]] + [colunas[29]]+ colunas[19:27]+ [colunas[28]]+  colunas[30:]\n",
    "\n",
    "# Selecione as colunas na ordem desejada\n",
    "dados_VCM_PA_ordenadas = dados_VCM_PA.select(colunas_reorganizadas)\n",
    "\n",
    "# Use a lista com as colunas reorganizadas\n",
    "colunas = dados_VCM_PA_ordenadas.columns\n",
    "colunas_reorganizadas = colunas[:25] + [colunas[29]] + [colunas[30]]+ [colunas[26]]+ colunas[27:29]+ [colunas[25]]+  colunas[31:]\n",
    "\n",
    "# Selecione as colunas na ordem desejada\n",
    "dados_VCM_PA_ordenadas = dados_VCM_PA.select(colunas_reorganizadas)\n",
    "\n",
    "# Exiba o DataFrame resultante\n",
    "dados_VCM_PA_ordenadas.show()"
   ]
  },
  {
   "cell_type": "code",
   "execution_count": 49,
   "metadata": {},
   "outputs": [
    {
     "data": {
      "text/plain": [
       "33"
      ]
     },
     "execution_count": 49,
     "metadata": {},
     "output_type": "execute_result"
    }
   ],
   "source": [
    "len(dados_VCM_PA_ordenadas.columns)"
   ]
  },
  {
   "cell_type": "code",
   "execution_count": 50,
   "metadata": {},
   "outputs": [
    {
     "name": "stdout",
     "output_type": "stream",
     "text": [
      "+-------------+-------------+----------+---------+----------+----------------+----------------+--------------------+--------+------------+--------+--------------------+------------------+--------------------+--------------------+--------------------+------------+--------------------+-----------+---------+--------------------+------------+--------------------+-------------+-----------+---------+----------------+-------------+-------------+-------------+----------------------+-------------+------+\n",
      "|data_registro|hora_registro| data_fato|hora_fato|dia_semana|faixa_horaria_2h|faixa_horaria_6h|       classe_motivo|mes_fato|ano_registro|ano_fato|           registros|         municipio|              bairro|    local_ocorrencia|      meio_empregado|mes_registro| especificacao_crime|vit_dt_nasc|vit_idade|    vit_faixa_etaria|vit_cor_pele|       vit_grau_inst|vit_profissao|aut_dt_nasc|aut_idade|aut_faixa_etaria| aut_cor_pele|aut_grau_inst|aut_profissao|grau_de_relacionamento|faixa_horaria|estado|\n",
      "+-------------+-------------+----------+---------+----------+----------------+----------------+--------------------+--------+------------+--------+--------------------+------------------+--------------------+--------------------+--------------------+------------+--------------------+-----------+---------+--------------------+------------+--------------------+-------------+-----------+---------+----------------+-------------+-------------+-------------+----------------------+-------------+------+\n",
      "|   2022-04-07|     16:47:00|2022-04-07| 16:47:00|       QUI|       16h - 18h|       12h - 18h|CRIMES DE VIOLENC...|       4|        2022|    2022|              AMEACA|CACHOEIRA DO ARARI|          PETROPOLIS|         VIA PUBLICA|     SEM INSTRUMENTO|           4|                NULL| 1998-06-15|       23|ADULTO I (18 A 24...| PREJUDICADO|                NULL|         NULL|       NULL|     NULL|    Desconhecida|  PREJUDICADO|         NULL|         NULL|                  NULL|        Tarde|    PA|\n",
      "|   2022-03-16|     18:27:00|2022-03-16| 18:27:00|       QUA|       18h - 20h|       18h - 00h|CRIMES DE VIOLENC...|       3|        2022|    2022|              AMEACA|CACHOEIRA DO ARARI|           AEROPORTO|RESIDENCIA PARTIC...|     SEM INSTRUMENTO|           3| VIOLENCIA DOMESTICA| 1988-12-01|       33|ADULTO III (30 A ...| PREJUDICADO|         PREJUDICADO|  PREJUDICADO|       NULL|     NULL|    Desconhecida|  PREJUDICADO|  PREJUDICADO|  PREJUDICADO|     EX-COMPANHEIRO(A)|        Noite|    PA|\n",
      "|   2021-02-15|     09:36:00|2021-02-14| 22:00:00|       DOM|       22h - 00h|       18h - 00h|CRIMES DE VIOLENC...|       2|        2021|    2021|      LESAO CORPORAL|        SALVATERRA|ZONA RURAL DE SAL...|RESIDENCIA PARTIC...|        OUTROS MEIOS|           2| VIOLENCIA DOMESTICA| 1993-12-28|       27|ADULTO II (25 A 2...| PREJUDICADO|       NAO INFORMADO|NAO INFORMADO|       NULL|     NULL|    Desconhecida|NAO INFORMADO|NAO INFORMADO|NAO INFORMADO|        COMPANHEIRO(A)|        Noite|    PA|\n",
      "|   2019-06-18|     17:05:00|2019-06-16| 15:05:00|       DOM|       14h - 16h|       12h - 18h|CRIMES DE VIOLENC...|       6|        2019|    2019|              AMEACA|        SALVATERRA|ZONA RURAL DE SAL...|RESIDENCIA PARTIC...|        OUTROS MEIOS|           6|                NULL| 2006-05-24|       13|ADOLESCENTE (12 A...| PREJUDICADO|                NULL|         NULL|       NULL|     NULL|    Desconhecida|         NULL|         NULL|         NULL|                  NULL|        Tarde|    PA|\n",
      "|   2021-09-24|     14:46:00|2021-09-24| 14:46:00|       SEX|       14h - 16h|       12h - 18h|CRIMES DE VIOLENC...|       9|        2021|    2021|              AMEACA|        SALVATERRA|ZONA RURAL DE SAL...|RESIDENCIA PARTIC...|        OUTROS MEIOS|           9|                NULL| 1990-08-23|       31|ADULTO III (30 A ...| PREJUDICADO|                NULL|         NULL|       NULL|     NULL|    Desconhecida|         NULL|         NULL|         NULL|                  NULL|        Tarde|    PA|\n",
      "|   2019-06-14|     09:39:00|2019-06-05| 11:00:00|       QUA|       10h - 12h|       06h - 12h|CRIMES DE VIOLENC...|       6|        2019|    2019|              AMEACA|CACHOEIRA DO ARARI|ZONA RURAL DE CAC...|RESIDENCIA PARTIC...|ARMA PERFURO CORT...|           6|                NULL| 1997-10-24|       21|ADULTO I (18 A 24...| PREJUDICADO|                NULL|         NULL|       NULL|     NULL|    Desconhecida|         NULL|         NULL|         NULL|                  NULL|        Manhã|    PA|\n",
      "|   2021-07-18|     13:57:00|2021-07-18| 13:57:00|       DOM|       12h - 14h|       12h - 18h|CRIMES DE VIOLENC...|       7|        2021|    2021|             INJURIA|        SALVATERRA|ZONA RURAL DE SAL...|RESIDENCIA PARTIC...|        OUTROS MEIOS|           7|                NULL| 1983-05-27|       38|ADULTO IV (35 A 6...| PREJUDICADO|                NULL|         NULL|       NULL|     NULL|    Desconhecida|         NULL|         NULL|         NULL|                  NULL|        Tarde|    PA|\n",
      "|   2021-02-25|     16:29:00|2021-02-25| 13:00:00|       QUI|       12h - 14h|       12h - 18h|CRIMES DE VIOLENC...|       2|        2021|    2021|              AMEACA|        SALVATERRA|ZONA RURAL DE SAL...|         VIA PUBLICA|        OUTROS MEIOS|           2|                NULL| 1979-11-08|       41|ADULTO IV (35 A 6...| PREJUDICADO|                NULL|         NULL|       NULL|     NULL|    Desconhecida|         NULL|         NULL|         NULL|                  NULL|        Tarde|    PA|\n",
      "|   2020-12-15|     09:13:00|2020-12-14| 02:00:00|       SEG|       02h - 04h|       00h - 06h|CRIMES DE VIOLENC...|      12|        2020|    2020|      LESAO CORPORAL|        SALVATERRA|ZONA RURAL DE SAL...|RESIDENCIA PARTIC...|        OUTROS MEIOS|          12| VIOLENCIA DOMESTICA| 1995-07-02|       25|ADULTO II (25 A 2...|        NULL|                NULL|         NULL|       NULL|     NULL|    Desconhecida|         NULL|         NULL|         NULL|     EX-COMPANHEIRO(A)|    Madrugada|    PA|\n",
      "|   2019-11-10|     09:34:00|2019-11-10| 08:00:00|       DOM|       08h - 10h|       06h - 12h|CRIMES DE VIOLENC...|      11|        2019|    2019|      LESAO CORPORAL|        SALVATERRA|   ESTRADA DE JOANES|RESIDENCIA PARTIC...|        OUTROS MEIOS|          11|                NULL| 1986-03-29|       33|ADULTO III (30 A ...|        NULL|                NULL|         NULL|       NULL|     NULL|    Desconhecida|         NULL|         NULL|         NULL|                  NULL|        Manhã|    PA|\n",
      "|   2019-08-06|     10:54:00|2019-08-05| 20:00:00|       SEG|       20h - 22h|       18h - 00h|CRIMES DE VIOLENC...|       8|        2019|    2019|      LESAO CORPORAL|        SALVATERRA|   ESTRADA DE JOANES|RESIDENCIA PARTIC...|        OUTROS MEIOS|           8|                NULL| 1986-11-05|       32|ADULTO III (30 A ...|        NULL|ENSINO FUNDAMENTA...| DONA DE CASA|       NULL|     NULL|    Desconhecida|         NULL|         NULL|         NULL|                  NULL|        Noite|    PA|\n",
      "|   2019-12-17|     09:54:00|2019-12-14| 11:30:00|       SAB|       10h - 12h|       06h - 12h|CRIMES DE VIOLENC...|      12|        2019|    2019|CONSTRANGIMENTO I...|        SALVATERRA|   ESTRADA DE JOANES|RESIDENCIA PARTIC...|        OUTROS MEIOS|          12|                NULL| 1974-09-24|       45|ADULTO IV (35 A 6...|        NULL|ENSINO MEDIO COMP...|ADMINISTRADOR|       NULL|     NULL|    Desconhecida|         NULL|         NULL|         NULL|                  NULL|        Manhã|    PA|\n",
      "|   2019-12-23|     09:27:00|2019-12-22| 18:30:00|       DOM|       18h - 20h|       18h - 00h|CRIMES DE VIOLENC...|      12|        2019|    2019|             INJURIA|        SALVATERRA|   ESTRADA DE JOANES|RESIDENCIA PARTIC...|        OUTROS MEIOS|          12|                NULL| 1989-09-14|       30|ADULTO III (30 A ...|        NULL|                NULL|         NULL|       NULL|     NULL|    Desconhecida|         NULL|         NULL|         NULL|                  NULL|        Noite|    PA|\n",
      "|   2019-08-05|     15:56:00|2019-08-05| 13:30:00|       SEG|       12h - 14h|       12h - 18h|CRIMES DE VIOLENC...|       8|        2019|    2019|              AMEACA|        SALVATERRA|   ESTRADA DE JOANES|RESIDENCIA PARTIC...|        OUTROS MEIOS|           8|                NULL| 1986-11-05|       32|ADULTO III (30 A ...| PREJUDICADO|ENSINO FUNDAMENTA...| DONA DE CASA|       NULL|     NULL|    Desconhecida|         NULL|         NULL|         NULL|                  NULL|        Tarde|    PA|\n",
      "|   2019-10-14|     16:03:00|2019-10-14| 06:30:00|       SEG|       06h - 08h|       06h - 12h|CRIMES DE VIOLENC...|      10|        2019|    2019|      LESAO CORPORAL|        SALVATERRA|   ESTRADA DE JOANES|RESIDENCIA PARTIC...|     SEM INSTRUMENTO|          10|                NULL| 1967-01-04|       52|ADULTO IV (35 A 6...|        NULL|                NULL|         NULL|       NULL|     NULL|    Desconhecida|         NULL|         NULL|         NULL|                  NULL|        Manhã|    PA|\n",
      "|   2020-11-15|     11:19:00|2020-11-14| 15:55:00|       SAB|       14h - 16h|       12h - 18h|CRIMES CONTRA A P...|      11|        2020|    2020|      LESAO CORPORAL|      MONTE ALEGRE|CENTRO DE MONTE A...|RESIDENCIA PARTIC...|        OUTROS MEIOS|          11| VIOLENCIA DOMESTICA| 1976-12-23|       43|ADULTO IV (35 A 6...|        NULL|    NAO ALFABETIZADO|    DOMESTICA|       NULL|     NULL|    Desconhecida|         NULL|         NULL|         NULL|        COMPANHEIRO(A)|        Tarde|    PA|\n",
      "|   2021-07-26|     18:23:00|2021-07-26| 18:23:00|       SEG|       18h - 20h|       18h - 00h|CRIMES DE VIOLENC...|       7|        2021|    2021|              AMEACA|CACHOEIRA DO ARARI|ZONA RURAL DE CAC...|RESIDENCIA PARTIC...|     SEM INSTRUMENTO|           7|                NULL| 1982-01-11|       39|ADULTO IV (35 A 6...| PREJUDICADO|                NULL|         NULL|       NULL|     NULL|    Desconhecida|         NULL|         NULL|         NULL|                  NULL|        Noite|    PA|\n",
      "|   2018-01-31|     15:36:00|2018-01-30| 07:30:00|       TER|       06h - 08h|       06h - 12h|CRIMES DE VIOLENC...|       1|        2018|    2018|        VIAS DE FATO|         BARCARENA|           BARCARENA|RESIDENCIA PARTIC...|     SEM INSTRUMENTO|           1|VIOLENCIA DOMESTI...| 1986-08-14|       31|ADULTO III (30 A ...| PREJUDICADO|       NAO INFORMADO|NAO INFORMADO|       NULL|     NULL|    Desconhecida|NAO INFORMADO|         NULL|         NULL|                  NULL|        Manhã|    PA|\n",
      "|   2018-08-31|     08:48:00|2018-08-30| 21:29:00|       QUI|       20h - 22h|       18h - 00h|CRIMES DE VIOLENC...|       8|        2018|    2018|      LESAO CORPORAL|         BARCARENA|           BARCARENA|RESIDENCIA PARTIC...|     SEM INSTRUMENTO|           8|VIOLENCIA DOMESTI...| 1981-01-21|       37|ADULTO IV (35 A 6...| PREJUDICADO|       NAO INFORMADO|NAO INFORMADO|       NULL|     NULL|    Desconhecida|NAO INFORMADO|         NULL|         NULL|                  NULL|        Noite|    PA|\n",
      "|   2019-07-10|     15:27:00|2019-07-03| 18:30:00|       QUA|       18h - 20h|       18h - 00h|CRIMES DE VIOLENC...|       7|        2019|    2019|             INJURIA|          ALENQUER|       INDEPENDENCIA|RESIDENCIA PARTIC...|     SEM INSTRUMENTO|           7|                NULL| 2001-01-30|       18|ADULTO I (18 A 24...|        NULL|                NULL|         NULL|       NULL|     NULL|    Desconhecida|         NULL|         NULL|         NULL|                  NULL|        Noite|    PA|\n",
      "+-------------+-------------+----------+---------+----------+----------------+----------------+--------------------+--------+------------+--------+--------------------+------------------+--------------------+--------------------+--------------------+------------+--------------------+-----------+---------+--------------------+------------+--------------------+-------------+-----------+---------+----------------+-------------+-------------+-------------+----------------------+-------------+------+\n",
      "only showing top 20 rows\n",
      "\n"
     ]
    }
   ],
   "source": [
    "dados_VCM_PA = dados_VCM_PA_ordenadas\n",
    "dados_VCM_PA.show()"
   ]
  },
  {
   "cell_type": "code",
   "execution_count": 51,
   "metadata": {},
   "outputs": [
    {
     "name": "stdout",
     "output_type": "stream",
     "text": [
      "root\n",
      " |-- data_registro: date (nullable = true)\n",
      " |-- hora_registro: string (nullable = true)\n",
      " |-- data_fato: date (nullable = true)\n",
      " |-- hora_fato: string (nullable = true)\n",
      " |-- dia_semana: string (nullable = true)\n",
      " |-- faixa_horaria_2h: string (nullable = false)\n",
      " |-- faixa_horaria_6h: string (nullable = false)\n",
      " |-- classe_motivo: string (nullable = true)\n",
      " |-- mes_fato: string (nullable = true)\n",
      " |-- ano_registro: string (nullable = true)\n",
      " |-- ano_fato: string (nullable = true)\n",
      " |-- registros: string (nullable = true)\n",
      " |-- municipio: string (nullable = true)\n",
      " |-- bairro: string (nullable = true)\n",
      " |-- local_ocorrencia: string (nullable = true)\n",
      " |-- meio_empregado: string (nullable = true)\n",
      " |-- mes_registro: string (nullable = true)\n",
      " |-- especificacao_crime: string (nullable = true)\n",
      " |-- vit_dt_nasc: date (nullable = true)\n",
      " |-- vit_idade: integer (nullable = true)\n",
      " |-- vit_faixa_etaria: string (nullable = false)\n",
      " |-- vit_cor_pele: string (nullable = true)\n",
      " |-- vit_grau_inst: string (nullable = true)\n",
      " |-- vit_profissao: string (nullable = true)\n",
      " |-- aut_dt_nasc: date (nullable = true)\n",
      " |-- aut_idade: integer (nullable = true)\n",
      " |-- aut_faixa_etaria: string (nullable = false)\n",
      " |-- aut_cor_pele: string (nullable = true)\n",
      " |-- aut_grau_inst: string (nullable = true)\n",
      " |-- aut_profissao: string (nullable = true)\n",
      " |-- grau_de_relacionamento: string (nullable = true)\n",
      " |-- faixa_horaria: string (nullable = false)\n",
      " |-- estado: string (nullable = false)\n",
      "\n"
     ]
    }
   ],
   "source": [
    "dados_VCM_PA.printSchema()"
   ]
  },
  {
   "cell_type": "code",
   "execution_count": 52,
   "metadata": {},
   "outputs": [
    {
     "name": "stderr",
     "output_type": "stream",
     "text": [
      "[Stage 63:>                                                         (0 + 4) / 4]\r"
     ]
    },
    {
     "name": "stderr",
     "output_type": "stream",
     "text": [
      "                                                                                \r"
     ]
    },
    {
     "data": {
      "text/plain": [
       "6896"
      ]
     },
     "execution_count": 52,
     "metadata": {},
     "output_type": "execute_result"
    }
   ],
   "source": [
    "dados_VCM_PA.count()"
   ]
  },
  {
   "cell_type": "markdown",
   "metadata": {},
   "source": [
    "## Exportação dos dados formatados <a id=\"exportacao-dos-dados-formatados\"></a>"
   ]
  },
  {
   "cell_type": "code",
   "execution_count": 53,
   "metadata": {},
   "outputs": [
    {
     "name": "stderr",
     "output_type": "stream",
     "text": [
      "                                                                                \r"
     ]
    }
   ],
   "source": [
    "import datetime as dt # Manipulação de data\n",
    "\n",
    "dados_VCM_pd = dados_VCM_PA.toPandas()\n",
    "\n",
    "#dados_VCM_pd.to_csv('./dados-tratados/' + dt.datetime.now().strftime('%Y%m%d%H%M%S') + '-dados_VCM_PA.csv', index=False, sep='|', encoding='utf-8')\n",
    "dados_VCM_pd.to_csv('./dados-tratados/dados_VCM_PA.csv', index=False, sep='|', encoding='utf-8')"
   ]
  }
 ],
 "metadata": {
  "kernelspec": {
   "display_name": "Python 3",
   "language": "python",
   "name": "python3"
  },
  "language_info": {
   "codemirror_mode": {
    "name": "ipython",
    "version": 3
   },
   "file_extension": ".py",
   "mimetype": "text/x-python",
   "name": "python",
   "nbconvert_exporter": "python",
   "pygments_lexer": "ipython3",
   "version": "3.10.9"
  }
 },
 "nbformat": 4,
 "nbformat_minor": 2
}
