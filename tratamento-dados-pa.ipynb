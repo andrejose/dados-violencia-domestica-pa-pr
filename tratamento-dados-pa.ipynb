{
 "cells": [
  {
   "cell_type": "markdown",
   "metadata": {},
   "source": [
    "# Tratamento de dados - Secretaria de segurança do estado do Pará\n",
    "\n",
    "## Descrição do notebook\n",
    "\n",
    "O objetivo deste notebook é realizar o tratamento dos dados fornecidos pela Secretaria de Segurança Pública e Defesa Social do Estado do Pará para que possa ser analisado juntamente com os dados do estado paranaense.\n",
    "\n",
    "Nesta versão, o arquivo utilizado é um CSV e para manipulação de dados é utilizado o pacote pyspark. \n",
    "\n",
    "**Observação:** O código contido nesse notebook foi baseado na solução desenvolvida por Mariana Kniss (https://acervodigital.ufpr.br/xmlui/handle/1884/85647), para validar o conteúdo de seu trabalho de conclusão de curso, intitulado \"Análise de dados criminais sobre violência contra a mulher nos estados Pará e Paraná\".\n",
    "\n",
    "## Sumário\n",
    "\n",
    "1. [Importação dos módulos e pacotes necessários](#importacao-dos-modulos-e-pacotes-necessarios)\n",
    "2. [Carregamento dos dados](#carregamento-dos-dados)\n",
    "4. [Visão geral do conjunto de dados](#visao-geral-do-conjunto-de-dados)\n",
    "5. [Filtros, tratamentos e padronização de valores](#filtros-tratamentos-e-padronizacao-de-valores)\n",
    "6. [Ordenação das colunas](#ordernacao-das-colunas)\n",
    "7. [Exportação dos dados formatados](#exportacao-dos-dados-formatados)\n",
    "\n",
    "----\n",
    "\n",
    "\n",
    "## Importação dos módulos e pacotes necessários <a id=\"importacao-dos-modulos-e-pacotes-necessarios\"></a>"
   ]
  },
  {
   "cell_type": "code",
   "execution_count": null,
   "metadata": {},
   "outputs": [],
   "source": [
    "# pySpark (https://spark.apache.org/docs/latest/api/python/index.html)\n",
    "from pyspark.sql import SparkSession\n",
    "from pyspark.sql import functions as f\n",
    "from pyspark.sql.functions import col, lower, when, substring, hour, to_timestamp, date_format, count, current_date, datediff, mean, median, variance, stddev, asc, expr, lit\n",
    "from pyspark.sql.types import StringType, StructType, StructField, DateType\n",
    "from pyspark.ml import stat\n",
    "from pyspark.sql.window import Window\n",
    "\n",
    "# Pandas (https://pandas.pydata.org/)\n",
    "import pandas as pd"
   ]
  },
  {
   "cell_type": "code",
   "execution_count": null,
   "metadata": {},
   "outputs": [],
   "source": [
    "# Criando sessão spark\n",
    "spark = SparkSession.builder\\\n",
    "    .master('local[*]')\\\n",
    "    .appName(\"transformacao_VCM_PA\")\\\n",
    "    .getOrCreate()"
   ]
  },
  {
   "cell_type": "markdown",
   "metadata": {},
   "source": [
    "## Carregamento dos dados"
   ]
  },
  {
   "cell_type": "code",
   "execution_count": null,
   "metadata": {},
   "outputs": [],
   "source": [
    "# Carregamento dos dados utilizando o arquivo CSV e spark\n",
    "dados_csv = spark.read.csv(\"./dados/PA/raw_BD_VD_2010a2022_PA.csv\",\n",
    "                       sep = '@',\n",
    "                       inferSchema= True,\n",
    "                       header = True)"
   ]
  },
  {
   "cell_type": "code",
   "execution_count": null,
   "metadata": {},
   "outputs": [],
   "source": [
    "# Exibe a quantidade de registros encontrados\n",
    "dados_csv.count()"
   ]
  },
  {
   "cell_type": "code",
   "execution_count": null,
   "metadata": {},
   "outputs": [],
   "source": [
    "# Exibe o tipo de variável\n",
    "type(dados_csv)"
   ]
  },
  {
   "cell_type": "code",
   "execution_count": null,
   "metadata": {},
   "outputs": [],
   "source": [
    "dados_csv.count()"
   ]
  },
  {
   "cell_type": "code",
   "execution_count": null,
   "metadata": {},
   "outputs": [],
   "source": [
    "# Ordene o DataFrame pela coluna de índice em ordem descendente e selecione as primeiras linhas\n",
    "tail_rows = dados_csv.orderBy(dados_csv[\"data_registro\"].desc()).limit(10)\n",
    "\n",
    "# Exiba as últimas linhas\n",
    "tail_rows.show()"
   ]
  },
  {
   "cell_type": "markdown",
   "metadata": {},
   "source": [
    "**Observação:** nota-se que há uma diferença de seis registros entre os dois métodos e arquivos de dados utilizados. Para se manter fiel à metodologia do TCC, optou-se para utilizar o CSV e spark, com um total de 196.256 registros. Todavia, conforme visto na célula acima, que simula o método tail(), esses seis registros adicionais não são registros de fato, pois os dados não estão coerentes. De qualquer forma, eles serão desconsiderados nas etapas de filtro.\n",
    "\n",
    "----"
   ]
  },
  {
   "cell_type": "code",
   "execution_count": null,
   "metadata": {},
   "outputs": [],
   "source": [
    "dados = dados_csv"
   ]
  },
  {
   "cell_type": "markdown",
   "metadata": {},
   "source": [
    "## Visão geral do conjunto de dados <a id=\"visao-geral-do-conjunto-de-dados\"></a>"
   ]
  },
  {
   "cell_type": "code",
   "execution_count": null,
   "metadata": {},
   "outputs": [],
   "source": [
    "# Contagem do número de variáveis\n",
    "v = len(dados.columns)\n",
    "# Contagem do número de registros\n",
    "n = dados.count()\n",
    "\n",
    "\n",
    "print(f'O conjunto de dados possui {n} registros e {v} variáveis.')"
   ]
  },
  {
   "cell_type": "code",
   "execution_count": null,
   "metadata": {},
   "outputs": [],
   "source": [
    "# Visualização do dataframe\n",
    "dados.show()"
   ]
  },
  {
   "cell_type": "code",
   "execution_count": null,
   "metadata": {},
   "outputs": [],
   "source": [
    "# Descrição dos tipos dos dados\n",
    "dados.printSchema()"
   ]
  },
  {
   "cell_type": "markdown",
   "metadata": {},
   "source": [
    "## Filtros, tratamentos e padronização de valores <a id=\"filtros-tratamentos-e-padronizacao-de-valores\"></a>\n",
    "\n",
    "### Filtros\n",
    "\n",
    "#### Sexo das vítimas"
   ]
  },
  {
   "cell_type": "code",
   "execution_count": null,
   "metadata": {},
   "outputs": [],
   "source": [
    "# Contagem dos valores distintos na coluna 'vit_sexo'\n",
    "dados.groupBy(\"vit_sexo\").count().orderBy(\"vit_sexo\").show()"
   ]
  },
  {
   "cell_type": "markdown",
   "metadata": {},
   "source": [
    "Filtrando apenas registros nos quais as vítimas são do sexo feminino."
   ]
  },
  {
   "cell_type": "code",
   "execution_count": null,
   "metadata": {},
   "outputs": [],
   "source": [
    "# Filtrando a base para que \"vit_sexo\" = \"F\"\n",
    "dados_filtro_vit_F = dados.filter(dados.vit_sexo == \"F\")\n",
    "\n",
    "# Exibindo a quantidade de registros restantes\n",
    "n_feminino = dados_filtro_vit_F.count()\n",
    "\n",
    "print(f'Foram retirados {n - n_feminino}, restando {n_feminino} registros válidos.')"
   ]
  },
  {
   "cell_type": "markdown",
   "metadata": {},
   "source": [
    "#### Sexo dos autores"
   ]
  },
  {
   "cell_type": "code",
   "execution_count": null,
   "metadata": {},
   "outputs": [],
   "source": [
    "# Contagem dos valores distintos na coluna 'aut_sexo'\n",
    "dados.groupBy(\"aut_sexo\").count().orderBy(\"aut_sexo\").show()"
   ]
  },
  {
   "cell_type": "markdown",
   "metadata": {},
   "source": [
    "Selecionando apenas regitros onde o sexo dos autores é diferente de feminino."
   ]
  },
  {
   "cell_type": "code",
   "execution_count": null,
   "metadata": {},
   "outputs": [],
   "source": [
    "# Filtrando a base para que \"aut_sexo\" diferente \"F\"\n",
    "dados_filtro_aut_nF = dados_filtro_vit_F.filter(dados_filtro_vit_F.aut_sexo != \"F\")\n",
    "\n",
    "# Exibindo o dataset VCM\n",
    "n_autor_nf = dados_filtro_aut_nF.count()\n",
    "\n",
    "print(f'Foram retirados {n_feminino - n_autor_nf}, restando {n_autor_nf} registros válidos.')"
   ]
  },
  {
   "cell_type": "markdown",
   "metadata": {},
   "source": [
    "#### Ano do fato\n",
    "\n",
    "A base de dados contava com registros de 2010 a 2023, porém foram selecionados apenas os casos ocorridos entre 2018 e 2022."
   ]
  },
  {
   "cell_type": "code",
   "execution_count": null,
   "metadata": {},
   "outputs": [],
   "source": [
    "# Filtrando a base para que ano registro >= 2018\n",
    "dados_filtro_ano_registro = dados_filtro_aut_nF.filter(dados_filtro_aut_nF.ano_registro >= 2018)\n",
    "\n",
    "# Exibindo o dataset VCM\n",
    "n_registros_apos_2018 = dados_filtro_ano_registro.count()\n",
    "\n",
    "print(f'Foram retirados {n_autor_nf - n_registros_apos_2018}, restando {n_registros_apos_2018} registros válidos.')"
   ]
  },
  {
   "cell_type": "markdown",
   "metadata": {},
   "source": [
    "#### Especificação do fato\n",
    "\n",
    "Para selecionar apenas os registros de violência contra mulher (VCM), foram mantidas apenas as linhas que contivesse uma das expressões abaixo na coluna 'especificacao_fato':\n",
    "\n",
    "- \"mulher\"\n",
    "- \"penha\"\n",
    "- \"feminicídio\"\n",
    "- \"femicídio\"\n",
    "- \"feminicidio\"\n",
    "- \"femicidio\""
   ]
  },
  {
   "cell_type": "code",
   "execution_count": null,
   "metadata": {},
   "outputs": [],
   "source": [
    "# Selecionando a base de VCM com base na variavel 'especializacao_fato', utilizando como filtro as palavras chave\n",
    "palavras_chave = [\"mulher\", \"feminicídio\", \"penha\", \"femicidio\", \"feminicidio\", \"femicídio\"]\n",
    "\n",
    "raw_VCM = dados_filtro_ano_registro.filter(lower(col(\"especializacao_fato\")).like(\"%\" + palavras_chave[0] + \"%\")\n",
    "                                   | lower(col(\"especializacao_fato\")).like(\"%\" + palavras_chave[1] + \"%\")\n",
    "                                   | lower(col(\"especializacao_fato\")).like(\"%\" + palavras_chave[2] + \"%\")\n",
    "                                   | lower(col(\"especializacao_fato\")).like(\"%\" + palavras_chave[3] + \"%\"))\n",
    "\n",
    "# Exibindo o dataset VCM\n",
    "raw_VCM.show()"
   ]
  },
  {
   "cell_type": "code",
   "execution_count": null,
   "metadata": {},
   "outputs": [],
   "source": [
    "n_vcm = raw_VCM.count()\n",
    "print(f'Ao final, foram mantidos {n_vcm} registros. Ou seja, foram removidos {n_registros_apos_2018 - n_vcm} registros que não se encaixaram nos critérios definidos.')"
   ]
  },
  {
   "cell_type": "code",
   "execution_count": null,
   "metadata": {},
   "outputs": [],
   "source": [
    "# Contagem dos valores distintos na coluna 'especializacao_fato'\n",
    "raw_VCM.groupBy(\"especializacao_fato\").count().orderBy(\"especializacao_fato\").show()"
   ]
  },
  {
   "cell_type": "markdown",
   "metadata": {},
   "source": [
    "### Tratamentos\n",
    "\n",
    "#### Removação de atributos não relevantes para as análises"
   ]
  },
  {
   "cell_type": "code",
   "execution_count": null,
   "metadata": {},
   "outputs": [],
   "source": [
    "# Remoção de colunas desnecessárias\n",
    "colunas_para_remover = [\"data_inst_proc\", # Data de instauração do processo investigativo\n",
    "\t\t\t\t\t\t\"data_concl_proc\", # Data de conclusão do processo investigativo\n",
    "\t\t\t\t\t\t\"sit_proc\", # Situação do processo investigativo\n",
    "\t\t\t\t\t\t\"grupo_ocorrencia\", # Agrupamento (categorização) das ocorrências\n",
    "\t\t\t\t\t\t\"sub_grupo\", # Sub-agrupamento (categorização) das ocorrências\n",
    "\t\t\t\t\t\t\"reg_integracao\", # Regional de integração\n",
    "\t\t\t\t\t\t\"risp\", # RISP\n",
    "\t\t\t\t\t\t\"aisp\", # AISP\n",
    "\t\t\t\t\t\t\"rua_fato\", # Logradouro no qual aconteceu o fato\n",
    "\t\t\t\t\t\t\"empresa\", # Empresa de transporte relacionada ao fato\n",
    "\t\t\t\t\t\t\"linha\", # Linha de transporte relacionada ao fato\n",
    "\t\t\t\t\t\t\"tipo_transporte\", # Tipo de transporte relacionada ao fato\n",
    "\t\t\t\t\t\t\"complemento\", # Complemento do endereço\n",
    "\t\t\t\t\t\t\"atuacao\", # Atuação - Todos os valores constam como 'VITIMA'\n",
    "\t\t\t\t\t\t\"meio_locomocao\", # Meio de locomoção do autor\n",
    "\t\t\t\t\t\t\"cor_veiculo\", # Cor do veículo do autor\n",
    "\t\t\t\t\t\t\"marca_veic_fuga\", # Marca do veículo do autor\n",
    "\t\t\t\t\t\t\"modelo_do_veic_fuga\", # Modelo do veículo do autor\n",
    "\t\t\t\t\t\t\"relatorio\", # Relatório\n",
    "\t\t\t\t\t\t\"qtd_autor\", # Quantidade de autores relacionados à ocorrência\n",
    "\t\t\t\t\t\t\"ident_autoria\" # Se a identidade do autor é conhecida\n",
    "\t\t\t\t\t\t]\n",
    "\n",
    "raw_VCM = raw_VCM.drop(*colunas_para_remover)"
   ]
  },
  {
   "cell_type": "code",
   "execution_count": null,
   "metadata": {},
   "outputs": [],
   "source": [
    "# Contagem do número de variáveis\n",
    "v_raw_vcm = len(raw_VCM.columns)\n",
    "# Contagem do número de registros\n",
    "n_raw_vcm = raw_VCM.count()\n",
    "\n",
    "print(f'O conjunto de dados possui {n_raw_vcm} registros e {v_raw_vcm} variáveis.')"
   ]
  },
  {
   "cell_type": "code",
   "execution_count": null,
   "metadata": {},
   "outputs": [],
   "source": [
    "# Descrição do tipo dos dados\n",
    "raw_VCM.printSchema()"
   ]
  },
  {
   "cell_type": "code",
   "execution_count": null,
   "metadata": {},
   "outputs": [],
   "source": [
    "# Visualização do dataframe de VCM\n",
    "raw_VCM.show()"
   ]
  },
  {
   "cell_type": "markdown",
   "metadata": {},
   "source": [
    "#### Alteração dos tipos de variáveis"
   ]
  },
  {
   "cell_type": "code",
   "execution_count": null,
   "metadata": {},
   "outputs": [],
   "source": [
    "# Alteração do tipo da coluna 'data_registro', de string para timestamp\n",
    "dados_VCM = raw_VCM.withColumn(\"data_registro\", to_timestamp(col(\"data_registro\")))\n",
    "\n",
    "# Seleção e alteração a data das variaveis\n",
    "dados_VCM = dados_VCM.withColumn(\"data_registro\", when(col(\"data_registro\").isNotNull(), col(\"data_registro\").cast(DateType())))\n",
    "dados_VCM = dados_VCM.withColumn(\"data_fato\", when(col(\"data_fato\").isNotNull(), col(\"data_fato\").cast(DateType())))\n",
    "dados_VCM = dados_VCM.withColumn(\"vit_dt_nasc\", when(col(\"vit_dt_nasc\").isNotNull(), col(\"vit_dt_nasc\").cast(DateType())))\n",
    "dados_VCM = dados_VCM.withColumn(\"aut_data_nasc\", when(col(\"aut_data_nasc\").isNotNull(), col(\"aut_data_nasc\").cast(DateType())))"
   ]
  },
  {
   "cell_type": "code",
   "execution_count": null,
   "metadata": {},
   "outputs": [],
   "source": [
    "# Extraindo somente a parte da hora das variáveis, tipadas como string após a alteração\n",
    "dados_VCM = dados_VCM.withColumn(\"hora_registro\", col(\"hora_registro\").substr(12, 8))\n",
    "dados_VCM = dados_VCM.withColumn(\"hora_fato\", col(\"hora_fato\").substr(12, 8))"
   ]
  },
  {
   "cell_type": "markdown",
   "metadata": {},
   "source": [
    "#### Adição de uma nova coluna referente à idade da vítima"
   ]
  },
  {
   "cell_type": "code",
   "execution_count": null,
   "metadata": {},
   "outputs": [],
   "source": [
    "# Use a função when para criar uma nova coluna 'vit_idade' com registros nulos\n",
    "dados_VCM = dados_VCM.withColumn(\n",
    "    'vit_idade',\n",
    "    when(col('vit_idade') > 105, None).otherwise(col('vit_idade'))\n",
    ")"
   ]
  },
  {
   "cell_type": "code",
   "execution_count": null,
   "metadata": {},
   "outputs": [],
   "source": [
    "# Se a data for menor ou igual a '1900-09-09', substitua por null, caso contrário, mantenha a data\n",
    "dados_VCM = dados_VCM.withColumn(\"vit_dt_nasc\", when(dados_VCM[\"vit_dt_nasc\"] <= \"1900-09-09\", None).otherwise(dados_VCM[\"vit_dt_nasc\"]))"
   ]
  },
  {
   "cell_type": "code",
   "execution_count": null,
   "metadata": {},
   "outputs": [],
   "source": [
    "# Calcule a idade em anos com tratamento para valores nulos\n",
    "dados_VCM = dados_VCM.withColumn(\"vit_idade_calculada\",\n",
    "                   when(\n",
    "                       (dados_VCM[\"data_fato\"].isNotNull()) & (dados_VCM[\"vit_dt_nasc\"].isNotNull()),\n",
    "                       (datediff(dados_VCM[\"data_fato\"], dados_VCM[\"vit_dt_nasc\"]) / 365).cast(\"int\")\n",
    "                   ).otherwise(None))"
   ]
  },
  {
   "cell_type": "markdown",
   "metadata": {},
   "source": [
    "#### Idade do autor"
   ]
  },
  {
   "cell_type": "code",
   "execution_count": null,
   "metadata": {},
   "outputs": [],
   "source": [
    "# Se a data for menor ou igual a '1900-09-09', substitua por null, caso contrário, mantenha a data\n",
    "dados_VCM = dados_VCM.withColumn(\"aut_data_nasc\", when(dados_VCM[\"aut_data_nasc\"] <= \"1900-09-09\", None).otherwise(dados_VCM[\"aut_data_nasc\"]))"
   ]
  },
  {
   "cell_type": "code",
   "execution_count": null,
   "metadata": {},
   "outputs": [],
   "source": [
    "# Calcule a idade em anos com tratamento para valores nulos\n",
    "dados_VCM = dados_VCM.withColumn(\"aut_idade_calculada\",\n",
    "                   when(\n",
    "                       (dados_VCM[\"data_fato\"].isNotNull()) & (dados_VCM[\"aut_data_nasc\"].isNotNull()),\n",
    "                       (datediff(dados_VCM[\"data_fato\"], dados_VCM[\"aut_data_nasc\"]) / 365).cast(\"int\")\n",
    "                   ).otherwise(None))"
   ]
  },
  {
   "cell_type": "code",
   "execution_count": null,
   "metadata": {},
   "outputs": [],
   "source": [
    "# Use a função 'when' para criar uma nova coluna com as faixas etárias\n",
    "dados_VCM = dados_VCM.withColumn(\n",
    "    \"vit_faixa_etaria_calculada\",\n",
    "    when((dados_VCM.vit_idade_calculada >= 0) & (dados_VCM.vit_idade_calculada <= 11), \"CRIANCA (0 A 11 ANOS)\")\n",
    "    .when((dados_VCM.vit_idade_calculada >= 12) & (dados_VCM.vit_idade_calculada <= 17), \"ADOLESCENTE (12 A 17 ANOS)\")\n",
    "    .when((dados_VCM.vit_idade_calculada >= 18) & (dados_VCM.vit_idade_calculada <= 24), \"ADULTO I (18 A 24 ANOS)\")\n",
    "    .when((dados_VCM.vit_idade_calculada >= 25) & (dados_VCM.vit_idade_calculada <= 29), \"ADULTO II (25 A 29 ANOS)\")\n",
    "    .when((dados_VCM.vit_idade_calculada >= 30) & (dados_VCM.vit_idade_calculada <= 34), \"ADULTO III (30 A 34 ANOS)\")\n",
    "    .when((dados_VCM.vit_idade_calculada >= 35) & (dados_VCM.vit_idade_calculada <= 64), \"ADULTO IV (35 A 64 ANOS)\")\n",
    "    .when(dados_VCM.vit_idade_calculada >= 65, \"IDOSO\")\n",
    "    .otherwise(\"Desconhecida\")  # Lidando com vit_idade_calculadas fora das faixas\n",
    ")"
   ]
  },
  {
   "cell_type": "code",
   "execution_count": null,
   "metadata": {},
   "outputs": [],
   "source": [
    "# Use a função 'when' para criar uma nova coluna com as faixas etárias\n",
    "dados_VCM = dados_VCM.withColumn(\n",
    "    \"aut_faixa_etaria_calculada\",\n",
    "    when((dados_VCM.aut_idade_calculada >= 0) & (dados_VCM.aut_idade_calculada <= 11), \"CRIANCA (0 A 11 ANOS)\")\n",
    "    .when((dados_VCM.aut_idade_calculada >= 12) & (dados_VCM.aut_idade_calculada <= 17), \"ADOLESCENTE (12 A 17 ANOS)\")\n",
    "    .when((dados_VCM.aut_idade_calculada >= 18) & (dados_VCM.aut_idade_calculada <= 24), \"ADULTO I (18 A 24 ANOS)\")\n",
    "    .when((dados_VCM.aut_idade_calculada >= 25) & (dados_VCM.aut_idade_calculada <= 29), \"ADULTO II (25 A 29 ANOS)\")\n",
    "    .when((dados_VCM.aut_idade_calculada >= 30) & (dados_VCM.aut_idade_calculada <= 34), \"ADULTO III (30 A 34 ANOS)\")\n",
    "    .when((dados_VCM.aut_idade_calculada >= 35) & (dados_VCM.aut_idade_calculada <= 64), \"ADULTO IV (35 A 64 ANOS)\")\n",
    "    .when(dados_VCM.aut_idade_calculada >= 65, \"IDOSO\")\n",
    "    .otherwise(\"Desconhecida\")  # Lidando com aut_idade_calculadas fora das faixas\n",
    ")"
   ]
  },
  {
   "cell_type": "code",
   "execution_count": null,
   "metadata": {},
   "outputs": [],
   "source": [
    "# Visualizando o dataframe atualizado\n",
    "dados_VCM.show()"
   ]
  },
  {
   "cell_type": "code",
   "execution_count": null,
   "metadata": {},
   "outputs": [],
   "source": [
    "# Verifica a quantidade de casos nos quais as vítimas tinham mais de 18 anos\n",
    "dados_VCM_maiores_18_PA = dados_VCM.filter(dados_VCM['vit_idade_calculada'] >= 18)\n",
    "dados_VCM_maiores_18_PA.count()"
   ]
  },
  {
   "cell_type": "code",
   "execution_count": null,
   "metadata": {},
   "outputs": [],
   "source": [
    "# Verifica a quantidade total de registros\n",
    "dados_VCM.count()"
   ]
  },
  {
   "cell_type": "code",
   "execution_count": null,
   "metadata": {},
   "outputs": [],
   "source": [
    "# Cria um novo dataframe para ser salvo referente aos dados do estado do Pará\n",
    "dados_VCM_PA = dados_VCM\n",
    "# Visualização do dataframe\n",
    "dados_VCM_PA.show()"
   ]
  },
  {
   "cell_type": "markdown",
   "metadata": {},
   "source": [
    "#### Tratamento dos meses"
   ]
  },
  {
   "cell_type": "code",
   "execution_count": null,
   "metadata": {},
   "outputs": [],
   "source": [
    "# Dicionário de mapeamento de meses para números\n",
    "meses = {\n",
    "    \"JANEIRO\": 1,\n",
    "    \"FEVEREIRO\": 2,\n",
    "    \"MARCO\": 3,\n",
    "    \"ABRIL\": 4,\n",
    "    \"MAIO\": 5,\n",
    "    \"JUNHO\": 6,\n",
    "    \"JULHO\": 7,\n",
    "    \"AGOSTO\": 8,\n",
    "    \"SETEMBRO\": 9,\n",
    "    \"OUTUBRO\": 10,\n",
    "    \"NOVEMBRO\": 11,\n",
    "    \"DEZEMBRO\": 12\n",
    "}\n",
    "\n",
    "# Loop para criar a coluna \"mes_registro\" para cada mês\n",
    "for mes, numero in meses.items():\n",
    "    dados_VCM_PA = dados_VCM_PA.withColumn(\"mes_registro\", f.when(dados_VCM_PA.mes_registro == mes, numero).otherwise(dados_VCM_PA.mes_registro))\n",
    "\n",
    "# Loop para criar a coluna \"mes_registro\" para cada mês\n",
    "for mes, numero in meses.items():\n",
    "    dados_VCM_PA = dados_VCM_PA.withColumn(\"mes_fato\", f.when(dados_VCM_PA.mes_registro == mes, numero).otherwise(dados_VCM_PA.mes_registro))"
   ]
  },
  {
   "cell_type": "markdown",
   "metadata": {},
   "source": [
    "#### Faixa horária"
   ]
  },
  {
   "cell_type": "code",
   "execution_count": null,
   "metadata": {},
   "outputs": [],
   "source": [
    "# Função 'when' para criar a coluna 'faixa_horaria' com base na coluna 'hora_fato'\n",
    "dados_VCM_PA = dados_VCM_PA.withColumn(\"faixa_horaria\",\n",
    "                                       when((dados_VCM_PA['hora_fato'] >= '06:00:00') & (dados_VCM_PA['hora_fato'] < '12:00:00'), 'Manhã')\n",
    "                                      .when((dados_VCM_PA['hora_fato'] >= '12:00:00') & (dados_VCM_PA['hora_fato'] < '18:00:00'), 'Tarde')\n",
    "                                      .when((dados_VCM_PA['hora_fato'] >= '18:00:00') & (dados_VCM_PA['hora_fato'] < '23:59:59'), 'Noite')\n",
    "                                      .when((dados_VCM_PA['hora_fato'] >= '00:00:00') & (dados_VCM_PA['hora_fato'] < '06:00:00'), 'Madrugada')\n",
    "                                      .otherwise('Outro'))\n",
    "\n",
    "\n",
    "# Função 'when' para criar a coluna 'faixa_horaria_6h' com base na coluna 'hora_fato'\n",
    "dados_VCM_PA = dados_VCM_PA.withColumn(\"faixa_horaria_6h\",\n",
    "                                       when((dados_VCM_PA['hora_fato'] >= '06:00:00') & (dados_VCM_PA['hora_fato'] < '12:00:00'), '06h - 12h')\n",
    "                                      .when((dados_VCM_PA['hora_fato'] >= '12:00:00') & (dados_VCM_PA['hora_fato'] < '18:00:00'), '12h - 18h')\n",
    "                                      .when((dados_VCM_PA['hora_fato'] >= '18:00:00') & (dados_VCM_PA['hora_fato'] < '23:59:59'), '18h - 00h')\n",
    "                                      .when((dados_VCM_PA['hora_fato'] >= '00:00:00') & (dados_VCM_PA['hora_fato'] < '06:00:00'), '00h - 06h')\n",
    "                                      .otherwise('Outro'))\n",
    "\n",
    "# Função 'when' para criar a coluna 'faixa_horaria_2h' com base na coluna 'hora_fato'\n",
    "dados_VCM_PA = dados_VCM_PA.withColumn(\"faixa_horaria_2h\",\n",
    "                                       when((dados_VCM_PA['hora_fato'] >= '06:00:00') & (dados_VCM_PA['hora_fato'] < '08:00:00'), '06h - 08h')\n",
    "                                      .when((dados_VCM_PA['hora_fato'] >= '08:00:00') & (dados_VCM_PA['hora_fato'] < '10:00:00'), '08h - 10h')\n",
    "                                      .when((dados_VCM_PA['hora_fato'] >= '10:00:00') & (dados_VCM_PA['hora_fato'] < '12:00:00'), '10h - 12h')\n",
    "                                      .when((dados_VCM_PA['hora_fato'] >= '12:00:00') & (dados_VCM_PA['hora_fato'] < '14:00:00'), '12h - 14h')\n",
    "                                      .when((dados_VCM_PA['hora_fato'] >= '14:00:00') & (dados_VCM_PA['hora_fato'] < '16:00:00'), '14h - 16h')\n",
    "                                      .when((dados_VCM_PA['hora_fato'] >= '16:00:00') & (dados_VCM_PA['hora_fato'] < '18:00:00'), '16h - 18h')\n",
    "                                      .when((dados_VCM_PA['hora_fato'] >= '18:00:00') & (dados_VCM_PA['hora_fato'] < '20:00:00'), '18h - 20h')\n",
    "                                      .when((dados_VCM_PA['hora_fato'] >= '20:00:00') & (dados_VCM_PA['hora_fato'] < '22:00:00'), '20h - 22h')\n",
    "                                      .when((dados_VCM_PA['hora_fato'] >= '22:00:00') & (dados_VCM_PA['hora_fato'] < '23:59:59'), '22h - 00h')\n",
    "                                      .when((dados_VCM_PA['hora_fato'] >= '00:00:00') & (dados_VCM_PA['hora_fato'] < '02:00:00'), '00h - 02h')\n",
    "                                      .when((dados_VCM_PA['hora_fato'] >= '02:00:00') & (dados_VCM_PA['hora_fato'] < '04:00:00'), '02h - 04h')\n",
    "                                      .when((dados_VCM_PA['hora_fato'] >= '04:00:00') & (dados_VCM_PA['hora_fato'] < '06:00:00'), '04h - 06h')\n",
    "                                      .otherwise('Outro'))\n",
    "\n",
    "dados_VCM_PA.show()"
   ]
  },
  {
   "cell_type": "code",
   "execution_count": null,
   "metadata": {},
   "outputs": [],
   "source": [
    "# Remoção de mais colunas\n",
    "colunas_remover = ['fx_4_hor',\n",
    "\t\t\t\t\t'fx_12_hr',\n",
    "\t\t\t\t\t'latitude',\n",
    "\t\t\t\t\t'longitude',\n",
    "\t\t\t\t\t'distrito',\n",
    "\t\t\t\t\t'regionais',\n",
    "\t\t\t\t\t'vit_idade',\n",
    "\t\t\t\t\t'vit_fx_etaria',\n",
    "\t\t\t\t\t'vit_sexo',\n",
    "\t\t\t\t\t'vit_situacao_emprego',\n",
    "\t\t\t\t\t'aut_idade',\n",
    "\t\t\t\t\t'aut_fx_etaria'\n",
    "\t\t\t\t]\n",
    "dados_VCM_PA = dados_VCM_PA.drop(*colunas_remover)"
   ]
  },
  {
   "cell_type": "code",
   "execution_count": null,
   "metadata": {},
   "outputs": [],
   "source": [
    "# Contagem do número de variáveis\n",
    "v_vcm_pa = len(dados_VCM_PA.columns)\n",
    "# Contagem do número de registros\n",
    "n_vcm_pa = dados_VCM_PA.count()\n",
    "\n",
    "print(f'O conjunto de dados possui {n_vcm_pa} registros e {v_vcm_pa} variáveis.')"
   ]
  },
  {
   "cell_type": "markdown",
   "metadata": {},
   "source": [
    "## Ordenação das colunas <a id=\"ordernacao-das-colunas\"></a>"
   ]
  },
  {
   "cell_type": "code",
   "execution_count": null,
   "metadata": {},
   "outputs": [],
   "source": [
    "# Use a lista com as colunas reorganizadas\n",
    "colunas = dados_VCM_PA.columns\n",
    "colunas_reorganizadas = colunas[:3] + [colunas[4]] + [colunas[3]] + colunas[5:]\n",
    "\n",
    "# Selecione as colunas na ordem desejada\n",
    "dados_VCM_PA_ordenadas = dados_VCM_PA.select(colunas_reorganizadas)\n",
    "\n",
    "# Exiba o DataFrame resultante\n",
    "dados_VCM_PA_ordenadas.show()"
   ]
  },
  {
   "cell_type": "code",
   "execution_count": null,
   "metadata": {},
   "outputs": [],
   "source": [
    "# Use a lista com as colunas reorganizadas\n",
    "colunas = dados_VCM_PA_ordenadas.columns\n",
    "colunas_reorganizadas = colunas[:5] + [colunas[41]] + colunas[5:41]\n",
    "\n",
    "# Selecione as colunas na ordem desejada\n",
    "dados_VCM_PA_ordenadas = dados_VCM_PA_ordenadas.select(colunas_reorganizadas)\n",
    "\n",
    "# Use a lista com as colunas reorganizadas\n",
    "colunas = dados_VCM_PA_ordenadas.columns\n",
    "colunas_reorganizadas = colunas[:6] + [colunas[41]] + colunas[6:41]\n",
    "\n",
    "# Selecione as colunas na ordem desejada\n",
    "dados_VCM_PA_ordenadas = dados_VCM_PA_ordenadas.select(colunas_reorganizadas)\n",
    "\n",
    "dados_VCM_PA = dados_VCM_PA_ordenadas\n",
    "dados_VCM_PA.show()"
   ]
  },
  {
   "cell_type": "code",
   "execution_count": null,
   "metadata": {},
   "outputs": [],
   "source": [
    "dados_VCM_PA = dados_VCM_PA \\\n",
    "    .withColumnRenamed(\"vit_idade_calculada\", \"vit_idade\") \\\n",
    "    .withColumnRenamed(\"aut_idade_calculada\", \"aut_idade\") \\\n",
    "    .withColumnRenamed(\"vit_faixa_etaria_calculada\", \"vit_faixa_etaria\") \\\n",
    "    .withColumnRenamed(\"aut_faixa_etaria_calculada\", \"aut_faixa_etaria\")"
   ]
  },
  {
   "cell_type": "code",
   "execution_count": null,
   "metadata": {},
   "outputs": [],
   "source": [
    "dados_VCM_PA.show()"
   ]
  },
  {
   "cell_type": "code",
   "execution_count": null,
   "metadata": {},
   "outputs": [],
   "source": [
    "dados_VCM_PA.select('identificacao_fato').distinct().count()\n",
    "dados_VCM_PA = dados_VCM_PA.withColumn(\"estado\", lit(\"PA\"))\n",
    "dados_VCM_PA.show()"
   ]
  },
  {
   "cell_type": "code",
   "execution_count": null,
   "metadata": {},
   "outputs": [],
   "source": [
    "colunas_remover = ['consolidado', 'fato_real', 'meio_emp_deac', 'causa_presumivel', 'especializacao_fato', 'identificacao_fato', 'vit_estado_civil', 'aut_sexo', 'aut_sit_emprego', 'aut_est_civil']\n",
    "dados_VCM_PA = dados_VCM_PA.drop(*colunas_remover)\n",
    "\n",
    "len(dados_VCM_PA.columns)"
   ]
  },
  {
   "cell_type": "code",
   "execution_count": null,
   "metadata": {},
   "outputs": [],
   "source": [
    "dados_VCM_PA = dados_VCM_PA \\\n",
    "    .withColumnRenamed(\"meio_empregado_sisp\", \"meio_empregado\") \\\n",
    "    .withColumnRenamed(\"municipios\", \"municipio\") \\\n",
    "    .withColumnRenamed(\"bairros\", \"bairro\") \\\n",
    "    .withColumnRenamed(\"aut_data_nasc\", \"aut_dt_nasc\")"
   ]
  },
  {
   "cell_type": "code",
   "execution_count": null,
   "metadata": {},
   "outputs": [],
   "source": [
    "# Use a lista com as colunas reorganizadas\n",
    "colunas = dados_VCM_PA.columns\n",
    "colunas_reorganizadas = colunas[:8] + [colunas[9]] + [colunas[10]]+ [colunas[11]]+ [colunas[12]]+ [colunas[8]] + colunas[13:]\n",
    "\n",
    "# Selecione as colunas na ordem desejada\n",
    "dados_VCM_PA_ordenadas = dados_VCM_PA.select(colunas_reorganizadas)\n",
    "\n",
    "# Use a lista com as colunas reorganizadas\n",
    "colunas = dados_VCM_PA_ordenadas.columns\n",
    "colunas_reorganizadas = colunas[:12] + [colunas[15]] + [colunas[16]]+ [colunas[17]]+ [colunas[14]]+ [colunas[12]]+ [colunas[13]]+ colunas[18:]\n",
    "\n",
    "# Selecione as colunas na ordem desejada\n",
    "dados_VCM_PA_ordenadas = dados_VCM_PA.select(colunas_reorganizadas)\n",
    "\n",
    "# Use a lista com as colunas reorganizadas\n",
    "colunas = dados_VCM_PA_ordenadas.columns\n",
    "colunas_reorganizadas = colunas[:19] + [colunas[27]] + [colunas[29]]+ colunas[19:27]+ [colunas[28]]+  colunas[30:]\n",
    "\n",
    "# Selecione as colunas na ordem desejada\n",
    "dados_VCM_PA_ordenadas = dados_VCM_PA.select(colunas_reorganizadas)\n",
    "\n",
    "# Use a lista com as colunas reorganizadas\n",
    "colunas = dados_VCM_PA_ordenadas.columns\n",
    "colunas_reorganizadas = colunas[:25] + [colunas[29]] + [colunas[30]]+ [colunas[26]]+ colunas[27:29]+ [colunas[25]]+  colunas[31:]\n",
    "\n",
    "# Selecione as colunas na ordem desejada\n",
    "dados_VCM_PA_ordenadas = dados_VCM_PA.select(colunas_reorganizadas)\n",
    "\n",
    "# Exiba o DataFrame resultante\n",
    "dados_VCM_PA_ordenadas.show()"
   ]
  },
  {
   "cell_type": "code",
   "execution_count": null,
   "metadata": {},
   "outputs": [],
   "source": [
    "len(dados_VCM_PA_ordenadas.columns)"
   ]
  },
  {
   "cell_type": "code",
   "execution_count": null,
   "metadata": {},
   "outputs": [],
   "source": [
    "dados_VCM_PA = dados_VCM_PA_ordenadas\n",
    "dados_VCM_PA.show()"
   ]
  },
  {
   "cell_type": "code",
   "execution_count": null,
   "metadata": {},
   "outputs": [],
   "source": [
    "dados_VCM_PA.printSchema()"
   ]
  },
  {
   "cell_type": "code",
   "execution_count": null,
   "metadata": {},
   "outputs": [],
   "source": [
    "dados_VCM_PA.count()"
   ]
  },
  {
   "cell_type": "markdown",
   "metadata": {},
   "source": [
    "## Exportação dos dados formatados <a id=\"exportacao-dos-dados-formatados\"></a>"
   ]
  },
  {
   "cell_type": "code",
   "execution_count": null,
   "metadata": {},
   "outputs": [],
   "source": [
    "import datetime as dt # Manipulação de data\n",
    "\n",
    "dados_VCM_pd = dados_VCM_PA.toPandas()\n",
    "\n",
    "#dados_VCM_pd.to_csv('./dados-tratados/' + dt.datetime.now().strftime('%Y%m%d%H%M%S') + '-dados_VCM_PA.csv', index=False, sep='|', encoding='utf-8')\n",
    "dados_VCM_pd.to_csv('./dados-tratados/dados_VCM_PA.csv', index=False, sep='|', encoding='utf-8')"
   ]
  }
 ],
 "metadata": {
  "kernelspec": {
   "display_name": "Python 3",
   "language": "python",
   "name": "python3"
  },
  "language_info": {
   "codemirror_mode": {
    "name": "ipython",
    "version": 3
   },
   "file_extension": ".py",
   "mimetype": "text/x-python",
   "name": "python",
   "nbconvert_exporter": "python",
   "pygments_lexer": "ipython3",
   "version": "3.10.9"
  }
 },
 "nbformat": 4,
 "nbformat_minor": 2
}
