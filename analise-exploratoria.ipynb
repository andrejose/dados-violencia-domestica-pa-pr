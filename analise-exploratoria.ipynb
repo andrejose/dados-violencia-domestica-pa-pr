{
 "cells": [
  {
   "cell_type": "markdown",
   "metadata": {},
   "source": [
    "# Análise exploratória\n",
    "\n",
    "## Descrição do notebook\n",
    "\n",
    "O objetivo deste notebook é obter uma visão geral dos dados sobre violência contra a mulher, nos estados do Pará e Paraná.\n",
    "\n",
    "## Sumário\n",
    "\n",
    "1. [Importação dos módulos e pacotes necessários](#importacao-dos-modulos-e-pacotes-necessarios)\n",
    "2. [Carregamento dos dados](#carregamento-dos-dados)\n",
    "3. [Análises](#analises)\n",
    "\n",
    "----"
   ]
  },
  {
   "cell_type": "code",
   "execution_count": null,
   "metadata": {},
   "outputs": [],
   "source": [
    "# Pandas (https://pandas.pydata.org/)\n",
    "import pandas as pd\n",
    "\n",
    "# Locale (https://docs.python.org/3/library/locale.html)\n",
    "import locale # Função de localização para formatar datas, número etc.\n",
    "\n",
    "# Datetime (https://docs.python.org/3/library/datetime.html)\n",
    "import datetime as dt # Manipulação de data\n",
    "\n",
    "# Numpy (https://numpy.org/)\n",
    "import numpy as np\n",
    "\n",
    "# Bibliotecas para gráficos (https://seaborn.pydata.org/)\n",
    "# %matplotlib inline\n",
    "import seaborn as sns\n",
    "from matplotlib import pyplot as plt"
   ]
  },
  {
   "cell_type": "code",
   "execution_count": null,
   "metadata": {},
   "outputs": [],
   "source": [
    "# Define a localização para português do Brasil\n",
    "locale.setlocale(locale.LC_ALL, 'pt_BR.UTF-8')"
   ]
  },
  {
   "cell_type": "markdown",
   "metadata": {},
   "source": [
    "---\n",
    "\n",
    "## Carregamento dos dados <a id=\"carregamento-dos-dados\"></a>"
   ]
  },
  {
   "cell_type": "code",
   "execution_count": null,
   "metadata": {},
   "outputs": [],
   "source": [
    "df = pd.read_csv('./dados-tratados/20240603152915-dados_unificados_VCM.csv', sep='|')\n",
    "df.head()"
   ]
  },
  {
   "cell_type": "code",
   "execution_count": null,
   "metadata": {},
   "outputs": [],
   "source": [
    "df.columns"
   ]
  },
  {
   "cell_type": "code",
   "execution_count": null,
   "metadata": {},
   "outputs": [],
   "source": [
    "# Cria uma cópia de segurança do df carregado\n",
    "df_bkp = df"
   ]
  },
  {
   "cell_type": "code",
   "execution_count": null,
   "metadata": {},
   "outputs": [],
   "source": [
    "# Converte as colunas necessário para o de data\n",
    "df['data_registro'] = pd.to_datetime(df['data_registro'])\n",
    "df['hora_registro'] = pd.to_datetime(df['hora_registro'])\n",
    "df['data_fato'] = pd.to_datetime(df['data_fato'])\n",
    "df['hora_fato'] = pd.to_datetime(df['hora_fato'])\n",
    "df['vit_dt_nasc'] = pd.to_datetime(df['vit_dt_nasc'])\n",
    "df['aut_dt_nasc'] = pd.to_datetime(df['aut_dt_nasc'])"
   ]
  },
  {
   "cell_type": "code",
   "execution_count": null,
   "metadata": {},
   "outputs": [],
   "source": [
    "# Número total de linhas no dataframe\n",
    "len(df)"
   ]
  },
  {
   "cell_type": "code",
   "execution_count": null,
   "metadata": {},
   "outputs": [],
   "source": [
    "# Número total de linhas sem a informação da identificação do boletim, ou seja, os registros do estado do Pará\n",
    "df['id_boletim'].isnull().sum()"
   ]
  },
  {
   "cell_type": "code",
   "execution_count": null,
   "metadata": {},
   "outputs": [],
   "source": [
    "# Completa os valores nulos pelo valor do índice. Assim, cada linha do estado do Pará terá uma identificação.\n",
    "df['id_boletim'] = df['id_boletim'].fillna(pd.Series(df.index))"
   ]
  },
  {
   "cell_type": "code",
   "execution_count": null,
   "metadata": {},
   "outputs": [],
   "source": [
    "# Verifica que não restou nenhuma linha sem identificação\n",
    "df['id_boletim'].isnull().sum()"
   ]
  },
  {
   "cell_type": "code",
   "execution_count": null,
   "metadata": {},
   "outputs": [],
   "source": [
    "# Número total de casos\n",
    "ocorrencias = df.groupby('id_boletim')\n",
    "len(ocorrencias)"
   ]
  },
  {
   "cell_type": "code",
   "execution_count": null,
   "metadata": {},
   "outputs": [],
   "source": [
    "# Mantendo a primeira ocorrência\n",
    "ocorrencias_unicas = ~df.duplicated(subset='id_boletim', keep=\"first\")\n",
    "df_ocorrencias = df[ocorrencias_unicas]\n",
    "len(df_ocorrencias)"
   ]
  },
  {
   "cell_type": "code",
   "execution_count": null,
   "metadata": {},
   "outputs": [],
   "source": [
    "df_ocorrencias"
   ]
  },
  {
   "cell_type": "markdown",
   "metadata": {},
   "source": [
    "## Análises <a id=\"analises\"></a>\n",
    "\n",
    "### Intervalo entre ocorrência e registro"
   ]
  },
  {
   "cell_type": "code",
   "execution_count": null,
   "metadata": {},
   "outputs": [],
   "source": [
    "pd.options.mode.copy_on_write = True"
   ]
  },
  {
   "cell_type": "code",
   "execution_count": null,
   "metadata": {},
   "outputs": [],
   "source": [
    "# Verificação de quantos registros não são feitos na mesma data da ocorrência\n",
    "print(len(df_ocorrencias[df_ocorrencias['data_fato'] != df_ocorrencias['data_registro']]))"
   ]
  },
  {
   "cell_type": "code",
   "execution_count": null,
   "metadata": {},
   "outputs": [],
   "source": [
    "# Convertendo os campos 'data_registro' e 'data_fato' para o formato de data\n",
    "df_ocorrencias['data_registro'] = pd.to_datetime(df_ocorrencias['data_registro'])\n",
    "df_ocorrencias['data_fato'] = pd.to_datetime(df_ocorrencias['data_fato'])"
   ]
  },
  {
   "cell_type": "code",
   "execution_count": null,
   "metadata": {},
   "outputs": [],
   "source": [
    "# Cria uma coluna para o intervalo, em dias, entre a data da ocorrência e do registro\n",
    "df_ocorrencias['intervalo_fato_registro'] = (df_ocorrencias['data_registro'] - df_ocorrencias['data_fato']).dt.days"
   ]
  },
  {
   "cell_type": "code",
   "execution_count": null,
   "metadata": {},
   "outputs": [],
   "source": [
    "# Estatísticas descritivas desse intervalo\n",
    "df_ocorrencias['intervalo_fato_registro'].describe()"
   ]
  },
  {
   "cell_type": "code",
   "execution_count": null,
   "metadata": {},
   "outputs": [],
   "source": [
    "# Distribuição dessa variável intervalo\n",
    "df_ocorrencias['intervalo_fato_registro'].value_counts()"
   ]
  },
  {
   "cell_type": "code",
   "execution_count": null,
   "metadata": {},
   "outputs": [],
   "source": [
    "# Verifica quantas vezes o registro foi realizado na mesma data do fato\n",
    "print(df_ocorrencias['intervalo_fato_registro'].value_counts().get(0, 0))\n",
    "# Verifica o percentual de quantas vezes isso aconteceu\n",
    "print(df_ocorrencias['intervalo_fato_registro'].value_counts().get(0, 0)/len(df_ocorrencias))"
   ]
  },
  {
   "cell_type": "markdown",
   "metadata": {},
   "source": [
    "#### Distribuição do intervalo"
   ]
  },
  {
   "cell_type": "code",
   "execution_count": null,
   "metadata": {},
   "outputs": [],
   "source": [
    "df_intervalo = df_ocorrencias.intervalo_fato_registro.value_counts().reset_index().rename(columns={'intervalo_fato_registro': 'Intervalo', 'count': 'Total'}).sort_values(by='Intervalo').reset_index(drop=True)\n",
    "# Criando uma coluna com a porcentagem dos valores\n",
    "df_intervalo['Porcentagem'] = df_intervalo.Total / df_intervalo.Total.sum()\n",
    "\n",
    "df_intervalo.head(20).style.format(formatter={'Porcentagem': lambda x: locale.format_string(\"%.2f\", x*100, True) + '%' }).hide(axis=\"index\")"
   ]
  },
  {
   "cell_type": "markdown",
   "metadata": {},
   "source": [
    "### Data do fato"
   ]
  },
  {
   "cell_type": "code",
   "execution_count": null,
   "metadata": {},
   "outputs": [],
   "source": [
    "# Selecionando o registro com o fato mais antigo\n",
    "fato_antigo = df_ocorrencias.iloc[df_ocorrencias['data_fato'].argmin()]\n",
    "fato_antigo\n",
    "print(f\"O fato mais ANTIGO da base ocorreu em {fato_antigo['data_fato'].strftime('%d de %B de %Y')}.\")\n",
    "\n",
    "# Selecionando o registro com o fato mais recente\n",
    "fato_recente = df_ocorrencias.iloc[df_ocorrencias['data_fato'].argmax()]\n",
    "fato_recente\n",
    "print(f\"O fato mais RECENTE da base ocorreu em {fato_recente['data_fato'].strftime('%d de %B de %Y')}.\")"
   ]
  },
  {
   "cell_type": "markdown",
   "metadata": {},
   "source": [
    "### Anos"
   ]
  },
  {
   "cell_type": "code",
   "execution_count": null,
   "metadata": {},
   "outputs": [],
   "source": [
    "# Cria um novo dataframe para guardar os dados dos registros por ano\n",
    "df_ano_fato = df_ocorrencias['data_fato'].dt.year.value_counts().reset_index().rename(columns={'data_fato': 'Ano', 'count': 'Total'}).sort_values(by='Ano').reset_index(drop=True)\n",
    "\n",
    "# Criando uma coluna com a porcentagem dos valores anuais\n",
    "df_ano_fato['Porcentagem'] = df_ano_fato.Total / df_ano_fato.Total.sum()"
   ]
  },
  {
   "cell_type": "code",
   "execution_count": null,
   "metadata": {},
   "outputs": [],
   "source": [
    "# Exibe a tabela\n",
    "df_ano_fato.style.format(formatter={'Porcentagem': lambda x: locale.format_string(\"%.2f\", x*100, True) + '%' }).hide(axis=\"index\")"
   ]
  },
  {
   "cell_type": "code",
   "execution_count": null,
   "metadata": {},
   "outputs": [],
   "source": [
    "df_ano_fato['Total'].describe()"
   ]
  },
  {
   "cell_type": "code",
   "execution_count": null,
   "metadata": {},
   "outputs": [],
   "source": [
    "# Imprime o gráfico com os fatos distribuídos pelos anos da base\n",
    "# Define o estilo do gráfico\n",
    "sns.set_theme(style=\"whitegrid\")\n",
    "# Define o tamanho do gráfico em polegadas\n",
    "fig = plt.gcf()\n",
    "fig.set_size_inches(10, 4)\n",
    "# Cria um novo gráfico de barras\n",
    "#  palette=\"viridis\", \n",
    "g = sns.barplot(x=df_ano_fato.Ano, y=df_ano_fato.Total, alpha=0.9, color='#666666')\n",
    "plt.title('Distribuição de fatos por ano', fontsize=16, pad=20)\n",
    "\n",
    "# Rótulos dos eixos\n",
    "plt.ylabel('Fatos', fontsize=12, labelpad=10)\n",
    "plt.xlabel('Anos', fontsize=12, labelpad=10)\n",
    "plt.xticks(rotation=90)\n",
    "# Adiciona os valores às colunas\n",
    "for i in range(0, len(df_ano_fato.Total)):\n",
    "    g.text(i, df_ano_fato.Total[i]+2, int(df_ano_fato.Total[i]), color='black', ha=\"center\", fontsize=10)\n",
    "# Exibe a figura\n",
    "plt.show()"
   ]
  },
  {
   "cell_type": "markdown",
   "metadata": {},
   "source": [
    "Verificação da distribuição dos fatos pelos anos, separando os dois estados."
   ]
  },
  {
   "cell_type": "code",
   "execution_count": null,
   "metadata": {},
   "outputs": [],
   "source": [
    "df_pa = df_ocorrencias[df_ocorrencias['estado'] == 'PA']\n",
    "df_pr = df_ocorrencias[df_ocorrencias['estado'] == 'PR']\n",
    "\n",
    "# Cria um novo dataframe para guardar os dados dos registros por ano\n",
    "df_ano_fato_pa = df_pa['data_fato'].dt.year.value_counts().reset_index().rename(columns={'data_fato': 'Ano', 'count': 'Total'}).sort_values(by='Ano').reset_index(drop=True)\n",
    "df_ano_fato_pr = df_pr['data_fato'].dt.year.value_counts().reset_index().rename(columns={'data_fato': 'Ano', 'count': 'Total'}).sort_values(by='Ano').reset_index(drop=True)\n",
    "\n",
    "# Criando uma coluna com a porcentagem dos valores anuais\n",
    "df_ano_fato_pa['Porcentagem'] = df_ano_fato_pa.Total / df_ano_fato_pa.Total.sum()\n",
    "df_ano_fato_pr['Porcentagem'] = df_ano_fato_pr.Total / df_ano_fato_pr.Total.sum()\n",
    "\n",
    "# Exibe a tabela\n",
    "df_ano_fato_pa.style.format(formatter={'Porcentagem': lambda x: locale.format_string(\"%.2f\", x*100, True) + '%' }).hide(axis=\"index\")"
   ]
  },
  {
   "cell_type": "code",
   "execution_count": null,
   "metadata": {},
   "outputs": [],
   "source": [
    "df_ano_fato_pr.style.format(formatter={'Porcentagem': lambda x: locale.format_string(\"%.2f\", x*100, True) + '%' }).hide(axis=\"index\")"
   ]
  },
  {
   "cell_type": "markdown",
   "metadata": {},
   "source": [
    "### Meses"
   ]
  },
  {
   "cell_type": "code",
   "execution_count": null,
   "metadata": {},
   "outputs": [],
   "source": [
    "df_ocorrencias['mes_fato'].value_counts()"
   ]
  },
  {
   "cell_type": "code",
   "execution_count": null,
   "metadata": {},
   "outputs": [],
   "source": [
    "# Conta os fatos por ano\n",
    "# contagem_por_mes = df['mes_fato'].value_counts()\n",
    "\n",
    "# Cria um novo dataframe para guardar os dados dos registros por mês\n",
    "df_mes_fato = df_ocorrencias['mes_fato'].value_counts().reset_index().rename(columns={'mes_fato': 'Mês', 'count': 'Total'}).sort_values(by='Total').reset_index(drop=True)\n",
    "\n",
    "# Importa um novo pacote para trabalhar a coluna 'Mês' como categoria\n",
    "from pandas.api.types import CategoricalDtype\n",
    "\n",
    "# Define a ordem correta dos meses\n",
    "cat_month_order = CategoricalDtype(\n",
    "    ['JANEIRO', 'FEVEREIRO', 'MARCO', 'ABRIL', 'MAIO', 'JUNHO', 'JULHO', 'AGOSTO', 'SETEMBRO', 'OUTUBRO', 'NOVEMBRO', 'DEZEMBRO'], \n",
    "    ordered=True\n",
    ")\n",
    "# Define que o tipo de dado contido na coluna 'Mês' como categoria\n",
    "#df_mes_fato['Mês'] = df_mes_fato['Mês'].astype(cat_month_order)\n",
    "# Ordena os dados\n",
    "df_mes_fato.sort_values('Mês', inplace=True)\n",
    "\n",
    "df_mes_fato.reset_index(drop=True, inplace=True)\n",
    "df_mes_fato\n",
    "\n",
    "# Criando uma coluna com a porcentagem dos valores dos meses\n",
    "df_mes_fato['Porcentagem'] = df_mes_fato.Total / df_mes_fato.Total.sum()\n",
    "\n",
    "# Exibe a tabela\n",
    "df_mes_fato.style.format(formatter={'Porcentagem': lambda x: locale.format_string(\"%.2f\", x*100, True) + '%' }).hide(axis=\"index\")"
   ]
  },
  {
   "cell_type": "code",
   "execution_count": null,
   "metadata": {},
   "outputs": [],
   "source": [
    "# Imprime o gráfico com os fatos distribuídos pelos meses da base\n",
    "# Define o estilo do gráfico\n",
    "sns.set_theme(style=\"whitegrid\")\n",
    "# Define o tamanho do gráfico em polegadas\n",
    "fig = plt.gcf()\n",
    "fig.set_size_inches(10, 4)\n",
    "# Cria um novo gráfico de barras\n",
    "#  palette=\"viridis\", \n",
    "g = sns.barplot(x=df_mes_fato['Mês'], y=df_mes_fato.Total, alpha=0.9, color='#666666')\n",
    "plt.title('Distribuição de fatos por mês', fontsize=16, pad=20)\n",
    "\n",
    "# Rótulos dos eixos\n",
    "plt.ylabel('Fatos', fontsize=12, labelpad=10)\n",
    "plt.xlabel('Meses', fontsize=12, labelpad=10)\n",
    "plt.xticks(rotation=90)\n",
    "# Adiciona os valores às colunas\n",
    "for i in range(0, len(df_mes_fato.Total)):\n",
    "    g.text(i, df_mes_fato.Total[i]+2, int(df_mes_fato.Total[i]), color='black', ha=\"center\", fontsize=10)\n",
    "# Exibe a figura\n",
    "plt.show()"
   ]
  },
  {
   "cell_type": "markdown",
   "metadata": {},
   "source": [
    "### Dia da semana"
   ]
  },
  {
   "cell_type": "code",
   "execution_count": null,
   "metadata": {},
   "outputs": [],
   "source": [
    "df_ocorrencias['dia_semana']"
   ]
  },
  {
   "cell_type": "code",
   "execution_count": null,
   "metadata": {},
   "outputs": [],
   "source": [
    "# Verificação dos horários dos datos\n",
    "df_semana = df_ocorrencias.dia_semana.value_counts().reset_index().rename(columns={'dia_semana': 'Dia', 'count': 'Total'}).sort_values(by='Total', ascending=False).reset_index(drop=True)\n",
    "# Criando uma coluna com a porcentagem dos valores\n",
    "df_semana['Porcentagem'] = df_semana.Total / df_semana.Total.sum()\n",
    "\n",
    "# Define a ordem correta dos meses\n",
    "cat_day_order = CategoricalDtype(\n",
    "    ['SEG', 'TER', 'QUA', 'QUI', 'SEX', 'SAB', 'DOM'], \n",
    "    ordered=True\n",
    ")\n",
    "# Define que o tipo de dado contido na coluna 'Mês' como categoria\n",
    "df_semana['Dia'] = df_semana['Dia'].astype(cat_day_order)\n",
    "\n",
    "df_semana.sort_values('Dia', inplace=True)\n",
    "\n",
    "df_semana.style.format(formatter={'Porcentagem': lambda x: locale.format_string(\"%.2f\", x*100, True) + '%' }).hide(axis=\"index\")"
   ]
  },
  {
   "cell_type": "markdown",
   "metadata": {},
   "source": [
    "### Horário dos fatos"
   ]
  },
  {
   "cell_type": "code",
   "execution_count": null,
   "metadata": {},
   "outputs": [],
   "source": [
    "# Verificação dos horários dos datos\n",
    "df_horario = df_ocorrencias.faixa_horaria.value_counts().reset_index().rename(columns={'faixa_horaria': 'Faixa', 'count': 'Total'}).sort_values(by='Faixa').reset_index(drop=True)\n",
    "# Criando uma coluna com a porcentagem dos valores\n",
    "df_horario['Porcentagem'] = df_horario.Total / df_horario.Total.sum()\n",
    "\n",
    "# Define a ordem correta dos meses\n",
    "cat_hour_order = CategoricalDtype(\n",
    "    ['Manhã', 'Tarde', 'Noite', 'Madrugada'],\n",
    "    ordered=True\n",
    ")\n",
    "# Define que o tipo de dado contido na coluna 'Mês' como categoria\n",
    "df_horario['Faixa'] = df_horario['Faixa'].astype(cat_hour_order)\n",
    "\n",
    "df_horario.sort_values('Faixa', inplace=True)\n",
    "\n",
    "df_horario.style.format(formatter={'Porcentagem': lambda x: locale.format_string(\"%.2f\", x*100, True) + '%' }).hide(axis=\"index\")"
   ]
  },
  {
   "cell_type": "code",
   "execution_count": null,
   "metadata": {},
   "outputs": [],
   "source": [
    "# Verificação dos horários dos datos\n",
    "df_horario = df_ocorrencias.faixa_horaria_2h.value_counts().reset_index().rename(columns={'faixa_horaria_2h': 'Faixa', 'count': 'Total'}).sort_values(by='Faixa').reset_index(drop=True)\n",
    "# Criando uma coluna com a porcentagem dos valores\n",
    "df_horario['Porcentagem'] = df_horario.Total / df_horario.Total.sum()\n",
    "\n",
    "df_horario.style.format(formatter={'Porcentagem': lambda x: locale.format_string(\"%.2f\", x*100, True) + '%' }).hide(axis=\"index\")"
   ]
  },
  {
   "cell_type": "markdown",
   "metadata": {},
   "source": [
    "### Características da vítima"
   ]
  },
  {
   "cell_type": "code",
   "execution_count": null,
   "metadata": {},
   "outputs": [],
   "source": [
    "# Completa os valores nulos pelo valor do índice. Assim, cada linha do estado do Pará terá uma identificação.\n",
    "df['vitima'] = df['vitima'].fillna(pd.Series(df.index))"
   ]
  },
  {
   "cell_type": "code",
   "execution_count": null,
   "metadata": {},
   "outputs": [],
   "source": [
    "df.vitima"
   ]
  },
  {
   "cell_type": "code",
   "execution_count": null,
   "metadata": {},
   "outputs": [],
   "source": [
    "# Mantendo a primeira vítima\n",
    "vitimas_unicas = ~df.duplicated(subset='vitima', keep=\"first\")\n",
    "df_vitimas = df[vitimas_unicas]\n",
    "len(df_vitimas)"
   ]
  },
  {
   "cell_type": "markdown",
   "metadata": {},
   "source": [
    "##### Idade"
   ]
  },
  {
   "cell_type": "code",
   "execution_count": null,
   "metadata": {},
   "outputs": [],
   "source": [
    "# Remoção dos registros cuja idade é superior a 120 ou estão com o dado em branco\n",
    "idade = df_vitimas[(df_vitimas['vit_idade'] < 120) & (df_vitimas['vit_idade'] != '')]['vit_idade']\n",
    "print(f\"Há {len(idade)} registros com o dado de idade.\")"
   ]
  },
  {
   "cell_type": "code",
   "execution_count": null,
   "metadata": {},
   "outputs": [],
   "source": [
    "# Estatísticas descritivas da idade\n",
    "idade.describe()"
   ]
  },
  {
   "cell_type": "code",
   "execution_count": null,
   "metadata": {},
   "outputs": [],
   "source": [
    "print(idade.mode())\n",
    "print(idade.median())"
   ]
  },
  {
   "cell_type": "code",
   "execution_count": null,
   "metadata": {},
   "outputs": [],
   "source": [
    "# Definindo os intervalos e os rótulos das faixas etárias\n",
    "intervals = [0, 11, 17, 24, 29, 34, 39, 44, 49, 64, 105]\n",
    "labels = ['De 0 a 11 anos', 'De 12 a 17 anos', 'De 18 a 24 anos', 'De 25 a 29 anos', 'De 30 a 34 anos', 'De 35 a 39 anos', 'De 40 a 44 anos', 'De 45 a 49 anos', 'De 50 a 64 anos', 'Mais de 65 anos']\n",
    "categories = labels + ['Desconhecida']\n",
    "df_vitimas['vit_faixa_etaria_2'] = pd.cut(df_vitimas['vit_idade'], bins=intervals, labels=labels, right=False)\n",
    "\n",
    "# Adiciona a categoria 'Desconhecida' à lista de categorias da faixa etária\n",
    "df_vitimas['vit_faixa_etaria_2'] = pd.Categorical(df_vitimas['vit_faixa_etaria_2'], categories=categories)\n",
    "# Preenche os registros com valores nulos como 'Desconhecida'\n",
    "df_vitimas['vit_faixa_etaria_2'] = df_vitimas['vit_faixa_etaria_2'].fillna('Desconhecida')\n",
    "\n",
    "df_vitimas['vit_faixa_etaria_2'].value_counts()"
   ]
  },
  {
   "cell_type": "code",
   "execution_count": null,
   "metadata": {},
   "outputs": [],
   "source": [
    "# Verificação dos horários dos datos\n",
    "df_vit_faixa_etaria = df_vitimas.vit_faixa_etaria_2.value_counts().reset_index().rename(columns={'vit_faixa_etaria_2': 'Faixa etária', 'count': 'Total'}).sort_values(by='Faixa etária').reset_index(drop=True)\n",
    "# Criando uma coluna com a porcentagem dos valores\n",
    "df_vit_faixa_etaria['Porcentagem'] = df_vit_faixa_etaria.Total / df_vit_faixa_etaria.Total.sum()\n",
    "\n",
    "df_vit_faixa_etaria.style.format(formatter={'Porcentagem': lambda x: locale.format_string(\"%.2f\", x*100, True) + '%' }).hide(axis=\"index\")"
   ]
  },
  {
   "cell_type": "code",
   "execution_count": null,
   "metadata": {},
   "outputs": [],
   "source": [
    "# Verificação dos horários dos datos\n",
    "df_vit_faixa_etaria_pa = df_vitimas[df_vitimas['estado'] == 'PA'].vit_faixa_etaria_2.value_counts().reset_index().rename(columns={'vit_faixa_etaria_2': 'Faixa etária', 'count': 'Total'}).sort_values(by='Faixa etária').reset_index(drop=True)\n",
    "# Criando uma coluna com a porcentagem dos valores\n",
    "df_vit_faixa_etaria_pa['Porcentagem'] = df_vit_faixa_etaria_pa.Total / df_vit_faixa_etaria_pa.Total.sum()\n",
    "\n",
    "df_vit_faixa_etaria_pa.style.format(formatter={'Porcentagem': lambda x: locale.format_string(\"%.2f\", x*100, True) + '%' }).hide(axis=\"index\")"
   ]
  },
  {
   "cell_type": "code",
   "execution_count": null,
   "metadata": {},
   "outputs": [],
   "source": [
    "# Verificação dos horários dos datos\n",
    "df_vit_faixa_etaria_pr = df_vitimas[df_vitimas['estado'] == 'PR'].vit_faixa_etaria_2.value_counts().reset_index().rename(columns={'vit_faixa_etaria_2': 'Faixa etária', 'count': 'Total'}).sort_values(by='Faixa etária').reset_index(drop=True)\n",
    "# Criando uma coluna com a porcentagem dos valores\n",
    "df_vit_faixa_etaria_pr['Porcentagem'] = df_vit_faixa_etaria_pr.Total / df_vit_faixa_etaria_pr.Total.sum()\n",
    "\n",
    "df_vit_faixa_etaria_pr.style.format(formatter={'Porcentagem': lambda x: locale.format_string(\"%.2f\", x*100, True) + '%' }).hide(axis=\"index\")"
   ]
  },
  {
   "cell_type": "markdown",
   "metadata": {},
   "source": [
    "#### Cor da pele"
   ]
  },
  {
   "cell_type": "code",
   "execution_count": null,
   "metadata": {},
   "outputs": [],
   "source": [
    "# Cria um novo dataframe para guardar os dados dos registros por ano\n",
    "df_vit_cor_pele_pa = df_pa['vit_cor_pele'].value_counts().reset_index().rename(columns={'vit_cor_pele': 'Cor da pele', 'count': 'Total'}).sort_values(by='Cor da pele').reset_index(drop=True)\n",
    "df_vit_cor_pele_pr = df_pr['vit_cor_pele'].value_counts().reset_index().rename(columns={'vit_cor_pele': 'Cor da pele', 'count': 'Total'}).sort_values(by='Cor da pele').reset_index(drop=True)\n",
    "\n",
    "# Criando uma coluna com a porcentagem dos valores anuais\n",
    "df_vit_cor_pele_pa['Porcentagem'] = df_vit_cor_pele_pa.Total / df_vit_cor_pele_pa.Total.sum()\n",
    "df_vit_cor_pele_pr['Porcentagem'] = df_vit_cor_pele_pr.Total / df_vit_cor_pele_pr.Total.sum()\n",
    "\n",
    "# Exibe a tabela\n",
    "df_vit_cor_pele_pa.style.format(formatter={'Porcentagem': lambda x: locale.format_string(\"%.2f\", x*100, True) + '%' }).hide(axis=\"index\")"
   ]
  },
  {
   "cell_type": "code",
   "execution_count": null,
   "metadata": {},
   "outputs": [],
   "source": [
    "df_vit_cor_pele_pr.style.format(formatter={'Porcentagem': lambda x: locale.format_string(\"%.2f\", x*100, True) + '%' }).hide(axis=\"index\")"
   ]
  },
  {
   "cell_type": "markdown",
   "metadata": {},
   "source": [
    "##### Nova versão"
   ]
  },
  {
   "cell_type": "code",
   "execution_count": null,
   "metadata": {},
   "outputs": [],
   "source": [
    "vitima_sem_dados_cor_de_pele = df_vitimas['vit_cor_pele'].isnull().sum()\n",
    "n_vitimas = len(df_vitimas)"
   ]
  },
  {
   "cell_type": "code",
   "execution_count": null,
   "metadata": {},
   "outputs": [],
   "source": [
    "print(f'De um total de {n_vitimas} registradas, {vitima_sem_dados_cor_de_pele} não apresentam dado referem à cor de pele.')"
   ]
  },
  {
   "cell_type": "code",
   "execution_count": null,
   "metadata": {},
   "outputs": [],
   "source": [
    "# Remoção dos registros cuja cor de pele não existe\n",
    "vit_cor_pele = df_vitimas.dropna(subset=['vit_cor_pele'])['vit_cor_pele']\n",
    "print(f\"Há {len(vit_cor_pele)} registros com o dado de idade.\")"
   ]
  },
  {
   "cell_type": "code",
   "execution_count": null,
   "metadata": {},
   "outputs": [],
   "source": [
    "vit_cor_pele.value_counts()"
   ]
  },
  {
   "cell_type": "code",
   "execution_count": null,
   "metadata": {},
   "outputs": [],
   "source": [
    "df_vit_cor_pele_geral = df_vitimas['vit_cor_pele'].value_counts().reset_index().rename(columns={'vit_cor_pele': 'Cor da pele', 'count': 'Total'}).sort_values(by='Cor da pele').reset_index(drop=True)\n",
    "df_vit_cor_pele_geral['Porcentagem'] = df_vit_cor_pele_geral.Total / df_vit_cor_pele_geral.Total.sum()\n",
    "df_vit_cor_pele_geral.style.format(formatter={'Porcentagem': lambda x: locale.format_string(\"%.2f\", x*100, True) + '%' }).hide(axis=\"index\")"
   ]
  },
  {
   "cell_type": "code",
   "execution_count": null,
   "metadata": {},
   "outputs": [],
   "source": [
    "# Dados do PA\n",
    "vit_cor_pele_pa = df_vitimas[df_vitimas['estado'] == 'PA'].dropna(subset=['vit_cor_pele'])['vit_cor_pele']\n",
    "vit_cor_pele_pa.value_counts()"
   ]
  },
  {
   "cell_type": "code",
   "execution_count": null,
   "metadata": {},
   "outputs": [],
   "source": [
    "# Dados do PR\n",
    "vit_cor_pele_pr = df_vitimas[df_vitimas['estado'] == 'PR'].dropna(subset=['vit_cor_pele'])['vit_cor_pele']\n",
    "vit_cor_pele_pr.value_counts()"
   ]
  },
  {
   "cell_type": "markdown",
   "metadata": {},
   "source": [
    "Carregando os dados originais do Pará para verificar essa variável."
   ]
  },
  {
   "cell_type": "code",
   "execution_count": null,
   "metadata": {},
   "outputs": [],
   "source": [
    "# Carregamento dos dados utilizando o arquivo XLSX e pandas\n",
    "dados_pa = pd.read_csv('./dados/PA/raw_BD_VD_2010a2022_PA.csv', sep='@')\n",
    "dados_pa['vit_cor_pele'].value_counts()"
   ]
  },
  {
   "cell_type": "markdown",
   "metadata": {},
   "source": [
    "#### Grau de instrução"
   ]
  },
  {
   "cell_type": "code",
   "execution_count": null,
   "metadata": {},
   "outputs": [],
   "source": [
    "df_vitimas.columns"
   ]
  },
  {
   "cell_type": "code",
   "execution_count": null,
   "metadata": {},
   "outputs": [],
   "source": [
    "df_vitimas['vit_grau_inst'].isnull().sum()"
   ]
  },
  {
   "cell_type": "code",
   "execution_count": null,
   "metadata": {},
   "outputs": [],
   "source": [
    "df_vitimas['vit_grau_inst'].value_counts()"
   ]
  },
  {
   "cell_type": "code",
   "execution_count": null,
   "metadata": {},
   "outputs": [],
   "source": [
    "substituicoes = {\n",
    "    'PRIMEIRO GRAU INCOMPLETO': 'ENSINO FUNDAMENTAL INCOMPLETO',\n",
    "    'PRIMEIRO GRAU COMPLETO': 'ENSINO FUNDAMENTAL COMPLETO',\n",
    "    'SEGUNDO GRAU INCOMPLETO': 'ENSINO MEDIO INCOMPLETO',\n",
    "    'SEGUNDO GRAU COMPLETO': 'ENSINO MEDIO COMPLETO',\n",
    "    'TERCEIRO GRAU INCOMPLETO': 'ENSINO SUPERIOR INCOMPLETO',\n",
    "    'TERCEIRO GRAU COMPLETO': 'ENSINO SUPERIOR COMPLETO',\n",
    "    'SUPERIOR INCOMPLETO': 'ENSINO SUPERIOR INCOMPLETO'\n",
    "}\n",
    "\n",
    "df_vitimas['vit_grau_inst'] = df_vitimas['vit_grau_inst'].replace(substituicoes)\n",
    "\n"
   ]
  },
  {
   "cell_type": "code",
   "execution_count": null,
   "metadata": {},
   "outputs": [],
   "source": [
    "df_vitimas['vit_grau_inst'].value_counts()"
   ]
  },
  {
   "cell_type": "code",
   "execution_count": null,
   "metadata": {},
   "outputs": [],
   "source": [
    "df_vit_grau_inst = df_vitimas['vit_grau_inst'].value_counts().reset_index().rename(columns={'vit_grau_inst': 'Grau de instrução', 'count': 'Total'}).sort_values(by='Grau de instrução').reset_index(drop=True)\n",
    "df_vit_grau_inst['Porcentagem'] = df_vit_grau_inst.Total / df_vit_grau_inst.Total.sum()\n",
    "df_vit_grau_inst.style.format(formatter={'Porcentagem': lambda x: locale.format_string(\"%.2f\", x*100, True) + '%' }).hide(axis=\"index\")"
   ]
  },
  {
   "cell_type": "markdown",
   "metadata": {},
   "source": [
    "#### Profissão"
   ]
  },
  {
   "cell_type": "code",
   "execution_count": null,
   "metadata": {},
   "outputs": [],
   "source": [
    "df_vitimas['vit_profissao'].isnull().sum()"
   ]
  },
  {
   "cell_type": "code",
   "execution_count": null,
   "metadata": {},
   "outputs": [],
   "source": [
    "df_vitimas['vit_profissao'].notnull().sum()"
   ]
  },
  {
   "cell_type": "code",
   "execution_count": null,
   "metadata": {},
   "outputs": [],
   "source": [
    "9684+15840"
   ]
  },
  {
   "cell_type": "code",
   "execution_count": null,
   "metadata": {},
   "outputs": [],
   "source": [
    "df_vitimas['vit_profissao'].value_counts()"
   ]
  },
  {
   "cell_type": "code",
   "execution_count": null,
   "metadata": {},
   "outputs": [],
   "source": [
    "# Tornando como padrão os termos com mais registros\n",
    "substituicoes = {\n",
    "    'ADMINISTRADOR': 'ADMINISTRADOR DE EMPRESA',\n",
    "    'ADVOGADO(A)': 'ADVOGADO',\n",
    "    'AGRICULTOR(A)': 'AGRICULTOR',\n",
    "    'APOSENTADO(A)': 'APOSENTADO',\n",
    "    'CABELEIREIRO': 'CABELEIREIRA',\n",
    "    'CAMAREIRO': 'CAMAREIRA',\n",
    "    'COSTUREIRO(A),': 'COSTUREIRO',\n",
    "    'COZINHEIRO(A),': 'COZINHEIRO',\n",
    "    'ESTUDAMTE,': 'ESTUDANTE',\n",
    "    'LAVRADOR(A)': 'LAVRADOR',\n",
    "    'PEDAGOGO(A)': 'PEDAGOGA',\n",
    "    'PEDAGOGO': 'PEDAGOGA',\n",
    "    'PROMOTOR DE VENDAS': 'PROMOTORA DE VENDAS',\n",
    "    'SECRETARIO(A)': 'SECRETARIA',\n",
    "    'VENDEDOR(A)': 'VENDEDOR'\n",
    "}\n",
    "\n",
    "df_vitimas['vit_profissao'] = df_vitimas['vit_profissao'].replace(substituicoes)\n",
    "\n"
   ]
  },
  {
   "cell_type": "code",
   "execution_count": null,
   "metadata": {},
   "outputs": [],
   "source": [
    "df_vit_profissao = df_vitimas['vit_profissao'].value_counts().reset_index().rename(columns={'vit_profissao': 'Profissão', 'count': 'Total'}).sort_values(by='Total', ascending=False).reset_index(drop=True)\n",
    "df_vit_profissao['Porcentagem'] = df_vit_profissao.Total / df_vit_profissao.Total.sum()\n",
    "df_vit_profissao.head(30).style.format(formatter={'Porcentagem': lambda x: locale.format_string(\"%.2f\", x*100, True) + '%' }).hide(axis=\"index\")"
   ]
  },
  {
   "cell_type": "markdown",
   "metadata": {},
   "source": [
    "### Características do autor"
   ]
  },
  {
   "cell_type": "code",
   "execution_count": null,
   "metadata": {},
   "outputs": [],
   "source": [
    "df.columns"
   ]
  },
  {
   "cell_type": "code",
   "execution_count": null,
   "metadata": {},
   "outputs": [],
   "source": [
    "# Preenchendo com uma ID os autores do estado do Pará que possuem alguma informação sobre o grau de relacionamento ou sobre a idade\n",
    "df['autor'] = df[(df['estado'] == 'PA') & ((df['grau_de_relacionamento'].notnull()) & (df['grau_de_relacionamento'] != 'PREJUDICADO')) | (df['aut_idade'].notnull())]['autor'].fillna(pd.Series(df.index))"
   ]
  },
  {
   "cell_type": "code",
   "execution_count": null,
   "metadata": {},
   "outputs": [],
   "source": [
    "# Mantendo o primeiro autor\n",
    "autores_unicos = ~df.duplicated(subset='autor', keep=\"first\")\n",
    "df_autores = df[autores_unicos]\n",
    "len(df_autores)"
   ]
  },
  {
   "cell_type": "code",
   "execution_count": null,
   "metadata": {},
   "outputs": [],
   "source": [
    "len(df_autores)/len(df_ocorrencias)"
   ]
  },
  {
   "cell_type": "code",
   "execution_count": null,
   "metadata": {},
   "outputs": [],
   "source": [
    "df_autores['grau_de_relacionamento'].value_counts()"
   ]
  },
  {
   "cell_type": "markdown",
   "metadata": {},
   "source": [
    "#### Idade"
   ]
  },
  {
   "cell_type": "code",
   "execution_count": null,
   "metadata": {},
   "outputs": [],
   "source": [
    "len(df_autores)"
   ]
  },
  {
   "cell_type": "code",
   "execution_count": null,
   "metadata": {},
   "outputs": [],
   "source": [
    "# Remoção dos registros cuja idade é superior a 120 ou estão com o dado em branco\n",
    "idade = df_autores[(df_autores['aut_idade'] < 120) & (df_autores['aut_idade'] != '')]['aut_idade']\n",
    "print(f\"Há {len(idade)} registros com o dado de idade.\")"
   ]
  },
  {
   "cell_type": "code",
   "execution_count": null,
   "metadata": {},
   "outputs": [],
   "source": [
    "# Estatísticas descritivas da idade\n",
    "idade.describe()"
   ]
  },
  {
   "cell_type": "code",
   "execution_count": null,
   "metadata": {},
   "outputs": [],
   "source": [
    "print(idade.mode())\n",
    "print(idade.median())"
   ]
  },
  {
   "cell_type": "code",
   "execution_count": null,
   "metadata": {},
   "outputs": [],
   "source": [
    "# Definindo os intervalos e os rótulos das faixas etárias\n",
    "intervals = [0, 11, 17, 24, 29, 34, 39, 44, 49, 64, 105]\n",
    "labels = ['De 0 a 11 anos', 'De 12 a 17 anos', 'De 18 a 24 anos', 'De 25 a 29 anos', 'De 30 a 34 anos', 'De 35 a 39 anos', 'De 40 a 44 anos', 'De 45 a 49 anos', 'De 50 a 64 anos', 'Mais de 65 anos']\n",
    "categories = labels + ['Desconhecida']\n",
    "df_autores['aut_faixa_etaria_2'] = pd.cut(df_autores['aut_idade'], bins=intervals, labels=labels, right=False)\n",
    "\n",
    "# Adiciona a categoria 'Desconhecida' à lista de categorias da faixa etária\n",
    "df_autores['aut_faixa_etaria_2'] = pd.Categorical(df_autores['aut_faixa_etaria_2'], categories=categories)\n",
    "# Preenche os registros com valores nulos como 'Desconhecida'\n",
    "df_autores['aut_faixa_etaria_2'] = df_autores['aut_faixa_etaria_2'].fillna('Desconhecida')\n",
    "\n",
    "df_autores['aut_faixa_etaria_2'].value_counts()"
   ]
  },
  {
   "cell_type": "code",
   "execution_count": null,
   "metadata": {},
   "outputs": [],
   "source": [
    "# Verificação dos horários dos datos\n",
    "df_aut_faixa_etaria = df_autores.aut_faixa_etaria_2.value_counts().reset_index().rename(columns={'aut_faixa_etaria_2': 'Faixa etária', 'count': 'Total'}).sort_values(by='Faixa etária').reset_index(drop=True)\n",
    "# Criando uma coluna com a porcentagem dos valores\n",
    "df_aut_faixa_etaria['Porcentagem'] = df_aut_faixa_etaria.Total / df_aut_faixa_etaria.Total.sum()\n",
    "\n",
    "df_aut_faixa_etaria.style.format(formatter={'Porcentagem': lambda x: locale.format_string(\"%.2f\", x*100, True) + '%' }).hide(axis=\"index\")"
   ]
  },
  {
   "cell_type": "code",
   "execution_count": null,
   "metadata": {},
   "outputs": [],
   "source": [
    "# Verificação dos horários dos datos\n",
    "df_aut_faixa_etaria_pa = df_autores[df_autores['estado'] == 'PA'].aut_faixa_etaria_2.value_counts().reset_index().rename(columns={'aut_faixa_etaria_2': 'Faixa etária', 'count': 'Total'}).sort_values(by='Faixa etária').reset_index(drop=True)\n",
    "# Criando uma coluna com a porcentagem dos valores\n",
    "df_aut_faixa_etaria_pa['Porcentagem'] = df_aut_faixa_etaria_pa.Total / df_aut_faixa_etaria_pa.Total.sum()\n",
    "\n",
    "df_aut_faixa_etaria_pa.style.format(formatter={'Porcentagem': lambda x: locale.format_string(\"%.2f\", x*100, True) + '%' }).hide(axis=\"index\")"
   ]
  },
  {
   "cell_type": "code",
   "execution_count": null,
   "metadata": {},
   "outputs": [],
   "source": [
    "# Verificação dos horários dos datos\n",
    "df_aut_faixa_etaria_pr = df_autores[df_autores['estado'] == 'PR'].aut_faixa_etaria_2.value_counts().reset_index().rename(columns={'aut_faixa_etaria_2': 'Faixa etária', 'count': 'Total'}).sort_values(by='Faixa etária').reset_index(drop=True)\n",
    "# Criando uma coluna com a porcentagem dos valores\n",
    "df_aut_faixa_etaria_pr['Porcentagem'] = df_aut_faixa_etaria_pr.Total / df_aut_faixa_etaria_pr.Total.sum()\n",
    "\n",
    "df_aut_faixa_etaria_pr.style.format(formatter={'Porcentagem': lambda x: locale.format_string(\"%.2f\", x*100, True) + '%' }).hide(axis=\"index\")"
   ]
  },
  {
   "cell_type": "markdown",
   "metadata": {},
   "source": [
    "#### Cor da pele"
   ]
  },
  {
   "cell_type": "code",
   "execution_count": null,
   "metadata": {},
   "outputs": [],
   "source": [
    "# Cria um novo dataframe para guardar os dados dos registros por ano\n",
    "df_aut_cor_pele_pa = df_pa['aut_cor_pele'].value_counts().reset_index().rename(columns={'aut_cor_pele': 'Cor da pele', 'count': 'Total'}).sort_values(by='Cor da pele').reset_index(drop=True)\n",
    "df_aut_cor_pele_pr = df_pr['aut_cor_pele'].value_counts().reset_index().rename(columns={'aut_cor_pele': 'Cor da pele', 'count': 'Total'}).sort_values(by='Cor da pele').reset_index(drop=True)\n",
    "\n",
    "# Criando uma coluna com a porcentagem dos valores anuais\n",
    "df_aut_cor_pele_pa['Porcentagem'] = df_aut_cor_pele_pa.Total / df_aut_cor_pele_pa.Total.sum()\n",
    "df_aut_cor_pele_pr['Porcentagem'] = df_aut_cor_pele_pr.Total / df_aut_cor_pele_pr.Total.sum()\n",
    "\n",
    "# Exibe a tabela\n",
    "df_aut_cor_pele_pa.style.format(formatter={'Porcentagem': lambda x: locale.format_string(\"%.2f\", x*100, True) + '%' }).hide(axis=\"index\")"
   ]
  },
  {
   "cell_type": "code",
   "execution_count": null,
   "metadata": {},
   "outputs": [],
   "source": [
    "df_aut_cor_pele_pr.style.format(formatter={'Porcentagem': lambda x: locale.format_string(\"%.2f\", x*100, True) + '%' }).hide(axis=\"index\")"
   ]
  },
  {
   "cell_type": "markdown",
   "metadata": {},
   "source": [
    "##### Nova versão"
   ]
  },
  {
   "cell_type": "code",
   "execution_count": null,
   "metadata": {},
   "outputs": [],
   "source": [
    "autor_sem_dados_cor_de_pele = df_autores['aut_cor_pele'].isnull().sum()\n",
    "n_autores = len(df_autores)"
   ]
  },
  {
   "cell_type": "code",
   "execution_count": null,
   "metadata": {},
   "outputs": [],
   "source": [
    "print(f'De um total de {n_autores} registrados, {autor_sem_dados_cor_de_pele} não apresentam dado referem à cor de pele.')"
   ]
  },
  {
   "cell_type": "code",
   "execution_count": null,
   "metadata": {},
   "outputs": [],
   "source": [
    "# Remoção dos registros cuja cor de pele não existe\n",
    "aut_cor_pele = df_autores.dropna(subset=['aut_cor_pele'])['aut_cor_pele']\n",
    "print(f\"Há {len(aut_cor_pele)} registros com o dado de cor de pele.\")"
   ]
  },
  {
   "cell_type": "code",
   "execution_count": null,
   "metadata": {},
   "outputs": [],
   "source": [
    "aut_cor_pele.value_counts()"
   ]
  },
  {
   "cell_type": "code",
   "execution_count": null,
   "metadata": {},
   "outputs": [],
   "source": [
    "df_aut_cor_pele_geral = df_autores['aut_cor_pele'].value_counts().reset_index().rename(columns={'aut_cor_pele': 'Cor da pele', 'count': 'Total'}).sort_values(by='Cor da pele').reset_index(drop=True)\n",
    "df_aut_cor_pele_geral['Porcentagem'] = df_aut_cor_pele_geral.Total / df_aut_cor_pele_geral.Total.sum()\n",
    "df_aut_cor_pele_geral.style.format(formatter={'Porcentagem': lambda x: locale.format_string(\"%.2f\", x*100, True) + '%' }).hide(axis=\"index\")"
   ]
  },
  {
   "cell_type": "code",
   "execution_count": null,
   "metadata": {},
   "outputs": [],
   "source": [
    "# Dados do PA\n",
    "aut_cor_pele_pa = df_autores[df_autores['estado'] == 'PA'].dropna(subset=['aut_cor_pele'])['aut_cor_pele']\n",
    "aut_cor_pele_pa.value_counts()"
   ]
  },
  {
   "cell_type": "code",
   "execution_count": null,
   "metadata": {},
   "outputs": [],
   "source": [
    "# Dados do PR\n",
    "aut_cor_pele_pr = df_autores[df_autores['estado'] == 'PR'].dropna(subset=['aut_cor_pele'])['aut_cor_pele']\n",
    "aut_cor_pele_pr.value_counts()"
   ]
  },
  {
   "cell_type": "markdown",
   "metadata": {},
   "source": [
    "#### Grau de instrução"
   ]
  },
  {
   "cell_type": "code",
   "execution_count": null,
   "metadata": {},
   "outputs": [],
   "source": [
    "df_autores.columns"
   ]
  },
  {
   "cell_type": "code",
   "execution_count": null,
   "metadata": {},
   "outputs": [],
   "source": [
    "df_autores['aut_grau_inst'].isnull().sum()"
   ]
  },
  {
   "cell_type": "code",
   "execution_count": null,
   "metadata": {},
   "outputs": [],
   "source": [
    "df_autores['aut_grau_inst'].value_counts()"
   ]
  },
  {
   "cell_type": "code",
   "execution_count": null,
   "metadata": {},
   "outputs": [],
   "source": [
    "substituicoes = {\n",
    "    'PRIMEIRO GRAU INCOMPLETO': 'ENSINO FUNDAMENTAL INCOMPLETO',\n",
    "    'PRIMEIRO GRAU COMPLETO': 'ENSINO FUNDAMENTAL COMPLETO',\n",
    "    'SEGUNDO GRAU INCOMPLETO': 'ENSINO MEDIO INCOMPLETO',\n",
    "    'SEGUNDO GRAU COMPLETO': 'ENSINO MEDIO COMPLETO',\n",
    "    'TERCEIRO GRAU INCOMPLETO': 'ENSINO SUPERIOR INCOMPLETO',\n",
    "    'TERCEIRO GRAU COMPLETO': 'ENSINO SUPERIOR COMPLETO',\n",
    "    'SUPERIOR INCOMPLETO': 'ENSINO SUPERIOR INCOMPLETO'\n",
    "}\n",
    "\n",
    "df_autores['aut_grau_inst'] = df_autores['aut_grau_inst'].replace(substituicoes)\n",
    "\n"
   ]
  },
  {
   "cell_type": "code",
   "execution_count": null,
   "metadata": {},
   "outputs": [],
   "source": [
    "df_autores['aut_grau_inst'].value_counts()"
   ]
  },
  {
   "cell_type": "code",
   "execution_count": null,
   "metadata": {},
   "outputs": [],
   "source": [
    "df_aut_grau_inst = df_autores['aut_grau_inst'].value_counts().reset_index().rename(columns={'aut_grau_inst': 'Grau de instrução', 'count': 'Total'}).sort_values(by='Grau de instrução').reset_index(drop=True)\n",
    "df_aut_grau_inst['Porcentagem'] = df_aut_grau_inst.Total / df_aut_grau_inst.Total.sum()\n",
    "df_aut_grau_inst.style.format(formatter={'Porcentagem': lambda x: locale.format_string(\"%.2f\", x*100, True) + '%' }).hide(axis=\"index\")"
   ]
  },
  {
   "cell_type": "markdown",
   "metadata": {},
   "source": [
    "#### Profissão"
   ]
  },
  {
   "cell_type": "code",
   "execution_count": null,
   "metadata": {},
   "outputs": [],
   "source": [
    "df_autores['aut_profissao'].isnull().sum()"
   ]
  },
  {
   "cell_type": "code",
   "execution_count": null,
   "metadata": {},
   "outputs": [],
   "source": [
    "df_autores['aut_profissao'].notnull().sum()"
   ]
  },
  {
   "cell_type": "code",
   "execution_count": null,
   "metadata": {},
   "outputs": [],
   "source": [
    "df_autores['aut_profissao'].value_counts()"
   ]
  },
  {
   "cell_type": "code",
   "execution_count": null,
   "metadata": {},
   "outputs": [],
   "source": [
    "# Tornando como padrão os termos com mais registros\n",
    "substituicoes = {\n",
    "    'ADMINISTRADOR': 'ADMINISTRADOR DE EMPRESA',\n",
    "    'ADVOGADO(A)': 'ADVOGADO',\n",
    "    'AGRICULTOR(A)': 'AGRICULTOR',\n",
    "    'APOSENTADO(A)': 'APOSENTADO',\n",
    "    'CABELEIREIRO': 'CABELEIREIRA',\n",
    "    'CAMAREIRO': 'CAMAREIRA',\n",
    "    'COSTUREIRO(A),': 'COSTUREIRO',\n",
    "    'COZINHEIRO(A),': 'COZINHEIRO',\n",
    "    'ESTUDAMTE,': 'ESTUDANTE',\n",
    "    'LAVRADOR(A)': 'LAVRADOR',\n",
    "    'PEDAGOGO(A)': 'PEDAGOGA',\n",
    "    'PEDAGOGO': 'PEDAGOGA',\n",
    "    'PROMOTOR DE VENDAS': 'PROMOTORA DE VENDAS',\n",
    "    'SECRETARIO(A)': 'SECRETARIA',\n",
    "    'VENDEDOR(A)': 'VENDEDOR'\n",
    "}\n",
    "\n",
    "df_vitimas['vit_profissao'] = df_vitimas['vit_profissao'].replace(substituicoes)"
   ]
  },
  {
   "cell_type": "code",
   "execution_count": null,
   "metadata": {},
   "outputs": [],
   "source": [
    "df_aut_profissao = df_vitimas['aut_profissao'].value_counts().reset_index().rename(columns={'aut_profissao': 'Profissão', 'count': 'Total'}).sort_values(by='Total', ascending=False).reset_index(drop=True)\n",
    "df_aut_profissao['Porcentagem'] = df_aut_profissao.Total / df_aut_profissao.Total.sum()\n",
    "df_aut_profissao.head(30).style.format(formatter={'Porcentagem': lambda x: locale.format_string(\"%.2f\", x*100, True) + '%' }).hide(axis=\"index\")"
   ]
  },
  {
   "cell_type": "markdown",
   "metadata": {},
   "source": [
    "### Grau de relacionamento"
   ]
  },
  {
   "cell_type": "code",
   "execution_count": null,
   "metadata": {},
   "outputs": [],
   "source": [
    "df_vitimas['grau_de_relacionamento'].value_counts()"
   ]
  },
  {
   "cell_type": "code",
   "execution_count": null,
   "metadata": {},
   "outputs": [],
   "source": [
    "# Tornando como padrão os termos com mais registros\n",
    "substituicoes = {\n",
    "    'nao informado': 'NAO INFORMADO',\n",
    "    'Grau parentesco com o envolvido n.1-FILHO(A)': 'FILHO(A)',\n",
    "    'Grau parentesco com o envolvido n.1-FILHA': 'FILHO(A)',\n",
    "    'Grau parentesco com o envolvido n.1-EX_CONVIVENTE': 'EX-COMPANHEIRO(A)',\n",
    "    'Grau parentesco com o envolvido n.1-EX_CONJUGE': 'EX-COMPANHEIRO(A)',\n",
    "    'Grau parentesco com o envolvido n.1-IRMA': 'IRMAO(A)',\n",
    "    'Grau parentesco com o envolvido n.1-NETO(A)': 'NETO(A)',\n",
    "    'Grau parentesco com o envolvido n.1-EX CONVIVENTE': 'EX-COMPANHEIRO(A)',\n",
    "    'Grau parentesco com o envolvido n.1-CASADO': 'COMPANHEIRO(A)',\n",
    "\t'Grau parentesco com o envolvido n.3-EX_CONVIVENTE': 'EX-COMPANHEIRO(A)',\n",
    "\t'Grau parentesco com o envolvido n.1-MAE': 'MAE',\n",
    "\t'Grau parentesco com o envolvido n.2-MAE': 'MAE',\n",
    "\t'Grau parentesco com o envolvido n.1-TIA': 'TIO(A)',\t\n",
    "\t'Grau parentesco com o envolvido n.1-CONCUNHADO(A)': 'CONCUNHADO(A)',\n",
    "\t'Grau parentesco com o envolvido n.1-NETA': 'NETO(A)',\n",
    "\t'Grau parentesco com o envolvido n.1-EX SOGRA': 'SOGRO(A)',\n",
    "\t'Grau parentesco com o envolvido n.1-EX ESPOSA': 'EX-COMPANHEIRO(A)',\n",
    "}\n",
    "\n",
    "df_vitimas['grau_de_relacionamento'] = df_vitimas['grau_de_relacionamento'].replace(substituicoes)\n",
    "\n"
   ]
  },
  {
   "cell_type": "code",
   "execution_count": null,
   "metadata": {},
   "outputs": [],
   "source": [
    "df_grau_relacionamento = df_vitimas['grau_de_relacionamento'].value_counts().reset_index().rename(columns={'grau_de_relacionamento': 'Grau de relacionamento', 'count': 'Total'}).sort_values(by='Total', ascending=False).reset_index(drop=True)\n",
    "df_grau_relacionamento['Porcentagem'] = df_grau_relacionamento.Total / df_grau_relacionamento.Total.sum()\n",
    "df_grau_relacionamento.style.format(formatter={'Porcentagem': lambda x: locale.format_string(\"%.2f\", x*100, True) + '%' }).hide(axis=\"index\")"
   ]
  },
  {
   "cell_type": "markdown",
   "metadata": {},
   "source": [
    "### Registros"
   ]
  },
  {
   "cell_type": "code",
   "execution_count": null,
   "metadata": {},
   "outputs": [],
   "source": [
    "df['registros'].value_counts()"
   ]
  },
  {
   "cell_type": "code",
   "execution_count": null,
   "metadata": {},
   "outputs": [],
   "source": [
    "df_registros = df['registros'].value_counts().reset_index().rename(columns={'registros': 'Tipo', 'count': 'Total'}).sort_values(by='Total', ascending=False).reset_index(drop=True)\n",
    "df_registros['Porcentagem'] = df_registros.Total / df_registros.Total.sum()\n",
    "df_registros.style.format(formatter={'Porcentagem': lambda x: locale.format_string(\"%.2f\", x*100, True) + '%' }).hide(axis=\"index\")"
   ]
  },
  {
   "cell_type": "code",
   "execution_count": null,
   "metadata": {},
   "outputs": [],
   "source": [
    "if 'registros_2' in df_ocorrencias.columns:\n",
    "    df_ocorrencias.drop(columns=['registros_2'], inplace=True)"
   ]
  },
  {
   "cell_type": "code",
   "execution_count": null,
   "metadata": {},
   "outputs": [],
   "source": [
    "df_ocorrencias['registros_2'] = df_ocorrencias['registros'].str.lower()"
   ]
  },
  {
   "cell_type": "code",
   "execution_count": null,
   "metadata": {},
   "outputs": [],
   "source": [
    "df_ocorrencias['registros_2'].value_counts().head(10)"
   ]
  },
  {
   "cell_type": "code",
   "execution_count": null,
   "metadata": {},
   "outputs": [],
   "source": [
    "import re\n",
    "\n",
    "# Dicionário de categorias para 'registros'\n",
    "categorias_registros = {\n",
    "    'descumprir decisao judicial que defere medidas protetivas de urgencia':['descumprir decisao judicial que defere medidas protetivas de urgencia', 'descumprimento de medida protetiva'],\n",
    "    'violencia domestica e familiar contra a mulher':['violencia domestica e familiar contra a mulher'],\n",
    "    'lesao corporal':['lesao corporal'],\n",
    "    'ameaca':['ameaca'],\n",
    "    'estupro':['estupro'],\n",
    "    'violencia sexual':['importunacao sexual', 'assedio sexual', 'intimidade sexual', 'assedio sexual', 'violacao sexual', 'abuso sexual', 'exploracao sexual', 'liberdade sexual', 'ato obsceno'],\n",
    "    'tentativa de homicidio':['tentativa de homicidio'],\n",
    "    'feminicidio':['feminicidio', 'femicidio', 'homicidio'],\n",
    "}\n",
    "\n",
    "# Função para substituir os valores na coluna 'registros'\n",
    "def substituir_registro(valor):\n",
    "    for key, values in categorias_registros.items():\n",
    "        for value in values:\n",
    "            if re.search(r'\\b' + re.escape(value) + r'\\b', valor.lower()):\n",
    "                return key\n",
    "    return 'outros'"
   ]
  },
  {
   "cell_type": "code",
   "execution_count": null,
   "metadata": {},
   "outputs": [],
   "source": [
    "df_ocorrencias['registros_2'] = df_ocorrencias['registros_2'].apply(substituir_registro)"
   ]
  },
  {
   "cell_type": "code",
   "execution_count": null,
   "metadata": {},
   "outputs": [],
   "source": [
    "df_ocorrencias['registros_2'].value_counts()"
   ]
  },
  {
   "cell_type": "code",
   "execution_count": null,
   "metadata": {},
   "outputs": [],
   "source": [
    "df_ocorrencias[df_ocorrencias['registros_2'] == 'outros']['registros'].value_counts()"
   ]
  }
 ],
 "metadata": {
  "kernelspec": {
   "display_name": "base",
   "language": "python",
   "name": "python3"
  },
  "language_info": {
   "codemirror_mode": {
    "name": "ipython",
    "version": 3
   },
   "file_extension": ".py",
   "mimetype": "text/x-python",
   "name": "python",
   "nbconvert_exporter": "python",
   "pygments_lexer": "ipython3",
   "version": "3.11.8"
  }
 },
 "nbformat": 4,
 "nbformat_minor": 2
}
