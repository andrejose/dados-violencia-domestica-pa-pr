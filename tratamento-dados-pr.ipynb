{
 "cells": [
  {
   "cell_type": "markdown",
   "metadata": {},
   "source": [
    "# Tratamento de dados - Secretaria de segurança do estado do Paraná\n",
    "\n",
    "## Descrição do notebook\n",
    "\n",
    "O objetivo desse notebook é realizar o tratamento dos dados fornecidos pela Secretaria de Segurança Pública do Estado do Paraná para que possa ser analisado juntamente com os dados do estado paraens.\n",
    "\n",
    "Nessa versão, são utilizados quatro arquivos do tipo CSV e para manipulação de dados é utilizado o pacote pyspark.\n",
    "\n",
    "**Observação:** O código contido nesse notebook foi baseado na solução desenvolvida por Mariana Kniss (https://www.linkedin.com/in/mariana-kniss-471ba0196/), para validar o conteúdo de seu trabalho de conclusão de curso, intitulado \"ANÁLISE DE DADOS CRIMINAIS SOBRE VIOLÊNCIA CONTRA A MULHER NOS ESTADOS PARÁ E PARANÁ\".\n",
    "\n",
    "## Sumário\n",
    "\n",
    "1. [Importação dos módulos e pacotes necessários](#importacao-dos-modulos-e-pacotes-necessarios)\n",
    "2. [Carregamento dos dados](#carregamento-dos-dados)\n",
    "4. [Visão geral do conjunto de dados](#visao-geral-do-conjunto-de-dados)\n",
    "5. [Filtros, tratamentos e padronização de valores](#filtros-tratamentos-e-padronizacao-de-valores)\n",
    "6. [Ordenação das colunas](#ordernacao-das-colunas)\n",
    "7. [Exportação dos dados formatados](#exportacao-dos-dados-formatados)\n",
    "\n",
    "----\n",
    "\n",
    "\n",
    "## Importação dos módulos e pacotes necessários <a id=\"importacao-dos-modulos-e-pacotes-necessarios\"></a>"
   ]
  },
  {
   "cell_type": "code",
   "execution_count": null,
   "metadata": {},
   "outputs": [],
   "source": [
    "# pySpark (https://spark.apache.org/docs/latest/api/python/index.html)\n",
    "from pyspark.sql import SparkSession\n",
    "from pyspark.sql import functions as f\n",
    "from pyspark.sql.functions import col, lower, when, substring, hour, to_timestamp, date_format, count, current_date, datediff, mean, median, variance, stddev,  collect_list, first, regexp_replace, lit, split, upper\n",
    "from pyspark.sql.types import StringType, StructType, StructField, DateType\n",
    "from pyspark.ml import stat"
   ]
  },
  {
   "cell_type": "code",
   "execution_count": null,
   "metadata": {},
   "outputs": [],
   "source": [
    "# Criando sessão spark\n",
    "spark = SparkSession.builder\\\n",
    "    .master('local[*]')\\\n",
    "    .appName('transformacao_VCM_PR')\\\n",
    "    .getOrCreate()"
   ]
  },
  {
   "cell_type": "markdown",
   "metadata": {},
   "source": [
    "## Carregamento dos dados"
   ]
  },
  {
   "cell_type": "code",
   "execution_count": null,
   "metadata": {},
   "outputs": [],
   "source": [
    "# Dados sobre as ocorrências\n",
    "ocorrencias = spark.read.csv('./dados/PR/Ocorrencias de ViolDom ContraMulher (Jan2018-Ago2023) PR.csv',\n",
    "                       sep = ';',\n",
    "                       inferSchema= True,\n",
    "                       header = True)"
   ]
  },
  {
   "cell_type": "code",
   "execution_count": null,
   "metadata": {},
   "outputs": [],
   "source": [
    "# Dados sobre as naturezas\n",
    "naturezas = spark.read.csv('./dados/PR/Naturezas das Ocorrencias de ViolDom ContraMulher (Jan2018-Ago2023) PR.csv',\n",
    "                       sep = ';',\n",
    "                       inferSchema= True,\n",
    "                       header = True)"
   ]
  },
  {
   "cell_type": "code",
   "execution_count": null,
   "metadata": {},
   "outputs": [],
   "source": [
    "# Dados sobre as vítimas\n",
    "vitimas = spark.read.csv('./dados/PR/Vitimas das Ocorrencias de ViolDom ContraMulher (Jan2018-Ago2023) PR.csv',\n",
    "                       sep = ';',\n",
    "                       inferSchema= True,\n",
    "                       header = True)"
   ]
  },
  {
   "cell_type": "code",
   "execution_count": null,
   "metadata": {},
   "outputs": [],
   "source": [
    "# Dados sobre os autores\n",
    "autores = spark.read.csv('./dados/PR/Autores das Ocorrencias de ViolDom ContraMulher (Jan2018-Ago2023) PR.csv',\n",
    "                       sep = ';',\n",
    "                       inferSchema= True,\n",
    "                       header = True)"
   ]
  },
  {
   "cell_type": "markdown",
   "metadata": {},
   "source": [
    "Contagem dos registros carregados."
   ]
  },
  {
   "cell_type": "code",
   "execution_count": null,
   "metadata": {},
   "outputs": [],
   "source": [
    "print(f'Foram encontradas {ocorrencias.count()} ocorrências.')\n",
    "print(f'Foram encontradas {naturezas.select(\"id_boletim\").distinct().count()} naturezas.')\n",
    "print(f'Foram encontradas {vitimas.select(\"id_boletim\").distinct().count()} vítimas.')\n",
    "print(f'Foram encontradas {autores.select(\"id_boletim\").distinct().count()} autores.')\n",
    "\n"
   ]
  },
  {
   "cell_type": "markdown",
   "metadata": {},
   "source": [
    "## Agrupamento dos dados"
   ]
  },
  {
   "cell_type": "code",
   "execution_count": null,
   "metadata": {},
   "outputs": [],
   "source": [
    "agrupado_df = naturezas.groupBy(\"id_boletim\").agg(collect_list(\"registros\").alias(\"registros_unicos\"))\n",
    "agrupado_df.show(truncate=False)"
   ]
  },
  {
   "cell_type": "code",
   "execution_count": null,
   "metadata": {},
   "outputs": [],
   "source": [
    "agrupado_df.count()"
   ]
  },
  {
   "cell_type": "code",
   "execution_count": null,
   "metadata": {},
   "outputs": [],
   "source": [
    "naturezas.select(\"registros\").distinct().count()"
   ]
  },
  {
   "cell_type": "code",
   "execution_count": null,
   "metadata": {},
   "outputs": [],
   "source": [
    "naturezas.select(\"classe_motivo\").distinct().count()"
   ]
  },
  {
   "cell_type": "code",
   "execution_count": null,
   "metadata": {},
   "outputs": [],
   "source": [
    "naturezas.select(\"classe_motivo\").distinct().show(truncate=False)"
   ]
  },
  {
   "cell_type": "code",
   "execution_count": null,
   "metadata": {},
   "outputs": [],
   "source": [
    "naturezas_feminicidio = naturezas.filter(lower(col('registros')).like('feminicidio'))\n",
    "naturezas_feminicidio.count() "
   ]
  },
  {
   "cell_type": "code",
   "execution_count": null,
   "metadata": {},
   "outputs": [],
   "source": [
    "# Selecionando a base de VCM com base na variavel 'classe_motivo', utilizando como filtro as palavras chave\n",
    "palavras_chave = [\"mulher\", \"sexual\", \"medidas protetivas\", \"13772\"]\n",
    "naturezas = naturezas.filter(lower(col(\"classe_motivo\")).like(\"%\" + palavras_chave[0] + \"%\")\n",
    "                                   | lower(col(\"classe_motivo\")).like(\"%\" + palavras_chave[1] + \"%\")\n",
    "                                   | lower(col(\"classe_motivo\")).like(\"%\" + palavras_chave[2] + \"%\")\n",
    "                                   | lower(col(\"classe_motivo\")).like(\"%\" + palavras_chave[3] + \"%\"))\n",
    "\n",
    "# Exibindo o dataset VCM\n",
    "naturezas.show()"
   ]
  },
  {
   "cell_type": "code",
   "execution_count": null,
   "metadata": {},
   "outputs": [],
   "source": [
    "naturezas.count()"
   ]
  },
  {
   "cell_type": "code",
   "execution_count": null,
   "metadata": {},
   "outputs": [],
   "source": [
    "naturezas.select(\"id_boletim\").distinct().count()"
   ]
  },
  {
   "cell_type": "code",
   "execution_count": null,
   "metadata": {},
   "outputs": [],
   "source": [
    "len(naturezas.columns)"
   ]
  },
  {
   "cell_type": "code",
   "execution_count": null,
   "metadata": {},
   "outputs": [],
   "source": [
    "naturezas_unique = naturezas.groupBy(\"id_boletim\").agg(\n",
    "    first(\"data_registro\").alias(\"data_registro\"),\n",
    "    first(\"hora_registro\").alias(\"hora_registro\"),\n",
    "    first(\"data_fato\").alias(\"data_fato\"),\n",
    "    first(\"dia_semana\").alias(\"dia_semana\"),\n",
    "    first(\"hora_fato\").alias(\"hora_fato\"),\n",
    "    first(\"fx_4_hr\").alias(\"fx_4_hr\"),\n",
    "    first(\"fx_12_hr\").alias(\"fx_12_hr\"),\n",
    "    first(\"mes_registro\").alias(\"mes_registro\"),\n",
    "    first(\"mes_fato\").alias(\"mes_fato\"),\n",
    "    first(\"ano_registro\").alias(\"ano_registro\"),\n",
    "    first(\"ano_fato\").alias(\"ano_fato\"),\n",
    "    first(\"causa_presumivel\").alias(\"causa_presumivel\"),\n",
    "    first(\"distrito\").alias(\"distrito\"),\n",
    "    first(\"municipio\").alias(\"municipio\"),\n",
    "    first(\"regional\").alias(\"regional\"),\n",
    "    first(\"bairro\").alias(\"bairro\"),\n",
    "    first(\"identificacao_fato\").alias(\"identificacao_fato\"),\n",
    "    first(\"local_ocorrencia\").alias(\"local_ocorrencia\"),\n",
    "    first(\"meio_empregado\").alias(\"meio_empregado\"),\n",
    "    first(\"classe_motivo\").alias(\"classe_motivo\"),\n",
    "    collect_list(\"registros\").alias(\"registros_unicos\")\n",
    ")"
   ]
  },
  {
   "cell_type": "code",
   "execution_count": null,
   "metadata": {},
   "outputs": [],
   "source": [
    "naturezas_unique.show()"
   ]
  },
  {
   "cell_type": "code",
   "execution_count": null,
   "metadata": {},
   "outputs": [],
   "source": [
    "len(naturezas_unique.columns)"
   ]
  },
  {
   "cell_type": "code",
   "execution_count": null,
   "metadata": {},
   "outputs": [],
   "source": [
    "naturezas_unique.count()"
   ]
  },
  {
   "cell_type": "code",
   "execution_count": null,
   "metadata": {},
   "outputs": [],
   "source": [
    "naturezas_unique.printSchema()"
   ]
  },
  {
   "cell_type": "code",
   "execution_count": null,
   "metadata": {},
   "outputs": [],
   "source": [
    "from pyspark.sql.functions import concat_ws\n",
    "\n",
    "# # Crie uma sessão do Spark\n",
    "# spark = SparkSession.builder.appName(\"exemplo\").getOrCreate()\n",
    "\n",
    "# # Suponha que você tenha um DataFrame chamado df com uma coluna chamada 'coluna_array'\n",
    "# # que contém arrays que você deseja converter para strings\n",
    "\n",
    "# # Exemplo de dados\n",
    "# dados = [(\"linha1\", [1, 2, 3]),\n",
    "#          (\"linha2\", [4, 5, 6]),\n",
    "#          (\"linha3\", [7, 8, 9])]\n",
    "\n",
    "# # Defina o esquema do DataFrame\n",
    "# esquema = [\"id\", \"coluna_array\"]\n",
    "\n",
    "# # Crie o DataFrame\n",
    "# df = spark.createDataFrame(dados, esquema)\n",
    "\n",
    "# Use a função concat_ws para converter a coluna de array para string\n",
    "df_resultado = naturezas_unique.withColumn(\"registros\", concat_ws(\",\", naturezas_unique[\"registros_unicos\"]))\n",
    "\n",
    "# Mostre o resultado\n",
    "df_resultado.show()"
   ]
  },
  {
   "cell_type": "code",
   "execution_count": null,
   "metadata": {},
   "outputs": [],
   "source": [
    "df_resultado.printSchema()"
   ]
  },
  {
   "cell_type": "code",
   "execution_count": null,
   "metadata": {},
   "outputs": [],
   "source": [
    "df_resultado.count()"
   ]
  },
  {
   "cell_type": "code",
   "execution_count": null,
   "metadata": {},
   "outputs": [],
   "source": [
    "len(df_resultado.columns)"
   ]
  },
  {
   "cell_type": "code",
   "execution_count": null,
   "metadata": {},
   "outputs": [],
   "source": [
    "naturezas_unique = df_resultado.drop('registros_unicos')"
   ]
  },
  {
   "cell_type": "code",
   "execution_count": null,
   "metadata": {},
   "outputs": [],
   "source": [
    "len(naturezas_unique.columns)"
   ]
  },
  {
   "cell_type": "code",
   "execution_count": null,
   "metadata": {},
   "outputs": [],
   "source": [
    "naturezas_feminicidio.printSchema()"
   ]
  },
  {
   "cell_type": "code",
   "execution_count": null,
   "metadata": {},
   "outputs": [],
   "source": [
    "# Use a função 'union' para unir os DataFrames\n",
    "naturezas_union = naturezas_unique.union(naturezas_feminicidio)\n",
    "\n",
    "# Exiba o DataFrame resultante\n",
    "naturezas_union.count()"
   ]
  },
  {
   "cell_type": "code",
   "execution_count": null,
   "metadata": {},
   "outputs": [],
   "source": [
    "naturezas_unique = naturezas_union"
   ]
  },
  {
   "cell_type": "code",
   "execution_count": null,
   "metadata": {},
   "outputs": [],
   "source": [
    "naturezas_unique.select(\"classe_motivo\").distinct().count()"
   ]
  },
  {
   "cell_type": "code",
   "execution_count": null,
   "metadata": {},
   "outputs": [],
   "source": [
    "#naturezas_unique.select(\"registros_unicos\").distinct().count()"
   ]
  },
  {
   "cell_type": "code",
   "execution_count": null,
   "metadata": {},
   "outputs": [],
   "source": [
    "naturezas_unique.select(\"classe_motivo\").distinct().show(truncate=False)"
   ]
  },
  {
   "cell_type": "code",
   "execution_count": null,
   "metadata": {},
   "outputs": [],
   "source": [
    "#agrupando os dados por registros_unicos, mostrando todas as categorias possiveis\n",
    "#naturezas_unique.groupBy(\"registros_unicos\").count().orderBy(col(\"count\").desc()).show(naturezas_unique.count(), truncate=False)"
   ]
  },
  {
   "cell_type": "code",
   "execution_count": null,
   "metadata": {},
   "outputs": [],
   "source": [
    "naturezas_nao_unicos = naturezas.groupBy(\"id_boletim\").count().orderBy(col(\"id_boletim\").desc())\n",
    "naturezas_nao_unicos.filter(naturezas_nao_unicos[\"count\"] == 3).show()"
   ]
  },
  {
   "cell_type": "code",
   "execution_count": null,
   "metadata": {},
   "outputs": [],
   "source": [
    "naturezas.filter(naturezas['id_boletim'] == \"20201001697\").show(truncate=False)"
   ]
  },
  {
   "cell_type": "code",
   "execution_count": null,
   "metadata": {},
   "outputs": [],
   "source": [
    "naturezas_unique.filter(naturezas_unique['id_boletim'] == \"20201001697\").show(truncate=False)"
   ]
  },
  {
   "cell_type": "code",
   "execution_count": null,
   "metadata": {},
   "outputs": [],
   "source": [
    "import matplotlib.pyplot as plt\n",
    "from wordcloud import WordCloud\n",
    "\n",
    "# Combine todos os valores de 'registros_unicos' em uma única string\n",
    "texto_registros = \" \".join(naturezas_unique.rdd.flatMap(lambda x: x[\"registros_unicos\"]).collect())\n",
    "\n",
    "# Crie a nuvem de palavras\n",
    "nuvem_palavras = WordCloud(width=800, height=400, background_color='white').generate(texto_registros)\n",
    "\n",
    "# Exiba a nuvem de palavras\n",
    "plt.figure(figsize=(10, 5))\n",
    "plt.imshow(nuvem_palavras, interpolation=\"bilinear\")\n",
    "plt.axis(\"off\")\n",
    "plt.show()"
   ]
  },
  {
   "cell_type": "code",
   "execution_count": null,
   "metadata": {},
   "outputs": [],
   "source": [
    "registros = \" \".join(naturezas.select(\"registros\").rdd.flatMap(lambda x: x).collect())\n",
    "\n",
    "wordcloud = WordCloud(width=800, height=400, background_color='white').generate(registros)\n",
    "\n",
    "plt.figure(figsize=(10, 5))\n",
    "plt.imshow(wordcloud, interpolation='bilinear')\n",
    "plt.axis(\"off\")\n",
    "plt.show()"
   ]
  },
  {
   "cell_type": "code",
   "execution_count": null,
   "metadata": {},
   "outputs": [],
   "source": [
    "naturezas = naturezas.withColumn(\"registros\", lower(regexp_replace(col(\"registros\"), \"[^a-zA-Z ]\", \"\")))\n",
    "\n",
    "contagem_judicial = naturezas.filter(naturezas.registros.contains(\"judicial\")).count()\n",
    "contagem_estupro = naturezas.filter(naturezas.registros.contains(\"estupro\")).count()\n",
    "\n",
    "print(\"Número de ocorrências da palavra 'judicial':\", contagem_judicial)\n",
    "print(\"Número de ocorrências da palavra 'estupro':\", contagem_estupro)\n"
   ]
  },
  {
   "cell_type": "code",
   "execution_count": null,
   "metadata": {},
   "outputs": [],
   "source": [
    "cloud = naturezas.filter(\n",
    "    (naturezas.registros != 'DESCUMPRIR DECISAO JUDICIAL QUE DEFERE MEDIDAS PROTETIVAS DE URGENCIA') &\n",
    "    (naturezas.registros != 'DESCUMPRIR DECISAO JUDICIAL QUE DEFERE MEDIDAS PROTETIVAS DE URGENCIA PREVISTAS NESTA LEI') &\n",
    "    (naturezas.registros != 'ESTA LEI CRIA MECANISMOS PARA COIBIR E PREVENIR A ')\n",
    ")"
   ]
  },
  {
   "cell_type": "code",
   "execution_count": null,
   "metadata": {},
   "outputs": [],
   "source": [
    "registros = \" \".join(cloud.select(\"registros\").rdd.flatMap(lambda x: x).collect())\n",
    "\n",
    "wordcloud = WordCloud(width=800, height=400, background_color='white').generate(registros)\n",
    "\n",
    "plt.figure(figsize=(10, 5))\n",
    "plt.imshow(wordcloud, interpolation='bilinear')\n",
    "plt.axis(\"off\")\n",
    "plt.show()"
   ]
  },
  {
   "cell_type": "markdown",
   "metadata": {},
   "source": [
    "## Tentativas de JOIN"
   ]
  },
  {
   "cell_type": "code",
   "execution_count": null,
   "metadata": {},
   "outputs": [],
   "source": [
    "ocorrencias.show()"
   ]
  },
  {
   "cell_type": "code",
   "execution_count": null,
   "metadata": {},
   "outputs": [],
   "source": [
    "len(ocorrencias.columns)"
   ]
  },
  {
   "cell_type": "code",
   "execution_count": null,
   "metadata": {},
   "outputs": [],
   "source": [
    "vitimas.show()"
   ]
  },
  {
   "cell_type": "code",
   "execution_count": null,
   "metadata": {},
   "outputs": [],
   "source": [
    "len(vitimas.columns)"
   ]
  },
  {
   "cell_type": "code",
   "execution_count": null,
   "metadata": {},
   "outputs": [],
   "source": [
    "dados = vitimas.join(naturezas.select('id_boletim', 'local_ocorrencia', 'meio_empregado', 'classe_motivo', 'registros'), 'id_boletim', 'left')"
   ]
  },
  {
   "cell_type": "code",
   "execution_count": null,
   "metadata": {},
   "outputs": [],
   "source": [
    "len(dados.columns)"
   ]
  },
  {
   "cell_type": "code",
   "execution_count": null,
   "metadata": {},
   "outputs": [],
   "source": [
    "dados.show()"
   ]
  },
  {
   "cell_type": "code",
   "execution_count": null,
   "metadata": {},
   "outputs": [],
   "source": [
    "dados.select('id_boletim').distinct().count()"
   ]
  },
  {
   "cell_type": "code",
   "execution_count": null,
   "metadata": {},
   "outputs": [],
   "source": [
    "dados.count()"
   ]
  },
  {
   "cell_type": "code",
   "execution_count": null,
   "metadata": {},
   "outputs": [],
   "source": [
    "dados = dados.join(naturezas.select('id_boletim', 'local_ocorrencia', 'meio_empregado', 'classe_motivo', 'registros'), 'id_boletim', 'left')"
   ]
  },
  {
   "cell_type": "code",
   "execution_count": null,
   "metadata": {},
   "outputs": [],
   "source": [
    "dados.count()"
   ]
  },
  {
   "cell_type": "code",
   "execution_count": null,
   "metadata": {},
   "outputs": [],
   "source": [
    "dados = dados.join(autores.select('id_boletim', 'autor', 'aut_dt_nasc', 'aut_idade', 'faixa_etaria', 'parentesco', 'sexo', 'raca_cor', 'grau_instrucao', 'profissao'), 'id_boletim', 'outer')"
   ]
  },
  {
   "cell_type": "code",
   "execution_count": null,
   "metadata": {},
   "outputs": [],
   "source": [
    "dados.count()"
   ]
  },
  {
   "cell_type": "code",
   "execution_count": null,
   "metadata": {},
   "outputs": [],
   "source": [
    "dados_VCM = ocorrencias.join(vitimas.select('id_boletim', 'vitima', 'vit_dt_nasc', 'vit_idade', 'faixa_etaria', 'sexo', 'raca_cor', 'grau_instrucao', 'profissao'), 'id_boletim', 'outer')"
   ]
  },
  {
   "cell_type": "code",
   "execution_count": null,
   "metadata": {},
   "outputs": [],
   "source": [
    "dados_VCM.count()"
   ]
  },
  {
   "cell_type": "code",
   "execution_count": null,
   "metadata": {},
   "outputs": [],
   "source": [
    "dados_VCM = dados_VCM.join(naturezas.select('id_boletim', 'local_ocorrencia', 'meio_empregado', 'classe_motivo', 'registros'), 'id_boletim', 'left')"
   ]
  },
  {
   "cell_type": "code",
   "execution_count": null,
   "metadata": {},
   "outputs": [],
   "source": [
    "dados_VCM.show()"
   ]
  },
  {
   "cell_type": "markdown",
   "metadata": {},
   "source": [
    "## Novas tentativas de JOIN"
   ]
  },
  {
   "cell_type": "code",
   "execution_count": null,
   "metadata": {},
   "outputs": [],
   "source": [
    "naturezas.count()"
   ]
  },
  {
   "cell_type": "code",
   "execution_count": null,
   "metadata": {},
   "outputs": [],
   "source": [
    "naturezas_unique.count()"
   ]
  },
  {
   "cell_type": "code",
   "execution_count": null,
   "metadata": {},
   "outputs": [],
   "source": [
    "naturezas_vitimas = naturezas_unique.join(vitimas.select('id_boletim', 'vitima', 'vit_dt_nasc', 'vit_idade', 'faixa_etaria', 'raca_cor', 'grau_instrucao', 'profissao'), on='id_boletim')"
   ]
  },
  {
   "cell_type": "code",
   "execution_count": null,
   "metadata": {},
   "outputs": [],
   "source": [
    "naturezas_vitimas.count()"
   ]
  },
  {
   "cell_type": "code",
   "execution_count": null,
   "metadata": {},
   "outputs": [],
   "source": [
    "naturezas_vitimas.select(\"id_boletim\").distinct().count()"
   ]
  },
  {
   "cell_type": "code",
   "execution_count": null,
   "metadata": {},
   "outputs": [],
   "source": [
    "naturezas_vitimas.show()"
   ]
  },
  {
   "cell_type": "code",
   "execution_count": null,
   "metadata": {},
   "outputs": [],
   "source": [
    "autores = autores \\\n",
    "    .withColumnRenamed(\"faixa_etaria\", \"aut_faixa_etaria\") \\\n",
    "    .withColumnRenamed(\"raca_cor\", \"aut_raca_cor\") \\\n",
    "    .withColumnRenamed(\"grau_instrucao\", \"aut_grau_instrucao\") \\\n",
    "    .withColumnRenamed(\"profissao\", \"aut_profissao\")"
   ]
  },
  {
   "cell_type": "code",
   "execution_count": null,
   "metadata": {},
   "outputs": [],
   "source": [
    "naturezas_vitimas_autores = naturezas_vitimas.join(autores.select('id_boletim', 'autor', 'aut_dt_nasc', 'aut_idade', 'aut_faixa_etaria', 'aut_raca_cor', 'aut_grau_instrucao', 'aut_profissao', 'parentesco'), on='id_boletim', how='left')"
   ]
  },
  {
   "cell_type": "code",
   "execution_count": null,
   "metadata": {},
   "outputs": [],
   "source": [
    "naturezas_vitimas_autores.count()"
   ]
  },
  {
   "cell_type": "code",
   "execution_count": null,
   "metadata": {},
   "outputs": [],
   "source": [
    "naturezas_vitimas_autores.show()"
   ]
  },
  {
   "cell_type": "code",
   "execution_count": null,
   "metadata": {},
   "outputs": [],
   "source": [
    "colunas_remover = ['id_boletim', 'fx_4_hr', 'fx_12_hr', 'hora_registro', 'hora_fato', 'causa_presumivel', 'distrito', 'regional', 'vitima']\n",
    "dados_VCM_PR = naturezas_vitimas_autores.drop(*colunas_remover)"
   ]
  },
  {
   "cell_type": "code",
   "execution_count": null,
   "metadata": {},
   "outputs": [],
   "source": [
    "dados_VCM_PR.count()"
   ]
  },
  {
   "cell_type": "code",
   "execution_count": null,
   "metadata": {},
   "outputs": [],
   "source": [
    "dados_VCM_PR = dados_VCM_PR.withColumn(\"estado\", lit(\"PR\"))"
   ]
  },
  {
   "cell_type": "code",
   "execution_count": null,
   "metadata": {},
   "outputs": [],
   "source": [
    "dados_VCM_PR.show()"
   ]
  },
  {
   "cell_type": "code",
   "execution_count": null,
   "metadata": {},
   "outputs": [],
   "source": [
    "# Duplica as colunas 'data_registro' e 'data_fato' como 'data_registro_dup' e 'data_fato_dup'\n",
    "dados_VCM_PR = dados_VCM_PR.withColumn(\"data_registro_dup\", col(\"data_registro\"))\n",
    "dados_VCM_PR = dados_VCM_PR.withColumn(\"data_fato_dup\", col(\"data_fato\"))"
   ]
  },
  {
   "cell_type": "code",
   "execution_count": null,
   "metadata": {},
   "outputs": [],
   "source": [
    "# Divida as colunas 'data_registro_dup' e 'data_fato_dup' em duas colunas: data e hora\n",
    "dados_VCM_PR = dados_VCM_PR.withColumn(\"data_registro\", split(col(\"data_registro\"), \" \").getItem(0))\n",
    "dados_VCM_PR = dados_VCM_PR.withColumn(\"hora_registro\", split(col(\"data_registro_dup\"), \" \").getItem(1))\n",
    "dados_VCM_PR = dados_VCM_PR.withColumn(\"data_fato\", split(col(\"data_fato\"), \" \").getItem(0))\n",
    "dados_VCM_PR = dados_VCM_PR.withColumn(\"hora_fato\", split(col(\"data_fato_dup\"), \" \").getItem(1))"
   ]
  },
  {
   "cell_type": "code",
   "execution_count": null,
   "metadata": {},
   "outputs": [],
   "source": [
    "dados_VCM_PR.show()"
   ]
  },
  {
   "cell_type": "code",
   "execution_count": null,
   "metadata": {},
   "outputs": [],
   "source": [
    "colunas_remover = ['data_registro_dup', 'data_fato_dup']\n",
    "dados_VCM_PR = dados_VCM_PR.drop(*colunas_remover)"
   ]
  },
  {
   "cell_type": "code",
   "execution_count": null,
   "metadata": {},
   "outputs": [],
   "source": [
    "dados_VCM_PR.show()"
   ]
  },
  {
   "cell_type": "code",
   "execution_count": null,
   "metadata": {},
   "outputs": [],
   "source": [
    "len(dados_VCM_PR.columns)"
   ]
  },
  {
   "cell_type": "code",
   "execution_count": null,
   "metadata": {},
   "outputs": [],
   "source": [
    "# Use a lista com as colunas reorganizadas\n",
    "colunas = dados_VCM_PR.columns\n",
    "colunas_reorganizadas = colunas[:2] + [colunas[30]] + colunas[2:30]\n",
    "\n",
    "# Selecione as colunas na ordem desejada\n",
    "dados_VCM_PR_ordenadas = dados_VCM_PR.select(colunas_reorganizadas)\n",
    "\n",
    "# Exiba o DataFrame resultante\n",
    "dados_VCM_PR_ordenadas.show()"
   ]
  },
  {
   "cell_type": "code",
   "execution_count": null,
   "metadata": {},
   "outputs": [],
   "source": [
    "# Use a lista com as colunas reorganizadas\n",
    "colunas = dados_VCM_PR_ordenadas.columns\n",
    "colunas_reorganizadas = colunas[:1] + [colunas[30]] + colunas[1:30]\n",
    "\n",
    "# Selecione as colunas na ordem desejada\n",
    "dados_VCM_PR_ordenadas = dados_VCM_PR_ordenadas.select(colunas_reorganizadas)\n",
    "\n",
    "# Exiba o DataFrame resultante\n",
    "dados_VCM_PR_ordenadas.show()"
   ]
  },
  {
   "cell_type": "code",
   "execution_count": null,
   "metadata": {},
   "outputs": [],
   "source": [
    "dados_VCM_PR = dados_VCM_PR_ordenadas"
   ]
  },
  {
   "cell_type": "code",
   "execution_count": null,
   "metadata": {},
   "outputs": [],
   "source": [
    "dados_VCM_PR = dados_VCM_PR.filter(dados_VCM_PR['ano_fato'] < 2023)"
   ]
  },
  {
   "cell_type": "code",
   "execution_count": null,
   "metadata": {},
   "outputs": [],
   "source": [
    "dados_VCM_PR.groupBy('ano_fato').count().show()"
   ]
  },
  {
   "cell_type": "code",
   "execution_count": null,
   "metadata": {},
   "outputs": [],
   "source": [
    "dados_VCM_PR.count()"
   ]
  },
  {
   "cell_type": "code",
   "execution_count": null,
   "metadata": {},
   "outputs": [],
   "source": [
    "dados_VCM_PR = dados_VCM_PR.withColumn(\"dia_semana\", upper(dados_VCM_PR[\"dia_semana\"]))"
   ]
  },
  {
   "cell_type": "code",
   "execution_count": null,
   "metadata": {},
   "outputs": [],
   "source": [
    "dados_VCM_PR.show()"
   ]
  },
  {
   "cell_type": "code",
   "execution_count": null,
   "metadata": {},
   "outputs": [],
   "source": [
    "# Use a função 'when' para criar a coluna 'faixa_horaria' com base na coluna 'hora_fato'\n",
    "dados_VCM_PR = dados_VCM_PR.withColumn(\"faixa_horaria\",\n",
    "                                       when((dados_VCM_PR['hora_fato'] >= '06:00:00') & (dados_VCM_PR['hora_fato'] < '12:00:00'), 'Manhã')\n",
    "                                      .when((dados_VCM_PR['hora_fato'] >= '12:00:00') & (dados_VCM_PR['hora_fato'] < '18:00:00'), 'Tarde')\n",
    "                                      .when((dados_VCM_PR['hora_fato'] >= '18:00:00') & (dados_VCM_PR['hora_fato'] < '23:59:59'), 'Noite')\n",
    "                                      .when((dados_VCM_PR['hora_fato'] >= '00:00:00') & (dados_VCM_PR['hora_fato'] < '06:00:00'), 'Madrugada')\n",
    "                                      .otherwise('Outro'))\n",
    "\n",
    "# Exiba o DataFrame resultante\n",
    "dados_VCM_PR.show()"
   ]
  },
  {
   "cell_type": "code",
   "execution_count": null,
   "metadata": {},
   "outputs": [],
   "source": [
    "# Use a função 'when' para criar a coluna 'faixa_horaria' com base na coluna 'hora_fato'\n",
    "dados_VCM_PR = dados_VCM_PR.withColumn(\"faixa_horaria_6h\",\n",
    "                                       when((dados_VCM_PR['hora_fato'] >= '06:00:00') & (dados_VCM_PR['hora_fato'] < '12:00:00'), '06h - 12h')\n",
    "                                      .when((dados_VCM_PR['hora_fato'] >= '12:00:00') & (dados_VCM_PR['hora_fato'] < '18:00:00'), '12h - 18h')\n",
    "                                      .when((dados_VCM_PR['hora_fato'] >= '18:00:00') & (dados_VCM_PR['hora_fato'] < '23:59:59'), '18h - 00h')\n",
    "                                      .when((dados_VCM_PR['hora_fato'] >= '00:00:00') & (dados_VCM_PR['hora_fato'] < '06:00:00'), '00h - 06h')\n",
    "                                      .otherwise('Outro'))\n",
    "\n",
    "# Exiba o DataFrame resultante\n",
    "dados_VCM_PR.show()"
   ]
  },
  {
   "cell_type": "code",
   "execution_count": null,
   "metadata": {},
   "outputs": [],
   "source": [
    "# Use a função 'when' para criar a coluna 'faixa_horaria_2h' com base na coluna 'hora_fato'\n",
    "dados_VCM_PR = dados_VCM_PR.withColumn(\"faixa_horaria_2h\",\n",
    "                                       when((dados_VCM_PR['hora_fato'] >= '06:00:00') & (dados_VCM_PR['hora_fato'] < '08:00:00'), '06h - 08h')\n",
    "                                      .when((dados_VCM_PR['hora_fato'] >= '08:00:00') & (dados_VCM_PR['hora_fato'] < '10:00:00'), '08h - 10h')\n",
    "                                      .when((dados_VCM_PR['hora_fato'] >= '10:00:00') & (dados_VCM_PR['hora_fato'] < '12:00:00'), '10h - 12h')\n",
    "                                      .when((dados_VCM_PR['hora_fato'] >= '12:00:00') & (dados_VCM_PR['hora_fato'] < '14:00:00'), '12h - 14h')\n",
    "                                      .when((dados_VCM_PR['hora_fato'] >= '14:00:00') & (dados_VCM_PR['hora_fato'] < '16:00:00'), '14h - 16h')\n",
    "                                      .when((dados_VCM_PR['hora_fato'] >= '16:00:00') & (dados_VCM_PR['hora_fato'] < '18:00:00'), '16h - 18h')\n",
    "                                      .when((dados_VCM_PR['hora_fato'] >= '18:00:00') & (dados_VCM_PR['hora_fato'] < '20:00:00'), '18h - 20h')\n",
    "                                      .when((dados_VCM_PR['hora_fato'] >= '20:00:00') & (dados_VCM_PR['hora_fato'] < '22:00:00'), '20h - 22h')\n",
    "                                      .when((dados_VCM_PR['hora_fato'] >= '22:00:00') & (dados_VCM_PR['hora_fato'] < '23:59:59'), '22h - 00h')\n",
    "                                      .when((dados_VCM_PR['hora_fato'] >= '00:00:00') & (dados_VCM_PR['hora_fato'] < '02:00:00'), '00h - 02h')\n",
    "                                      .when((dados_VCM_PR['hora_fato'] >= '02:00:00') & (dados_VCM_PR['hora_fato'] < '04:00:00'), '02h - 04h')\n",
    "                                      .when((dados_VCM_PR['hora_fato'] >= '04:00:00') & (dados_VCM_PR['hora_fato'] < '06:00:00'), '04h - 06h')\n",
    "                                      .otherwise('Outro'))\n",
    "\n",
    "# Exiba o DataFrame resultante\n",
    "dados_VCM_PR.show()"
   ]
  },
  {
   "cell_type": "code",
   "execution_count": null,
   "metadata": {},
   "outputs": [],
   "source": [
    "dados_VCM_PR.count()"
   ]
  },
  {
   "cell_type": "code",
   "execution_count": null,
   "metadata": {},
   "outputs": [],
   "source": [
    "dados_VCM_PR.count()"
   ]
  },
  {
   "cell_type": "code",
   "execution_count": null,
   "metadata": {},
   "outputs": [],
   "source": [
    "dados_VCM_PR.printSchema()"
   ]
  },
  {
   "cell_type": "code",
   "execution_count": null,
   "metadata": {},
   "outputs": [],
   "source": [
    "#selecionando e tipando a data das variaveis\n",
    "dados_VCM_PR = dados_VCM_PR.withColumn(\"data_registro\", when(col(\"data_registro\").isNotNull(), col(\"data_registro\").cast(DateType())))\n",
    "dados_VCM_PR = dados_VCM_PR.withColumn(\"data_fato\", when(col(\"data_fato\").isNotNull(), col(\"data_fato\").cast(DateType())))\n",
    "dados_VCM_PR = dados_VCM_PR.withColumn(\"vit_dt_nasc\", when(col(\"vit_dt_nasc\").isNotNull(), col(\"vit_dt_nasc\").cast(DateType())))\n",
    "dados_VCM_PR = dados_VCM_PR.withColumn(\"aut_dt_nasc\", when(col(\"aut_dt_nasc\").isNotNull(), col(\"aut_dt_nasc\").cast(DateType())))"
   ]
  },
  {
   "cell_type": "code",
   "execution_count": null,
   "metadata": {},
   "outputs": [],
   "source": [
    "dados_VCM_PR.printSchema()"
   ]
  },
  {
   "cell_type": "code",
   "execution_count": null,
   "metadata": {},
   "outputs": [],
   "source": [
    "# Use a lista com as colunas reorganizadas\n",
    "colunas = dados_VCM_PR.columns\n",
    "colunas_reorganizadas = colunas[:4] + [colunas[33]] + colunas[4:33]\n",
    "\n",
    "# Selecione as colunas na ordem desejada\n",
    "dados_VCM_PR_ordenadas = dados_VCM_PR.select(colunas_reorganizadas)\n",
    "\n",
    "# Exiba o DataFrame resultante\n",
    "dados_VCM_PR_ordenadas.show()"
   ]
  },
  {
   "cell_type": "code",
   "execution_count": null,
   "metadata": {},
   "outputs": [],
   "source": [
    "# Use a lista com as colunas reorganizadas\n",
    "colunas = dados_VCM_PR_ordenadas.columns\n",
    "colunas_reorganizadas = colunas[:5] + [colunas[33]] + colunas[5:33]\n",
    "\n",
    "# Selecione as colunas na ordem desejada\n",
    "dados_VCM_PR_ordenadas = dados_VCM_PR_ordenadas.select(colunas_reorganizadas)\n",
    "\n",
    "# Exiba o DataFrame resultante\n",
    "dados_VCM_PR_ordenadas.show()"
   ]
  },
  {
   "cell_type": "code",
   "execution_count": null,
   "metadata": {},
   "outputs": [],
   "source": [
    "# Use a lista com as colunas reorganizadas\n",
    "colunas = dados_VCM_PR_ordenadas.columns\n",
    "colunas_reorganizadas = colunas[:6] + [colunas[33]] + colunas[6:33]\n",
    "\n",
    "# Selecione as colunas na ordem desejada\n",
    "dados_VCM_PR_ordenadas = dados_VCM_PR_ordenadas.select(colunas_reorganizadas)\n",
    "\n",
    "# Exiba o DataFrame resultante\n",
    "dados_VCM_PR_ordenadas.show()"
   ]
  },
  {
   "cell_type": "code",
   "execution_count": null,
   "metadata": {},
   "outputs": [],
   "source": [
    "dados_VCM_PR = dados_VCM_PR_ordenadas"
   ]
  },
  {
   "cell_type": "code",
   "execution_count": null,
   "metadata": {},
   "outputs": [],
   "source": [
    "# Calcule a idade em anos com tratamento para valores nulos\n",
    "dados_VCM_PR_cal_idade = dados_VCM_PR.withColumn(\"vit_idade\",\n",
    "                   when(\n",
    "                       (dados_VCM_PR[\"data_fato\"].isNotNull()) & (dados_VCM_PR[\"vit_dt_nasc\"].isNotNull()),\n",
    "                       (datediff(dados_VCM_PR[\"data_fato\"], dados_VCM_PR[\"vit_dt_nasc\"]) / 365).cast(\"int\")\n",
    "                   ).otherwise(None))"
   ]
  },
  {
   "cell_type": "code",
   "execution_count": null,
   "metadata": {},
   "outputs": [],
   "source": [
    "# Calcule a idade em anos com tratamento para valores nulos\n",
    "dados_VCM_PR_cal_idade = dados_VCM_PR_cal_idade.withColumn(\"aut_idade\",\n",
    "                   when(\n",
    "                       (dados_VCM_PR_cal_idade[\"data_fato\"].isNotNull()) & (dados_VCM_PR_cal_idade[\"aut_dt_nasc\"].isNotNull()),\n",
    "                       (datediff(dados_VCM_PR_cal_idade[\"data_fato\"], dados_VCM_PR_cal_idade[\"aut_dt_nasc\"]) / 365).cast(\"int\")\n",
    "                   ).otherwise(None))"
   ]
  },
  {
   "cell_type": "code",
   "execution_count": null,
   "metadata": {},
   "outputs": [],
   "source": [
    "dados_VCM_PR = dados_VCM_PR_cal_idade"
   ]
  },
  {
   "cell_type": "code",
   "execution_count": null,
   "metadata": {},
   "outputs": [],
   "source": [
    "dados_VCM_PR.count()"
   ]
  },
  {
   "cell_type": "code",
   "execution_count": null,
   "metadata": {},
   "outputs": [],
   "source": [
    "len(dados_VCM_PR.columns)"
   ]
  },
  {
   "cell_type": "code",
   "execution_count": null,
   "metadata": {},
   "outputs": [],
   "source": [
    "colunas_remover = ['identificacao_fato', 'autor']\n",
    "dados_VCM_PR = dados_VCM_PR.drop(*colunas_remover)"
   ]
  },
  {
   "cell_type": "code",
   "execution_count": null,
   "metadata": {},
   "outputs": [],
   "source": [
    "dados_VCM_PR = dados_VCM_PR \\\n",
    "    .withColumnRenamed(\"faixa_etaria\", \"vit_faixa_etaria\") \\\n",
    "    .withColumnRenamed(\"raca_cor\", \"vit_raca_cor\") \\\n",
    "    .withColumnRenamed(\"grau_instrucao\", \"vit_grau_instrucao\") \\\n",
    "    .withColumnRenamed(\"profissao\", \"vit_profissao\")"
   ]
  },
  {
   "cell_type": "code",
   "execution_count": null,
   "metadata": {},
   "outputs": [],
   "source": [
    "dados_VCM_PR = dados_VCM_PR \\\n",
    "    .withColumnRenamed(\"vit_raca_cor\", \"vit_cor_pele\") \\\n",
    "    .withColumnRenamed(\"aut_raca_cor\", \"aut_cor_pele\") \\\n",
    "    .withColumnRenamed(\"parentesco\", \"grau_de_relacionamento\") \\\n",
    "    .withColumnRenamed(\"vit_grau_instrucao\", \"vit_grau_inst\") \\\n",
    "    .withColumnRenamed(\"aut_grau_instrucao\", \"aut_grau_inst\")"
   ]
  },
  {
   "cell_type": "code",
   "execution_count": null,
   "metadata": {},
   "outputs": [],
   "source": [
    "# Use a função 'when' para criar uma nova coluna com as faixas etárias\n",
    "dados_VCM_PR = dados_VCM_PR.withColumn(\n",
    "    \"vit_faixa_etaria\",\n",
    "    when((dados_VCM_PR.vit_idade >= 0) & (dados_VCM_PR.vit_idade <= 11), \"CRIANCA (0 A 11 ANOS)\")\n",
    "    .when((dados_VCM_PR.vit_idade >= 12) & (dados_VCM_PR.vit_idade <= 17), \"ADOLESCENTE (12 A 17 ANOS)\")\n",
    "    .when((dados_VCM_PR.vit_idade >= 18) & (dados_VCM_PR.vit_idade <= 24), \"ADULTO I (18 A 24 ANOS)\")\n",
    "    .when((dados_VCM_PR.vit_idade >= 25) & (dados_VCM_PR.vit_idade <= 29), \"ADULTO II (25 A 29 ANOS)\")\n",
    "    .when((dados_VCM_PR.vit_idade >= 30) & (dados_VCM_PR.vit_idade <= 34), \"ADULTO III (30 A 34 ANOS)\")\n",
    "    .when((dados_VCM_PR.vit_idade >= 35) & (dados_VCM_PR.vit_idade <= 64), \"ADULTO IV (35 A 64 ANOS)\")\n",
    "    .when(dados_VCM_PR.vit_idade >= 65, \"IDOSO\")\n",
    "    .otherwise(\"Desconhecida\")  # Lidando com vit_idades fora das faixas\n",
    ")"
   ]
  },
  {
   "cell_type": "code",
   "execution_count": null,
   "metadata": {},
   "outputs": [],
   "source": [
    "# Use a função 'when' para criar uma nova coluna com as faixas etárias\n",
    "dados_VCM_PR = dados_VCM_PR.withColumn(\n",
    "    \"aut_faixa_etaria\",\n",
    "    when((dados_VCM_PR.aut_faixa_etaria >= 0) & (dados_VCM_PR.aut_faixa_etaria <= 11), \"CRIANCA (0 A 11 ANOS)\")\n",
    "    .when((dados_VCM_PR.aut_faixa_etaria >= 12) & (dados_VCM_PR.aut_faixa_etaria <= 17), \"ADOLESCENTE (12 A 17 ANOS)\")\n",
    "    .when((dados_VCM_PR.aut_faixa_etaria >= 18) & (dados_VCM_PR.aut_faixa_etaria <= 24), \"ADULTO I (18 A 24 ANOS)\")\n",
    "    .when((dados_VCM_PR.aut_faixa_etaria >= 25) & (dados_VCM_PR.aut_faixa_etaria <= 29), \"ADULTO II (25 A 29 ANOS)\")\n",
    "    .when((dados_VCM_PR.aut_faixa_etaria >= 30) & (dados_VCM_PR.aut_faixa_etaria <= 34), \"ADULTO III (30 A 34 ANOS)\")\n",
    "    .when((dados_VCM_PR.aut_faixa_etaria >= 35) & (dados_VCM_PR.aut_faixa_etaria <= 64), \"ADULTO IV (35 A 64 ANOS)\")\n",
    "    .when(dados_VCM_PR.aut_faixa_etaria >= 65, \"IDOSO\")\n",
    "    .otherwise(\"Desconhecida\")  # Lidando com aut_faixa_etarias fora das faixas\n",
    ")"
   ]
  },
  {
   "cell_type": "code",
   "execution_count": null,
   "metadata": {},
   "outputs": [],
   "source": [
    "# Use a função 'withColumn' para alterar o tipo das colunas de integer para string\n",
    "dados_VCM_PR = dados_VCM_PR.withColumn(\"mes_registro\", col(\"mes_registro\").cast(\"string\"))\n",
    "dados_VCM_PR = dados_VCM_PR.withColumn(\"mes_fato\", col(\"mes_fato\").cast(\"string\"))\n",
    "dados_VCM_PR = dados_VCM_PR.withColumn(\"ano_registro\", col(\"ano_registro\").cast(\"string\"))\n",
    "dados_VCM_PR = dados_VCM_PR.withColumn(\"ano_fato\", col(\"ano_fato\").cast(\"string\"))\n",
    "\n",
    "# Exiba o DataFrame resultante\n",
    "dados_VCM_PR.show()"
   ]
  },
  {
   "cell_type": "code",
   "execution_count": null,
   "metadata": {},
   "outputs": [],
   "source": [
    "dados_VCM_PR.printSchema()"
   ]
  },
  {
   "cell_type": "code",
   "execution_count": null,
   "metadata": {},
   "outputs": [],
   "source": [
    "dados_VCM_PR.count()"
   ]
  },
  {
   "cell_type": "code",
   "execution_count": null,
   "metadata": {},
   "outputs": [],
   "source": [
    "dados_VCM_pd = dados_VCM_PR.toPandas()\n",
    "dados_VCM_pd.to_csv(\"./dados-tratados/dados_VCM_PR.csv\", index=False, sep='|', encoding='utf-8')"
   ]
  }
 ],
 "metadata": {
  "kernelspec": {
   "display_name": "base",
   "language": "python",
   "name": "python3"
  },
  "language_info": {
   "codemirror_mode": {
    "name": "ipython",
    "version": 3
   },
   "file_extension": ".py",
   "mimetype": "text/x-python",
   "name": "python",
   "nbconvert_exporter": "python",
   "pygments_lexer": "ipython3",
   "version": "3.10.9"
  }
 },
 "nbformat": 4,
 "nbformat_minor": 2
}
