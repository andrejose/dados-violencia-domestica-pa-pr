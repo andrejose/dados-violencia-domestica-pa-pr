{
 "cells": [
  {
   "cell_type": "code",
   "execution_count": 15,
   "metadata": {},
   "outputs": [],
   "source": [
    "\n",
    "import pandas as pd"
   ]
  },
  {
   "cell_type": "markdown",
   "metadata": {},
   "source": [
    "---\n",
    "\n",
    "# Pará"
   ]
  },
  {
   "cell_type": "code",
   "execution_count": 2,
   "metadata": {},
   "outputs": [],
   "source": [
    "df_pa = pd.read_csv('./dados-tratados/dados_VCM_PA.csv', sep='|')"
   ]
  },
  {
   "cell_type": "code",
   "execution_count": 3,
   "metadata": {},
   "outputs": [
    {
     "name": "stdout",
     "output_type": "stream",
     "text": [
      "<class 'pandas.core.frame.DataFrame'>\n",
      "RangeIndex: 6896 entries, 0 to 6895\n",
      "Data columns (total 33 columns):\n",
      " #   Column                  Non-Null Count  Dtype  \n",
      "---  ------                  --------------  -----  \n",
      " 0   data_registro           6896 non-null   object \n",
      " 1   hora_registro           6896 non-null   object \n",
      " 2   data_fato               6896 non-null   object \n",
      " 3   hora_fato               6896 non-null   object \n",
      " 4   dia_semana              6896 non-null   object \n",
      " 5   faixa_horaria_2h        6896 non-null   object \n",
      " 6   faixa_horaria_6h        6896 non-null   object \n",
      " 7   classe_motivo           6893 non-null   object \n",
      " 8   mes_fato                6896 non-null   int64  \n",
      " 9   ano_registro            6896 non-null   int64  \n",
      " 10  ano_fato                6896 non-null   int64  \n",
      " 11  registros               6896 non-null   object \n",
      " 12  municipio               6896 non-null   object \n",
      " 13  bairro                  6896 non-null   object \n",
      " 14  local_ocorrencia        6896 non-null   object \n",
      " 15  meio_empregado          6896 non-null   object \n",
      " 16  mes_registro            6896 non-null   int64  \n",
      " 17  especificacao_crime     4782 non-null   object \n",
      " 18  vit_dt_nasc             6584 non-null   object \n",
      " 19  vit_idade               6584 non-null   float64\n",
      " 20  vit_faixa_etaria        6896 non-null   object \n",
      " 21  vit_cor_pele            5466 non-null   object \n",
      " 22  vit_grau_inst           4673 non-null   object \n",
      " 23  vit_profissao           4606 non-null   object \n",
      " 24  aut_dt_nasc             95 non-null     object \n",
      " 25  aut_idade               95 non-null     float64\n",
      " 26  aut_faixa_etaria        6896 non-null   object \n",
      " 27  aut_cor_pele            3703 non-null   object \n",
      " 28  aut_grau_inst           857 non-null    object \n",
      " 29  aut_profissao           814 non-null    object \n",
      " 30  grau_de_relacionamento  1505 non-null   object \n",
      " 31  faixa_horaria           6896 non-null   object \n",
      " 32  estado                  6896 non-null   object \n",
      "dtypes: float64(2), int64(4), object(27)\n",
      "memory usage: 1.7+ MB\n"
     ]
    }
   ],
   "source": [
    "df_pa.info()"
   ]
  },
  {
   "cell_type": "code",
   "execution_count": 4,
   "metadata": {},
   "outputs": [
    {
     "data": {
      "text/html": [
       "<div>\n",
       "<style scoped>\n",
       "    .dataframe tbody tr th:only-of-type {\n",
       "        vertical-align: middle;\n",
       "    }\n",
       "\n",
       "    .dataframe tbody tr th {\n",
       "        vertical-align: top;\n",
       "    }\n",
       "\n",
       "    .dataframe thead th {\n",
       "        text-align: right;\n",
       "    }\n",
       "</style>\n",
       "<table border=\"1\" class=\"dataframe\">\n",
       "  <thead>\n",
       "    <tr style=\"text-align: right;\">\n",
       "      <th></th>\n",
       "      <th>data_registro</th>\n",
       "      <th>hora_registro</th>\n",
       "      <th>data_fato</th>\n",
       "      <th>hora_fato</th>\n",
       "      <th>dia_semana</th>\n",
       "      <th>faixa_horaria_2h</th>\n",
       "      <th>faixa_horaria_6h</th>\n",
       "      <th>classe_motivo</th>\n",
       "      <th>mes_fato</th>\n",
       "      <th>ano_registro</th>\n",
       "      <th>...</th>\n",
       "      <th>vit_profissao</th>\n",
       "      <th>aut_dt_nasc</th>\n",
       "      <th>aut_idade</th>\n",
       "      <th>aut_faixa_etaria</th>\n",
       "      <th>aut_cor_pele</th>\n",
       "      <th>aut_grau_inst</th>\n",
       "      <th>aut_profissao</th>\n",
       "      <th>grau_de_relacionamento</th>\n",
       "      <th>faixa_horaria</th>\n",
       "      <th>estado</th>\n",
       "    </tr>\n",
       "  </thead>\n",
       "  <tbody>\n",
       "    <tr>\n",
       "      <th>0</th>\n",
       "      <td>2022-04-07</td>\n",
       "      <td>16:47:00</td>\n",
       "      <td>2022-04-07</td>\n",
       "      <td>16:47:00</td>\n",
       "      <td>QUI</td>\n",
       "      <td>16h - 18h</td>\n",
       "      <td>12h - 18h</td>\n",
       "      <td>CRIMES DE VIOLENCIA DOMESTICA - LEI 11.340/2006</td>\n",
       "      <td>4</td>\n",
       "      <td>2022</td>\n",
       "      <td>...</td>\n",
       "      <td>NaN</td>\n",
       "      <td>NaN</td>\n",
       "      <td>NaN</td>\n",
       "      <td>Desconhecida</td>\n",
       "      <td>PREJUDICADO</td>\n",
       "      <td>NaN</td>\n",
       "      <td>NaN</td>\n",
       "      <td>NaN</td>\n",
       "      <td>Tarde</td>\n",
       "      <td>PA</td>\n",
       "    </tr>\n",
       "    <tr>\n",
       "      <th>1</th>\n",
       "      <td>2022-03-16</td>\n",
       "      <td>18:27:00</td>\n",
       "      <td>2022-03-16</td>\n",
       "      <td>18:27:00</td>\n",
       "      <td>QUA</td>\n",
       "      <td>18h - 20h</td>\n",
       "      <td>18h - 00h</td>\n",
       "      <td>CRIMES DE VIOLENCIA DOMESTICA - LEI 11.340/2006</td>\n",
       "      <td>3</td>\n",
       "      <td>2022</td>\n",
       "      <td>...</td>\n",
       "      <td>PREJUDICADO</td>\n",
       "      <td>NaN</td>\n",
       "      <td>NaN</td>\n",
       "      <td>Desconhecida</td>\n",
       "      <td>PREJUDICADO</td>\n",
       "      <td>PREJUDICADO</td>\n",
       "      <td>PREJUDICADO</td>\n",
       "      <td>EX-COMPANHEIRO(A)</td>\n",
       "      <td>Noite</td>\n",
       "      <td>PA</td>\n",
       "    </tr>\n",
       "    <tr>\n",
       "      <th>2</th>\n",
       "      <td>2021-02-15</td>\n",
       "      <td>09:36:00</td>\n",
       "      <td>2021-02-14</td>\n",
       "      <td>22:00:00</td>\n",
       "      <td>DOM</td>\n",
       "      <td>22h - 00h</td>\n",
       "      <td>18h - 00h</td>\n",
       "      <td>CRIMES DE VIOLENCIA DOMESTICA - LEI 11.340/2006</td>\n",
       "      <td>2</td>\n",
       "      <td>2021</td>\n",
       "      <td>...</td>\n",
       "      <td>NAO INFORMADO</td>\n",
       "      <td>NaN</td>\n",
       "      <td>NaN</td>\n",
       "      <td>Desconhecida</td>\n",
       "      <td>NAO INFORMADO</td>\n",
       "      <td>NAO INFORMADO</td>\n",
       "      <td>NAO INFORMADO</td>\n",
       "      <td>COMPANHEIRO(A)</td>\n",
       "      <td>Noite</td>\n",
       "      <td>PA</td>\n",
       "    </tr>\n",
       "    <tr>\n",
       "      <th>3</th>\n",
       "      <td>2019-06-18</td>\n",
       "      <td>17:05:00</td>\n",
       "      <td>2019-06-16</td>\n",
       "      <td>15:05:00</td>\n",
       "      <td>DOM</td>\n",
       "      <td>14h - 16h</td>\n",
       "      <td>12h - 18h</td>\n",
       "      <td>CRIMES DE VIOLENCIA DOMESTICA - LEI 11.340/2006</td>\n",
       "      <td>6</td>\n",
       "      <td>2019</td>\n",
       "      <td>...</td>\n",
       "      <td>NaN</td>\n",
       "      <td>NaN</td>\n",
       "      <td>NaN</td>\n",
       "      <td>Desconhecida</td>\n",
       "      <td>NaN</td>\n",
       "      <td>NaN</td>\n",
       "      <td>NaN</td>\n",
       "      <td>NaN</td>\n",
       "      <td>Tarde</td>\n",
       "      <td>PA</td>\n",
       "    </tr>\n",
       "    <tr>\n",
       "      <th>4</th>\n",
       "      <td>2021-09-24</td>\n",
       "      <td>14:46:00</td>\n",
       "      <td>2021-09-24</td>\n",
       "      <td>14:46:00</td>\n",
       "      <td>SEX</td>\n",
       "      <td>14h - 16h</td>\n",
       "      <td>12h - 18h</td>\n",
       "      <td>CRIMES DE VIOLENCIA DOMESTICA - LEI 11.340/2006</td>\n",
       "      <td>9</td>\n",
       "      <td>2021</td>\n",
       "      <td>...</td>\n",
       "      <td>NaN</td>\n",
       "      <td>NaN</td>\n",
       "      <td>NaN</td>\n",
       "      <td>Desconhecida</td>\n",
       "      <td>NaN</td>\n",
       "      <td>NaN</td>\n",
       "      <td>NaN</td>\n",
       "      <td>NaN</td>\n",
       "      <td>Tarde</td>\n",
       "      <td>PA</td>\n",
       "    </tr>\n",
       "    <tr>\n",
       "      <th>5</th>\n",
       "      <td>2019-06-14</td>\n",
       "      <td>09:39:00</td>\n",
       "      <td>2019-06-05</td>\n",
       "      <td>11:00:00</td>\n",
       "      <td>QUA</td>\n",
       "      <td>10h - 12h</td>\n",
       "      <td>06h - 12h</td>\n",
       "      <td>CRIMES DE VIOLENCIA DOMESTICA - LEI 11.340/2006</td>\n",
       "      <td>6</td>\n",
       "      <td>2019</td>\n",
       "      <td>...</td>\n",
       "      <td>NaN</td>\n",
       "      <td>NaN</td>\n",
       "      <td>NaN</td>\n",
       "      <td>Desconhecida</td>\n",
       "      <td>NaN</td>\n",
       "      <td>NaN</td>\n",
       "      <td>NaN</td>\n",
       "      <td>NaN</td>\n",
       "      <td>Manhã</td>\n",
       "      <td>PA</td>\n",
       "    </tr>\n",
       "    <tr>\n",
       "      <th>6</th>\n",
       "      <td>2021-07-18</td>\n",
       "      <td>13:57:00</td>\n",
       "      <td>2021-07-18</td>\n",
       "      <td>13:57:00</td>\n",
       "      <td>DOM</td>\n",
       "      <td>12h - 14h</td>\n",
       "      <td>12h - 18h</td>\n",
       "      <td>CRIMES DE VIOLENCIA DOMESTICA - LEI 11.340/2006</td>\n",
       "      <td>7</td>\n",
       "      <td>2021</td>\n",
       "      <td>...</td>\n",
       "      <td>NaN</td>\n",
       "      <td>NaN</td>\n",
       "      <td>NaN</td>\n",
       "      <td>Desconhecida</td>\n",
       "      <td>NaN</td>\n",
       "      <td>NaN</td>\n",
       "      <td>NaN</td>\n",
       "      <td>NaN</td>\n",
       "      <td>Tarde</td>\n",
       "      <td>PA</td>\n",
       "    </tr>\n",
       "    <tr>\n",
       "      <th>7</th>\n",
       "      <td>2021-02-25</td>\n",
       "      <td>16:29:00</td>\n",
       "      <td>2021-02-25</td>\n",
       "      <td>13:00:00</td>\n",
       "      <td>QUI</td>\n",
       "      <td>12h - 14h</td>\n",
       "      <td>12h - 18h</td>\n",
       "      <td>CRIMES DE VIOLENCIA DOMESTICA - LEI 11.340/2006</td>\n",
       "      <td>2</td>\n",
       "      <td>2021</td>\n",
       "      <td>...</td>\n",
       "      <td>NaN</td>\n",
       "      <td>NaN</td>\n",
       "      <td>NaN</td>\n",
       "      <td>Desconhecida</td>\n",
       "      <td>NaN</td>\n",
       "      <td>NaN</td>\n",
       "      <td>NaN</td>\n",
       "      <td>NaN</td>\n",
       "      <td>Tarde</td>\n",
       "      <td>PA</td>\n",
       "    </tr>\n",
       "    <tr>\n",
       "      <th>8</th>\n",
       "      <td>2020-12-15</td>\n",
       "      <td>09:13:00</td>\n",
       "      <td>2020-12-14</td>\n",
       "      <td>02:00:00</td>\n",
       "      <td>SEG</td>\n",
       "      <td>02h - 04h</td>\n",
       "      <td>00h - 06h</td>\n",
       "      <td>CRIMES DE VIOLENCIA DOMESTICA - LEI 11.340/2006</td>\n",
       "      <td>12</td>\n",
       "      <td>2020</td>\n",
       "      <td>...</td>\n",
       "      <td>NaN</td>\n",
       "      <td>NaN</td>\n",
       "      <td>NaN</td>\n",
       "      <td>Desconhecida</td>\n",
       "      <td>NaN</td>\n",
       "      <td>NaN</td>\n",
       "      <td>NaN</td>\n",
       "      <td>EX-COMPANHEIRO(A)</td>\n",
       "      <td>Madrugada</td>\n",
       "      <td>PA</td>\n",
       "    </tr>\n",
       "    <tr>\n",
       "      <th>9</th>\n",
       "      <td>2019-11-10</td>\n",
       "      <td>09:34:00</td>\n",
       "      <td>2019-11-10</td>\n",
       "      <td>08:00:00</td>\n",
       "      <td>DOM</td>\n",
       "      <td>08h - 10h</td>\n",
       "      <td>06h - 12h</td>\n",
       "      <td>CRIMES DE VIOLENCIA DOMESTICA - LEI 11.340/2006</td>\n",
       "      <td>11</td>\n",
       "      <td>2019</td>\n",
       "      <td>...</td>\n",
       "      <td>NaN</td>\n",
       "      <td>NaN</td>\n",
       "      <td>NaN</td>\n",
       "      <td>Desconhecida</td>\n",
       "      <td>NaN</td>\n",
       "      <td>NaN</td>\n",
       "      <td>NaN</td>\n",
       "      <td>NaN</td>\n",
       "      <td>Manhã</td>\n",
       "      <td>PA</td>\n",
       "    </tr>\n",
       "  </tbody>\n",
       "</table>\n",
       "<p>10 rows × 33 columns</p>\n",
       "</div>"
      ],
      "text/plain": [
       "  data_registro hora_registro   data_fato hora_fato dia_semana  \\\n",
       "0    2022-04-07      16:47:00  2022-04-07  16:47:00        QUI   \n",
       "1    2022-03-16      18:27:00  2022-03-16  18:27:00        QUA   \n",
       "2    2021-02-15      09:36:00  2021-02-14  22:00:00        DOM   \n",
       "3    2019-06-18      17:05:00  2019-06-16  15:05:00        DOM   \n",
       "4    2021-09-24      14:46:00  2021-09-24  14:46:00        SEX   \n",
       "5    2019-06-14      09:39:00  2019-06-05  11:00:00        QUA   \n",
       "6    2021-07-18      13:57:00  2021-07-18  13:57:00        DOM   \n",
       "7    2021-02-25      16:29:00  2021-02-25  13:00:00        QUI   \n",
       "8    2020-12-15      09:13:00  2020-12-14  02:00:00        SEG   \n",
       "9    2019-11-10      09:34:00  2019-11-10  08:00:00        DOM   \n",
       "\n",
       "  faixa_horaria_2h faixa_horaria_6h  \\\n",
       "0        16h - 18h        12h - 18h   \n",
       "1        18h - 20h        18h - 00h   \n",
       "2        22h - 00h        18h - 00h   \n",
       "3        14h - 16h        12h - 18h   \n",
       "4        14h - 16h        12h - 18h   \n",
       "5        10h - 12h        06h - 12h   \n",
       "6        12h - 14h        12h - 18h   \n",
       "7        12h - 14h        12h - 18h   \n",
       "8        02h - 04h        00h - 06h   \n",
       "9        08h - 10h        06h - 12h   \n",
       "\n",
       "                                     classe_motivo  mes_fato  ano_registro  \\\n",
       "0  CRIMES DE VIOLENCIA DOMESTICA - LEI 11.340/2006         4          2022   \n",
       "1  CRIMES DE VIOLENCIA DOMESTICA - LEI 11.340/2006         3          2022   \n",
       "2  CRIMES DE VIOLENCIA DOMESTICA - LEI 11.340/2006         2          2021   \n",
       "3  CRIMES DE VIOLENCIA DOMESTICA - LEI 11.340/2006         6          2019   \n",
       "4  CRIMES DE VIOLENCIA DOMESTICA - LEI 11.340/2006         9          2021   \n",
       "5  CRIMES DE VIOLENCIA DOMESTICA - LEI 11.340/2006         6          2019   \n",
       "6  CRIMES DE VIOLENCIA DOMESTICA - LEI 11.340/2006         7          2021   \n",
       "7  CRIMES DE VIOLENCIA DOMESTICA - LEI 11.340/2006         2          2021   \n",
       "8  CRIMES DE VIOLENCIA DOMESTICA - LEI 11.340/2006        12          2020   \n",
       "9  CRIMES DE VIOLENCIA DOMESTICA - LEI 11.340/2006        11          2019   \n",
       "\n",
       "   ...  vit_profissao aut_dt_nasc aut_idade aut_faixa_etaria   aut_cor_pele  \\\n",
       "0  ...            NaN         NaN       NaN     Desconhecida    PREJUDICADO   \n",
       "1  ...    PREJUDICADO         NaN       NaN     Desconhecida    PREJUDICADO   \n",
       "2  ...  NAO INFORMADO         NaN       NaN     Desconhecida  NAO INFORMADO   \n",
       "3  ...            NaN         NaN       NaN     Desconhecida            NaN   \n",
       "4  ...            NaN         NaN       NaN     Desconhecida            NaN   \n",
       "5  ...            NaN         NaN       NaN     Desconhecida            NaN   \n",
       "6  ...            NaN         NaN       NaN     Desconhecida            NaN   \n",
       "7  ...            NaN         NaN       NaN     Desconhecida            NaN   \n",
       "8  ...            NaN         NaN       NaN     Desconhecida            NaN   \n",
       "9  ...            NaN         NaN       NaN     Desconhecida            NaN   \n",
       "\n",
       "   aut_grau_inst  aut_profissao grau_de_relacionamento faixa_horaria  estado  \n",
       "0            NaN            NaN                    NaN         Tarde      PA  \n",
       "1    PREJUDICADO    PREJUDICADO      EX-COMPANHEIRO(A)         Noite      PA  \n",
       "2  NAO INFORMADO  NAO INFORMADO         COMPANHEIRO(A)         Noite      PA  \n",
       "3            NaN            NaN                    NaN         Tarde      PA  \n",
       "4            NaN            NaN                    NaN         Tarde      PA  \n",
       "5            NaN            NaN                    NaN         Manhã      PA  \n",
       "6            NaN            NaN                    NaN         Tarde      PA  \n",
       "7            NaN            NaN                    NaN         Tarde      PA  \n",
       "8            NaN            NaN      EX-COMPANHEIRO(A)     Madrugada      PA  \n",
       "9            NaN            NaN                    NaN         Manhã      PA  \n",
       "\n",
       "[10 rows x 33 columns]"
      ]
     },
     "execution_count": 4,
     "metadata": {},
     "output_type": "execute_result"
    }
   ],
   "source": [
    "df_pa.head(10)"
   ]
  },
  {
   "cell_type": "code",
   "execution_count": 5,
   "metadata": {},
   "outputs": [],
   "source": [
    "df_pa.drop(columns=['especificacao_crime'], inplace=True)"
   ]
  },
  {
   "cell_type": "code",
   "execution_count": 6,
   "metadata": {},
   "outputs": [
    {
     "name": "stdout",
     "output_type": "stream",
     "text": [
      "6801\n",
      "6896\n"
     ]
    }
   ],
   "source": [
    "print(df_pa.aut_idade.isnull().sum())\n",
    "\n",
    "print(len(df_pa.aut_idade))"
   ]
  },
  {
   "cell_type": "code",
   "execution_count": 7,
   "metadata": {},
   "outputs": [
    {
     "name": "stdout",
     "output_type": "stream",
     "text": [
      "Index(['data_registro', 'hora_registro', 'data_fato', 'hora_fato',\n",
      "       'dia_semana', 'faixa_horaria_2h', 'faixa_horaria_6h', 'classe_motivo',\n",
      "       'mes_fato', 'ano_registro', 'ano_fato', 'registros', 'municipio',\n",
      "       'bairro', 'local_ocorrencia', 'meio_empregado', 'mes_registro',\n",
      "       'vit_dt_nasc', 'vit_idade', 'vit_faixa_etaria', 'vit_cor_pele',\n",
      "       'vit_grau_inst', 'vit_profissao', 'aut_dt_nasc', 'aut_idade',\n",
      "       'aut_faixa_etaria', 'aut_cor_pele', 'aut_grau_inst', 'aut_profissao',\n",
      "       'grau_de_relacionamento', 'faixa_horaria', 'estado'],\n",
      "      dtype='object')\n"
     ]
    }
   ],
   "source": [
    "print(df_pa.columns)"
   ]
  },
  {
   "cell_type": "code",
   "execution_count": 14,
   "metadata": {},
   "outputs": [
    {
     "name": "stdout",
     "output_type": "stream",
     "text": [
      "O conjunto de dados do Pará possui 6896 registros e 32 variáveis.\n"
     ]
    }
   ],
   "source": [
    "# Contagem do número de variáveis\n",
    "v = len(df_pa.columns)\n",
    "# Contagem do número de registros\n",
    "n = len(df_pa)\n",
    "\n",
    "print(f'O conjunto de dados do Pará possui {n} registros e {v} variáveis.')"
   ]
  },
  {
   "cell_type": "markdown",
   "metadata": {},
   "source": [
    "----\n",
    "\n",
    "# Paraná"
   ]
  },
  {
   "cell_type": "code",
   "execution_count": 8,
   "metadata": {},
   "outputs": [],
   "source": [
    "df_pr = pd.read_csv('./dados-tratados/dados_VCM_PR.csv', sep='|')"
   ]
  },
  {
   "cell_type": "code",
   "execution_count": 9,
   "metadata": {},
   "outputs": [
    {
     "name": "stdout",
     "output_type": "stream",
     "text": [
      "<class 'pandas.core.frame.DataFrame'>\n",
      "RangeIndex: 17690 entries, 0 to 17689\n",
      "Data columns (total 32 columns):\n",
      " #   Column                  Non-Null Count  Dtype  \n",
      "---  ------                  --------------  -----  \n",
      " 0   data_registro           17690 non-null  object \n",
      " 1   hora_registro           17690 non-null  object \n",
      " 2   data_fato               17690 non-null  object \n",
      " 3   hora_fato               17690 non-null  object \n",
      " 4   faixa_horaria_2h        17690 non-null  object \n",
      " 5   faixa_horaria_6h        17690 non-null  object \n",
      " 6   faixa_horaria           17690 non-null  object \n",
      " 7   dia_semana              17690 non-null  object \n",
      " 8   mes_registro            17690 non-null  int64  \n",
      " 9   mes_fato                17690 non-null  int64  \n",
      " 10  ano_registro            17690 non-null  int64  \n",
      " 11  ano_fato                17690 non-null  int64  \n",
      " 12  municipio               17689 non-null  object \n",
      " 13  bairro                  17689 non-null  object \n",
      " 14  local_ocorrencia        17690 non-null  object \n",
      " 15  meio_empregado          17690 non-null  object \n",
      " 16  classe_motivo           17690 non-null  object \n",
      " 17  registros               17690 non-null  object \n",
      " 18  vit_dt_nasc             17630 non-null  object \n",
      " 19  vit_idade               17630 non-null  float64\n",
      " 20  vit_faixa_etaria        17690 non-null  object \n",
      " 21  vit_cor_pele            17688 non-null  object \n",
      " 22  vit_grau_inst           17688 non-null  object \n",
      " 23  vit_profissao           10474 non-null  object \n",
      " 24  aut_dt_nasc             381 non-null    object \n",
      " 25  aut_idade               381 non-null    float64\n",
      " 26  aut_faixa_etaria        17690 non-null  object \n",
      " 27  aut_cor_pele            411 non-null    object \n",
      " 28  aut_grau_inst           411 non-null    object \n",
      " 29  aut_profissao           217 non-null    object \n",
      " 30  grau_de_relacionamento  411 non-null    object \n",
      " 31  estado                  17690 non-null  object \n",
      "dtypes: float64(2), int64(4), object(26)\n",
      "memory usage: 4.3+ MB\n"
     ]
    }
   ],
   "source": [
    "df_pr.info()"
   ]
  },
  {
   "cell_type": "code",
   "execution_count": 10,
   "metadata": {},
   "outputs": [
    {
     "name": "stdout",
     "output_type": "stream",
     "text": [
      "Index(['data_registro', 'hora_registro', 'data_fato', 'hora_fato',\n",
      "       'faixa_horaria_2h', 'faixa_horaria_6h', 'faixa_horaria', 'dia_semana',\n",
      "       'mes_registro', 'mes_fato', 'ano_registro', 'ano_fato', 'municipio',\n",
      "       'bairro', 'local_ocorrencia', 'meio_empregado', 'classe_motivo',\n",
      "       'registros', 'vit_dt_nasc', 'vit_idade', 'vit_faixa_etaria',\n",
      "       'vit_cor_pele', 'vit_grau_inst', 'vit_profissao', 'aut_dt_nasc',\n",
      "       'aut_idade', 'aut_faixa_etaria', 'aut_cor_pele', 'aut_grau_inst',\n",
      "       'aut_profissao', 'grau_de_relacionamento', 'estado'],\n",
      "      dtype='object')\n"
     ]
    }
   ],
   "source": [
    "print(df_pr.columns)"
   ]
  },
  {
   "cell_type": "code",
   "execution_count": 16,
   "metadata": {},
   "outputs": [
    {
     "name": "stdout",
     "output_type": "stream",
     "text": [
      "O conjunto de dados do Paraná possui 17690 registros e 32 variáveis.\n"
     ]
    }
   ],
   "source": [
    "# Contagem do número de variáveis\n",
    "v = len(df_pr.columns)\n",
    "# Contagem do número de registros\n",
    "n = len(df_pr)\n",
    "\n",
    "print(f'O conjunto de dados do Paraná possui {n} registros e {v} variáveis.')"
   ]
  },
  {
   "cell_type": "markdown",
   "metadata": {},
   "source": [
    "---\n",
    "\n",
    "# Comparação entre os dois conjuntos"
   ]
  },
  {
   "cell_type": "code",
   "execution_count": 11,
   "metadata": {},
   "outputs": [
    {
     "name": "stdout",
     "output_type": "stream",
     "text": [
      "[ True  True  True  True False False False False False False False False\n",
      "  True  True  True  True False False False False False False False False\n",
      " False False False False False False False  True]\n"
     ]
    }
   ],
   "source": [
    "# Verificando se são as mesmas colunas\n",
    "print(df_pa.columns == df_pr.columns)"
   ]
  },
  {
   "cell_type": "code",
   "execution_count": 12,
   "metadata": {},
   "outputs": [
    {
     "name": "stdout",
     "output_type": "stream",
     "text": [
      "True\n"
     ]
    }
   ],
   "source": [
    "# Verificando se são as mesmas colunas, agora ordenadas\n",
    "print(list(df_pa.columns).sort() == list(df_pr.columns).sort())"
   ]
  },
  {
   "cell_type": "markdown",
   "metadata": {},
   "source": [
    "Verificando o total da base, com a fusão dos dois conjuntos."
   ]
  },
  {
   "cell_type": "code",
   "execution_count": 13,
   "metadata": {},
   "outputs": [
    {
     "data": {
      "text/plain": [
       "24586"
      ]
     },
     "execution_count": 13,
     "metadata": {},
     "output_type": "execute_result"
    }
   ],
   "source": [
    "len(df_pa) + len(df_pr)"
   ]
  }
 ],
 "metadata": {
  "kernelspec": {
   "display_name": "base",
   "language": "python",
   "name": "python3"
  },
  "language_info": {
   "codemirror_mode": {
    "name": "ipython",
    "version": 3
   },
   "file_extension": ".py",
   "mimetype": "text/x-python",
   "name": "python",
   "nbconvert_exporter": "python",
   "pygments_lexer": "ipython3",
   "version": "3.10.9"
  }
 },
 "nbformat": 4,
 "nbformat_minor": 2
}
