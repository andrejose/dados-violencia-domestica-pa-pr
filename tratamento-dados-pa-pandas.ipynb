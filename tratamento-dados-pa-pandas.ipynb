{
 "cells": [
  {
   "cell_type": "markdown",
   "metadata": {},
   "source": [
    "# Tratamento de dados - Secretaria de segurança do estado do Pará\n",
    "\n",
    "## Descrição do notebook\n",
    "\n",
    "O objetivo desse notebook é realizar o tratamento dos dados fornecidos pela Secretaria de Segurança Pública e Defesa Social do Estado do Pará para que possa ser analisado juntamente com os dados do estado paranaense.\n",
    "\n",
    "Nessa versão, o arquivo utilizado é um XLSX e para manipulação de dados é utilizado o pacote **pandas**. \n",
    "\n",
    "**Observação:** O código contido nesse notebook foi baseado na solução desenvolvida por Mariana Kniss (https://www.linkedin.com/in/mariana-kniss-471ba0196/), para validar o conteúdo de seu trabalho de conclusão de curso, intitulado \"ANÁLISE DE DADOS CRIMINAIS SOBRE VIOLÊNCIA CONTRA A MULHER NOS ESTADOS PARÁ E PARANÁ\".\n",
    "\n",
    "## Sumário\n",
    "\n",
    "1. [Importação dos módulos e pacotes necessários](#importacao-dos-modulos-e-pacotes-necessarios)\n",
    "2. [Carregamento dos dados](#carregamento-dos-dados)\n",
    "4. [Visão geral do conjunto de dados](#visao-geral-do-conjunto-de-dados)\n",
    "5. [Filtros, tratamentos e padronização de valores](#filtros-tratamentos-e-padronizacao-de-valores)\n",
    "6. [Ordenação das colunas](#ordernacao-das-colunas)\n",
    "7. [Exportação dos dados formatados](#exportacao-dos-dados-formatados)\n",
    "\n",
    "----\n",
    "\n",
    "\n",
    "## Importação dos módulos e pacotes necessários <a id=\"importacao-dos-modulos-e-pacotes-necessarios\"></a>"
   ]
  },
  {
   "cell_type": "code",
   "execution_count": null,
   "metadata": {},
   "outputs": [],
   "source": [
    "# Pandas (https://pandas.pydata.org/)\n",
    "import pandas as pd\n",
    "\n",
    "# Datetime (https://docs.python.org/3/library/datetime.html)\n",
    "import datetime as dt"
   ]
  },
  {
   "cell_type": "markdown",
   "metadata": {},
   "source": [
    "## Carregamento dos dados\n",
    "\n",
    "Inicialmente, realizada com **spark** e utilizando um arquivo do tipo **CSV**, o carregamento foi alterado para adotar o **pandas**, utilizando um arquivo do tipo **Excel (XLSX)**."
   ]
  },
  {
   "cell_type": "code",
   "execution_count": null,
   "metadata": {},
   "outputs": [],
   "source": [
    "# Carregamento dos dados utilizando o arquivo XLSX e pandas\n",
    "dados = pd.read_csv('./dados/PA/raw_BD_VD_2010a2022_PA.csv', sep='@')"
   ]
  },
  {
   "cell_type": "code",
   "execution_count": null,
   "metadata": {},
   "outputs": [],
   "source": [
    "# Exibe a quantidade de registros encontrados\n",
    "len(dados)"
   ]
  },
  {
   "cell_type": "code",
   "execution_count": null,
   "metadata": {},
   "outputs": [],
   "source": [
    "# Exibe o tipo de variável\n",
    "type(dados)"
   ]
  },
  {
   "cell_type": "markdown",
   "metadata": {},
   "source": [
    "**Observação:** o método read_csv() do pandas carregou corretamente o número de registros: 196250.\n",
    "\n",
    "----"
   ]
  },
  {
   "cell_type": "markdown",
   "metadata": {},
   "source": [
    "## Visão geral do conjunto de dados <a id=\"visao-geral-do-conjunto-de-dados\"></a>"
   ]
  },
  {
   "cell_type": "code",
   "execution_count": null,
   "metadata": {},
   "outputs": [],
   "source": [
    "# Contagem do número de variáveis\n",
    "v = len(dados.columns)\n",
    "# Contagem do número de registros\n",
    "n = len(dados)\n",
    "\n",
    "print(f'O conjunto de dados possui {n} registros e {v} variáveis.')"
   ]
  },
  {
   "cell_type": "code",
   "execution_count": null,
   "metadata": {},
   "outputs": [],
   "source": [
    "# Visualização do dataframe\n",
    "dados.head(10)"
   ]
  },
  {
   "cell_type": "code",
   "execution_count": null,
   "metadata": {},
   "outputs": [],
   "source": [
    "# Descrição dos tipos dos dados\n",
    "dados.info()"
   ]
  },
  {
   "cell_type": "markdown",
   "metadata": {},
   "source": [
    "## Filtros, tratamentos e padronização de valores <a id=\"filtros-tratamentos-e-padronizacao-de-valores\"></a>\n",
    "\n",
    "### Filtros\n",
    "\n",
    "#### Sexo das vítimas"
   ]
  },
  {
   "cell_type": "code",
   "execution_count": null,
   "metadata": {},
   "outputs": [],
   "source": [
    "# Contagem dos valores distintos na coluna 'vit_sexo'\n",
    "dados.vit_sexo.value_counts()"
   ]
  },
  {
   "cell_type": "markdown",
   "metadata": {},
   "source": [
    "Filtrando apenas registros nos quais as vítimas são do sexo feminino."
   ]
  },
  {
   "cell_type": "code",
   "execution_count": null,
   "metadata": {},
   "outputs": [],
   "source": [
    "# Filtrando a base para que \"vit_sexo\" = \"F\"\n",
    "dados_filtro_vit_F = dados[dados['vit_sexo']  == 'F']\n",
    "\n",
    "# Exibindo a quantidade de registros restantes\n",
    "n_feminino = len(dados_filtro_vit_F)\n",
    "\n",
    "print(f'Foram retirados {n - n_feminino}, restando {n_feminino} registros válidos.')"
   ]
  },
  {
   "cell_type": "markdown",
   "metadata": {},
   "source": [
    "#### Sexo dos autores"
   ]
  },
  {
   "cell_type": "code",
   "execution_count": null,
   "metadata": {},
   "outputs": [],
   "source": [
    "# Contagem dos valores distintos na coluna 'aut_sexo'\n",
    "dados_filtro_vit_F.aut_sexo.value_counts()"
   ]
  },
  {
   "cell_type": "markdown",
   "metadata": {},
   "source": [
    "Selecionando apenas regitros onde o sexo dos autores é diferente de feminino."
   ]
  },
  {
   "cell_type": "code",
   "execution_count": null,
   "metadata": {},
   "outputs": [],
   "source": [
    "# Filtrando a base para que \"aut_sexo\" diferente \"F\"\n",
    "dados_filtro_aut_nF = dados_filtro_vit_F.loc[(dados_filtro_vit_F['aut_sexo'] != 'F') | (dados_filtro_vit_F['aut_sexo'].isnull())]\n",
    "\n",
    "# Exibindo o dataset VCM\n",
    "n_autor_nf = len(dados_filtro_aut_nF)\n",
    "\n",
    "print(f'Foram retirados {n_feminino - n_autor_nf}, restando {n_autor_nf} registros válidos.')"
   ]
  },
  {
   "cell_type": "markdown",
   "metadata": {},
   "source": [
    "**Comentários:** A partir desse procedimento, os valores obtidos para a utilização do pandas são discrepantes se comparados ao uso do pyspark. \n",
    "\n",
    "Mesmo assim, ao considerar que a quantidade de registros com o valor 'F' para a coluna 'aut_sexo' é 3272, ao subtrair esse valor dos 171066 registros válidos até esse ponto, o novo total seria 167794. Esse valor foi obtido pelo procedimento realizado aqui."
   ]
  },
  {
   "cell_type": "markdown",
   "metadata": {},
   "source": [
    "#### Ano do fato\n",
    "\n",
    "A base de dados contava com registros de 2010 a 2023, porém foram selecionados apenas os casos ocorridos entre 2018 e 2022."
   ]
  },
  {
   "cell_type": "code",
   "execution_count": null,
   "metadata": {},
   "outputs": [],
   "source": [
    "# Filtrando a base para que ano registro >= 2018\n",
    "dados_filtro_ano_registro = dados_filtro_aut_nF[(dados_filtro_aut_nF['ano_fato'] >= 2018) & (dados_filtro_aut_nF['ano_fato'] <= 2022)]\n",
    "\n",
    "# Exibindo o dataset VCM\n",
    "n_registros_apos_2018 = len(dados_filtro_ano_registro)\n",
    "\n",
    "print(f'Foram retirados {n_autor_nf - n_registros_apos_2018}, restando {n_registros_apos_2018} registros válidos.')"
   ]
  },
  {
   "cell_type": "markdown",
   "metadata": {},
   "source": [
    "#### Especificação do fato\n",
    "\n",
    "Para selecionar apenas os registros de violência contra mulher (VCM), foram mantidas apenas as linhas que contivesse uma das expressões abaixo na coluna 'especificacao_fato':\n",
    "\n",
    "- \"mulher\"\n",
    "- \"penha\"\n",
    "- \"feminicídio\"\n",
    "- \"femicídio\"\n",
    "- \"feminicidio\"\n",
    "- \"femicidio\""
   ]
  },
  {
   "cell_type": "code",
   "execution_count": null,
   "metadata": {},
   "outputs": [],
   "source": [
    "# Selecionando a base de VCM com base na variavel 'especializacao_fato', utilizando como filtro as palavras chave\n",
    "palavras_chave = [\"mulher\", \"feminicídio\", \"penha\", \"femicidio\", \"feminicidio\", \"femicídio\"]\n",
    "\n",
    "raw_VCM = dados_filtro_ano_registro[(dados_filtro_ano_registro['especializacao_fato'].notnull()) & (dados_filtro_ano_registro['especializacao_fato'].str.lower().str.contains('|'.join(palavras_chave)))]"
   ]
  },
  {
   "cell_type": "code",
   "execution_count": null,
   "metadata": {},
   "outputs": [],
   "source": [
    "n_vcm = len(raw_VCM)\n",
    "print(f'Ao final, foram mantidos {n_vcm} registros. Ou seja, foram removidos {n_registros_apos_2018 - n_vcm} registros que não se encaixaram nos critérios definidos.')"
   ]
  },
  {
   "cell_type": "code",
   "execution_count": null,
   "metadata": {},
   "outputs": [],
   "source": [
    "# Contagem dos valores distintos na coluna 'especializacao_fato'\n",
    "raw_VCM['especializacao_fato'].value_counts()"
   ]
  },
  {
   "cell_type": "markdown",
   "metadata": {},
   "source": [
    "### Tratamentos\n",
    "\n",
    "#### Removação de atributos não relevantes para as análises"
   ]
  },
  {
   "cell_type": "code",
   "execution_count": null,
   "metadata": {},
   "outputs": [],
   "source": [
    "# Remoção de colunas desnecessárias\n",
    "colunas_para_remover = ['data_inst_proc', # Data de instauração do processo investigativo\n",
    "\t\t\t\t\t\t'data_concl_proc', # Data de conclusão do processo investigativo\n",
    "\t\t\t\t\t\t'sit_proc', # Situação do processo investigativo\n",
    "\t\t\t\t\t\t'grupo_ocorrencia', # Agrupamento (categorização) das ocorrências\n",
    "\t\t\t\t\t\t'sub_grupo', # Sub-agrupamento (categorização) das ocorrências\n",
    "\t\t\t\t\t\t'reg_integracao', # Regional de integração\n",
    "\t\t\t\t\t\t'risp', # RISP\n",
    "\t\t\t\t\t\t'aisp', # AISP\n",
    "\t\t\t\t\t\t'rua_fato', # Logradouro no qual aconteceu o fato\n",
    "\t\t\t\t\t\t'empresa', # Empresa de transporte relacionada ao fato\n",
    "\t\t\t\t\t\t'linha', # Linha de transporte relacionada ao fato\n",
    "\t\t\t\t\t\t'tipo_transporte', # Tipo de transporte relacionada ao fato\n",
    "\t\t\t\t\t\t'complemento', # Complemento do endereço\n",
    "\t\t\t\t\t\t'atuacao', # Atuação - Todos os valores constam como 'VITIMA'\n",
    "\t\t\t\t\t\t'meio_locomocao', # Meio de locomoção do autor\n",
    "\t\t\t\t\t\t'cor_veiculo', # Cor do veículo do autor\n",
    "\t\t\t\t\t\t'marca_veic_fuga', # Marca do veículo do autor\n",
    "\t\t\t\t\t\t'modelo_do_veic_fuga', # Modelo do veículo do autor\n",
    "\t\t\t\t\t\t'relatorio', # Relatório\n",
    "\t\t\t\t\t\t'qtd_autor', # Quantidade de autores relacionados à ocorrência\n",
    "\t\t\t\t\t\t'ident_autoria', # Se a identidade do autor é conhecida\n",
    "\t\t\t\t\t\t'consolidado', # Coluna que contém o valor 'HOMICIDIO' para todos os registros\n",
    "\t\t\t\t\t\t'fato_real', # Coluna que contém o valor 'HOMICIDIO' para todos os registros\n",
    "\t\t\t\t\t\t'meio_emp_deac', # Meio empregado, de acordo com a classificação da DEAC\n",
    "\t\t\t\t\t\t'causa_presumivel', # Causa presumível\n",
    "\t\t\t\t\t\t'especializacao_fato', # Especialização do fato\n",
    "\t\t\t\t\t\t'identificacao_fato', # Identificação do fato\n",
    "\t\t\t\t\t\t'vit_estado_civil', # Estado civil da vítima\n",
    "\t\t\t\t\t\t'aut_sexo', # Sexo do autor\n",
    "\t\t\t\t\t\t'aut_sit_emprego', # Situação empregatícia do autor\n",
    "\t\t\t\t\t\t'aut_est_civil' # Estado civil do autor\n",
    "\t\t\t\t\t\t]\n",
    "\n",
    "raw_VCM = raw_VCM.drop(columns=colunas_para_remover)"
   ]
  },
  {
   "cell_type": "code",
   "execution_count": null,
   "metadata": {},
   "outputs": [],
   "source": [
    "# Contagem do número de variáveis\n",
    "v_raw_vcm = len(raw_VCM.columns)\n",
    "# Contagem do número de registros\n",
    "n_raw_vcm = len(raw_VCM)\n",
    "\n",
    "print(f'O conjunto de dados possui {n_raw_vcm} registros e {v_raw_vcm} variáveis.')"
   ]
  },
  {
   "cell_type": "code",
   "execution_count": null,
   "metadata": {},
   "outputs": [],
   "source": [
    "# Informações gerais do dataframe\n",
    "raw_VCM.info()"
   ]
  },
  {
   "cell_type": "code",
   "execution_count": null,
   "metadata": {},
   "outputs": [],
   "source": [
    "# Visualização do dataframe de VCM\n",
    "raw_VCM.head(10)"
   ]
  },
  {
   "cell_type": "markdown",
   "metadata": {},
   "source": [
    "#### Alteração dos tipos de variáveis"
   ]
  },
  {
   "cell_type": "code",
   "execution_count": null,
   "metadata": {},
   "outputs": [],
   "source": [
    "print(raw_VCM['hora_registro'].str.slice(11, 19))"
   ]
  },
  {
   "cell_type": "code",
   "execution_count": null,
   "metadata": {},
   "outputs": [],
   "source": [
    "# Converte as colunas necessárias para o formato de data\n",
    "dados_VCM = raw_VCM\n",
    "#dados_VCM.loc[:, 'data_registro'] = pd.to_datetime(dados_VCM['data_registro'])\n",
    "#dados_VCM.loc[:, 'hora_registro'] = pd.to_datetime(raw_VCM['hora_registro'].astype('str').str.slice(11, 19), format='%H:%M:%S').dt.time\n",
    "#dados_VCM.loc[:, 'data_fato'] = pd.to_datetime(dados_VCM['data_fato'])\n",
    "#dados_VCM.loc[:, 'hora_fato'] = pd.to_datetime(raw_VCM['hora_fato'].astype('str').str.slice(11, 19), format='%H:%M:%S').dt.time\n",
    "#dados_VCM.loc[:, 'vit_dt_nasc'] = pd.to_datetime(dados_VCM['vit_dt_nasc'])\n",
    "#dados_VCM.loc[:, 'aut_data_nasc'] = pd.to_datetime(dados_VCM['aut_data_nasc'])\n",
    "\n",
    "# Converte as colunas necessárias para o formato de data\n",
    "dados_VCM = raw_VCM\n",
    "dados_VCM['data_registro'] = pd.to_datetime(dados_VCM['data_registro'])\n",
    "dados_VCM['hora_registro'] = pd.to_datetime(raw_VCM['hora_registro'].astype('str').str.slice(11, 19), format='%H:%M:%S').dt.time\n",
    "dados_VCM['data_fato'] = pd.to_datetime(dados_VCM['data_fato'])\n",
    "dados_VCM['hora_fato'] = pd.to_datetime(raw_VCM['hora_fato'].astype('str').str.slice(11, 19), format='%H:%M:%S').dt.time\n",
    "dados_VCM['vit_dt_nasc'] = pd.to_datetime(dados_VCM['vit_dt_nasc'])\n",
    "dados_VCM['aut_data_nasc'] = pd.to_datetime(dados_VCM['aut_data_nasc'])"
   ]
  },
  {
   "cell_type": "code",
   "execution_count": null,
   "metadata": {},
   "outputs": [],
   "source": [
    "dados_VCM.head(10)"
   ]
  },
  {
   "cell_type": "markdown",
   "metadata": {},
   "source": [
    "#### Adição de uma nova coluna referente à idade da vítima"
   ]
  },
  {
   "cell_type": "code",
   "execution_count": null,
   "metadata": {},
   "outputs": [],
   "source": [
    "# Estatísticas descritivas da variáviel 'vit_idade'\n",
    "dados_VCM['vit_idade'].describe()"
   ]
  },
  {
   "cell_type": "code",
   "execution_count": null,
   "metadata": {},
   "outputs": [],
   "source": [
    "# Substituindo os valores anômalos da variável 'vit_idade' por nulo\n",
    "dados_VCM.loc[dados_VCM['vit_idade'] > 105, 'vit_idade'] = None"
   ]
  },
  {
   "cell_type": "code",
   "execution_count": null,
   "metadata": {},
   "outputs": [],
   "source": [
    "# Estatísticas descritivas da variáviel 'vit_idade' após a remoção dos valores anômalos\n",
    "dados_VCM['vit_idade'].describe()"
   ]
  },
  {
   "cell_type": "code",
   "execution_count": null,
   "metadata": {},
   "outputs": [],
   "source": [
    "# Se a data for menor ou igual a '1900-09-09', substitua por null, caso contrário, mantenha a data\n",
    "dados_VCM.loc[dados_VCM['vit_dt_nasc'] <= '1900-09-09', 'vit_dt_nasc'] = None"
   ]
  },
  {
   "cell_type": "code",
   "execution_count": null,
   "metadata": {},
   "outputs": [],
   "source": [
    "# Calcule a idade em anos com tratamento para valores nulos\n",
    "dados_VCM['vit_idade_calculada'] = (dados_VCM['data_fato'] - dados_VCM['vit_dt_nasc']).dt.days // 365"
   ]
  },
  {
   "cell_type": "code",
   "execution_count": null,
   "metadata": {},
   "outputs": [],
   "source": [
    "print(dados_VCM['vit_idade_calculada'].describe())\n",
    "print(dados_VCM['vit_idade'].describe())"
   ]
  },
  {
   "cell_type": "markdown",
   "metadata": {},
   "source": [
    "#### Idade do autor"
   ]
  },
  {
   "cell_type": "code",
   "execution_count": null,
   "metadata": {},
   "outputs": [],
   "source": [
    "# Se a data for menor ou igual a '1900-09-09', substitua por null, caso contrário, mantenha a data\n",
    "dados_VCM.loc[dados_VCM['aut_data_nasc'] <= '1900-09-09', 'aut_data_nasc'] = None"
   ]
  },
  {
   "cell_type": "code",
   "execution_count": null,
   "metadata": {},
   "outputs": [],
   "source": [
    "# Calcule a idade em anos com tratamento para valores nulos\n",
    "dados_VCM['aut_idade_calculada'] = (dados_VCM['data_fato'] - dados_VCM['aut_data_nasc']).dt.days // 365"
   ]
  },
  {
   "cell_type": "code",
   "execution_count": null,
   "metadata": {},
   "outputs": [],
   "source": [
    "# Criando uma nova coluna referente à faixa etária\n",
    "#dados_VCM['vit_idade_calculada'] = dados_VCM['vit_idade_calculada'].fillna('Desconhecida')\n",
    "\n",
    "# Definindo os intervalos e os rótulos das faixas etárias\n",
    "intervals = [0, 11, 17, 24, 29, 34, 64, 105]\n",
    "labels = ['CRIANCA (0 A 11 ANOS)', 'ADOLESCENTE (12 A 17 ANOS)', 'ADULTO I (18 A 24 ANOS)', 'ADULTO II (25 A 29 ANOS)', 'ADULTO III (30 A 34 ANOS)', 'ADULTO IV (35 A 64 ANOS)', 'IDOSO']\n",
    "categories = labels + ['Desconhecida']\n",
    "\n",
    "dados_VCM['vit_faixa_etaria_calculada'] = pd.cut(dados_VCM['vit_idade_calculada'], bins=intervals, labels=labels, right=False)"
   ]
  },
  {
   "cell_type": "code",
   "execution_count": null,
   "metadata": {},
   "outputs": [],
   "source": [
    "# Adiciona a categoria 'Desconhecida' à lista de categorias da faixa etária\n",
    "dados_VCM['vit_faixa_etaria_calculada'] = pd.Categorical(dados_VCM['vit_faixa_etaria_calculada'], categories=categories)\n",
    "# Preenche os registros com valores nulos como 'Desconhecida'\n",
    "dados_VCM['vit_faixa_etaria_calculada'] = dados_VCM['vit_faixa_etaria_calculada'].fillna('Desconhecida')"
   ]
  },
  {
   "cell_type": "code",
   "execution_count": null,
   "metadata": {},
   "outputs": [],
   "source": [
    "# Exibe a contagem das faixas etárias\n",
    "dados_VCM['vit_faixa_etaria_calculada'].value_counts()"
   ]
  },
  {
   "cell_type": "code",
   "execution_count": null,
   "metadata": {},
   "outputs": [],
   "source": [
    "dados_VCM['vit_faixa_etaria_calculada'].describe()"
   ]
  },
  {
   "cell_type": "code",
   "execution_count": null,
   "metadata": {},
   "outputs": [],
   "source": [
    "dados_VCM['aut_faixa_etaria_calculada'] = pd.cut(dados_VCM['aut_idade_calculada'], bins=intervals, labels=labels, right=False)\n",
    "\n",
    "# Adiciona a categoria 'Desconhecida' à lista de categorias da faixa etária\n",
    "dados_VCM['aut_faixa_etaria_calculada'] = pd.Categorical(dados_VCM['aut_faixa_etaria_calculada'], categories=categories)\n",
    "# Preenche os registros com valores nulos como 'Desconhecida'\n",
    "dados_VCM['aut_faixa_etaria_calculada'] = dados_VCM['aut_faixa_etaria_calculada'].fillna('Desconhecida')"
   ]
  },
  {
   "cell_type": "code",
   "execution_count": null,
   "metadata": {},
   "outputs": [],
   "source": [
    "# Exibe a contagem das faixas etárias\n",
    "dados_VCM['aut_faixa_etaria_calculada'].value_counts()"
   ]
  },
  {
   "cell_type": "code",
   "execution_count": null,
   "metadata": {},
   "outputs": [],
   "source": [
    "# Verifica a quantidade de casos nos quais as vítimas tinham mais de 18 anos\n",
    "dados_VCM_maiores_18_PA = dados_VCM[dados_VCM['vit_idade_calculada'] >= 18]\n",
    "len(dados_VCM_maiores_18_PA)"
   ]
  },
  {
   "cell_type": "code",
   "execution_count": null,
   "metadata": {},
   "outputs": [],
   "source": [
    "# Verifica a quantidade total de registros\n",
    "len(dados_VCM)"
   ]
  },
  {
   "cell_type": "code",
   "execution_count": null,
   "metadata": {},
   "outputs": [],
   "source": [
    "# Cria um novo dataframe para ser salvo referente aos dados do estado do Pará\n",
    "dados_VCM_PA = dados_VCM\n",
    "# Visualização do dataframe\n",
    "dados_VCM_PA.head(10)"
   ]
  },
  {
   "cell_type": "markdown",
   "metadata": {},
   "source": [
    "#### Tratamento dos meses"
   ]
  },
  {
   "cell_type": "code",
   "execution_count": null,
   "metadata": {},
   "outputs": [],
   "source": [
    "# Dicionário de mapeamento de meses para números\n",
    "meses = {\n",
    "    \"JANEIRO\": 1,\n",
    "    \"FEVEREIRO\": 2,\n",
    "    \"MARCO\": 3,\n",
    "    \"ABRIL\": 4,\n",
    "    \"MAIO\": 5,\n",
    "    \"JUNHO\": 6,\n",
    "    \"JULHO\": 7,\n",
    "    \"AGOSTO\": 8,\n",
    "    \"SETEMBRO\": 9,\n",
    "    \"OUTUBRO\": 10,\n",
    "    \"NOVEMBRO\": 11,\n",
    "    \"DEZEMBRO\": 12\n",
    "}\n",
    "\n",
    "dados_VCM_PA['mes_registro'] = dados_VCM_PA['mes_registro'].replace(meses)\n",
    "dados_VCM_PA['mes_fato'] = dados_VCM_PA['mes_fato'].replace(meses)"
   ]
  },
  {
   "cell_type": "code",
   "execution_count": null,
   "metadata": {},
   "outputs": [],
   "source": [
    "dados_VCM_PA.head(10)"
   ]
  },
  {
   "cell_type": "markdown",
   "metadata": {},
   "source": [
    "#### Faixa horária"
   ]
  },
  {
   "cell_type": "code",
   "execution_count": null,
   "metadata": {},
   "outputs": [],
   "source": [
    "horas = dados_VCM_PA['hora_fato']\n",
    "\n",
    "for h in horas:\n",
    "\tprint(h.hour)\n",
    "\tbreak"
   ]
  },
  {
   "cell_type": "code",
   "execution_count": null,
   "metadata": {},
   "outputs": [],
   "source": [
    "\n",
    "# Definindo os intervalos e os rótulos das faixas etárias\n",
    "intervals = [0, 6, 12, 18, 24]\n",
    "labels = ['Madrugada', 'Manhã', 'Tarde', 'Noite']\n",
    "categories = labels + ['Outro']\n",
    "\n",
    "# Cria uma nova coluna com a hora do fato no formato inteiro\n",
    "dados_VCM_PA['hora_fato_int'] = dados_VCM_PA['hora_fato'].apply(lambda x: x.hour)\n",
    "\n",
    "# Período que ocorreu o fato (Manhã, Tarde, Noite ou Madrugada)\n",
    "dados_VCM_PA['faixa_horaria'] = pd.cut(dados_VCM_PA['hora_fato_int'], bins=intervals, labels=labels, right=False)\n",
    "dados_VCM_PA['faixa_horaria'] = pd.Categorical(dados_VCM['faixa_horaria'], categories=categories)\n",
    "dados_VCM_PA['faixa_horaria'] = dados_VCM['faixa_horaria'].fillna('Outro')\n",
    "\n",
    "# Período que ocorreu o fato (['00h - 06h', '06h - 12h', '12h - 18h' ou '18h - 00h')\n",
    "labels = ['00h - 06h', '06h - 12h', '12h - 18h', '18h - 00h']\n",
    "categories = labels + ['Outro']\n",
    "\n",
    "dados_VCM_PA['faixa_horaria_6h'] = pd.cut(dados_VCM_PA['hora_fato_int'], bins=intervals, labels=labels, right=False)\n",
    "dados_VCM_PA['faixa_horaria_6h'] = pd.Categorical(dados_VCM['faixa_horaria_6h'], categories=categories)\n",
    "dados_VCM_PA['faixa_horaria_6h'] = dados_VCM['faixa_horaria_6h'].fillna('Outro')\n",
    "\n",
    "intervals = [0, 2, 4, 6, 8, 10, 12, 14, 16, 18, 20, 22, 24]\n",
    "labels = ['00h - 02h', '02h - 04h', '04h - 06h', '06h - 08h', '08h - 10h', '10h - 12h', '12h - 14h', '14h - 16h', '16h - 18h', '18h - 20h', '20h - 22h', '22h - 00h']\n",
    "categories = labels + ['Outro']\n",
    "\n",
    "dados_VCM_PA['faixa_horaria_2h'] = pd.cut(dados_VCM_PA['hora_fato_int'], bins=intervals, labels=labels, right=False)\n",
    "dados_VCM_PA['faixa_horaria_2h'] = pd.Categorical(dados_VCM['faixa_horaria_2h'], categories=categories)\n",
    "dados_VCM_PA['faixa_horaria_2h'] = dados_VCM['faixa_horaria_2h'].fillna('Outro')\n",
    "\n",
    "# Exibindo a coluna com o horário e as demais colunas criadas\n",
    "dados_VCM_PA[['hora_fato', 'hora_fato_int', 'faixa_horaria', 'faixa_horaria_6h', 'faixa_horaria_2h']].head(10)"
   ]
  },
  {
   "cell_type": "code",
   "execution_count": null,
   "metadata": {},
   "outputs": [],
   "source": [
    "# Remoção de mais colunas\n",
    "colunas_para_remover = ['fx_4_hor',\n",
    "\t\t\t\t\t'fx_12_hr',\n",
    "\t\t\t\t\t'latitude',\n",
    "\t\t\t\t\t'longitude',\n",
    "\t\t\t\t\t'distrito',\n",
    "\t\t\t\t\t'regionais',\n",
    "\t\t\t\t\t'vit_idade',\n",
    "\t\t\t\t\t'vit_fx_etaria',\n",
    "\t\t\t\t\t'vit_sexo',\n",
    "\t\t\t\t\t'vit_situacao_emprego',\n",
    "\t\t\t\t\t'aut_idade',\n",
    "\t\t\t\t\t'aut_fx_etaria',\n",
    "\t\t\t\t\t'hora_fato_int'\n",
    "\t\t\t\t]\n",
    "\n",
    "dados_VCM_PA = dados_VCM_PA.drop(columns=colunas_para_remover)"
   ]
  },
  {
   "cell_type": "code",
   "execution_count": null,
   "metadata": {},
   "outputs": [],
   "source": [
    "# Contagem do número de variáveis\n",
    "v_vcm_pa = len(dados_VCM_PA.columns)\n",
    "# Contagem do número de registros\n",
    "n_vcm_pa = len(dados_VCM_PA)\n",
    "\n",
    "print(f'O conjunto de dados possui {n_vcm_pa} registros e {v_vcm_pa} variáveis.')"
   ]
  },
  {
   "cell_type": "markdown",
   "metadata": {},
   "source": [
    "## Ordenação das colunas <a id=\"ordernacao-das-colunas\"></a>\n",
    "\n",
    "### Renomeando colunas"
   ]
  },
  {
   "cell_type": "code",
   "execution_count": null,
   "metadata": {},
   "outputs": [],
   "source": [
    "dados_VCM_PA = dados_VCM_PA.rename(columns={\n",
    "\t'vit_idade_calculada'\t\t: 'vit_idade',\n",
    "\t'aut_idade_calculada'\t\t: 'aut_idade',\n",
    "\t'vit_faixa_etaria_calculada': 'vit_faixa_etaria',\n",
    "\t'aut_faixa_etaria_calculada': 'aut_faixa_etaria',\n",
    "\t'meio_empregado_sisp'\t\t: 'meio_empregado',\n",
    "\t'municipios'\t\t\t\t: 'municipio',\n",
    "\t'bairros'\t\t\t\t\t: 'bairro',\n",
    "\t'aut_data_nasc'\t\t\t\t: 'aut_dt_nasc'})"
   ]
  },
  {
   "cell_type": "markdown",
   "metadata": {},
   "source": [
    "Cria uma nova coluna para especificar o estado do Pará."
   ]
  },
  {
   "cell_type": "code",
   "execution_count": null,
   "metadata": {},
   "outputs": [],
   "source": [
    "dados_VCM_PA['estado'] = 'PA'"
   ]
  },
  {
   "cell_type": "code",
   "execution_count": null,
   "metadata": {},
   "outputs": [],
   "source": [
    "len(dados_VCM_PA.columns)"
   ]
  },
  {
   "cell_type": "markdown",
   "metadata": {},
   "source": [
    "### Definindo a nova ordem das colunas"
   ]
  },
  {
   "cell_type": "code",
   "execution_count": null,
   "metadata": {},
   "outputs": [],
   "source": [
    "dados_VCM_PA = dados_VCM_PA[['data_registro', 'hora_registro', 'data_fato', 'hora_fato', 'dia_semana', 'faixa_horaria_2h', 'faixa_horaria_6h', 'classe_motivo', 'mes_fato', 'ano_registro', 'ano_fato', 'registros', 'municipio', 'bairro', 'local_ocorrencia', 'meio_empregado', 'mes_registro', 'especificacao_crime', 'vit_dt_nasc', 'vit_idade', 'vit_faixa_etaria', 'vit_cor_pele', 'vit_grau_inst', 'vit_profissao', 'aut_dt_nasc', 'aut_idade', 'aut_faixa_etaria', 'aut_cor_pele', 'aut_grau_inst', 'aut_profissao', 'grau_de_relacionamento', 'faixa_horaria', 'estado']]"
   ]
  },
  {
   "cell_type": "markdown",
   "metadata": {},
   "source": [
    "## Exportação dos dados formatados <a id=\"exportacao-dos-dados-formatados\"></a>"
   ]
  },
  {
   "cell_type": "code",
   "execution_count": null,
   "metadata": {},
   "outputs": [],
   "source": [
    "import datetime as dt # Manipulação de data\n",
    "\n",
    "dados_VCM_PA.to_csv('./dados-tratados/' + dt.datetime.now().strftime('%Y%m%d%H%M%S') + '-dados_VCM_PA-pandas.csv', index=False, sep='|', encoding='utf-8')"
   ]
  }
 ],
 "metadata": {
  "kernelspec": {
   "display_name": "Python 3",
   "language": "python",
   "name": "python3"
  },
  "language_info": {
   "codemirror_mode": {
    "name": "ipython",
    "version": 3
   },
   "file_extension": ".py",
   "mimetype": "text/x-python",
   "name": "python",
   "nbconvert_exporter": "python",
   "pygments_lexer": "ipython3",
   "version": "3.10.9"
  }
 },
 "nbformat": 4,
 "nbformat_minor": 2
}
