{
 "cells": [
  {
   "cell_type": "markdown",
   "metadata": {},
   "source": [
    "# Leitura dos arquivos formatados\n",
    "\n",
    "## Descrição do notebook\n",
    "\n",
    "O objetivo deste notebook é carregar os arquivos com os dados tratados do Pará e do Paraná para, em seguida, gerar um arquivo único com dados dos dois estados.\n",
    "\n",
    "## Sumário\n",
    "\n",
    "1. [Importação dos módulos e pacotes necessários](#importacao-dos-modulos-e-pacotes-necessarios)\n",
    "2. [Carregamento dos dados](#carregamento-dos-dados)\n",
    "4. [Comparação entre os dois conjuntos](#comparacao-entre-os-dois-conjuntos)\n",
    "5. [Exportação dos dados unificados](#exportacao-dos-dados-unificados)\n",
    "\n",
    "----"
   ]
  },
  {
   "cell_type": "markdown",
   "metadata": {},
   "source": [
    "## Importação dos módulos e pacotes necessários <a id=\"importacao-dos-modulos-e-pacotes-necessarios\"></a>"
   ]
  },
  {
   "cell_type": "code",
   "execution_count": null,
   "metadata": {},
   "outputs": [],
   "source": [
    "# Pandas (https://pandas.pydata.org/)\n",
    "import pandas as pd\n",
    "\n",
    "# Locale (https://docs.python.org/3/library/locale.html)\n",
    "import locale # Função de localização para formatar datas, número etc.\n",
    "\n",
    "# Regular expressions (https://docs.python.org/3/library/re.html)\n",
    "import re # Expressões regulares\n",
    "\n",
    "# Datetime (https://docs.python.org/3/library/datetime.html)\n",
    "import datetime as dt # Manipulação de data"
   ]
  },
  {
   "cell_type": "markdown",
   "metadata": {},
   "source": [
    "---\n",
    "\n",
    "## Carregamento dos dados\n",
    "\n",
    "### Pará"
   ]
  },
  {
   "cell_type": "code",
   "execution_count": null,
   "metadata": {},
   "outputs": [],
   "source": [
    "df_pa = pd.read_csv('./dados-tratados/20240221151519-dados_VCM_PA-pandas.csv', sep='|')"
   ]
  },
  {
   "cell_type": "code",
   "execution_count": null,
   "metadata": {},
   "outputs": [],
   "source": [
    "# Visão geral do dados do Pará\n",
    "df_pa.info()"
   ]
  },
  {
   "cell_type": "code",
   "execution_count": null,
   "metadata": {},
   "outputs": [],
   "source": [
    "df_pa.head()"
   ]
  },
  {
   "cell_type": "code",
   "execution_count": null,
   "metadata": {},
   "outputs": [],
   "source": [
    "print(df_pa.columns)"
   ]
  },
  {
   "cell_type": "code",
   "execution_count": null,
   "metadata": {},
   "outputs": [],
   "source": [
    "# Contagem do número de variáveis\n",
    "v = len(df_pa.columns)\n",
    "# Contagem do número de registros\n",
    "n = len(df_pa)\n",
    "\n",
    "print(f'O conjunto de dados do Pará possui {n} registros e {v} variáveis.')"
   ]
  },
  {
   "cell_type": "markdown",
   "metadata": {},
   "source": [
    "----\n",
    "\n",
    "### Paraná"
   ]
  },
  {
   "cell_type": "code",
   "execution_count": null,
   "metadata": {},
   "outputs": [],
   "source": [
    "df_pr = pd.read_csv('./dados-tratados/20240221211501-dados_VCM_PR-pandas.csv', sep='|')"
   ]
  },
  {
   "cell_type": "code",
   "execution_count": null,
   "metadata": {},
   "outputs": [],
   "source": [
    "# Visão geral do dados do Paraná\n",
    "df_pr.info()"
   ]
  },
  {
   "cell_type": "code",
   "execution_count": null,
   "metadata": {},
   "outputs": [],
   "source": [
    "print(df_pr.columns)"
   ]
  },
  {
   "cell_type": "code",
   "execution_count": null,
   "metadata": {},
   "outputs": [],
   "source": [
    "# Contagem do número de variáveis\n",
    "v = len(df_pr.columns)\n",
    "# Contagem do número de registros\n",
    "n = len(df_pr)\n",
    "\n",
    "print(f'O conjunto de dados do Paraná possui {n} registros e {v} variáveis.')"
   ]
  },
  {
   "cell_type": "markdown",
   "metadata": {},
   "source": [
    "---\n",
    "\n",
    "## Comparação entre os dois conjuntos  <a id=\"comparacao-entre-os-dois-conjuntos\"></a>\n",
    "\n",
    "Antes da comparação, é necessário adicionar as três colunas presentes nos dados do Paraná que não estão nos dados do Pará."
   ]
  },
  {
   "cell_type": "code",
   "execution_count": null,
   "metadata": {},
   "outputs": [],
   "source": [
    "df_pa['id_boletim'] = None\n",
    "df_pa['vitima'] = None\n",
    "df_pa['autor'] = None"
   ]
  },
  {
   "cell_type": "code",
   "execution_count": null,
   "metadata": {},
   "outputs": [],
   "source": [
    "# Verificando se são as mesmas colunas\n",
    "print(df_pa.columns == df_pr.columns)"
   ]
  },
  {
   "cell_type": "markdown",
   "metadata": {},
   "source": [
    "Verificando o total da base, com a fusão dos dois conjuntos."
   ]
  },
  {
   "cell_type": "code",
   "execution_count": null,
   "metadata": {},
   "outputs": [],
   "source": [
    "len(df_pa) + len(df_pr)"
   ]
  },
  {
   "cell_type": "markdown",
   "metadata": {},
   "source": [
    "## Exportação dos dados unificados <a id=\"exportacao-dos-dados-unificados\"></a>\n",
    "\n",
    "Criação de um dataframe único, com dados do Pará e do Paraná."
   ]
  },
  {
   "cell_type": "code",
   "execution_count": null,
   "metadata": {},
   "outputs": [],
   "source": [
    "df_unificado = pd.concat([df_pa, df_pr])"
   ]
  },
  {
   "cell_type": "code",
   "execution_count": null,
   "metadata": {},
   "outputs": [],
   "source": [
    "df_unificado.head()"
   ]
  },
  {
   "cell_type": "code",
   "execution_count": null,
   "metadata": {},
   "outputs": [],
   "source": [
    "len(df_unificado)"
   ]
  },
  {
   "cell_type": "markdown",
   "metadata": {},
   "source": [
    "### Tratamentos adicionais\n",
    "\n",
    "Verificação de melhorias percebidas durante a análise exploratória de dados.\n",
    "\n",
    "---\n",
    "\n",
    "#### Pontos de melhoria para o tratamento e formatação de dados\n",
    "\n",
    "- Padronização das variáveis\n",
    "  - Vítima - Faixa etária\n",
    "  - Vítima - Grau de instrução --> SUPERIOR x TERCEIRO GRAU\n",
    "  - Vítima - Profissão\n",
    "  - Autor - Faixa etária\n",
    "  - Autor - Grau de instrução --> SUPERIOR x TERCEIRO GRAU\n",
    "  - Autor - Profissão\n",
    "  - Grau de relacionamento"
   ]
  },
  {
   "cell_type": "markdown",
   "metadata": {},
   "source": [
    "##### Faixa etária da Vítima"
   ]
  },
  {
   "cell_type": "code",
   "execution_count": null,
   "metadata": {},
   "outputs": [],
   "source": [
    "# Definindo os intervalos e os rótulos das faixas etárias\n",
    "intervals = [0, 11, 17, 24, 29, 34, 39, 44, 49, 64, 105]\n",
    "labels = ['De 0 a 11 anos', 'De 12 a 17 anos', 'De 18 a 24 anos', 'De 25 a 29 anos', 'De 30 a 34 anos', 'De 35 a 39 anos', 'De 40 a 44 anos', 'De 45 a 49 anos', 'De 50 a 64 anos', 'Mais de 65 anos']\n",
    "categories = labels + ['Desconhecida']"
   ]
  },
  {
   "cell_type": "code",
   "execution_count": null,
   "metadata": {},
   "outputs": [],
   "source": [
    "# Vítima\n",
    "df_unificado['vit_faixa_etaria'] = pd.cut(df_unificado['vit_idade'], bins=intervals, labels=labels, right=False)\n",
    "\n",
    "# Adiciona a categoria 'Desconhecida' à lista de categorias da faixa etária\n",
    "df_unificado['vit_faixa_etaria'] = pd.Categorical(df_unificado['vit_faixa_etaria'], categories=categories)\n",
    "\n",
    "# Preenche os registros com valores nulos como 'Desconhecida'\n",
    "df_unificado['vit_faixa_etaria'] = df_unificado['vit_faixa_etaria'].fillna('Desconhecida')"
   ]
  },
  {
   "cell_type": "markdown",
   "metadata": {},
   "source": [
    "##### Faixa etária do Autor"
   ]
  },
  {
   "cell_type": "code",
   "execution_count": null,
   "metadata": {},
   "outputs": [],
   "source": [
    "df_unificado['aut_faixa_etaria'] = pd.cut(df_unificado['aut_idade'], bins=intervals, labels=labels, right=False)\n",
    "\n",
    "# Adiciona a categoria 'Desconhecida' à lista de categorias da faixa etária\n",
    "df_unificado['aut_faixa_etaria'] = pd.Categorical(df_unificado['aut_faixa_etaria'], categories=categories)\n",
    "\n",
    "# Preenche os registros com valores nulos como 'Desconhecida'\n",
    "df_unificado['aut_faixa_etaria'] = df_unificado['aut_faixa_etaria'].fillna('Desconhecida')"
   ]
  },
  {
   "cell_type": "markdown",
   "metadata": {},
   "source": [
    "##### Grau de instrução"
   ]
  },
  {
   "cell_type": "code",
   "execution_count": null,
   "metadata": {},
   "outputs": [],
   "source": [
    "substituicoes = {\n",
    "    'PRIMEIRO GRAU INCOMPLETO': 'ENSINO FUNDAMENTAL INCOMPLETO',\n",
    "    'PRIMEIRO GRAU COMPLETO': 'ENSINO FUNDAMENTAL COMPLETO',\n",
    "    'SEGUNDO GRAU INCOMPLETO': 'ENSINO MEDIO INCOMPLETO',\n",
    "    'SEGUNDO GRAU COMPLETO': 'ENSINO MEDIO COMPLETO',\n",
    "    'TERCEIRO GRAU INCOMPLETO': 'ENSINO SUPERIOR INCOMPLETO',\n",
    "    'TERCEIRO GRAU COMPLETO': 'ENSINO SUPERIOR COMPLETO',\n",
    "    'SUPERIOR INCOMPLETO': 'ENSINO SUPERIOR INCOMPLETO'\n",
    "}\n",
    "\n",
    "df_unificado['vit_grau_inst'] = df_unificado['vit_grau_inst'].replace(substituicoes)\n",
    "df_unificado['aut_grau_inst'] = df_unificado['aut_grau_inst'].replace(substituicoes)"
   ]
  },
  {
   "cell_type": "markdown",
   "metadata": {},
   "source": [
    "##### Profissões"
   ]
  },
  {
   "cell_type": "code",
   "execution_count": null,
   "metadata": {},
   "outputs": [],
   "source": [
    "# Tornando como padrão os termos com mais registros\n",
    "substituicoes = {\n",
    "    'ADMINISTRADOR': 'ADMINISTRADOR DE EMPRESA',\n",
    "    'ADVOGADO(A)': 'ADVOGADO',\n",
    "    'AGRICULTOR(A)': 'AGRICULTOR',\n",
    "    'APOSENTADO(A)': 'APOSENTADO',\n",
    "    'CABELEIREIRO': 'CABELEIREIRA',\n",
    "    'CAMAREIRO': 'CAMAREIRA',\n",
    "    'COSTUREIRO(A),': 'COSTUREIRO',\n",
    "    'COZINHEIRO(A),': 'COZINHEIRO',\n",
    "    'ESTUDAMTE,': 'ESTUDANTE',\n",
    "    'LAVRADOR(A)': 'LAVRADOR',\n",
    "    'PEDAGOGO(A)': 'PEDAGOGA',\n",
    "    'PEDAGOGO': 'PEDAGOGA',\n",
    "    'PROMOTOR DE VENDAS': 'PROMOTORA DE VENDAS',\n",
    "    'SECRETARIO(A)': 'SECRETARIA',\n",
    "    'VENDEDOR(A)': 'VENDEDOR'\n",
    "}\n",
    "\n",
    "df_unificado['vit_profissao'] = df_unificado['vit_profissao'].replace(substituicoes)\n",
    "df_unificado['aut_profissao'] = df_unificado['aut_profissao'].replace(substituicoes)"
   ]
  },
  {
   "cell_type": "markdown",
   "metadata": {},
   "source": [
    "##### Grau de relacionamento"
   ]
  },
  {
   "cell_type": "code",
   "execution_count": null,
   "metadata": {},
   "outputs": [],
   "source": [
    "# Tornando como padrão os termos com mais registros\n",
    "substituicoes = {\n",
    "    'nao informado': 'NAO INFORMADO',\n",
    "    'Grau parentesco com o envolvido n.1-FILHO(A)': 'FILHO(A)',\n",
    "    'Grau parentesco com o envolvido n.1-FILHA': 'FILHO(A)',\n",
    "    'Grau parentesco com o envolvido n.1-EX_CONVIVENTE': 'EX-COMPANHEIRO(A)',\n",
    "    'Grau parentesco com o envolvido n.1-EX_CONJUGE': 'EX-COMPANHEIRO(A)',\n",
    "    'Grau parentesco com o envolvido n.1-IRMA': 'IRMAO(A)',\n",
    "    'Grau parentesco com o envolvido n.1-NETO(A)': 'NETO(A)',\n",
    "    'Grau parentesco com o envolvido n.1-EX CONVIVENTE': 'EX-COMPANHEIRO(A)',\n",
    "    'Grau parentesco com o envolvido n.1-CASADO': 'COMPANHEIRO(A)',\n",
    "\t'Grau parentesco com o envolvido n.3-EX_CONVIVENTE': 'EX-COMPANHEIRO(A)',\n",
    "\t'Grau parentesco com o envolvido n.1-MAE': 'MAE',\n",
    "\t'Grau parentesco com o envolvido n.2-MAE': 'MAE',\n",
    "\t'Grau parentesco com o envolvido n.1-TIA': 'TIO(A)',\n",
    "\t'Grau parentesco com o envolvido n.1-CONCUNHADO(A)': 'CONCUNHADO(A)',\n",
    "\t'Grau parentesco com o envolvido n.1-NETA': 'NETO(A)',\n",
    "\t'Grau parentesco com o envolvido n.1-EX SOGRA': 'SOGRO(A)',\n",
    "\t'Grau parentesco com o envolvido n.1-EX ESPOSA': 'EX-COMPANHEIRO(A)',\n",
    "}\n",
    "\n",
    "df_unificado['grau_de_relacionamento'] = df_unificado['grau_de_relacionamento'].replace(substituicoes)"
   ]
  },
  {
   "cell_type": "code",
   "execution_count": null,
   "metadata": {},
   "outputs": [],
   "source": [
    "# Verificação dos registros\n",
    "registro = df_unificado.registros.value_counts().reset_index().rename(columns={'index': 'Registro', 'registros': 'Registro', 'count' : 'Total'}).reset_index(drop=True)\n",
    "\n",
    "# Criando uma coluna com a porcentagem\n",
    "registro['Porcentagem'] = registro.Total / registro.Total.sum()\n",
    "registro\n",
    "\n",
    "registro.style.format(formatter={'Porcentagem': lambda x: locale.format_string(\"%.2f\", x*100, True) + '%' }).hide(axis=\"index\")"
   ]
  },
  {
   "cell_type": "markdown",
   "metadata": {},
   "source": [
    "### Tratamento da coluna registros"
   ]
  },
  {
   "cell_type": "code",
   "execution_count": null,
   "metadata": {},
   "outputs": [],
   "source": [
    "df_unificado['registros_bkp'] = df_unificado['registros']"
   ]
  },
  {
   "cell_type": "code",
   "execution_count": null,
   "metadata": {},
   "outputs": [],
   "source": [
    "# Dicionário de categorias para 'registros'\n",
    "categorias_registros = {\n",
    "    'descumprir decisao judicial que defere medidas protetivas de urgencia':['descumprir decisao judicial que defere medidas protetivas de urgencia', 'descumprimento de medida protetiva'],\n",
    "    'violencia domestica e familiar contra a mulher':['violencia domestica e familiar contra a mulher'],\n",
    "    'lesao corporal':['lesao corporal'],\n",
    "    'ameaca':['ameaca'],\n",
    "    'estupro':['estupro'],\n",
    "    'violencia sexual':['importunacao sexual', 'assedio sexual', 'intimidade sexual', 'assedio sexual', 'violacao sexual', 'abuso sexual', 'exploracao sexual', 'liberdade sexual', 'ato obsceno'],\n",
    "    'tentativa de homicidio':['tentativa de homicidio'],\n",
    "    'feminicidio':['feminicidio', 'femicidio', 'homicidio'],\n",
    "}\n",
    "\n",
    "# Função para substituir os valores na coluna 'registros'\n",
    "def substituir_registro(valor):\n",
    "    for key, values in categorias_registros.items():\n",
    "        for value in values:\n",
    "            if re.search(r'\\b' + re.escape(value) + r'\\b', valor.lower()):\n",
    "                return key\n",
    "    return 'outros'"
   ]
  },
  {
   "cell_type": "code",
   "execution_count": null,
   "metadata": {},
   "outputs": [],
   "source": [
    "df_unificado['registros'] = df_unificado['registros'].apply(substituir_registro)"
   ]
  },
  {
   "cell_type": "code",
   "execution_count": null,
   "metadata": {},
   "outputs": [],
   "source": [
    "df_unificado['registros'].value_counts()"
   ]
  },
  {
   "cell_type": "code",
   "execution_count": null,
   "metadata": {},
   "outputs": [],
   "source": [
    "if 'registros_bkp' in df_unificado.columns:\n",
    "    df_unificado.drop(columns=['registros_bkp'], inplace=True)"
   ]
  },
  {
   "cell_type": "markdown",
   "metadata": {},
   "source": [
    "### Exportação"
   ]
  },
  {
   "cell_type": "code",
   "execution_count": null,
   "metadata": {},
   "outputs": [],
   "source": [
    "df_unificado.to_csv('./dados-tratados/' + dt.datetime.now().strftime('%Y%m%d%H%M%S') + '-dados_unificados_VCM.csv', index=False, sep='|', encoding='utf-8')"
   ]
  }
 ],
 "metadata": {
  "kernelspec": {
   "display_name": "base",
   "language": "python",
   "name": "python3"
  },
  "language_info": {
   "codemirror_mode": {
    "name": "ipython",
    "version": 3
   },
   "file_extension": ".py",
   "mimetype": "text/x-python",
   "name": "python",
   "nbconvert_exporter": "python",
   "pygments_lexer": "ipython3",
   "version": "3.11.8"
  }
 },
 "nbformat": 4,
 "nbformat_minor": 2
}
