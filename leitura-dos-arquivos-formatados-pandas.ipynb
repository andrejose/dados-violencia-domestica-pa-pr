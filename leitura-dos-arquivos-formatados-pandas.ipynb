{
 "cells": [
  {
   "cell_type": "code",
   "execution_count": 2,
   "metadata": {},
   "outputs": [],
   "source": [
    "import pandas as pd"
   ]
  },
  {
   "cell_type": "markdown",
   "metadata": {},
   "source": [
    "---\n",
    "\n",
    "# Pará"
   ]
  },
  {
   "cell_type": "code",
   "execution_count": 3,
   "metadata": {},
   "outputs": [],
   "source": [
    "df_pa = pd.read_csv('./dados-tratados/20240205145613-dados_VCM_PA.csv', sep='|')"
   ]
  },
  {
   "cell_type": "code",
   "execution_count": 4,
   "metadata": {},
   "outputs": [
    {
     "name": "stdout",
     "output_type": "stream",
     "text": [
      "<class 'pandas.core.frame.DataFrame'>\n",
      "RangeIndex: 7856 entries, 0 to 7855\n",
      "Data columns (total 33 columns):\n",
      " #   Column                  Non-Null Count  Dtype  \n",
      "---  ------                  --------------  -----  \n",
      " 0   data_registro           7856 non-null   object \n",
      " 1   hora_registro           7856 non-null   object \n",
      " 2   data_fato               7856 non-null   object \n",
      " 3   hora_fato               7856 non-null   object \n",
      " 4   dia_semana              7856 non-null   object \n",
      " 5   faixa_horaria_2h        7856 non-null   object \n",
      " 6   faixa_horaria_6h        7856 non-null   object \n",
      " 7   classe_motivo           7853 non-null   object \n",
      " 8   mes_fato                7856 non-null   int64  \n",
      " 9   ano_registro            7856 non-null   int64  \n",
      " 10  ano_fato                7856 non-null   int64  \n",
      " 11  registros               7856 non-null   object \n",
      " 12  municipio               7856 non-null   object \n",
      " 13  bairro                  7856 non-null   object \n",
      " 14  local_ocorrencia        7856 non-null   object \n",
      " 15  meio_empregado          7856 non-null   object \n",
      " 16  mes_registro            7856 non-null   int64  \n",
      " 17  especificacao_crime     4928 non-null   object \n",
      " 18  vit_dt_nasc             7528 non-null   object \n",
      " 19  vit_idade               7528 non-null   float64\n",
      " 20  vit_faixa_etaria        7856 non-null   object \n",
      " 21  vit_cor_pele            6368 non-null   object \n",
      " 22  vit_grau_inst           5445 non-null   object \n",
      " 23  vit_profissao           5381 non-null   object \n",
      " 24  aut_dt_nasc             95 non-null     object \n",
      " 25  aut_idade               95 non-null     float64\n",
      " 26  aut_faixa_etaria        7856 non-null   object \n",
      " 27  aut_cor_pele            3703 non-null   object \n",
      " 28  aut_grau_inst           857 non-null    object \n",
      " 29  aut_profissao           814 non-null    object \n",
      " 30  grau_de_relacionamento  1506 non-null   object \n",
      " 31  faixa_horaria           7856 non-null   object \n",
      " 32  estado                  7856 non-null   object \n",
      "dtypes: float64(2), int64(4), object(27)\n",
      "memory usage: 2.0+ MB\n"
     ]
    }
   ],
   "source": [
    "df_pa.info()"
   ]
  },
  {
   "cell_type": "code",
   "execution_count": 5,
   "metadata": {},
   "outputs": [
    {
     "data": {
      "text/html": [
       "<div>\n",
       "<style scoped>\n",
       "    .dataframe tbody tr th:only-of-type {\n",
       "        vertical-align: middle;\n",
       "    }\n",
       "\n",
       "    .dataframe tbody tr th {\n",
       "        vertical-align: top;\n",
       "    }\n",
       "\n",
       "    .dataframe thead th {\n",
       "        text-align: right;\n",
       "    }\n",
       "</style>\n",
       "<table border=\"1\" class=\"dataframe\">\n",
       "  <thead>\n",
       "    <tr style=\"text-align: right;\">\n",
       "      <th></th>\n",
       "      <th>data_registro</th>\n",
       "      <th>hora_registro</th>\n",
       "      <th>data_fato</th>\n",
       "      <th>hora_fato</th>\n",
       "      <th>dia_semana</th>\n",
       "      <th>faixa_horaria_2h</th>\n",
       "      <th>faixa_horaria_6h</th>\n",
       "      <th>classe_motivo</th>\n",
       "      <th>mes_fato</th>\n",
       "      <th>ano_registro</th>\n",
       "      <th>...</th>\n",
       "      <th>vit_profissao</th>\n",
       "      <th>aut_dt_nasc</th>\n",
       "      <th>aut_idade</th>\n",
       "      <th>aut_faixa_etaria</th>\n",
       "      <th>aut_cor_pele</th>\n",
       "      <th>aut_grau_inst</th>\n",
       "      <th>aut_profissao</th>\n",
       "      <th>grau_de_relacionamento</th>\n",
       "      <th>faixa_horaria</th>\n",
       "      <th>estado</th>\n",
       "    </tr>\n",
       "  </thead>\n",
       "  <tbody>\n",
       "    <tr>\n",
       "      <th>0</th>\n",
       "      <td>2020-02-10</td>\n",
       "      <td>13:26:00</td>\n",
       "      <td>2020-02-09</td>\n",
       "      <td>13:26:00</td>\n",
       "      <td>DOM</td>\n",
       "      <td>12h - 14h</td>\n",
       "      <td>12h - 18h</td>\n",
       "      <td>CRIMES DE VIOLENCIA DOMESTICA - LEI 11.340/2006</td>\n",
       "      <td>2</td>\n",
       "      <td>2020</td>\n",
       "      <td>...</td>\n",
       "      <td>NAO INFORMADO</td>\n",
       "      <td>NaN</td>\n",
       "      <td>NaN</td>\n",
       "      <td>Desconhecida</td>\n",
       "      <td>NaN</td>\n",
       "      <td>NaN</td>\n",
       "      <td>NaN</td>\n",
       "      <td>NaN</td>\n",
       "      <td>Tarde</td>\n",
       "      <td>PA</td>\n",
       "    </tr>\n",
       "    <tr>\n",
       "      <th>1</th>\n",
       "      <td>2020-01-10</td>\n",
       "      <td>16:34:00</td>\n",
       "      <td>2020-01-06</td>\n",
       "      <td>16:00:00</td>\n",
       "      <td>SEG</td>\n",
       "      <td>16h - 18h</td>\n",
       "      <td>12h - 18h</td>\n",
       "      <td>CRIMES DE VIOLENCIA DOMESTICA - LEI 11.340/2006</td>\n",
       "      <td>1</td>\n",
       "      <td>2020</td>\n",
       "      <td>...</td>\n",
       "      <td>NAO INFORMADO</td>\n",
       "      <td>NaN</td>\n",
       "      <td>NaN</td>\n",
       "      <td>Desconhecida</td>\n",
       "      <td>NaN</td>\n",
       "      <td>NaN</td>\n",
       "      <td>NaN</td>\n",
       "      <td>NaN</td>\n",
       "      <td>Tarde</td>\n",
       "      <td>PA</td>\n",
       "    </tr>\n",
       "    <tr>\n",
       "      <th>2</th>\n",
       "      <td>2020-07-02</td>\n",
       "      <td>09:56:00</td>\n",
       "      <td>2020-07-02</td>\n",
       "      <td>09:56:00</td>\n",
       "      <td>QUI</td>\n",
       "      <td>08h - 10h</td>\n",
       "      <td>06h - 12h</td>\n",
       "      <td>CRIMES DE VIOLENCIA DOMESTICA - LEI 11.340/2006</td>\n",
       "      <td>7</td>\n",
       "      <td>2020</td>\n",
       "      <td>...</td>\n",
       "      <td>DOMESTICA</td>\n",
       "      <td>NaN</td>\n",
       "      <td>NaN</td>\n",
       "      <td>Desconhecida</td>\n",
       "      <td>NaN</td>\n",
       "      <td>NaN</td>\n",
       "      <td>NaN</td>\n",
       "      <td>NaN</td>\n",
       "      <td>Manhã</td>\n",
       "      <td>PA</td>\n",
       "    </tr>\n",
       "    <tr>\n",
       "      <th>3</th>\n",
       "      <td>2022-04-07</td>\n",
       "      <td>16:47:00</td>\n",
       "      <td>2022-04-07</td>\n",
       "      <td>16:47:00</td>\n",
       "      <td>QUI</td>\n",
       "      <td>16h - 18h</td>\n",
       "      <td>12h - 18h</td>\n",
       "      <td>CRIMES DE VIOLENCIA DOMESTICA - LEI 11.340/2006</td>\n",
       "      <td>4</td>\n",
       "      <td>2022</td>\n",
       "      <td>...</td>\n",
       "      <td>NaN</td>\n",
       "      <td>NaN</td>\n",
       "      <td>NaN</td>\n",
       "      <td>Desconhecida</td>\n",
       "      <td>PREJUDICADO</td>\n",
       "      <td>NaN</td>\n",
       "      <td>NaN</td>\n",
       "      <td>NaN</td>\n",
       "      <td>Tarde</td>\n",
       "      <td>PA</td>\n",
       "    </tr>\n",
       "    <tr>\n",
       "      <th>4</th>\n",
       "      <td>2022-03-16</td>\n",
       "      <td>18:27:00</td>\n",
       "      <td>2022-03-16</td>\n",
       "      <td>18:27:00</td>\n",
       "      <td>QUA</td>\n",
       "      <td>18h - 20h</td>\n",
       "      <td>18h - 00h</td>\n",
       "      <td>CRIMES DE VIOLENCIA DOMESTICA - LEI 11.340/2006</td>\n",
       "      <td>3</td>\n",
       "      <td>2022</td>\n",
       "      <td>...</td>\n",
       "      <td>PREJUDICADO</td>\n",
       "      <td>NaN</td>\n",
       "      <td>NaN</td>\n",
       "      <td>Desconhecida</td>\n",
       "      <td>PREJUDICADO</td>\n",
       "      <td>PREJUDICADO</td>\n",
       "      <td>PREJUDICADO</td>\n",
       "      <td>EX-COMPANHEIRO(A)</td>\n",
       "      <td>Noite</td>\n",
       "      <td>PA</td>\n",
       "    </tr>\n",
       "  </tbody>\n",
       "</table>\n",
       "<p>5 rows × 33 columns</p>\n",
       "</div>"
      ],
      "text/plain": [
       "  data_registro hora_registro   data_fato hora_fato dia_semana  \\\n",
       "0    2020-02-10      13:26:00  2020-02-09  13:26:00        DOM   \n",
       "1    2020-01-10      16:34:00  2020-01-06  16:00:00        SEG   \n",
       "2    2020-07-02      09:56:00  2020-07-02  09:56:00        QUI   \n",
       "3    2022-04-07      16:47:00  2022-04-07  16:47:00        QUI   \n",
       "4    2022-03-16      18:27:00  2022-03-16  18:27:00        QUA   \n",
       "\n",
       "  faixa_horaria_2h faixa_horaria_6h  \\\n",
       "0        12h - 14h        12h - 18h   \n",
       "1        16h - 18h        12h - 18h   \n",
       "2        08h - 10h        06h - 12h   \n",
       "3        16h - 18h        12h - 18h   \n",
       "4        18h - 20h        18h - 00h   \n",
       "\n",
       "                                     classe_motivo  mes_fato  ano_registro  \\\n",
       "0  CRIMES DE VIOLENCIA DOMESTICA - LEI 11.340/2006         2          2020   \n",
       "1  CRIMES DE VIOLENCIA DOMESTICA - LEI 11.340/2006         1          2020   \n",
       "2  CRIMES DE VIOLENCIA DOMESTICA - LEI 11.340/2006         7          2020   \n",
       "3  CRIMES DE VIOLENCIA DOMESTICA - LEI 11.340/2006         4          2022   \n",
       "4  CRIMES DE VIOLENCIA DOMESTICA - LEI 11.340/2006         3          2022   \n",
       "\n",
       "   ...  vit_profissao aut_dt_nasc aut_idade aut_faixa_etaria aut_cor_pele  \\\n",
       "0  ...  NAO INFORMADO         NaN       NaN     Desconhecida          NaN   \n",
       "1  ...  NAO INFORMADO         NaN       NaN     Desconhecida          NaN   \n",
       "2  ...      DOMESTICA         NaN       NaN     Desconhecida          NaN   \n",
       "3  ...            NaN         NaN       NaN     Desconhecida  PREJUDICADO   \n",
       "4  ...    PREJUDICADO         NaN       NaN     Desconhecida  PREJUDICADO   \n",
       "\n",
       "  aut_grau_inst  aut_profissao grau_de_relacionamento faixa_horaria  estado  \n",
       "0           NaN            NaN                    NaN         Tarde      PA  \n",
       "1           NaN            NaN                    NaN         Tarde      PA  \n",
       "2           NaN            NaN                    NaN         Manhã      PA  \n",
       "3           NaN            NaN                    NaN         Tarde      PA  \n",
       "4   PREJUDICADO    PREJUDICADO      EX-COMPANHEIRO(A)         Noite      PA  \n",
       "\n",
       "[5 rows x 33 columns]"
      ]
     },
     "execution_count": 5,
     "metadata": {},
     "output_type": "execute_result"
    }
   ],
   "source": [
    "df_pa.head()"
   ]
  },
  {
   "cell_type": "code",
   "execution_count": 6,
   "metadata": {},
   "outputs": [],
   "source": [
    "df_pa.drop(columns=['especificacao_crime'], inplace=True)"
   ]
  },
  {
   "cell_type": "code",
   "execution_count": 7,
   "metadata": {},
   "outputs": [
    {
     "name": "stdout",
     "output_type": "stream",
     "text": [
      "7761\n",
      "7856\n"
     ]
    }
   ],
   "source": [
    "print(df_pa.aut_idade.isnull().sum())\n",
    "\n",
    "print(len(df_pa.aut_idade))"
   ]
  },
  {
   "cell_type": "code",
   "execution_count": 8,
   "metadata": {},
   "outputs": [
    {
     "name": "stdout",
     "output_type": "stream",
     "text": [
      "Index(['data_registro', 'hora_registro', 'data_fato', 'hora_fato',\n",
      "       'dia_semana', 'faixa_horaria_2h', 'faixa_horaria_6h', 'classe_motivo',\n",
      "       'mes_fato', 'ano_registro', 'ano_fato', 'registros', 'municipio',\n",
      "       'bairro', 'local_ocorrencia', 'meio_empregado', 'mes_registro',\n",
      "       'vit_dt_nasc', 'vit_idade', 'vit_faixa_etaria', 'vit_cor_pele',\n",
      "       'vit_grau_inst', 'vit_profissao', 'aut_dt_nasc', 'aut_idade',\n",
      "       'aut_faixa_etaria', 'aut_cor_pele', 'aut_grau_inst', 'aut_profissao',\n",
      "       'grau_de_relacionamento', 'faixa_horaria', 'estado'],\n",
      "      dtype='object')\n"
     ]
    }
   ],
   "source": [
    "print(df_pa.columns)"
   ]
  },
  {
   "cell_type": "code",
   "execution_count": 9,
   "metadata": {},
   "outputs": [
    {
     "name": "stdout",
     "output_type": "stream",
     "text": [
      "O conjunto de dados do Pará possui 7856 registros e 32 variáveis.\n"
     ]
    }
   ],
   "source": [
    "# Contagem do número de variáveis\n",
    "v = len(df_pa.columns)\n",
    "# Contagem do número de registros\n",
    "n = len(df_pa)\n",
    "\n",
    "print(f'O conjunto de dados do Pará possui {n} registros e {v} variáveis.')"
   ]
  },
  {
   "cell_type": "markdown",
   "metadata": {},
   "source": [
    "----\n",
    "\n",
    "# Paraná"
   ]
  },
  {
   "cell_type": "code",
   "execution_count": 15,
   "metadata": {},
   "outputs": [],
   "source": [
    "df_pr = pd.read_csv('./dados-tratados/20240208095427-df_VCM_PR-pandas.csv', sep='|')"
   ]
  },
  {
   "cell_type": "code",
   "execution_count": 16,
   "metadata": {},
   "outputs": [
    {
     "name": "stdout",
     "output_type": "stream",
     "text": [
      "<class 'pandas.core.frame.DataFrame'>\n",
      "RangeIndex: 17698 entries, 0 to 17697\n",
      "Data columns (total 35 columns):\n",
      " #   Column                  Non-Null Count  Dtype  \n",
      "---  ------                  --------------  -----  \n",
      " 0   data_registro           17698 non-null  object \n",
      " 1   hora_registro           17698 non-null  object \n",
      " 2   data_fato               17698 non-null  object \n",
      " 3   hora_fato               17698 non-null  object \n",
      " 4   dia_semana              17698 non-null  object \n",
      " 5   faixa_horaria_2h        17698 non-null  object \n",
      " 6   faixa_horaria_6h        17698 non-null  object \n",
      " 7   classe_motivo           17698 non-null  object \n",
      " 8   mes_fato                17698 non-null  int64  \n",
      " 9   ano_registro            17698 non-null  int64  \n",
      " 10  ano_fato                17698 non-null  int64  \n",
      " 11  registros               17698 non-null  object \n",
      " 12  municipio               17697 non-null  object \n",
      " 13  bairro                  17697 non-null  object \n",
      " 14  local_ocorrencia        17698 non-null  object \n",
      " 15  meio_empregado          17698 non-null  object \n",
      " 16  mes_registro            17698 non-null  int64  \n",
      " 17  vit_dt_nasc             17638 non-null  object \n",
      " 18  vit_idade               17698 non-null  int64  \n",
      " 19  vit_faixa_etaria        17698 non-null  object \n",
      " 20  vit_cor_pele            17696 non-null  object \n",
      " 21  vit_grau_inst           17696 non-null  object \n",
      " 22  vit_profissao           10538 non-null  object \n",
      " 23  aut_dt_nasc             388 non-null    object \n",
      " 24  aut_idade               418 non-null    float64\n",
      " 25  aut_faixa_etaria        418 non-null    object \n",
      " 26  aut_cor_pele            418 non-null    object \n",
      " 27  aut_grau_inst           418 non-null    object \n",
      " 28  aut_profissao           222 non-null    object \n",
      " 29  grau_de_relacionamento  418 non-null    object \n",
      " 30  faixa_horaria           17698 non-null  object \n",
      " 31  estado                  17698 non-null  object \n",
      " 32  id_boletim              17698 non-null  int64  \n",
      " 33  vitima                  17698 non-null  object \n",
      " 34  autor                   418 non-null    object \n",
      "dtypes: float64(1), int64(6), object(28)\n",
      "memory usage: 4.7+ MB\n"
     ]
    }
   ],
   "source": [
    "df_pr.info()"
   ]
  },
  {
   "cell_type": "code",
   "execution_count": 17,
   "metadata": {},
   "outputs": [
    {
     "name": "stdout",
     "output_type": "stream",
     "text": [
      "Index(['data_registro', 'hora_registro', 'data_fato', 'hora_fato',\n",
      "       'dia_semana', 'faixa_horaria_2h', 'faixa_horaria_6h', 'classe_motivo',\n",
      "       'mes_fato', 'ano_registro', 'ano_fato', 'registros', 'municipio',\n",
      "       'bairro', 'local_ocorrencia', 'meio_empregado', 'mes_registro',\n",
      "       'vit_dt_nasc', 'vit_idade', 'vit_faixa_etaria', 'vit_cor_pele',\n",
      "       'vit_grau_inst', 'vit_profissao', 'aut_dt_nasc', 'aut_idade',\n",
      "       'aut_faixa_etaria', 'aut_cor_pele', 'aut_grau_inst', 'aut_profissao',\n",
      "       'grau_de_relacionamento', 'faixa_horaria', 'estado', 'id_boletim',\n",
      "       'vitima', 'autor'],\n",
      "      dtype='object')\n"
     ]
    }
   ],
   "source": [
    "print(df_pr.columns)"
   ]
  },
  {
   "cell_type": "code",
   "execution_count": 18,
   "metadata": {},
   "outputs": [
    {
     "name": "stdout",
     "output_type": "stream",
     "text": [
      "O conjunto de dados do Paraná possui 17698 registros e 35 variáveis.\n"
     ]
    }
   ],
   "source": [
    "# Contagem do número de variáveis\n",
    "v = len(df_pr.columns)\n",
    "# Contagem do número de registros\n",
    "n = len(df_pr)\n",
    "\n",
    "print(f'O conjunto de dados do Paraná possui {n} registros e {v} variáveis.')"
   ]
  },
  {
   "cell_type": "markdown",
   "metadata": {},
   "source": [
    "---\n",
    "\n",
    "# Comparação entre os dois conjuntos\n",
    "\n",
    "Antes da comparação, é necessário adicionar as três colunas presentes nos dados do Paraná que não estão nos dados do Pará."
   ]
  },
  {
   "cell_type": "code",
   "execution_count": 19,
   "metadata": {},
   "outputs": [],
   "source": [
    "df_pa['id_boletim'] = None\n",
    "df_pa['vitima'] = None\n",
    "df_pa['autor'] = None"
   ]
  },
  {
   "cell_type": "code",
   "execution_count": 20,
   "metadata": {},
   "outputs": [
    {
     "name": "stdout",
     "output_type": "stream",
     "text": [
      "[ True  True  True  True  True  True  True  True  True  True  True  True\n",
      "  True  True  True  True  True  True  True  True  True  True  True  True\n",
      "  True  True  True  True  True  True  True  True  True  True  True]\n"
     ]
    }
   ],
   "source": [
    "# Verificando se são as mesmas colunas\n",
    "print(df_pa.columns == df_pr.columns)"
   ]
  },
  {
   "cell_type": "markdown",
   "metadata": {},
   "source": [
    "Verificando o total da base, com a fusão dos dois conjuntos."
   ]
  },
  {
   "cell_type": "code",
   "execution_count": 21,
   "metadata": {},
   "outputs": [
    {
     "data": {
      "text/plain": [
       "25554"
      ]
     },
     "execution_count": 21,
     "metadata": {},
     "output_type": "execute_result"
    }
   ],
   "source": [
    "len(df_pa) + len(df_pr)"
   ]
  }
 ],
 "metadata": {
  "kernelspec": {
   "display_name": "base",
   "language": "python",
   "name": "python3"
  },
  "language_info": {
   "codemirror_mode": {
    "name": "ipython",
    "version": 3
   },
   "file_extension": ".py",
   "mimetype": "text/x-python",
   "name": "python",
   "nbconvert_exporter": "python",
   "pygments_lexer": "ipython3",
   "version": "3.10.9"
  }
 },
 "nbformat": 4,
 "nbformat_minor": 2
}
